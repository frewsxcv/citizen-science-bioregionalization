{
 "cells": [
  {
   "cell_type": "code",
   "execution_count": 1,
   "id": "d3220cf1",
   "metadata": {},
   "outputs": [],
   "source": [
    "from src.geojson import build_geojson_feature_collection\n",
    "from src.cluster_stats import Stats\n",
    "from src.dataframes.geohash_taxa_counts import GeohashTaxaCountsDataFrame\n",
    "from src.render import plot_clusters\n",
    "from src.geojson import build_geojson_feature_collection\n",
    "from src.lazyframes.darwin_core_csv import DarwinCoreCsvLazyFrame\n",
    "import logging\n",
    "from run import cluster\n",
    "import polars as pl\n"
   ]
  },
  {
   "cell_type": "code",
   "execution_count": 2,
   "id": "5bd4a825",
   "metadata": {},
   "outputs": [],
   "source": [
    "# Inputs\n",
    "input_file = \"data-north-america-us-ca-mx.csv\"\n",
    "geohash_precision = 4\n",
    "show_dendrogram = True\n",
    "log_file = \"log.txt\"\n",
    "output_file = \"output.geojson\"\n",
    "num_clusters = 8\n",
    "use_cache = False\n",
    "plot = True"
   ]
  },
  {
   "cell_type": "code",
   "execution_count": 3,
   "id": "44ea301b",
   "metadata": {},
   "outputs": [],
   "source": [
    "# set up logging\n",
    "logging.basicConfig(filename=log_file, encoding=\"utf-8\", level=logging.INFO)\n"
   ]
  },
  {
   "cell_type": "code",
   "execution_count": 4,
   "id": "ef114a5c",
   "metadata": {},
   "outputs": [],
   "source": [
    "darwin_core_csv_lazy_frame = DarwinCoreCsvLazyFrame.from_file(\n",
    "    \"data-continental-united-states.csv\"\n",
    ")"
   ]
  },
  {
   "cell_type": "code",
   "execution_count": 5,
   "id": "dc245900",
   "metadata": {},
   "outputs": [],
   "source": [
    "from src.dataframes.taxonomy import TaxonomyDataFrame\n",
    "\n",
    "taxonomy_dataframe = TaxonomyDataFrame.build(darwin_core_csv_lazy_frame)"
   ]
  },
  {
   "cell_type": "code",
   "execution_count": null,
   "id": "193e313e",
   "metadata": {},
   "outputs": [],
   "source": [
    "geohash_taxa_counts_dataframe = GeohashTaxaCountsDataFrame.build(\n",
    "    darwin_core_csv_lazy_frame, geohash_precision\n",
    ")"
   ]
  },
  {
   "cell_type": "code",
   "execution_count": null,
   "id": "c6bdfbbd",
   "metadata": {},
   "outputs": [],
   "source": [
    "geohash_taxa_counts_dataframe.df"
   ]
  },
  {
   "cell_type": "code",
   "execution_count": null,
   "id": "eaedbc3d",
   "metadata": {},
   "outputs": [],
   "source": [
    "\n",
    "cluster_index = cluster.run(\n",
    "    geohash_taxa_counts_dataframe,\n",
    "    num_clusters,\n",
    "    show_dendrogram,\n",
    "    use_cache,\n",
    ")"
   ]
  },
  {
   "cell_type": "code",
   "execution_count": 8,
   "id": "359469d9",
   "metadata": {},
   "outputs": [],
   "source": [
    "# Exclude the Aleutian Islands\n",
    "# cluster_index.df = cluster_index.df.filter(pl.col(\"geohash\").str.starts_with(\"z\").not_())"
   ]
  },
  {
   "cell_type": "code",
   "execution_count": null,
   "id": "9fde6339",
   "metadata": {},
   "outputs": [],
   "source": [
    "from src.dataframes.cluster_color import ClusterColorDataFrame\n",
    "\n",
    "# Find the top averages of taxon\n",
    "all_stats = Stats.build(geohash_taxa_counts_dataframe)\n",
    "\n",
    "cluster_colors = ClusterColorDataFrame.from_clusters(cluster_index.cluster_ids())\n",
    "\n",
    "feature_collection = build_geojson_feature_collection(\n",
    "    cluster_index,\n",
    "    cluster_colors,\n",
    ")\n",
    "\n",
    "# print_results(darwin_core_aggregations, all_stats, cluster_dataframe)\n",
    "\n",
    "from run import write_geojson\n",
    "write_geojson(feature_collection, output_file)\n",
    "\n",
    "plot_clusters(feature_collection)\n",
    "\n",
    "# write_geojson(feature_collection, args.output_file)"
   ]
  },
  {
   "cell_type": "code",
   "execution_count": null,
   "id": "672180bd",
   "metadata": {},
   "outputs": [],
   "source": [
    "from src.html_output import build_html_output\n",
    "from IPython.display import display, HTML\n",
    "\n",
    "html = build_html_output(\n",
    "    geohash_taxa_counts_dataframe,\n",
    "    cluster_index,\n",
    "    cluster_colors,\n",
    "    all_stats,\n",
    ")\n",
    "\n",
    "display(HTML(html))\n"
   ]
  },
  {
   "cell_type": "code",
   "execution_count": null,
   "id": "33f2c697",
   "metadata": {},
   "outputs": [],
   "source": [
    "from scipy.spatial import distance\n",
    "from src.cluster import build_condensed_distance_matrix\n",
    "from sklearn.manifold import TSNE\n",
    "\n",
    "condensed_distance_matrix = build_condensed_distance_matrix(\n",
    "    geohash_taxa_counts_dataframe,\n",
    "    use_cache,\n",
    ")\n",
    "\n",
    "clusters = cluster_index.df.sort(by=pl.col(\"geohash\"))[\"cluster\"]\n",
    "\n",
    "square_distance_matrix = distance.squareform(condensed_distance_matrix)\n",
    "\n",
    "tsne = TSNE(\n",
    "    n_components=2,\n",
    "    random_state=42,\n",
    "    metric=\"precomputed\",\n",
    "    init=\"random\",\n",
    ")\n",
    "X_tsne = tsne.fit_transform(square_distance_matrix)\n",
    "tsne.kl_divergence_\n"
   ]
  },
  {
   "cell_type": "code",
   "execution_count": null,
   "id": "9168849f",
   "metadata": {},
   "outputs": [],
   "source": [
    "import seaborn as sns\n",
    "\n",
    "color_dict = {\n",
    "    x: color for x, color in zip(cluster_index.df[\"cluster\"], cluster_colors.get_color_for_cluster(cluster_index.df[\"cluster\"]))\n",
    "}\n",
    "\n",
    "sns.scatterplot(\n",
    "    x=X_tsne[:, 0],\n",
    "    y=X_tsne[:, 1],\n",
    "    hue=cluster_index.df[\"cluster\"],\n",
    "    palette=sns.color_palette(\"hls\", 10),\n",
    "    alpha=1,\n",
    ")"
   ]
  },
  {
   "cell_type": "code",
   "execution_count": null,
   "id": "09b13aeb",
   "metadata": {},
   "outputs": [],
   "source": [
    "notable_species = set()\n",
    "\n",
    "for (cluster, geohashes) in cluster_index.iter_clusters_and_geohashes():\n",
    "    stats = Stats.build(\n",
    "        geohash_taxa_counts_dataframe,\n",
    "        geohash_filter=geohashes,\n",
    "    )\n",
    "    for kingdom, species, count in (\n",
    "        stats.taxon.sort(by=\"count\", descending=True)\n",
    "        .limit(10)\n",
    "        .select([\"kingdom\", \"species\", \"count\"])\n",
    "        .collect()\n",
    "        .iter_rows(named=False)\n",
    "    ):\n",
    "        average = (\n",
    "            stats.taxon.filter(\n",
    "                pl.col(\"kingdom\") == kingdom, pl.col(\"species\") == species\n",
    "            )\n",
    "            .collect()\n",
    "            .get_column(\"average\")\n",
    "            .item()\n",
    "        )\n",
    "        all_average = (\n",
    "            all_stats.taxon.filter(\n",
    "                pl.col(\"kingdom\") == kingdom, pl.col(\"species\") == species\n",
    "            )\n",
    "            .collect()\n",
    "            .get_column(\"average\")\n",
    "            .item()\n",
    "        )\n",
    "\n",
    "        # If the difference between the average of the cluster and the average of all is greater than 50%, then it is notable\n",
    "        percent_diff = (average / all_average * 100) - 100\n",
    "        if abs(percent_diff) > 50:\n",
    "            notable_species.add(species)\n",
    "\n",
    "notable_species"
   ]
  },
  {
   "cell_type": "code",
   "execution_count": 13,
   "id": "54d78320",
   "metadata": {},
   "outputs": [],
   "source": [
    "import seaborn as sns\n",
    "import matplotlib.pyplot as plt\n",
    "import polars as pl\n",
    "from scipy.cluster.hierarchy import linkage\n",
    "\n",
    "linkage_array = linkage(condensed_distance_matrix, \"ward\")\n",
    "\n",
    "ordered_geohashes = geohash_taxa_counts_dataframe.ordered_geohashes()\n",
    "\n",
    "def min_max_normalize(series: pl.Series) -> pl.Series:\n",
    "    return (series - series.min()) / (series.max() - series.min())\n",
    "\n",
    "col_colors = []\n",
    "for geohash in ordered_geohashes:\n",
    "    cluster = cluster_index.cluster_for_geohash(geohash)\n",
    "    col_colors.append(cluster_colors.get_color_for_cluster(cluster))\n",
    "\n",
    "data = {}\n",
    "for species in sorted(notable_species):\n",
    "    counts = []\n",
    "\n",
    "    for geohash in ordered_geohashes:\n",
    "        geohash_counts_species = geohash_taxa_counts_dataframe.df.filter(\n",
    "            pl.col(\"geohash\") == geohash, pl.col(\"name\") == species\n",
    "        ).get_column(\"count\").sum()\n",
    "        geohash_counts_all = geohash_taxa_counts_dataframe.df.filter(\n",
    "            pl.col(\"geohash\") == geohash\n",
    "        ).get_column(\"count\").sum()\n",
    "        geohash_average = geohash_counts_species / geohash_counts_all\n",
    "        all_average = (\n",
    "            all_stats.taxon.filter(\n",
    "                # TODO: Add kingdom in filter\n",
    "                pl.col(\"species\") == species\n",
    "            )\n",
    "            .collect()\n",
    "            .get_column(\"average\")\n",
    "            .item()\n",
    "        )\n",
    "        counts.append(geohash_average - all_average)\n",
    "    counts = pl.Series(\n",
    "        values=counts,\n",
    "        name=species,\n",
    "    )\n",
    "    # counts = counts / counts.max()\n",
    "    # counts = counts.pow(1 / 3)\n",
    "    data[species] = min_max_normalize(counts)\n"
   ]
  },
  {
   "cell_type": "code",
   "execution_count": null,
   "id": "1f706269",
   "metadata": {},
   "outputs": [],
   "source": [
    "dataframe = pl.DataFrame(data=data)\n",
    "sns.clustermap(\n",
    "    data=dataframe,\n",
    "    col_cluster=False,\n",
    "    row_cluster=True,\n",
    "    row_linkage=linkage_array,\n",
    "    row_colors=col_colors,\n",
    "    xticklabels=dataframe.columns,\n",
    "    yticklabels=False,\n",
    ")"
   ]
  }
 ],
 "metadata": {
  "kernelspec": {
   "display_name": ".venv",
   "language": "python",
   "name": "python3"
  },
  "language_info": {
   "codemirror_mode": {
    "name": "ipython",
    "version": 3
   },
   "file_extension": ".py",
   "mimetype": "text/x-python",
   "name": "python",
   "nbconvert_exporter": "python",
   "pygments_lexer": "ipython3",
   "version": "3.13.1"
  }
 },
 "nbformat": 4,
 "nbformat_minor": 5
}

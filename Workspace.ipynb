{
 "cells": [
  {
   "cell_type": "code",
   "execution_count": 15,
   "metadata": {},
   "outputs": [],
   "source": [
    "import numpy as np\n",
    "from src.darwin_core_aggregations import DarwinCoreAggregations\n",
    "from src.geojson import build_geojson_feature_collection\n",
    "import numpy as np\n",
    "from contexttimer import Timer\n",
    "from scipy.cluster.hierarchy import linkage, fcluster, dendrogram\n",
    "from scipy.spatial.distance import pdist\n",
    "from src.cluster_color_builder import ClusterColorBuilder\n",
    "from src.cluster_stats import Stats\n",
    "from src.darwin_core_aggregations import DarwinCoreAggregations\n",
    "from src.render import plot_clusters\n",
    "from src.cluster import ClusterId\n",
    "import matplotlib.pyplot as plt\n",
    "from src.geojson import build_geojson_feature_collection\n",
    "import os\n",
    "import logging\n",
    "from sklearn.preprocessing import StandardScaler\n",
    "from run import cluster, build_X\n"
   ]
  },
  {
   "cell_type": "code",
   "execution_count": 16,
   "id": "5bd4a825",
   "metadata": {},
   "outputs": [],
   "source": [
    "# Inputs\n",
    "input_file = \"data-new-york-city.txt\"\n",
    "geohash_precision = 4\n",
    "show_dendrogram = True\n",
    "log_file = \"log.txt\"\n",
    "output_file = \"output.geojson\"\n",
    "num_clusters = 2\n",
    "use_cache = False\n",
    "plot = True"
   ]
  },
  {
   "cell_type": "code",
   "execution_count": 17,
   "id": "44ea301b",
   "metadata": {},
   "outputs": [],
   "source": [
    "# set up logging\n",
    "logging.basicConfig(filename=log_file, encoding=\"utf-8\", level=logging.INFO)\n"
   ]
  },
  {
   "cell_type": "code",
   "execution_count": 18,
   "id": "193e313e",
   "metadata": {},
   "outputs": [],
   "source": [
    "darwin_core_aggregations = DarwinCoreAggregations.build(\n",
    "    input_file, geohash_precision\n",
    ")"
   ]
  },
  {
   "cell_type": "code",
   "execution_count": 19,
   "id": "c6bdfbbd",
   "metadata": {},
   "outputs": [
    {
     "data": {
      "text/html": [
       "<div><style>\n",
       ".dataframe > thead > tr,\n",
       ".dataframe > tbody > tr {\n",
       "  text-align: right;\n",
       "  white-space: pre-wrap;\n",
       "}\n",
       "</style>\n",
       "<small>shape: (21_751, 5)</small><table border=\"1\" class=\"dataframe\"><thead><tr><th>geohash</th><th>kingdom</th><th>rank</th><th>name</th><th>count</th></tr><tr><td>str</td><td>enum</td><td>enum</td><td>str</td><td>u32</td></tr></thead><tbody><tr><td>&quot;dr5&quot;</td><td>&quot;Plantae&quot;</td><td>&quot;species&quot;</td><td>&quot;Wisteria sinensis&quot;</td><td>21</td></tr><tr><td>&quot;dr5&quot;</td><td>&quot;Animalia&quot;</td><td>&quot;genus&quot;</td><td>&quot;Xenox&quot;</td><td>229</td></tr><tr><td>&quot;dr5&quot;</td><td>&quot;Animalia&quot;</td><td>&quot;genus&quot;</td><td>&quot;Stenotomus&quot;</td><td>14</td></tr><tr><td>&quot;dr5&quot;</td><td>&quot;Animalia&quot;</td><td>&quot;species&quot;</td><td>&quot;Dilophus spinipes&quot;</td><td>113</td></tr><tr><td>&quot;dr5&quot;</td><td>&quot;Animalia&quot;</td><td>&quot;genus&quot;</td><td>&quot;Rhaphium&quot;</td><td>1</td></tr><tr><td>&hellip;</td><td>&hellip;</td><td>&hellip;</td><td>&hellip;</td><td>&hellip;</td></tr><tr><td>&quot;dr7&quot;</td><td>&quot;Animalia&quot;</td><td>&quot;species&quot;</td><td>&quot;Nadata gibbosa&quot;</td><td>9</td></tr><tr><td>&quot;dr7&quot;</td><td>&quot;Fungi&quot;</td><td>&quot;species&quot;</td><td>&quot;Gymnopus junquilleus&quot;</td><td>1</td></tr><tr><td>&quot;dr7&quot;</td><td>&quot;Plantae&quot;</td><td>&quot;order&quot;</td><td>&quot;Cornales&quot;</td><td>265</td></tr><tr><td>&quot;dr7&quot;</td><td>&quot;Plantae&quot;</td><td>&quot;species&quot;</td><td>&quot;Ilex cornuta&quot;</td><td>2</td></tr><tr><td>&quot;dr7&quot;</td><td>&quot;Animalia&quot;</td><td>&quot;species&quot;</td><td>&quot;Calycomyza menthae&quot;</td><td>1</td></tr></tbody></table></div>"
      ],
      "text/plain": [
       "shape: (21_751, 5)\n",
       "┌─────────┬──────────┬─────────┬──────────────────────┬───────┐\n",
       "│ geohash ┆ kingdom  ┆ rank    ┆ name                 ┆ count │\n",
       "│ ---     ┆ ---      ┆ ---     ┆ ---                  ┆ ---   │\n",
       "│ str     ┆ enum     ┆ enum    ┆ str                  ┆ u32   │\n",
       "╞═════════╪══════════╪═════════╪══════════════════════╪═══════╡\n",
       "│ dr5     ┆ Plantae  ┆ species ┆ Wisteria sinensis    ┆ 21    │\n",
       "│ dr5     ┆ Animalia ┆ genus   ┆ Xenox                ┆ 229   │\n",
       "│ dr5     ┆ Animalia ┆ genus   ┆ Stenotomus           ┆ 14    │\n",
       "│ dr5     ┆ Animalia ┆ species ┆ Dilophus spinipes    ┆ 113   │\n",
       "│ dr5     ┆ Animalia ┆ genus   ┆ Rhaphium             ┆ 1     │\n",
       "│ …       ┆ …        ┆ …       ┆ …                    ┆ …     │\n",
       "│ dr7     ┆ Animalia ┆ species ┆ Nadata gibbosa       ┆ 9     │\n",
       "│ dr7     ┆ Fungi    ┆ species ┆ Gymnopus junquilleus ┆ 1     │\n",
       "│ dr7     ┆ Plantae  ┆ order   ┆ Cornales             ┆ 265   │\n",
       "│ dr7     ┆ Plantae  ┆ species ┆ Ilex cornuta         ┆ 2     │\n",
       "│ dr7     ┆ Animalia ┆ species ┆ Calycomyza menthae   ┆ 1     │\n",
       "└─────────┴──────────┴─────────┴──────────────────────┴───────┘"
      ]
     },
     "execution_count": 19,
     "metadata": {},
     "output_type": "execute_result"
    }
   ],
   "source": [
    "darwin_core_aggregations.unfiltered_taxon_counts"
   ]
  },
  {
   "cell_type": "code",
   "execution_count": 20,
   "id": "16f54a9c",
   "metadata": {},
   "outputs": [
    {
     "data": {
      "text/html": [
       "<div><style>\n",
       ".dataframe > thead > tr,\n",
       ".dataframe > tbody > tr {\n",
       "  text-align: right;\n",
       "  white-space: pre-wrap;\n",
       "}\n",
       "</style>\n",
       "<small>shape: (11_685, 4)</small><table border=\"1\" class=\"dataframe\"><thead><tr><th>geohash</th><th>kingdom</th><th>species</th><th>count</th></tr><tr><td>str</td><td>enum</td><td>str</td><td>u32</td></tr></thead><tbody><tr><td>&quot;dr5&quot;</td><td>&quot;Plantae&quot;</td><td>&quot;Wisteria sinensis&quot;</td><td>21</td></tr><tr><td>&quot;dr5&quot;</td><td>&quot;Animalia&quot;</td><td>&quot;Dilophus spinipes&quot;</td><td>113</td></tr><tr><td>&quot;dr5&quot;</td><td>&quot;Animalia&quot;</td><td>&quot;Oecanthus nigricornis&quot;</td><td>6</td></tr><tr><td>&quot;dr5&quot;</td><td>&quot;Plantae&quot;</td><td>&quot;Linum usitatissimum&quot;</td><td>1</td></tr><tr><td>&quot;dr5&quot;</td><td>&quot;Animalia&quot;</td><td>&quot;Renia factiosalis&quot;</td><td>1</td></tr><tr><td>&hellip;</td><td>&hellip;</td><td>&hellip;</td><td>&hellip;</td></tr><tr><td>&quot;dr7&quot;</td><td>&quot;Fungi&quot;</td><td>&quot;Cortinarius albobrunnescens&quot;</td><td>1</td></tr><tr><td>&quot;dr7&quot;</td><td>&quot;Animalia&quot;</td><td>&quot;Nadata gibbosa&quot;</td><td>9</td></tr><tr><td>&quot;dr7&quot;</td><td>&quot;Fungi&quot;</td><td>&quot;Gymnopus junquilleus&quot;</td><td>1</td></tr><tr><td>&quot;dr7&quot;</td><td>&quot;Plantae&quot;</td><td>&quot;Ilex cornuta&quot;</td><td>2</td></tr><tr><td>&quot;dr7&quot;</td><td>&quot;Animalia&quot;</td><td>&quot;Calycomyza menthae&quot;</td><td>1</td></tr></tbody></table></div>"
      ],
      "text/plain": [
       "shape: (11_685, 4)\n",
       "┌─────────┬──────────┬─────────────────────────────┬───────┐\n",
       "│ geohash ┆ kingdom  ┆ species                     ┆ count │\n",
       "│ ---     ┆ ---      ┆ ---                         ┆ ---   │\n",
       "│ str     ┆ enum     ┆ str                         ┆ u32   │\n",
       "╞═════════╪══════════╪═════════════════════════════╪═══════╡\n",
       "│ dr5     ┆ Plantae  ┆ Wisteria sinensis           ┆ 21    │\n",
       "│ dr5     ┆ Animalia ┆ Dilophus spinipes           ┆ 113   │\n",
       "│ dr5     ┆ Animalia ┆ Oecanthus nigricornis       ┆ 6     │\n",
       "│ dr5     ┆ Plantae  ┆ Linum usitatissimum         ┆ 1     │\n",
       "│ dr5     ┆ Animalia ┆ Renia factiosalis           ┆ 1     │\n",
       "│ …       ┆ …        ┆ …                           ┆ …     │\n",
       "│ dr7     ┆ Fungi    ┆ Cortinarius albobrunnescens ┆ 1     │\n",
       "│ dr7     ┆ Animalia ┆ Nadata gibbosa              ┆ 9     │\n",
       "│ dr7     ┆ Fungi    ┆ Gymnopus junquilleus        ┆ 1     │\n",
       "│ dr7     ┆ Plantae  ┆ Ilex cornuta                ┆ 2     │\n",
       "│ dr7     ┆ Animalia ┆ Calycomyza menthae          ┆ 1     │\n",
       "└─────────┴──────────┴─────────────────────────────┴───────┘"
      ]
     },
     "execution_count": 20,
     "metadata": {},
     "output_type": "execute_result"
    }
   ],
   "source": [
    "darwin_core_aggregations.taxon_counts"
   ]
  },
  {
   "cell_type": "code",
   "execution_count": 21,
   "id": "eaedbc3d",
   "metadata": {},
   "outputs": [
    {
     "name": "stderr",
     "output_type": "stream",
     "text": [
      "/Users/coreyf/dev/frewsxcv/citizen-science-ecoregions-experiments/.venv/lib/python3.13/site-packages/sklearn/decomposition/_incremental_pca.py:376: RuntimeWarning: Mean of empty slice.\n",
      "  self.noise_variance_ = explained_variance[self.n_components_ :].mean()\n",
      "/Users/coreyf/dev/frewsxcv/citizen-science-ecoregions-experiments/.venv/lib/python3.13/site-packages/numpy/_core/_methods.py:147: RuntimeWarning: invalid value encountered in scalar divide\n",
      "  ret = ret.dtype.type(ret / rcount)\n"
     ]
    },
    {
     "ename": "ValueError",
     "evalue": "The condensed distance matrix must contain only finite values.",
     "output_type": "error",
     "traceback": [
      "\u001b[0;31m---------------------------------------------------------------------------\u001b[0m",
      "\u001b[0;31mValueError\u001b[0m                                Traceback (most recent call last)",
      "Cell \u001b[0;32mIn[21], line 1\u001b[0m\n\u001b[0;32m----> 1\u001b[0m cluster_dataframe \u001b[38;5;241m=\u001b[39m \u001b[43mcluster\u001b[49m\u001b[43m(\u001b[49m\n\u001b[1;32m      2\u001b[0m \u001b[43m    \u001b[49m\u001b[43mdarwin_core_aggregations\u001b[49m\u001b[43m,\u001b[49m\n\u001b[1;32m      3\u001b[0m \u001b[43m    \u001b[49m\u001b[43mnum_clusters\u001b[49m\u001b[43m,\u001b[49m\n\u001b[1;32m      4\u001b[0m \u001b[43m    \u001b[49m\u001b[43mshow_dendrogram\u001b[49m\u001b[43m,\u001b[49m\n\u001b[1;32m      5\u001b[0m \u001b[43m    \u001b[49m\u001b[43muse_cache\u001b[49m\u001b[43m,\u001b[49m\n\u001b[1;32m      6\u001b[0m \u001b[43m)\u001b[49m\n",
      "File \u001b[0;32m~/dev/frewsxcv/citizen-science-ecoregions-experiments/run.py:315\u001b[0m, in \u001b[0;36mcluster\u001b[0;34m(darwin_core_aggregations, num_clusters, show_dendrogram_opt, use_cache)\u001b[0m\n\u001b[1;32m      0\u001b[0m <Error retrieving source code with stack_data see ipython/ipython#13598>\n",
      "File \u001b[0;32m~/dev/frewsxcv/citizen-science-ecoregions-experiments/.venv/lib/python3.13/site-packages/scipy/cluster/hierarchy.py:1030\u001b[0m, in \u001b[0;36mlinkage\u001b[0;34m(y, method, metric, optimal_ordering)\u001b[0m\n\u001b[1;32m   1027\u001b[0m     \u001b[38;5;28;01mraise\u001b[39;00m \u001b[38;5;167;01mValueError\u001b[39;00m(\u001b[38;5;124m\"\u001b[39m\u001b[38;5;124m`y` must be 1 or 2 dimensional.\u001b[39m\u001b[38;5;124m\"\u001b[39m)\n\u001b[1;32m   1029\u001b[0m \u001b[38;5;28;01mif\u001b[39;00m \u001b[38;5;129;01mnot\u001b[39;00m xp\u001b[38;5;241m.\u001b[39mall(xp\u001b[38;5;241m.\u001b[39misfinite(y)):\n\u001b[0;32m-> 1030\u001b[0m     \u001b[38;5;28;01mraise\u001b[39;00m \u001b[38;5;167;01mValueError\u001b[39;00m(\u001b[38;5;124m\"\u001b[39m\u001b[38;5;124mThe condensed distance matrix must contain only \u001b[39m\u001b[38;5;124m\"\u001b[39m\n\u001b[1;32m   1031\u001b[0m                      \u001b[38;5;124m\"\u001b[39m\u001b[38;5;124mfinite values.\u001b[39m\u001b[38;5;124m\"\u001b[39m)\n\u001b[1;32m   1033\u001b[0m n \u001b[38;5;241m=\u001b[39m \u001b[38;5;28mint\u001b[39m(distance\u001b[38;5;241m.\u001b[39mnum_obs_y(y))\n\u001b[1;32m   1034\u001b[0m method_code \u001b[38;5;241m=\u001b[39m _LINKAGE_METHODS[method]\n",
      "\u001b[0;31mValueError\u001b[0m: The condensed distance matrix must contain only finite values."
     ]
    }
   ],
   "source": [
    "\n",
    "cluster_dataframe = cluster(\n",
    "    darwin_core_aggregations,\n",
    "    num_clusters,\n",
    "    show_dendrogram,\n",
    "    use_cache,\n",
    ")"
   ]
  },
  {
   "cell_type": "code",
   "execution_count": null,
   "id": "9fde6339",
   "metadata": {},
   "outputs": [],
   "source": [
    "\n",
    "\n",
    "# Find the top averages of taxon\n",
    "all_stats = Stats.build(darwin_core_aggregations)\n",
    "\n",
    "feature_collection = build_geojson_feature_collection(\n",
    "    (\n",
    "        cluster,\n",
    "        geohashes,\n",
    "        cluster_dataframe.determine_color_for_cluster(\n",
    "            cluster, darwin_core_aggregations\n",
    "        ),\n",
    "    )\n",
    "    for cluster, geohashes in cluster_dataframe.iter_clusters_and_geohashes()\n",
    ")\n",
    "\n",
    "# print_results(darwin_core_aggregations, all_stats, cluster_dataframe)\n",
    "\n",
    "plot_clusters(feature_collection, num_clusters=num_clusters)\n",
    "\n",
    "# write_geojson(feature_collection, args.output_file)"
   ]
  },
  {
   "cell_type": "code",
   "execution_count": null,
   "id": "618d244e",
   "metadata": {},
   "outputs": [],
   "source": [
    "from run import print_cluster_stats\n",
    "cluster_id = 1\n",
    "geohashes = cluster_dataframe.geohashes_for_cluster(cluster_id)\n",
    "print_cluster_stats(cluster_id, geohashes, darwin_core_aggregations, all_stats)\n"
   ]
  },
  {
   "cell_type": "code",
   "execution_count": null,
   "id": "b12c5d90",
   "metadata": {},
   "outputs": [],
   "source": [
    "\n",
    "stats_for_clusters = {\n",
    "    cluster: Stats.build(\n",
    "        darwin_core_aggregations,\n",
    "        geohash_filter=geohashes,\n",
    "    )\n",
    "    for cluster, geohashes in cluster_dataframe.iter_clusters_and_geohashes()\n",
    "}\n",
    "stats_for_clusters\n"
   ]
  },
  {
   "cell_type": "code",
   "execution_count": null,
   "id": "4b63a8e4",
   "metadata": {},
   "outputs": [],
   "source": [
    "[\n",
    "    {\n",
    "        \"cluster\": cluster,\n",
    "        \"waterfowl\": stats.waterfowl_count(),\n",
    "        \"aves\": stats.aves_count(),\n",
    "        \"ratio\": stats.waterfowl_count() / stats.aves_count(),\n",
    "    }\n",
    "    for cluster, stats in stats_for_clusters.items()\n",
    "]\n",
    "\n"
   ]
  }
 ],
 "metadata": {
  "kernelspec": {
   "display_name": ".venv",
   "language": "python",
   "name": "python3"
  },
  "language_info": {
   "codemirror_mode": {
    "name": "ipython",
    "version": 3
   },
   "file_extension": ".py",
   "mimetype": "text/x-python",
   "name": "python",
   "nbconvert_exporter": "python",
   "pygments_lexer": "ipython3",
   "version": "3.13.0"
  }
 },
 "nbformat": 4,
 "nbformat_minor": 5
}

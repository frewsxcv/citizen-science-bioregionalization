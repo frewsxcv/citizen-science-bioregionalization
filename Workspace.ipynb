{
 "cells": [
  {
   "cell_type": "markdown",
   "id": "f06de749",
   "metadata": {
    "slideshow": {
     "slide_type": "slide"
    }
   },
   "source": [
    "# Dynamic ecoregions"
   ]
  },
  {
   "cell_type": "markdown",
   "id": "dd126c3a",
   "metadata": {},
   "source": [
    "## Define inputs"
   ]
  },
  {
   "cell_type": "code",
   "execution_count": 1,
   "id": "99519ac0",
   "metadata": {},
   "outputs": [],
   "source": [
    "# Inputs\n",
    "\n",
    "input_file = \"data/data-continental-united-states.csv\"\n",
    "# input_file = \"data/data-nh-vt.csv\"\n",
    "geocode_precision = 4\n",
    "# geocode_precision = 5\n",
    "log_file = \"run.log\"\n",
    "num_clusters = 60\n",
    "taxon_filter = \"Insecta\""
   ]
  },
  {
   "cell_type": "markdown",
   "id": "7bbc4cef",
   "metadata": {},
   "source": [
    "## Set up logging"
   ]
  },
  {
   "cell_type": "code",
   "execution_count": 2,
   "id": "44ea301b",
   "metadata": {},
   "outputs": [],
   "source": [
    "import logging\n",
    "\n",
    "logging.basicConfig(filename=log_file, encoding=\"utf-8\", level=logging.INFO)"
   ]
  },
  {
   "cell_type": "markdown",
   "id": "27b9d760",
   "metadata": {},
   "source": [
    "## Data flow"
   ]
  },
  {
   "cell_type": "code",
   "execution_count": null,
   "id": "551cabe9",
   "metadata": {},
   "outputs": [],
   "source": [
    "from src.dependency_graph import plot_dependency_graph\n",
    "\n",
    "plot_dependency_graph()"
   ]
  },
  {
   "cell_type": "markdown",
   "id": "116c8d33",
   "metadata": {},
   "source": [
    "## `DarwinCoreCsvLazyFrame`"
   ]
  },
  {
   "cell_type": "markdown",
   "id": "5978dfa6",
   "metadata": {},
   "source": [
    "### Build"
   ]
  },
  {
   "cell_type": "code",
   "execution_count": 4,
   "id": "ef114a5c",
   "metadata": {},
   "outputs": [],
   "source": [
    "from src.lazyframes.darwin_core_csv import DarwinCoreCsvLazyFrame\n",
    "\n",
    "darwin_core_csv_lazy_frame = DarwinCoreCsvLazyFrame.build(\n",
    "    input_file, taxon_filter=taxon_filter\n",
    ")"
   ]
  },
  {
   "cell_type": "markdown",
   "id": "a8aecc3d",
   "metadata": {},
   "source": [
    "### Preview"
   ]
  },
  {
   "cell_type": "code",
   "execution_count": null,
   "id": "301909c5",
   "metadata": {},
   "outputs": [],
   "source": [
    "darwin_core_csv_lazy_frame.lf.limit(3).collect()"
   ]
  },
  {
   "cell_type": "markdown",
   "id": "fc283c82",
   "metadata": {},
   "source": [
    "## `GeohashDataFrame`"
   ]
  },
  {
   "cell_type": "markdown",
   "id": "941b9a5b",
   "metadata": {},
   "source": [
    "### Build"
   ]
  },
  {
   "cell_type": "code",
   "execution_count": 6,
   "id": "fc7c5908",
   "metadata": {},
   "outputs": [],
   "source": [
    "from src.dataframes.geocode import GeocodeDataFrame\n",
    "\n",
    "geocode_dataframe = GeocodeDataFrame.build(\n",
    "    darwin_core_csv_lazy_frame,\n",
    "    geocode_precision,\n",
    ")"
   ]
  },
  {
   "cell_type": "markdown",
   "id": "5f25f674",
   "metadata": {},
   "source": [
    "### Preview"
   ]
  },
  {
   "cell_type": "code",
   "execution_count": null,
   "id": "ad1e6571",
   "metadata": {},
   "outputs": [],
   "source": [
    "geocode_dataframe.df"
   ]
  },
  {
   "cell_type": "markdown",
   "id": "d894f444",
   "metadata": {},
   "source": [
    "## `TaxonomyDataFrame`"
   ]
  },
  {
   "cell_type": "markdown",
   "id": "9aea10c8",
   "metadata": {},
   "source": [
    "### Build"
   ]
  },
  {
   "cell_type": "code",
   "execution_count": 8,
   "id": "dc245900",
   "metadata": {},
   "outputs": [],
   "source": [
    "from src.dataframes.taxonomy import TaxonomyDataFrame\n",
    "\n",
    "taxonomy_dataframe = TaxonomyDataFrame.build(darwin_core_csv_lazy_frame)"
   ]
  },
  {
   "cell_type": "markdown",
   "id": "4fd52a30",
   "metadata": {},
   "source": [
    "### Preview"
   ]
  },
  {
   "cell_type": "code",
   "execution_count": null,
   "id": "da2a0349",
   "metadata": {},
   "outputs": [],
   "source": [
    "taxonomy_dataframe.df"
   ]
  },
  {
   "cell_type": "markdown",
   "id": "a0648044",
   "metadata": {},
   "source": [
    "## `GeohashSpeciesCountsDataFrame`"
   ]
  },
  {
   "cell_type": "markdown",
   "id": "c9342219",
   "metadata": {},
   "source": [
    "### Build"
   ]
  },
  {
   "cell_type": "code",
   "execution_count": 10,
   "id": "193e313e",
   "metadata": {},
   "outputs": [],
   "source": [
    "from src.dataframes.geocode_taxa_counts import GeocodeTaxaCountsDataFrame\n",
    "\n",
    "geocode_taxa_counts_dataframe = GeocodeTaxaCountsDataFrame.build(\n",
    "    darwin_core_csv_lazy_frame,\n",
    "    geocode_precision,\n",
    "    taxonomy_dataframe,\n",
    ")"
   ]
  },
  {
   "cell_type": "markdown",
   "id": "a657db45",
   "metadata": {},
   "source": [
    "### Preview"
   ]
  },
  {
   "cell_type": "code",
   "execution_count": null,
   "id": "650b1cde",
   "metadata": {},
   "outputs": [],
   "source": [
    "geocode_taxa_counts_dataframe.df"
   ]
  },
  {
   "cell_type": "markdown",
   "id": "c702a476",
   "metadata": {},
   "source": [
    "## `GeocodeConnectivityMatrix`"
   ]
  },
  {
   "cell_type": "markdown",
   "id": "f3a4e2da",
   "metadata": {},
   "source": [
    "### Build"
   ]
  },
  {
   "cell_type": "code",
   "execution_count": 12,
   "id": "c5e80f91",
   "metadata": {},
   "outputs": [],
   "source": [
    "from src.matrices.geocode_connectivity import GeocodeConnectivityMatrix\n",
    "\n",
    "geocode_connectivity_matrix = GeocodeConnectivityMatrix.build(geocode_dataframe)"
   ]
  },
  {
   "cell_type": "markdown",
   "id": "18cfd051",
   "metadata": {},
   "source": [
    "### Shape"
   ]
  },
  {
   "cell_type": "code",
   "execution_count": null,
   "id": "93c28af8",
   "metadata": {},
   "outputs": [],
   "source": [
    "geocode_connectivity_matrix._connectivity_matrix.shape"
   ]
  },
  {
   "cell_type": "markdown",
   "id": "779a1ded",
   "metadata": {},
   "source": [
    "### Preview"
   ]
  },
  {
   "cell_type": "code",
   "execution_count": null,
   "id": "a0a89bf6",
   "metadata": {},
   "outputs": [],
   "source": [
    "geocode_connectivity_matrix._connectivity_matrix"
   ]
  },
  {
   "cell_type": "markdown",
   "id": "79cc061b",
   "metadata": {},
   "source": [
    "## `GeocodeDistanceMatrix`"
   ]
  },
  {
   "cell_type": "code",
   "execution_count": null,
   "id": "571ea311",
   "metadata": {},
   "outputs": [],
   "source": [
    "from src.matrices.geocode_distance import GeocodeDistanceMatrix\n",
    "\n",
    "print(GeocodeDistanceMatrix.__doc__)"
   ]
  },
  {
   "cell_type": "markdown",
   "id": "29d952cb",
   "metadata": {},
   "source": [
    "### Build"
   ]
  },
  {
   "cell_type": "code",
   "execution_count": null,
   "id": "f7e3d885",
   "metadata": {},
   "outputs": [],
   "source": [
    "geocode_distance_matrix = GeocodeDistanceMatrix.build(\n",
    "    geocode_taxa_counts_dataframe,\n",
    "    geocode_dataframe,\n",
    ")"
   ]
  },
  {
   "cell_type": "markdown",
   "id": "116291c9",
   "metadata": {},
   "source": [
    "### Shape"
   ]
  },
  {
   "cell_type": "code",
   "execution_count": null,
   "id": "d15fef8c",
   "metadata": {},
   "outputs": [],
   "source": [
    "geocode_distance_matrix.squareform().shape"
   ]
  },
  {
   "cell_type": "markdown",
   "id": "214d36ed",
   "metadata": {},
   "source": [
    "### Preview"
   ]
  },
  {
   "cell_type": "code",
   "execution_count": null,
   "id": "4f233d45",
   "metadata": {},
   "outputs": [],
   "source": [
    "geocode_distance_matrix.squareform()"
   ]
  },
  {
   "cell_type": "markdown",
   "id": "3ae9ea61",
   "metadata": {},
   "source": [
    "## `GeohashClusterDataFrame`"
   ]
  },
  {
   "cell_type": "markdown",
   "id": "cc633492",
   "metadata": {},
   "source": [
    "### Build"
   ]
  },
  {
   "cell_type": "code",
   "execution_count": 19,
   "id": "eaedbc3d",
   "metadata": {},
   "outputs": [],
   "source": [
    "from src.dataframes.geocode_cluster import GeocodeClusterDataFrame\n",
    "\n",
    "geocode_cluster_dataframe = GeocodeClusterDataFrame.build(\n",
    "    geocode_dataframe,\n",
    "    geocode_distance_matrix,\n",
    "    geocode_connectivity_matrix,\n",
    "    num_clusters,\n",
    ")"
   ]
  },
  {
   "cell_type": "markdown",
   "id": "d6713b4a",
   "metadata": {},
   "source": [
    "### Preview"
   ]
  },
  {
   "cell_type": "code",
   "execution_count": null,
   "id": "04c9d615",
   "metadata": {},
   "outputs": [],
   "source": [
    "geocode_cluster_dataframe.df.limit(3)"
   ]
  },
  {
   "cell_type": "code",
   "execution_count": 21,
   "id": "b2330990",
   "metadata": {},
   "outputs": [],
   "source": [
    "# # TMP\n",
    "\n",
    "# from src.dataframes.geocode_cluster import GeocodeClusterDataFrame\n",
    "# from sklearn.metrics import silhouette_score\n",
    "\n",
    "# results = []\n",
    "\n",
    "# for i in range(2, 200):\n",
    "#     geocode_cluster_dataframe = GeocodeClusterDataFrame.build(\n",
    "#         geocode_dataframe,\n",
    "#         distance_matrix,\n",
    "#         connectivity_matrix,\n",
    "#         num_clusters=i,\n",
    "#     )\n",
    "#     score = silhouette_score(\n",
    "#         X=distance_matrix.squareform(),\n",
    "#         labels=geocode_cluster_dataframe.df[\"cluster\"],\n",
    "#         metric=\"precomputed\",\n",
    "#     )\n",
    "#     print(f\"{i}: {score}\")\n",
    "#     results.append((i, score))\n",
    "\n",
    "# results"
   ]
  },
  {
   "cell_type": "markdown",
   "id": "eaae27da",
   "metadata": {},
   "source": [
    "## `ClusterNeighborsDataframe`"
   ]
  },
  {
   "cell_type": "markdown",
   "id": "67c8906b",
   "metadata": {},
   "source": [
    "### Build"
   ]
  },
  {
   "cell_type": "code",
   "execution_count": 22,
   "id": "839d444a",
   "metadata": {},
   "outputs": [],
   "source": [
    "from src.dataframes.cluster_neighbors import ClusterNeighborsDataFrame\n",
    "\n",
    "cluster_neighbors_dataframe = ClusterNeighborsDataFrame.build(\n",
    "    geocode_dataframe,\n",
    "    geocode_cluster_dataframe,\n",
    ")"
   ]
  },
  {
   "cell_type": "markdown",
   "id": "57e31621",
   "metadata": {},
   "source": [
    "### Preview"
   ]
  },
  {
   "cell_type": "code",
   "execution_count": null,
   "id": "a46f9865",
   "metadata": {},
   "outputs": [],
   "source": [
    "cluster_neighbors_dataframe.df"
   ]
  },
  {
   "cell_type": "markdown",
   "id": "a5c4faa1",
   "metadata": {},
   "source": [
    "## `ClusterTaxaStatisticsDataFrame`"
   ]
  },
  {
   "cell_type": "markdown",
   "id": "6f108bc3",
   "metadata": {},
   "source": [
    "### Build"
   ]
  },
  {
   "cell_type": "code",
   "execution_count": 24,
   "id": "39c1a999",
   "metadata": {},
   "outputs": [],
   "source": [
    "from src.dataframes.cluster_taxa_statistics import ClusterTaxaStatisticsDataFrame\n",
    "\n",
    "cluster_taxa_statistics_dataframe = ClusterTaxaStatisticsDataFrame.build(\n",
    "    geocode_taxa_counts_dataframe,\n",
    "    geocode_cluster_dataframe,\n",
    "    taxonomy_dataframe,\n",
    ")"
   ]
  },
  {
   "cell_type": "markdown",
   "id": "abb7c9b6",
   "metadata": {},
   "source": [
    "### Preview"
   ]
  },
  {
   "cell_type": "code",
   "execution_count": null,
   "id": "87264ffa",
   "metadata": {},
   "outputs": [],
   "source": [
    "cluster_taxa_statistics_dataframe.df"
   ]
  },
  {
   "cell_type": "markdown",
   "id": "8ba074be",
   "metadata": {},
   "source": [
    "## `ClusterSignificantDifferencesDataFrame`"
   ]
  },
  {
   "cell_type": "markdown",
   "id": "40e275c7",
   "metadata": {},
   "source": [
    "### Build"
   ]
  },
  {
   "cell_type": "code",
   "execution_count": 26,
   "id": "51fd3375",
   "metadata": {},
   "outputs": [],
   "source": [
    "from src.dataframes.cluster_significant_differences import (\n",
    "    ClusterSignificantDifferencesDataFrame,\n",
    ")\n",
    "\n",
    "cluster_significant_differences_dataframe = (\n",
    "    ClusterSignificantDifferencesDataFrame.build(\n",
    "        cluster_taxa_statistics_dataframe,\n",
    "    )\n",
    ")"
   ]
  },
  {
   "cell_type": "markdown",
   "id": "f1ee5c86",
   "metadata": {},
   "source": [
    "### Preview"
   ]
  },
  {
   "cell_type": "code",
   "execution_count": null,
   "id": "d48c1e6b",
   "metadata": {},
   "outputs": [],
   "source": [
    "cluster_significant_differences_dataframe.df.limit(3)"
   ]
  },
  {
   "cell_type": "markdown",
   "id": "80329627",
   "metadata": {},
   "source": [
    "## `GeocodeBoundaryDataFrame`"
   ]
  },
  {
   "cell_type": "markdown",
   "id": "e5bd11d6",
   "metadata": {},
   "source": [
    "### Build"
   ]
  },
  {
   "cell_type": "code",
   "execution_count": null,
   "id": "ff75a0bc",
   "metadata": {},
   "outputs": [],
   "source": [
    "from src.dataframes.geocode_boundary import GeocodeBoundaryDataFrame\n",
    "\n",
    "geocode_boundary_dataframe = GeocodeBoundaryDataFrame.build(\n",
    "    geocode_cluster_dataframe,\n",
    ")"
   ]
  },
  {
   "cell_type": "markdown",
   "id": "47ed056e",
   "metadata": {},
   "source": [
    "### Preview"
   ]
  },
  {
   "cell_type": "code",
   "execution_count": null,
   "id": "c8c1a399",
   "metadata": {},
   "outputs": [],
   "source": [
    "geocode_boundary_dataframe.df"
   ]
  },
  {
   "cell_type": "markdown",
   "id": "e6e47abf",
   "metadata": {},
   "source": [
    "## `ClusterBoundaryDataFrame`"
   ]
  },
  {
   "cell_type": "markdown",
   "id": "6d6a7c35",
   "metadata": {},
   "source": [
    "### Build"
   ]
  },
  {
   "cell_type": "code",
   "execution_count": 30,
   "id": "a3fd295a",
   "metadata": {},
   "outputs": [],
   "source": [
    "from src.dataframes.cluster_boundary import ClusterBoundaryDataFrame\n",
    "\n",
    "cluster_boundary_dataframe = ClusterBoundaryDataFrame.build(\n",
    "    geocode_cluster_dataframe,\n",
    "    geocode_boundary_dataframe,\n",
    ")"
   ]
  },
  {
   "cell_type": "markdown",
   "id": "644578a8",
   "metadata": {},
   "source": [
    "### Preview"
   ]
  },
  {
   "cell_type": "code",
   "execution_count": null,
   "id": "3d1bdbef",
   "metadata": {},
   "outputs": [],
   "source": [
    "cluster_boundary_dataframe.df"
   ]
  },
  {
   "cell_type": "markdown",
   "id": "cd5b8609",
   "metadata": {},
   "source": [
    "## `ClusterDistanceMatrix`"
   ]
  },
  {
   "cell_type": "markdown",
   "id": "f9329637",
   "metadata": {},
   "source": [
    "### Build"
   ]
  },
  {
   "cell_type": "code",
   "execution_count": 32,
   "id": "7ab1fc6f",
   "metadata": {},
   "outputs": [],
   "source": [
    "from src.matrices.cluster_distance import ClusterDistanceMatrix\n",
    "\n",
    "cluster_distance_matrix = ClusterDistanceMatrix.build(\n",
    "    cluster_taxa_statistics_dataframe,\n",
    ")"
   ]
  },
  {
   "cell_type": "markdown",
   "id": "3b65ad40",
   "metadata": {},
   "source": [
    "### Preview"
   ]
  },
  {
   "cell_type": "code",
   "execution_count": null,
   "id": "85608a7e",
   "metadata": {},
   "outputs": [],
   "source": [
    "cluster_distance_matrix.squareform()"
   ]
  },
  {
   "cell_type": "markdown",
   "id": "37672463",
   "metadata": {},
   "source": [
    "## `ClusterColorDataFrame`"
   ]
  },
  {
   "cell_type": "markdown",
   "id": "f58fc0ba",
   "metadata": {},
   "source": [
    "### Build"
   ]
  },
  {
   "cell_type": "code",
   "execution_count": null,
   "id": "c77c7ddf",
   "metadata": {},
   "outputs": [],
   "source": [
    "from src.dataframes.cluster_color import ClusterColorDataFrame\n",
    "\n",
    "cluster_colors_dataframe = ClusterColorDataFrame.build(\n",
    "    cluster_neighbors_dataframe,\n",
    "    cluster_boundary_dataframe,\n",
    "    cluster_taxa_statistics_dataframe,\n",
    "    color_method=\"taxonomic\",\n",
    "    # color_method=\"geographic\",\n",
    ")"
   ]
  },
  {
   "cell_type": "markdown",
   "id": "1785deb3",
   "metadata": {},
   "source": [
    "### Preview"
   ]
  },
  {
   "cell_type": "code",
   "execution_count": null,
   "id": "28d4f31d",
   "metadata": {},
   "outputs": [],
   "source": [
    "cluster_colors_dataframe.df"
   ]
  },
  {
   "cell_type": "markdown",
   "id": "7add0599",
   "metadata": {},
   "source": [
    "## `GeocodeSilhouetteScoreDataFrame`"
   ]
  },
  {
   "cell_type": "markdown",
   "id": "c900d804",
   "metadata": {},
   "source": [
    "### Build"
   ]
  },
  {
   "cell_type": "code",
   "execution_count": 36,
   "id": "13e0029e",
   "metadata": {},
   "outputs": [],
   "source": [
    "from src.dataframes.geocode_silhouette_score import GeocodeSilhouetteScoreDataFrame\n",
    "\n",
    "geocode_silhouette_score_dataframe = GeocodeSilhouetteScoreDataFrame.build(\n",
    "    cluster_neighbors_dataframe,\n",
    "    geocode_distance_matrix,\n",
    "    geocode_cluster_dataframe,\n",
    ")"
   ]
  },
  {
   "cell_type": "markdown",
   "id": "f054ae4b",
   "metadata": {},
   "source": [
    "### Preview"
   ]
  },
  {
   "cell_type": "code",
   "execution_count": null,
   "id": "f20f1fb8",
   "metadata": {},
   "outputs": [],
   "source": [
    "geocode_silhouette_score_dataframe.df.sort(by=\"silhouette_score\")"
   ]
  },
  {
   "cell_type": "code",
   "execution_count": null,
   "id": "b8522750",
   "metadata": {},
   "outputs": [],
   "source": [
    "from src.plot.silhouette_score import plot_silhouette_scores\n",
    "\n",
    "plot_silhouette_scores(\n",
    "    geocode_cluster_dataframe,\n",
    "    geocode_distance_matrix,\n",
    "    geocode_silhouette_score_dataframe,\n",
    "    cluster_colors_dataframe,\n",
    ")"
   ]
  },
  {
   "cell_type": "markdown",
   "id": "d244acaa",
   "metadata": {},
   "source": [
    "## Build and plot GeoJSON feature collection"
   ]
  },
  {
   "cell_type": "code",
   "execution_count": null,
   "id": "9fde6339",
   "metadata": {},
   "outputs": [],
   "source": [
    "from src.geojson import build_geojson_feature_collection, write_geojson\n",
    "from src.render import plot_clusters\n",
    "from src import output\n",
    "import matplotlib.pyplot as plt\n",
    "\n",
    "# Set the figure size\n",
    "plt.rcParams[\"figure.figsize\"] = [12, 7]\n",
    "\n",
    "feature_collection = build_geojson_feature_collection(\n",
    "    cluster_boundary_dataframe,\n",
    "    cluster_colors_dataframe,\n",
    ")\n",
    "\n",
    "write_geojson(feature_collection, output.get_geojson_path())\n",
    "plot_clusters(feature_collection)"
   ]
  },
  {
   "cell_type": "markdown",
   "id": "a56060aa",
   "metadata": {},
   "source": [
    "## Build and display HTML output"
   ]
  },
  {
   "cell_type": "code",
   "execution_count": 40,
   "id": "672180bd",
   "metadata": {},
   "outputs": [],
   "source": [
    "from src.html_output import prepare_full_report_data, render_html, write_html\n",
    "\n",
    "report_data = prepare_full_report_data(\n",
    "    cluster_colors_dataframe,\n",
    "    cluster_significant_differences_dataframe,\n",
    "    taxonomy_dataframe,\n",
    "    feature_collection,\n",
    ")\n",
    "html_content = render_html(\"cluster_report.html\", report_data)\n",
    "html_output = output.get_html_path()\n",
    "write_html(html_content, html_output)"
   ]
  },
  {
   "cell_type": "markdown",
   "id": "0696aa73",
   "metadata": {},
   "source": [
    "## Dimensionality reduction plot"
   ]
  },
  {
   "cell_type": "code",
   "execution_count": null,
   "id": "33f2c697",
   "metadata": {},
   "outputs": [],
   "source": [
    "from src.plot.dimnesionality_reduction import create_dimensionality_reduction_plot\n",
    "\n",
    "create_dimensionality_reduction_plot(\n",
    "    geocode_distance_matrix,\n",
    "    geocode_cluster_dataframe,\n",
    "    cluster_colors_dataframe,\n",
    "    method=\"umap\",\n",
    ")"
   ]
  },
  {
   "cell_type": "markdown",
   "id": "59f7a0e2",
   "metadata": {},
   "source": [
    "## Clustermap visualization"
   ]
  },
  {
   "cell_type": "code",
   "execution_count": null,
   "id": "1f706269",
   "metadata": {},
   "outputs": [],
   "source": [
    "from src.plot.cluster_taxa import create_cluster_taxa_heatmap\n",
    "\n",
    "create_cluster_taxa_heatmap(\n",
    "    geocode_dataframe=geocode_dataframe,\n",
    "    geocode_cluster_dataframe=geocode_cluster_dataframe,\n",
    "    cluster_colors_dataframe=cluster_colors_dataframe,\n",
    "    geocode_distance_matrix=geocode_distance_matrix,\n",
    "    cluster_significant_differences_dataframe=cluster_significant_differences_dataframe,\n",
    "    taxonomy_dataframe=taxonomy_dataframe,\n",
    "    geocode_taxa_counts_dataframe=geocode_taxa_counts_dataframe,\n",
    "    cluster_taxa_statistics_dataframe=cluster_taxa_statistics_dataframe,\n",
    "    limit_species=5,\n",
    ")"
   ]
  }
 ],
 "metadata": {
  "kernelspec": {
   "display_name": "Python 3",
   "language": "python",
   "name": "python3"
  },
  "language_info": {
   "codemirror_mode": {
    "name": "ipython",
    "version": 3
   },
   "file_extension": ".py",
   "mimetype": "text/x-python",
   "name": "python",
   "nbconvert_exporter": "python",
   "pygments_lexer": "ipython3",
   "version": "3.13.2"
  }
 },
 "nbformat": 4,
 "nbformat_minor": 5
}

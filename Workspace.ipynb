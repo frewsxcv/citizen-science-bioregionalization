{
 "cells": [
  {
   "cell_type": "code",
   "execution_count": 1,
   "id": "5bd4a825",
   "metadata": {},
   "outputs": [],
   "source": [
    "# Inputs\n",
    "input_file = \"data/data-nh-vt.csv\"\n",
    "geohash_precision = 4\n",
    "log_file = \"run.log\"\n",
    "output_file = \"output.geojson\"\n",
    "num_clusters = 2\n",
    "use_cache = False\n",
    "plot = True"
   ]
  },
  {
   "cell_type": "code",
   "execution_count": 2,
   "id": "44ea301b",
   "metadata": {},
   "outputs": [],
   "source": [
    "import logging\n",
    "\n",
    "logging.basicConfig(filename=log_file, encoding=\"utf-8\", level=logging.INFO)\n"
   ]
  },
  {
   "cell_type": "code",
   "execution_count": 3,
   "id": "ef114a5c",
   "metadata": {},
   "outputs": [],
   "source": [
    "from src.lazyframes.darwin_core_csv import DarwinCoreCsvLazyFrame\n",
    "\n",
    "darwin_core_csv_lazy_frame = DarwinCoreCsvLazyFrame.from_file(input_file)"
   ]
  },
  {
   "cell_type": "code",
   "execution_count": 4,
   "id": "dc245900",
   "metadata": {},
   "outputs": [],
   "source": [
    "from src.dataframes.taxonomy import TaxonomyDataFrame\n",
    "\n",
    "taxonomy_dataframe = TaxonomyDataFrame.build(darwin_core_csv_lazy_frame)"
   ]
  },
  {
   "cell_type": "code",
   "execution_count": 5,
   "id": "193e313e",
   "metadata": {},
   "outputs": [],
   "source": [
    "from src.dataframes.geohash_species_counts import GeohashSpeciesCountsDataFrame\n",
    "\n",
    "geohash_taxa_counts_dataframe = GeohashSpeciesCountsDataFrame.build(\n",
    "    darwin_core_csv_lazy_frame, geohash_precision\n",
    ")"
   ]
  },
  {
   "cell_type": "code",
   "execution_count": 6,
   "id": "f7e3d885",
   "metadata": {},
   "outputs": [
    {
     "name": "stderr",
     "output_type": "stream",
     "text": [
      "/Users/coreyf/dev/frewsxcv/citizen-science-ecoregions-experiments/.venv/lib/python3.13/site-packages/sklearn/decomposition/_incremental_pca.py:376: RuntimeWarning: Mean of empty slice.\n",
      "  self.noise_variance_ = explained_variance[self.n_components_ :].mean()\n",
      "/Users/coreyf/dev/frewsxcv/citizen-science-ecoregions-experiments/.venv/lib/python3.13/site-packages/numpy/_core/_methods.py:145: RuntimeWarning: invalid value encountered in scalar divide\n",
      "  ret = ret.dtype.type(ret / rcount)\n"
     ]
    }
   ],
   "source": [
    "from src.distance_matrix import DistanceMatrix\n",
    "\n",
    "distance_matrix = DistanceMatrix.build(\n",
    "    geohash_taxa_counts_dataframe,\n",
    "    use_cache,\n",
    ")"
   ]
  },
  {
   "cell_type": "code",
   "execution_count": 7,
   "id": "eaedbc3d",
   "metadata": {},
   "outputs": [],
   "source": [
    "from src.dataframes.geohash_cluster import GeohashClusterDataFrame\n",
    "\n",
    "geohash_cluster_dataframe = GeohashClusterDataFrame.build(\n",
    "    geohash_taxa_counts_dataframe,\n",
    "    distance_matrix,\n",
    "    num_clusters,\n",
    ")"
   ]
  },
  {
   "cell_type": "code",
   "execution_count": 8,
   "id": "98c37aad",
   "metadata": {},
   "outputs": [],
   "source": [
    "from src.dataframes.cluster_color import ClusterColorDataFrame\n",
    "\n",
    "cluster_colors = ClusterColorDataFrame.from_clusters(geohash_cluster_dataframe)"
   ]
  },
  {
   "cell_type": "code",
   "execution_count": 9,
   "id": "39c1a999",
   "metadata": {},
   "outputs": [
    {
     "ename": "ColumnNotFoundError",
     "evalue": "rank\n\nResolved plan until failure:\n\n\t---> FAILED HERE RESOLVING 'select' <---\nDF [\"geohash\", \"kingdom\", \"species\", \"count\"]; PROJECT */4 COLUMNS",
     "output_type": "error",
     "traceback": [
      "\u001b[0;31m---------------------------------------------------------------------------\u001b[0m",
      "\u001b[0;31mColumnNotFoundError\u001b[0m                       Traceback (most recent call last)",
      "Cell \u001b[0;32mIn[9], line 3\u001b[0m\n\u001b[1;32m      1\u001b[0m \u001b[38;5;28;01mfrom\u001b[39;00m\u001b[38;5;250m \u001b[39m\u001b[38;5;21;01msrc\u001b[39;00m\u001b[38;5;21;01m.\u001b[39;00m\u001b[38;5;21;01mcluster_stats\u001b[39;00m\u001b[38;5;250m \u001b[39m\u001b[38;5;28;01mimport\u001b[39;00m Stats\n\u001b[0;32m----> 3\u001b[0m all_stats \u001b[38;5;241m=\u001b[39m \u001b[43mStats\u001b[49m\u001b[38;5;241;43m.\u001b[39;49m\u001b[43mbuild\u001b[49m\u001b[43m(\u001b[49m\u001b[43mgeohash_taxa_counts_dataframe\u001b[49m\u001b[43m)\u001b[49m\n",
      "File \u001b[0;32m~/dev/frewsxcv/citizen-science-ecoregions-experiments/src/cluster_stats.py:38\u001b[0m, in \u001b[0;36mStats.build\u001b[0;34m(cls, geohash_taxa_counts_dataframe, geohash_filter)\u001b[0m\n\u001b[1;32m     28\u001b[0m geohash_filter_clause \u001b[38;5;241m=\u001b[39m (\n\u001b[1;32m     29\u001b[0m     pl\u001b[38;5;241m.\u001b[39mcol(\u001b[38;5;124m\"\u001b[39m\u001b[38;5;124mgeohash\u001b[39m\u001b[38;5;124m\"\u001b[39m)\u001b[38;5;241m.\u001b[39mis_in(geohash_filter)\n\u001b[1;32m     30\u001b[0m     \u001b[38;5;28;01mif\u001b[39;00m geohash_filter\n\u001b[1;32m     31\u001b[0m     \u001b[38;5;28;01melse\u001b[39;00m pl\u001b[38;5;241m.\u001b[39mlit(\u001b[38;5;28;01mTrue\u001b[39;00m)\n\u001b[1;32m     32\u001b[0m )\n\u001b[1;32m     34\u001b[0m \u001b[38;5;66;03m# Get all taxa counts across ranks\u001b[39;00m\n\u001b[1;32m     35\u001b[0m taxa: pl\u001b[38;5;241m.\u001b[39mDataFrame \u001b[38;5;241m=\u001b[39m (\n\u001b[1;32m     36\u001b[0m     \u001b[43mgeohash_taxa_counts_dataframe\u001b[49m\u001b[38;5;241;43m.\u001b[39;49m\u001b[43mfiltered\u001b[49m\u001b[43m(\u001b[49m\u001b[43m)\u001b[49m\n\u001b[1;32m     37\u001b[0m \u001b[43m    \u001b[49m\u001b[38;5;241;43m.\u001b[39;49m\u001b[43mfilter\u001b[49m\u001b[43m(\u001b[49m\u001b[43mgeohash_filter_clause\u001b[49m\u001b[43m)\u001b[49m\n\u001b[0;32m---> 38\u001b[0m \u001b[43m    \u001b[49m\u001b[38;5;241;43m.\u001b[39;49m\u001b[43mselect\u001b[49m\u001b[43m(\u001b[49m\u001b[43m[\u001b[49m\u001b[38;5;124;43m\"\u001b[39;49m\u001b[38;5;124;43mkingdom\u001b[39;49m\u001b[38;5;124;43m\"\u001b[39;49m\u001b[43m,\u001b[49m\u001b[43m \u001b[49m\u001b[38;5;124;43m\"\u001b[39;49m\u001b[38;5;124;43mrank\u001b[39;49m\u001b[38;5;124;43m\"\u001b[39;49m\u001b[43m,\u001b[49m\u001b[43m \u001b[49m\u001b[38;5;124;43m\"\u001b[39;49m\u001b[38;5;124;43mname\u001b[39;49m\u001b[38;5;124;43m\"\u001b[39;49m\u001b[43m,\u001b[49m\u001b[43m \u001b[49m\u001b[38;5;124;43m\"\u001b[39;49m\u001b[38;5;124;43mcount\u001b[39;49m\u001b[38;5;124;43m\"\u001b[39;49m\u001b[43m]\u001b[49m\u001b[43m)\u001b[49m\n\u001b[1;32m     39\u001b[0m     \u001b[38;5;241m.\u001b[39mgroup_by([\u001b[38;5;124m\"\u001b[39m\u001b[38;5;124mkingdom\u001b[39m\u001b[38;5;124m\"\u001b[39m, \u001b[38;5;124m\"\u001b[39m\u001b[38;5;124mrank\u001b[39m\u001b[38;5;124m\"\u001b[39m, \u001b[38;5;124m\"\u001b[39m\u001b[38;5;124mname\u001b[39m\u001b[38;5;124m\"\u001b[39m])\n\u001b[1;32m     40\u001b[0m     \u001b[38;5;241m.\u001b[39magg(pl\u001b[38;5;241m.\u001b[39mcol(\u001b[38;5;124m\"\u001b[39m\u001b[38;5;124mcount\u001b[39m\u001b[38;5;124m\"\u001b[39m)\u001b[38;5;241m.\u001b[39msum())\n\u001b[1;32m     41\u001b[0m )\n\u001b[1;32m     43\u001b[0m \u001b[38;5;66;03m# Calculate total observations for average\u001b[39;00m\n\u001b[1;32m     44\u001b[0m total_count: \u001b[38;5;28mint\u001b[39m \u001b[38;5;241m=\u001b[39m taxa\u001b[38;5;241m.\u001b[39mselect(\u001b[38;5;124m\"\u001b[39m\u001b[38;5;124mcount\u001b[39m\u001b[38;5;124m\"\u001b[39m)\u001b[38;5;241m.\u001b[39msum()[\u001b[38;5;124m\"\u001b[39m\u001b[38;5;124mcount\u001b[39m\u001b[38;5;124m\"\u001b[39m]\u001b[38;5;241m.\u001b[39mitem()\n",
      "File \u001b[0;32m~/dev/frewsxcv/citizen-science-ecoregions-experiments/.venv/lib/python3.13/site-packages/polars/dataframe/frame.py:9364\u001b[0m, in \u001b[0;36mDataFrame.select\u001b[0;34m(self, *exprs, **named_exprs)\u001b[0m\n\u001b[1;32m   9264\u001b[0m \u001b[38;5;28;01mdef\u001b[39;00m\u001b[38;5;250m \u001b[39m\u001b[38;5;21mselect\u001b[39m(\n\u001b[1;32m   9265\u001b[0m     \u001b[38;5;28mself\u001b[39m, \u001b[38;5;241m*\u001b[39mexprs: IntoExpr \u001b[38;5;241m|\u001b[39m Iterable[IntoExpr], \u001b[38;5;241m*\u001b[39m\u001b[38;5;241m*\u001b[39mnamed_exprs: IntoExpr\n\u001b[1;32m   9266\u001b[0m ) \u001b[38;5;241m-\u001b[39m\u001b[38;5;241m>\u001b[39m DataFrame:\n\u001b[1;32m   9267\u001b[0m \u001b[38;5;250m    \u001b[39m\u001b[38;5;124;03m\"\"\"\u001b[39;00m\n\u001b[1;32m   9268\u001b[0m \u001b[38;5;124;03m    Select columns from this DataFrame.\u001b[39;00m\n\u001b[1;32m   9269\u001b[0m \n\u001b[0;32m   (...)\u001b[0m\n\u001b[1;32m   9362\u001b[0m \u001b[38;5;124;03m    └──────────────┘\u001b[39;00m\n\u001b[1;32m   9363\u001b[0m \u001b[38;5;124;03m    \"\"\"\u001b[39;00m\n\u001b[0;32m-> 9364\u001b[0m     \u001b[38;5;28;01mreturn\u001b[39;00m \u001b[38;5;28;43mself\u001b[39;49m\u001b[38;5;241;43m.\u001b[39;49m\u001b[43mlazy\u001b[49m\u001b[43m(\u001b[49m\u001b[43m)\u001b[49m\u001b[38;5;241;43m.\u001b[39;49m\u001b[43mselect\u001b[49m\u001b[43m(\u001b[49m\u001b[38;5;241;43m*\u001b[39;49m\u001b[43mexprs\u001b[49m\u001b[43m,\u001b[49m\u001b[43m \u001b[49m\u001b[38;5;241;43m*\u001b[39;49m\u001b[38;5;241;43m*\u001b[39;49m\u001b[43mnamed_exprs\u001b[49m\u001b[43m)\u001b[49m\u001b[38;5;241;43m.\u001b[39;49m\u001b[43mcollect\u001b[49m\u001b[43m(\u001b[49m\u001b[43m_eager\u001b[49m\u001b[38;5;241;43m=\u001b[39;49m\u001b[38;5;28;43;01mTrue\u001b[39;49;00m\u001b[43m)\u001b[49m\n",
      "File \u001b[0;32m~/dev/frewsxcv/citizen-science-ecoregions-experiments/.venv/lib/python3.13/site-packages/polars/lazyframe/frame.py:2056\u001b[0m, in \u001b[0;36mLazyFrame.collect\u001b[0;34m(self, type_coercion, _type_check, predicate_pushdown, projection_pushdown, simplify_expression, slice_pushdown, comm_subplan_elim, comm_subexpr_elim, cluster_with_columns, collapse_joins, no_optimization, streaming, engine, background, _check_order, _eager, **_kwargs)\u001b[0m\n\u001b[1;32m   2054\u001b[0m \u001b[38;5;66;03m# Only for testing purposes\u001b[39;00m\n\u001b[1;32m   2055\u001b[0m callback \u001b[38;5;241m=\u001b[39m _kwargs\u001b[38;5;241m.\u001b[39mget(\u001b[38;5;124m\"\u001b[39m\u001b[38;5;124mpost_opt_callback\u001b[39m\u001b[38;5;124m\"\u001b[39m, callback)\n\u001b[0;32m-> 2056\u001b[0m \u001b[38;5;28;01mreturn\u001b[39;00m wrap_df(\u001b[43mldf\u001b[49m\u001b[38;5;241;43m.\u001b[39;49m\u001b[43mcollect\u001b[49m\u001b[43m(\u001b[49m\u001b[43mcallback\u001b[49m\u001b[43m)\u001b[49m)\n",
      "\u001b[0;31mColumnNotFoundError\u001b[0m: rank\n\nResolved plan until failure:\n\n\t---> FAILED HERE RESOLVING 'select' <---\nDF [\"geohash\", \"kingdom\", \"species\", \"count\"]; PROJECT */4 COLUMNS"
     ]
    }
   ],
   "source": [
    "from src.cluster_stats import Stats\n",
    "\n",
    "all_stats = Stats.build(\n",
    "    geohash_taxa_counts_dataframe,\n",
    "    geohash_cluster_dataframe,\n",
    "    taxonomy_dataframe,\n",
    ")"
   ]
  },
  {
   "cell_type": "code",
   "execution_count": null,
   "id": "87264ffa",
   "metadata": {},
   "outputs": [],
   "source": [
    "all_stats.df"
   ]
  },
  {
   "cell_type": "code",
   "execution_count": null,
   "id": "9fde6339",
   "metadata": {},
   "outputs": [],
   "source": [
    "from src.geojson import build_geojson_feature_collection, write_geojson\n",
    "from src.render import plot_clusters\n",
    "\n",
    "feature_collection = build_geojson_feature_collection(\n",
    "    geohash_cluster_dataframe,\n",
    "    cluster_colors,\n",
    ")\n",
    "\n",
    "# print_results(darwin_core_aggregations, all_stats, cluster_dataframe)\n",
    "\n",
    "write_geojson(feature_collection, output_file)\n",
    "\n",
    "plot_clusters(feature_collection)\n",
    "\n",
    "# write_geojson(feature_collection, args.output_file)"
   ]
  },
  {
   "cell_type": "code",
   "execution_count": null,
   "id": "672180bd",
   "metadata": {},
   "outputs": [],
   "source": [
    "from src.html_output import build_html_output\n",
    "from IPython.display import display, HTML\n",
    "\n",
    "html = build_html_output(\n",
    "    geohash_taxa_counts_dataframe,\n",
    "    geohash_cluster_dataframe,\n",
    "    cluster_colors,\n",
    "    all_stats,\n",
    ")\n",
    "\n",
    "display(HTML(html))\n"
   ]
  },
  {
   "cell_type": "code",
   "execution_count": null,
   "id": "33f2c697",
   "metadata": {},
   "outputs": [],
   "source": [
    "from sklearn.manifold import TSNE\n",
    "\n",
    "tsne = TSNE(\n",
    "    n_components=2,\n",
    "    random_state=42,\n",
    "    metric=\"precomputed\",\n",
    "    init=\"random\",\n",
    ")\n",
    "X_tsne = tsne.fit_transform(distance_matrix.squareform())\n",
    "tsne.kl_divergence_\n"
   ]
  },
  {
   "cell_type": "code",
   "execution_count": null,
   "id": "9168849f",
   "metadata": {},
   "outputs": [],
   "source": [
    "import seaborn as sns\n",
    "\n",
    "sns.scatterplot(\n",
    "    x=X_tsne[:, 0],\n",
    "    y=X_tsne[:, 1],\n",
    "    hue=geohash_cluster_dataframe.df[\"cluster\"],\n",
    "    palette=cluster_colors.to_dict(),\n",
    "    alpha=1,\n",
    ")"
   ]
  },
  {
   "cell_type": "code",
   "execution_count": null,
   "id": "09b13aeb",
   "metadata": {},
   "outputs": [],
   "source": [
    "import polars as pl\n",
    "\n",
    "notable_species = set()\n",
    "\n",
    "for (cluster, geohashes) in geohash_cluster_dataframe.iter_clusters_and_geohashes():\n",
    "    # stats = Stats.build(\n",
    "    #     geohash_taxa_counts_dataframe,\n",
    "    #     geohash_filter=geohashes,\n",
    "    # )\n",
    "    for kingdom, species, count in (\n",
    "        stats.df.sort(by=\"count\", descending=True)\n",
    "        .limit(10)\n",
    "        .select([\"kingdom\", \"species\", \"count\"])\n",
    "        .collect()\n",
    "        .iter_rows(named=False)\n",
    "    ):\n",
    "        average = (\n",
    "            stats.df.filter(\n",
    "                pl.col(\"kingdom\") == kingdom, pl.col(\"species\") == species\n",
    "            )\n",
    "            .collect()\n",
    "            .get_column(\"average\")\n",
    "            .item()\n",
    "        )\n",
    "        all_average = (\n",
    "            all_stats.taxon.filter(\n",
    "                pl.col(\"kingdom\") == kingdom, pl.col(\"species\") == species\n",
    "            )\n",
    "            .collect()\n",
    "            .get_column(\"average\")\n",
    "            .item()\n",
    "        )\n",
    "\n",
    "        # If the difference between the average of the cluster and the average of all is greater than 50%, then it is notable\n",
    "        percent_diff = (average / all_average * 100) - 100\n",
    "        if abs(percent_diff) > 50:\n",
    "            notable_species.add(species)\n",
    "\n",
    "notable_species"
   ]
  },
  {
   "cell_type": "code",
   "execution_count": 22,
   "id": "54d78320",
   "metadata": {},
   "outputs": [],
   "source": [
    "import seaborn as sns\n",
    "import matplotlib.pyplot as plt\n",
    "import polars as pl\n",
    "from scipy.cluster.hierarchy import linkage\n",
    "\n",
    "linkage_array = linkage(distance_matrix.condensed(), \"ward\")\n",
    "\n",
    "ordered_geohashes = geohash_taxa_counts_dataframe.ordered_geohashes()\n",
    "\n",
    "def min_max_normalize(series: pl.Series) -> pl.Series:\n",
    "    return (series - series.min()) / (series.max() - series.min())\n",
    "\n",
    "col_colors = []\n",
    "for geohash in ordered_geohashes:\n",
    "    cluster = geohash_cluster_dataframe.cluster_for_geohash(geohash)\n",
    "    col_colors.append(cluster_colors.get_color_for_cluster(cluster))\n",
    "\n",
    "data = {}\n",
    "for species in sorted(notable_species):\n",
    "    counts = []\n",
    "\n",
    "    for geohash in ordered_geohashes:\n",
    "        geohash_counts_species = geohash_taxa_counts_dataframe.df.filter(\n",
    "            pl.col(\"geohash\") == geohash, pl.col(\"name\") == species\n",
    "        ).get_column(\"count\").sum()\n",
    "        geohash_counts_all = geohash_taxa_counts_dataframe.df.filter(\n",
    "            pl.col(\"geohash\") == geohash\n",
    "        ).get_column(\"count\").sum()\n",
    "        geohash_average = geohash_counts_species / geohash_counts_all\n",
    "        all_average = (\n",
    "            all_stats.taxon.filter(\n",
    "                # TODO: Add kingdom in filter\n",
    "                pl.col(\"species\") == species\n",
    "            )\n",
    "            .collect()\n",
    "            .get_column(\"average\")\n",
    "            .item()\n",
    "        )\n",
    "        counts.append(geohash_average - all_average)\n",
    "    counts = pl.Series(\n",
    "        values=counts,\n",
    "        name=species,\n",
    "    )\n",
    "    # counts = counts / counts.max()\n",
    "    # counts = counts.pow(1 / 3)\n",
    "    data[species] = min_max_normalize(counts)\n"
   ]
  },
  {
   "cell_type": "code",
   "execution_count": null,
   "id": "92925ee1",
   "metadata": {},
   "outputs": [],
   "source": [
    "data"
   ]
  },
  {
   "cell_type": "code",
   "execution_count": null,
   "id": "1f706269",
   "metadata": {},
   "outputs": [],
   "source": [
    "dataframe = pl.DataFrame(data=data)\n",
    "sns.clustermap(\n",
    "    data=dataframe,\n",
    "    col_cluster=False,\n",
    "    row_cluster=True,\n",
    "    row_linkage=linkage_array,\n",
    "    row_colors=col_colors,\n",
    "    xticklabels=dataframe.columns,\n",
    "    yticklabels=False,\n",
    ")"
   ]
  }
 ],
 "metadata": {
  "kernelspec": {
   "display_name": ".venv",
   "language": "python",
   "name": "python3"
  },
  "language_info": {
   "codemirror_mode": {
    "name": "ipython",
    "version": 3
   },
   "file_extension": ".py",
   "mimetype": "text/x-python",
   "name": "python",
   "nbconvert_exporter": "python",
   "pygments_lexer": "ipython3",
   "version": "3.13.1"
  }
 },
 "nbformat": 4,
 "nbformat_minor": 5
}

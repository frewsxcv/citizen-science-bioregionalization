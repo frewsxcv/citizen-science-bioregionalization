{
 "cells": [
  {
   "cell_type": "code",
   "execution_count": 1,
   "id": "d3220cf1",
   "metadata": {},
   "outputs": [],
   "source": [
    "import numpy as np\n",
    "from src.darwin_core_aggregations import DarwinCoreAggregations\n",
    "from src.geojson import build_geojson_feature_collection\n",
    "import numpy as np\n",
    "from contexttimer import Timer\n",
    "from scipy.cluster.hierarchy import linkage, fcluster, dendrogram\n",
    "from scipy.spatial.distance import pdist\n",
    "from src.cluster_color_builder import ClusterColorBuilder\n",
    "from src.cluster_stats import Stats\n",
    "from src.darwin_core_aggregations import DarwinCoreAggregations\n",
    "from src.render import plot_clusters\n",
    "from src.cluster import ClusterId\n",
    "import matplotlib.pyplot as plt\n",
    "from src.geojson import build_geojson_feature_collection\n",
    "import os\n",
    "import logging\n",
    "from sklearn.preprocessing import StandardScaler\n",
    "from run import cluster, build_X\n",
    "from src import cluster_index\n"
   ]
  },
  {
   "cell_type": "code",
   "execution_count": 2,
   "id": "5bd4a825",
   "metadata": {},
   "outputs": [],
   "source": [
    "# Inputs\n",
    "input_file = \"data-new-york-city.txt\"\n",
    "geohash_precision = 4\n",
    "show_dendrogram = True\n",
    "log_file = \"log.txt\"\n",
    "output_file = \"output.geojson\"\n",
    "num_clusters = 2\n",
    "use_cache = False\n",
    "plot = True"
   ]
  },
  {
   "cell_type": "code",
   "execution_count": 3,
   "id": "44ea301b",
   "metadata": {},
   "outputs": [],
   "source": [
    "# set up logging\n",
    "logging.basicConfig(filename=log_file, encoding=\"utf-8\", level=logging.INFO)\n"
   ]
  },
  {
   "cell_type": "code",
   "execution_count": 4,
   "id": "193e313e",
   "metadata": {},
   "outputs": [],
   "source": [
    "darwin_core_aggregations = DarwinCoreAggregations.build(\n",
    "    input_file, geohash_precision\n",
    ")"
   ]
  },
  {
   "cell_type": "code",
   "execution_count": 5,
   "id": "c6bdfbbd",
   "metadata": {},
   "outputs": [
    {
     "data": {
      "text/html": [
       "<div><style>\n",
       ".dataframe > thead > tr,\n",
       ".dataframe > tbody > tr {\n",
       "  text-align: right;\n",
       "  white-space: pre-wrap;\n",
       "}\n",
       "</style>\n",
       "<small>shape: (43_493, 5)</small><table border=\"1\" class=\"dataframe\"><thead><tr><th>geohash</th><th>kingdom</th><th>rank</th><th>name</th><th>count</th></tr><tr><td>str</td><td>enum</td><td>enum</td><td>str</td><td>u32</td></tr></thead><tbody><tr><td>&quot;dr5n&quot;</td><td>&quot;Animalia&quot;</td><td>&quot;species&quot;</td><td>&quot;Scopula limboundata&quot;</td><td>9</td></tr><tr><td>&quot;dr5n&quot;</td><td>&quot;Fungi&quot;</td><td>&quot;genus&quot;</td><td>&quot;Auricularia&quot;</td><td>1</td></tr><tr><td>&quot;dr5n&quot;</td><td>&quot;Fungi&quot;</td><td>&quot;species&quot;</td><td>&quot;Stereum ostrea&quot;</td><td>5</td></tr><tr><td>&quot;dr5n&quot;</td><td>&quot;Fungi&quot;</td><td>&quot;species&quot;</td><td>&quot;Omphalotus illudens&quot;</td><td>1</td></tr><tr><td>&quot;dr5n&quot;</td><td>&quot;Plantae&quot;</td><td>&quot;genus&quot;</td><td>&quot;Eupatorium&quot;</td><td>42</td></tr><tr><td>&hellip;</td><td>&hellip;</td><td>&hellip;</td><td>&hellip;</td><td>&hellip;</td></tr><tr><td>&quot;dr78&quot;</td><td>&quot;Plantae&quot;</td><td>&quot;genus&quot;</td><td>&quot;Pellaea&quot;</td><td>6</td></tr><tr><td>&quot;dr78&quot;</td><td>&quot;Animalia&quot;</td><td>&quot;genus&quot;</td><td>&quot;Anser&quot;</td><td>2</td></tr><tr><td>&quot;dr78&quot;</td><td>&quot;Fungi&quot;</td><td>&quot;genus&quot;</td><td>&quot;Lacrymaria&quot;</td><td>1</td></tr><tr><td>&quot;dr78&quot;</td><td>&quot;Animalia&quot;</td><td>&quot;species&quot;</td><td>&quot;Megaceryle alcyon&quot;</td><td>3</td></tr><tr><td>&quot;dr78&quot;</td><td>&quot;Plantae&quot;</td><td>&quot;family&quot;</td><td>&quot;Dennstaedtiaceae&quot;</td><td>1</td></tr></tbody></table></div>"
      ],
      "text/plain": [
       "shape: (43_493, 5)\n",
       "┌─────────┬──────────┬─────────┬─────────────────────┬───────┐\n",
       "│ geohash ┆ kingdom  ┆ rank    ┆ name                ┆ count │\n",
       "│ ---     ┆ ---      ┆ ---     ┆ ---                 ┆ ---   │\n",
       "│ str     ┆ enum     ┆ enum    ┆ str                 ┆ u32   │\n",
       "╞═════════╪══════════╪═════════╪═════════════════════╪═══════╡\n",
       "│ dr5n    ┆ Animalia ┆ species ┆ Scopula limboundata ┆ 9     │\n",
       "│ dr5n    ┆ Fungi    ┆ genus   ┆ Auricularia         ┆ 1     │\n",
       "│ dr5n    ┆ Fungi    ┆ species ┆ Stereum ostrea      ┆ 5     │\n",
       "│ dr5n    ┆ Fungi    ┆ species ┆ Omphalotus illudens ┆ 1     │\n",
       "│ dr5n    ┆ Plantae  ┆ genus   ┆ Eupatorium          ┆ 42    │\n",
       "│ …       ┆ …        ┆ …       ┆ …                   ┆ …     │\n",
       "│ dr78    ┆ Plantae  ┆ genus   ┆ Pellaea             ┆ 6     │\n",
       "│ dr78    ┆ Animalia ┆ genus   ┆ Anser               ┆ 2     │\n",
       "│ dr78    ┆ Fungi    ┆ genus   ┆ Lacrymaria          ┆ 1     │\n",
       "│ dr78    ┆ Animalia ┆ species ┆ Megaceryle alcyon   ┆ 3     │\n",
       "│ dr78    ┆ Plantae  ┆ family  ┆ Dennstaedtiaceae    ┆ 1     │\n",
       "└─────────┴──────────┴─────────┴─────────────────────┴───────┘"
      ]
     },
     "execution_count": 5,
     "metadata": {},
     "output_type": "execute_result"
    }
   ],
   "source": [
    "darwin_core_aggregations.unfiltered_taxon_counts"
   ]
  },
  {
   "cell_type": "code",
   "execution_count": 6,
   "id": "16f54a9c",
   "metadata": {},
   "outputs": [
    {
     "data": {
      "text/html": [
       "<div><style>\n",
       ".dataframe > thead > tr,\n",
       ".dataframe > tbody > tr {\n",
       "  text-align: right;\n",
       "  white-space: pre-wrap;\n",
       "}\n",
       "</style>\n",
       "<small>shape: (21_656, 4)</small><table border=\"1\" class=\"dataframe\"><thead><tr><th>geohash</th><th>kingdom</th><th>species</th><th>count</th></tr><tr><td>str</td><td>enum</td><td>str</td><td>u32</td></tr></thead><tbody><tr><td>&quot;dr5n&quot;</td><td>&quot;Animalia&quot;</td><td>&quot;Scopula limboundata&quot;</td><td>9</td></tr><tr><td>&quot;dr5n&quot;</td><td>&quot;Fungi&quot;</td><td>&quot;Stereum ostrea&quot;</td><td>5</td></tr><tr><td>&quot;dr5n&quot;</td><td>&quot;Fungi&quot;</td><td>&quot;Omphalotus illudens&quot;</td><td>1</td></tr><tr><td>&quot;dr5n&quot;</td><td>&quot;Fungi&quot;</td><td>&quot;Pleurotus ostreatus&quot;</td><td>5</td></tr><tr><td>&quot;dr5n&quot;</td><td>&quot;Animalia&quot;</td><td>&quot;Protoboarmia porcelaria&quot;</td><td>4</td></tr><tr><td>&hellip;</td><td>&hellip;</td><td>&hellip;</td><td>&hellip;</td></tr><tr><td>&quot;dr78&quot;</td><td>&quot;Plantae&quot;</td><td>&quot;Amaranthus cruentus&quot;</td><td>1</td></tr><tr><td>&quot;dr78&quot;</td><td>&quot;Animalia&quot;</td><td>&quot;Orchelimum fidicinium&quot;</td><td>1</td></tr><tr><td>&quot;dr78&quot;</td><td>&quot;Plantae&quot;</td><td>&quot;Viburnum opulus&quot;</td><td>1</td></tr><tr><td>&quot;dr78&quot;</td><td>&quot;Fungi&quot;</td><td>&quot;Pluteus heteromarginatus&quot;</td><td>1</td></tr><tr><td>&quot;dr78&quot;</td><td>&quot;Animalia&quot;</td><td>&quot;Megaceryle alcyon&quot;</td><td>3</td></tr></tbody></table></div>"
      ],
      "text/plain": [
       "shape: (21_656, 4)\n",
       "┌─────────┬──────────┬──────────────────────────┬───────┐\n",
       "│ geohash ┆ kingdom  ┆ species                  ┆ count │\n",
       "│ ---     ┆ ---      ┆ ---                      ┆ ---   │\n",
       "│ str     ┆ enum     ┆ str                      ┆ u32   │\n",
       "╞═════════╪══════════╪══════════════════════════╪═══════╡\n",
       "│ dr5n    ┆ Animalia ┆ Scopula limboundata      ┆ 9     │\n",
       "│ dr5n    ┆ Fungi    ┆ Stereum ostrea           ┆ 5     │\n",
       "│ dr5n    ┆ Fungi    ┆ Omphalotus illudens      ┆ 1     │\n",
       "│ dr5n    ┆ Fungi    ┆ Pleurotus ostreatus      ┆ 5     │\n",
       "│ dr5n    ┆ Animalia ┆ Protoboarmia porcelaria  ┆ 4     │\n",
       "│ …       ┆ …        ┆ …                        ┆ …     │\n",
       "│ dr78    ┆ Plantae  ┆ Amaranthus cruentus      ┆ 1     │\n",
       "│ dr78    ┆ Animalia ┆ Orchelimum fidicinium    ┆ 1     │\n",
       "│ dr78    ┆ Plantae  ┆ Viburnum opulus          ┆ 1     │\n",
       "│ dr78    ┆ Fungi    ┆ Pluteus heteromarginatus ┆ 1     │\n",
       "│ dr78    ┆ Animalia ┆ Megaceryle alcyon        ┆ 3     │\n",
       "└─────────┴──────────┴──────────────────────────┴───────┘"
      ]
     },
     "execution_count": 6,
     "metadata": {},
     "output_type": "execute_result"
    }
   ],
   "source": [
    "darwin_core_aggregations.taxon_counts"
   ]
  },
  {
   "cell_type": "code",
   "execution_count": 7,
   "id": "eaedbc3d",
   "metadata": {},
   "outputs": [
    {
     "name": "stderr",
     "output_type": "stream",
     "text": [
      "/Users/coreyf/dev/frewsxcv/citizen-science-ecoregions-experiments/.venv/lib/python3.13/site-packages/sklearn/decomposition/_incremental_pca.py:376: RuntimeWarning: Mean of empty slice.\n",
      "  self.noise_variance_ = explained_variance[self.n_components_ :].mean()\n",
      "/Users/coreyf/dev/frewsxcv/citizen-science-ecoregions-experiments/.venv/lib/python3.13/site-packages/numpy/_core/_methods.py:147: RuntimeWarning: invalid value encountered in scalar divide\n",
      "  ret = ret.dtype.type(ret / rcount)\n"
     ]
    },
    {
     "data": {
      "image/png": "[encoded data removed]",
      "text/plain": [
       "<Figure size 640x480 with 1 Axes>"
      ]
     },
     "metadata": {},
     "output_type": "display_data"
    }
   ],
   "source": [
    "\n",
    "clusters = cluster(\n",
    "    darwin_core_aggregations,\n",
    "    num_clusters,\n",
    "    show_dendrogram,\n",
    "    use_cache,\n",
    ")"
   ]
  },
  {
   "cell_type": "code",
   "execution_count": 8,
   "id": "9fde6339",
   "metadata": {},
   "outputs": [],
   "source": [
    "# Find the top averages of taxon\n",
    "all_stats = Stats.build(darwin_core_aggregations)\n",
    "\n",
    "feature_collection = build_geojson_feature_collection(\n",
    "    (\n",
    "        cluster,\n",
    "        geohashes,\n",
    "        cluster_index.determine_color_for_cluster(\n",
    "            clusters, cluster, darwin_core_aggregations\n",
    "        ),\n",
    "    )\n",
    "    for cluster, geohashes in cluster_index.iter_clusters_and_geohashes(clusters)\n",
    ")\n",
    "\n",
    "# print_results(darwin_core_aggregations, all_stats, cluster_dataframe)\n",
    "\n",
    "plot_clusters(feature_collection, num_clusters=num_clusters)\n",
    "\n",
    "# write_geojson(feature_collection, args.output_file)"
   ]
  },
  {
   "cell_type": "code",
   "execution_count": null,
   "id": "618d244e",
   "metadata": {},
   "outputs": [],
   "source": [
    "from run import print_cluster_stats\n",
    "cluster_id = 1\n",
    "geohashes = cluster_index.geohashes_for_cluster(clusters, cluster_id)\n",
    "print_cluster_stats(cluster_id, geohashes, darwin_core_aggregations, all_stats)\n"
   ]
  },
  {
   "cell_type": "code",
   "execution_count": null,
   "id": "b12c5d90",
   "metadata": {},
   "outputs": [],
   "source": [
    "\n",
    "stats_for_clusters = {\n",
    "    cluster: Stats.build(\n",
    "        darwin_core_aggregations,\n",
    "        geohash_filter=geohashes,\n",
    "    )\n",
    "    for cluster, geohashes in cluster_index.iter_clusters_and_geohashes(clusters)\n",
    "}\n",
    "stats_for_clusters\n"
   ]
  },
  {
   "cell_type": "code",
   "execution_count": null,
   "id": "4b63a8e4",
   "metadata": {},
   "outputs": [],
   "source": [
    "[\n",
    "    {\n",
    "        \"cluster\": cluster,\n",
    "        \"waterfowl\": stats.waterfowl_count(),\n",
    "        \"aves\": stats.aves_count(),\n",
    "        \"ratio\": stats.waterfowl_count() / stats.aves_count(),\n",
    "    }\n",
    "    for cluster, stats in stats_for_clusters.items()\n",
    "]\n",
    "\n"
   ]
  }
 ],
 "metadata": {
  "kernelspec": {
   "display_name": ".venv",
   "language": "python",
   "name": "python3"
  },
  "language_info": {
   "codemirror_mode": {
    "name": "ipython",
    "version": 3
   },
   "file_extension": ".py",
   "mimetype": "text/x-python",
   "name": "python",
   "nbconvert_exporter": "python",
   "pygments_lexer": "ipython3",
   "version": "3.13.0"
  }
 },
 "nbformat": 4,
 "nbformat_minor": 5
}

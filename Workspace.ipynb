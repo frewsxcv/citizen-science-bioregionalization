{
 "cells": [
  {
   "cell_type": "markdown",
   "id": "f06de749",
   "metadata": {},
   "source": [
    "# Dynamic ecoregions"
   ]
  },
  {
   "cell_type": "markdown",
   "id": "dd126c3a",
   "metadata": {},
   "source": [
    "## Define inputs"
   ]
  },
  {
   "cell_type": "code",
   "execution_count": 1,
   "id": "99519ac0",
   "metadata": {},
   "outputs": [],
   "source": [
    "# Inputs\n",
    "input_file = \"data/data-continental-united-states.csv\"\n",
    "geocode_precision = 4\n",
    "log_file = \"run.log\"\n",
    "output_file = \"output.geojson\"\n",
    "num_clusters = 30"
   ]
  },
  {
   "cell_type": "markdown",
   "id": "7bbc4cef",
   "metadata": {},
   "source": [
    "## Set up logging"
   ]
  },
  {
   "cell_type": "code",
   "execution_count": 2,
   "id": "44ea301b",
   "metadata": {},
   "outputs": [],
   "source": [
    "import logging\n",
    "\n",
    "logging.basicConfig(filename=log_file, encoding=\"utf-8\", level=logging.INFO)"
   ]
  },
  {
   "cell_type": "markdown",
   "id": "27b9d760",
   "metadata": {},
   "source": [
    "## Data flow"
   ]
  },
  {
   "cell_type": "code",
   "execution_count": 3,
   "id": "551cabe9",
   "metadata": {},
   "outputs": [
    {
     "data": {
      "text/html": [
       "<svg id=\"mermaid-svg\" width=\"100%\" xmlns=\"http://www.w3.org/2000/svg\" class=\"flowchart\" style=\"max-width: 1081.734375px;\" viewBox=\"0 0 1081.734375 590\" role=\"graphics-document document\" aria-roledescription=\"flowchart-v2\" xmlns:xlink=\"http://www.w3.org/1999/xlink\"><style xmlns=\"http://www.w3.org/1999/xhtml\">@import url(\"https://cdnjs.cloudflare.com/ajax/libs/font-awesome/6.7.1/css/all.min.css\");</style><style>#mermaid-svg{font-family:\"trebuchet ms\",verdana,arial,sans-serif;font-size:16px;fill:#333;}#mermaid-svg .error-icon{fill:#552222;}#mermaid-svg .error-text{fill:#552222;stroke:#552222;}#mermaid-svg .edge-thickness-normal{stroke-width:1px;}#mermaid-svg .edge-thickness-thick{stroke-width:3.5px;}#mermaid-svg .edge-pattern-solid{stroke-dasharray:0;}#mermaid-svg .edge-thickness-invisible{stroke-width:0;fill:none;}#mermaid-svg .edge-pattern-dashed{stroke-dasharray:3;}#mermaid-svg .edge-pattern-dotted{stroke-dasharray:2;}#mermaid-svg .marker{fill:#333333;stroke:#333333;}#mermaid-svg .marker.cross{stroke:#333333;}#mermaid-svg svg{font-family:\"trebuchet ms\",verdana,arial,sans-serif;font-size:16px;}#mermaid-svg p{margin:0;}#mermaid-svg .label{font-family:\"trebuchet ms\",verdana,arial,sans-serif;color:#333;}#mermaid-svg .cluster-label text{fill:#333;}#mermaid-svg .cluster-label span{color:#333;}#mermaid-svg .cluster-label span p{background-color:transparent;}#mermaid-svg .label text,#mermaid-svg span{fill:#333;color:#333;}#mermaid-svg .node rect,#mermaid-svg .node circle,#mermaid-svg .node ellipse,#mermaid-svg .node polygon,#mermaid-svg .node path{fill:#ECECFF;stroke:#9370DB;stroke-width:1px;}#mermaid-svg .rough-node .label text,#mermaid-svg .node .label text,#mermaid-svg .image-shape .label,#mermaid-svg .icon-shape .label{text-anchor:middle;}#mermaid-svg .node .katex path{fill:#000;stroke:#000;stroke-width:1px;}#mermaid-svg .rough-node .label,#mermaid-svg .node .label,#mermaid-svg .image-shape .label,#mermaid-svg .icon-shape .label{text-align:center;}#mermaid-svg .node.clickable{cursor:pointer;}#mermaid-svg .root .anchor path{fill:#333333!important;stroke-width:0;stroke:#333333;}#mermaid-svg .arrowheadPath{fill:#333333;}#mermaid-svg .edgePath .path{stroke:#333333;stroke-width:2.0px;}#mermaid-svg .flowchart-link{stroke:#333333;fill:none;}#mermaid-svg .edgeLabel{background-color:rgba(232,232,232, 0.8);text-align:center;}#mermaid-svg .edgeLabel p{background-color:rgba(232,232,232, 0.8);}#mermaid-svg .edgeLabel rect{opacity:0.5;background-color:rgba(232,232,232, 0.8);fill:rgba(232,232,232, 0.8);}#mermaid-svg .labelBkg{background-color:rgba(232, 232, 232, 0.5);}#mermaid-svg .cluster rect{fill:#ffffde;stroke:#aaaa33;stroke-width:1px;}#mermaid-svg .cluster text{fill:#333;}#mermaid-svg .cluster span{color:#333;}#mermaid-svg div.mermaidTooltip{position:absolute;text-align:center;max-width:200px;padding:2px;font-family:\"trebuchet ms\",verdana,arial,sans-serif;font-size:12px;background:hsl(80, 100%, 96.2745098039%);border:1px solid #aaaa33;border-radius:2px;pointer-events:none;z-index:100;}#mermaid-svg .flowchartTitleText{text-anchor:middle;font-size:18px;fill:#333;}#mermaid-svg rect.text{fill:none;stroke-width:0;}#mermaid-svg .icon-shape,#mermaid-svg .image-shape{background-color:rgba(232,232,232, 0.8);text-align:center;}#mermaid-svg .icon-shape p,#mermaid-svg .image-shape p{background-color:rgba(232,232,232, 0.8);padding:2px;}#mermaid-svg .icon-shape rect,#mermaid-svg .image-shape rect{opacity:0.5;background-color:rgba(232,232,232, 0.8);fill:rgba(232,232,232, 0.8);}#mermaid-svg :root{--mermaid-font-family:\"trebuchet ms\",verdana,arial,sans-serif;}</style><g><marker id=\"mermaid-svg_flowchart-v2-pointEnd\" class=\"marker flowchart-v2\" viewBox=\"0 0 10 10\" refX=\"5\" refY=\"5\" markerUnits=\"userSpaceOnUse\" markerWidth=\"8\" markerHeight=\"8\" orient=\"auto\"><path d=\"M 0 0 L 10 5 L 0 10 z\" class=\"arrowMarkerPath\" style=\"stroke-width: 1; stroke-dasharray: 1, 0;\"/></marker><marker id=\"mermaid-svg_flowchart-v2-pointStart\" class=\"marker flowchart-v2\" viewBox=\"0 0 10 10\" refX=\"4.5\" refY=\"5\" markerUnits=\"userSpaceOnUse\" markerWidth=\"8\" markerHeight=\"8\" orient=\"auto\"><path d=\"M 0 5 L 10 10 L 10 0 z\" class=\"arrowMarkerPath\" style=\"stroke-width: 1; stroke-dasharray: 1, 0;\"/></marker><marker id=\"mermaid-svg_flowchart-v2-circleEnd\" class=\"marker flowchart-v2\" viewBox=\"0 0 10 10\" refX=\"11\" refY=\"5\" markerUnits=\"userSpaceOnUse\" markerWidth=\"11\" markerHeight=\"11\" orient=\"auto\"><circle cx=\"5\" cy=\"5\" r=\"5\" class=\"arrowMarkerPath\" style=\"stroke-width: 1; stroke-dasharray: 1, 0;\"/></marker><marker id=\"mermaid-svg_flowchart-v2-circleStart\" class=\"marker flowchart-v2\" viewBox=\"0 0 10 10\" refX=\"-1\" refY=\"5\" markerUnits=\"userSpaceOnUse\" markerWidth=\"11\" markerHeight=\"11\" orient=\"auto\"><circle cx=\"5\" cy=\"5\" r=\"5\" class=\"arrowMarkerPath\" style=\"stroke-width: 1; stroke-dasharray: 1, 0;\"/></marker><marker id=\"mermaid-svg_flowchart-v2-crossEnd\" class=\"marker cross flowchart-v2\" viewBox=\"0 0 11 11\" refX=\"12\" refY=\"5.2\" markerUnits=\"userSpaceOnUse\" markerWidth=\"11\" markerHeight=\"11\" orient=\"auto\"><path d=\"M 1,1 l 9,9 M 10,1 l -9,9\" class=\"arrowMarkerPath\" style=\"stroke-width: 2; stroke-dasharray: 1, 0;\"/></marker><marker id=\"mermaid-svg_flowchart-v2-crossStart\" class=\"marker cross flowchart-v2\" viewBox=\"0 0 11 11\" refX=\"-1\" refY=\"5.2\" markerUnits=\"userSpaceOnUse\" markerWidth=\"11\" markerHeight=\"11\" orient=\"auto\"><path d=\"M 1,1 l 9,9 M 10,1 l -9,9\" class=\"arrowMarkerPath\" style=\"stroke-width: 2; stroke-dasharray: 1, 0;\"/></marker><g class=\"root\"><g class=\"clusters\"/><g class=\"edgePaths\"><path d=\"M360.464,166L342.356,170.167C324.247,174.333,288.03,182.667,269.921,195.5C251.813,208.333,251.813,225.667,251.813,243C251.813,260.333,251.813,277.667,251.813,295C251.813,312.333,251.813,329.667,251.813,347C251.813,364.333,251.813,381.667,250.44,393.878C249.067,406.09,246.322,413.18,244.95,416.725L243.577,420.27\" id=\"L_GeocodeTaxaCountsDataFrame_ClusterTaxaStatisticsDataFrame_0\" class=\" edge-thickness-normal edge-pattern-solid edge-thickness-normal edge-pattern-solid flowchart-link\" style=\"\" marker-end=\"url(#mermaid-svg_flowchart-v2-pointEnd)\"/><path d=\"M688.328,367.152L655.261,372.46C622.194,377.768,556.06,388.384,502.954,397.727C449.847,407.07,409.769,415.14,389.73,419.175L369.69,423.21\" id=\"L_GeocodeClusterDataFrame_ClusterTaxaStatisticsDataFrame_1\" class=\" edge-thickness-normal edge-pattern-solid edge-thickness-normal edge-pattern-solid flowchart-link\" style=\"\" marker-end=\"url(#mermaid-svg_flowchart-v2-pointEnd)\"/><path d=\"M112.406,374L112.406,378.167C112.406,382.333,112.406,390.667,121.352,398.734C130.298,406.8,148.19,414.601,157.137,418.501L166.083,422.401\" id=\"L_TaxonomyDataFrame_ClusterTaxaStatisticsDataFrame_2\" class=\" edge-thickness-normal edge-pattern-solid edge-thickness-normal edge-pattern-solid flowchart-link\" style=\"\" marker-end=\"url(#mermaid-svg_flowchart-v2-pointEnd)\"/><path d=\"M875.819,166L870.516,170.167C865.213,174.333,854.606,182.667,849.303,195.5C844,208.333,844,225.667,844,243C844,260.333,844,277.667,841.92,289.923C839.84,302.18,835.679,309.359,833.599,312.949L831.519,316.539\" id=\"L_GeocodeDataFrame_GeocodeClusterDataFrame_3\" class=\" edge-thickness-normal edge-pattern-solid edge-thickness-normal edge-pattern-solid flowchart-link\" style=\"\" marker-end=\"url(#mermaid-svg_flowchart-v2-pointEnd)\"/><path d=\"M708.039,270L708.039,274.167C708.039,278.333,708.039,286.667,715.921,294.706C723.802,302.745,739.565,310.491,747.446,314.363L755.328,318.236\" id=\"L_DistanceMatrix_GeocodeClusterDataFrame_4\" class=\" edge-thickness-normal edge-pattern-solid edge-thickness-normal edge-pattern-solid flowchart-link\" style=\"\" marker-end=\"url(#mermaid-svg_flowchart-v2-pointEnd)\"/><path d=\"M976.367,270L976.367,274.167C976.367,278.333,976.367,286.667,963.981,294.797C951.595,302.927,926.824,310.854,914.438,314.817L902.052,318.781\" id=\"L_ConnectivityMatrix_GeocodeClusterDataFrame_5\" class=\" edge-thickness-normal edge-pattern-solid edge-thickness-normal edge-pattern-solid flowchart-link\" style=\"\" marker-end=\"url(#mermaid-svg_flowchart-v2-pointEnd)\"/><path d=\"M376.113,51.432L332.162,57.36C288.211,63.288,200.309,75.144,156.357,89.739C112.406,104.333,112.406,121.667,112.406,139C112.406,156.333,112.406,173.667,112.406,191C112.406,208.333,112.406,225.667,112.406,243C112.406,260.333,112.406,277.667,112.406,289.833C112.406,302,112.406,309,112.406,312.5L112.406,316\" id=\"L_DarwinCoreCsvLazyFrame_TaxonomyDataFrame_6\" class=\" edge-thickness-normal edge-pattern-solid edge-thickness-normal edge-pattern-solid flowchart-link\" style=\"\" marker-end=\"url(#mermaid-svg_flowchart-v2-pointEnd)\"/><path d=\"M513.932,166L519.506,170.167C525.081,174.333,536.23,182.667,554.123,190.82C572.015,198.974,596.652,206.948,608.97,210.935L621.288,214.922\" id=\"L_GeocodeTaxaCountsDataFrame_DistanceMatrix_7\" class=\" edge-thickness-normal edge-pattern-solid edge-thickness-normal edge-pattern-solid flowchart-link\" style=\"\" marker-end=\"url(#mermaid-svg_flowchart-v2-pointEnd)\"/><path d=\"M910.184,166L910.184,170.167C910.184,174.333,910.184,182.667,890.963,191.778C871.742,200.889,833.3,210.778,814.079,215.722L794.858,220.666\" id=\"L_GeocodeDataFrame_DistanceMatrix_8\" class=\" edge-thickness-normal edge-pattern-solid edge-thickness-normal edge-pattern-solid flowchart-link\" style=\"\" marker-end=\"url(#mermaid-svg_flowchart-v2-pointEnd)\"/><path d=\"M231.68,478L231.68,482.167C231.68,486.333,231.68,494.667,231.68,502.333C231.68,510,231.68,517,231.68,520.5L231.68,524\" id=\"L_ClusterTaxaStatisticsDataFrame_ClusterSignificantDifferencesDataFrame_9\" class=\" edge-thickness-normal edge-pattern-solid edge-thickness-normal edge-pattern-solid flowchart-link\" style=\"\" marker-end=\"url(#mermaid-svg_flowchart-v2-pointEnd)\"/><path d=\"M487.488,62L485.875,66.167C484.261,70.333,481.035,78.667,479.422,86.333C477.809,94,477.809,101,477.809,104.5L477.809,108\" id=\"L_DarwinCoreCsvLazyFrame_GeocodeTaxaCountsDataFrame_10\" class=\" edge-thickness-normal edge-pattern-solid edge-thickness-normal edge-pattern-solid flowchart-link\" style=\"\" marker-end=\"url(#mermaid-svg_flowchart-v2-pointEnd)\"/><path d=\"M524.316,166L531.493,170.167C538.67,174.333,553.025,182.667,549.893,190.763C546.762,198.858,526.144,206.717,515.836,210.646L505.527,214.575\" id=\"L_GeocodeTaxaCountsDataFrame_TaxaGeographicMeanDataFrame_11\" class=\" edge-thickness-normal edge-pattern-solid edge-thickness-normal edge-pattern-solid flowchart-link\" style=\"\" marker-end=\"url(#mermaid-svg_flowchart-v2-pointEnd)\"/><path d=\"M819.059,374L819.861,378.167C820.662,382.333,822.265,390.667,823.066,398.333C823.867,406,823.867,413,823.867,416.5L823.867,420\" id=\"L_GeocodeClusterDataFrame_ClusterColorDataFrame_12\" class=\" edge-thickness-normal edge-pattern-solid edge-thickness-normal edge-pattern-solid flowchart-link\" style=\"\" marker-end=\"url(#mermaid-svg_flowchart-v2-pointEnd)\"/><path d=\"M944.548,166L949.851,170.167C955.154,174.333,965.761,182.667,971.064,190.333C976.367,198,976.367,205,976.367,208.5L976.367,212\" id=\"L_GeocodeDataFrame_ConnectivityMatrix_13\" class=\" edge-thickness-normal edge-pattern-solid edge-thickness-normal edge-pattern-solid flowchart-link\" style=\"\" marker-end=\"url(#mermaid-svg_flowchart-v2-pointEnd)\"/><path d=\"M619.77,50.367L668.172,56.473C716.574,62.578,813.379,74.789,861.781,84.395C910.184,94,910.184,101,910.184,104.5L910.184,108\" id=\"L_DarwinCoreCsvLazyFrame_GeocodeDataFrame_14\" class=\" edge-thickness-normal edge-pattern-solid edge-thickness-normal edge-pattern-solid flowchart-link\" style=\"\" marker-end=\"url(#mermaid-svg_flowchart-v2-pointEnd)\"/></g><g class=\"edgeLabels\"><g class=\"edgeLabel\"><g class=\"label\" transform=\"translate(0, 0)\"><foreignObject width=\"0\" height=\"0\"><div xmlns=\"http://www.w3.org/1999/xhtml\" class=\"labelBkg\" style=\"display: table-cell; white-space: nowrap; line-height: 1.5; max-width: 200px; text-align: center;\"><span class=\"edgeLabel \"></span></div></foreignObject></g></g><g class=\"edgeLabel\"><g class=\"label\" transform=\"translate(0, 0)\"><foreignObject width=\"0\" height=\"0\"><div xmlns=\"http://www.w3.org/1999/xhtml\" class=\"labelBkg\" style=\"display: table-cell; white-space: nowrap; line-height: 1.5; max-width: 200px; text-align: center;\"><span class=\"edgeLabel \"></span></div></foreignObject></g></g><g class=\"edgeLabel\"><g class=\"label\" transform=\"translate(0, 0)\"><foreignObject width=\"0\" height=\"0\"><div xmlns=\"http://www.w3.org/1999/xhtml\" class=\"labelBkg\" style=\"display: table-cell; white-space: nowrap; line-height: 1.5; max-width: 200px; text-align: center;\"><span class=\"edgeLabel \"></span></div></foreignObject></g></g><g class=\"edgeLabel\"><g class=\"label\" transform=\"translate(0, 0)\"><foreignObject width=\"0\" height=\"0\"><div xmlns=\"http://www.w3.org/1999/xhtml\" class=\"labelBkg\" style=\"display: table-cell; white-space: nowrap; line-height: 1.5; max-width: 200px; text-align: center;\"><span class=\"edgeLabel \"></span></div></foreignObject></g></g><g class=\"edgeLabel\"><g class=\"label\" transform=\"translate(0, 0)\"><foreignObject width=\"0\" height=\"0\"><div xmlns=\"http://www.w3.org/1999/xhtml\" class=\"labelBkg\" style=\"display: table-cell; white-space: nowrap; line-height: 1.5; max-width: 200px; text-align: center;\"><span class=\"edgeLabel \"></span></div></foreignObject></g></g><g class=\"edgeLabel\"><g class=\"label\" transform=\"translate(0, 0)\"><foreignObject width=\"0\" height=\"0\"><div xmlns=\"http://www.w3.org/1999/xhtml\" class=\"labelBkg\" style=\"display: table-cell; white-space: nowrap; line-height: 1.5; max-width: 200px; text-align: center;\"><span class=\"edgeLabel \"></span></div></foreignObject></g></g><g class=\"edgeLabel\"><g class=\"label\" transform=\"translate(0, 0)\"><foreignObject width=\"0\" height=\"0\"><div xmlns=\"http://www.w3.org/1999/xhtml\" class=\"labelBkg\" style=\"display: table-cell; white-space: nowrap; line-height: 1.5; max-width: 200px; text-align: center;\"><span class=\"edgeLabel \"></span></div></foreignObject></g></g><g class=\"edgeLabel\"><g class=\"label\" transform=\"translate(0, 0)\"><foreignObject width=\"0\" height=\"0\"><div xmlns=\"http://www.w3.org/1999/xhtml\" class=\"labelBkg\" style=\"display: table-cell; white-space: nowrap; line-height: 1.5; max-width: 200px; text-align: center;\"><span class=\"edgeLabel \"></span></div></foreignObject></g></g><g class=\"edgeLabel\"><g class=\"label\" transform=\"translate(0, 0)\"><foreignObject width=\"0\" height=\"0\"><div xmlns=\"http://www.w3.org/1999/xhtml\" class=\"labelBkg\" style=\"display: table-cell; white-space: nowrap; line-height: 1.5; max-width: 200px; text-align: center;\"><span class=\"edgeLabel \"></span></div></foreignObject></g></g><g class=\"edgeLabel\"><g class=\"label\" transform=\"translate(0, 0)\"><foreignObject width=\"0\" height=\"0\"><div xmlns=\"http://www.w3.org/1999/xhtml\" class=\"labelBkg\" style=\"display: table-cell; white-space: nowrap; line-height: 1.5; max-width: 200px; text-align: center;\"><span class=\"edgeLabel \"></span></div></foreignObject></g></g><g class=\"edgeLabel\"><g class=\"label\" transform=\"translate(0, 0)\"><foreignObject width=\"0\" height=\"0\"><div xmlns=\"http://www.w3.org/1999/xhtml\" class=\"labelBkg\" style=\"display: table-cell; white-space: nowrap; line-height: 1.5; max-width: 200px; text-align: center;\"><span class=\"edgeLabel \"></span></div></foreignObject></g></g><g class=\"edgeLabel\"><g class=\"label\" transform=\"translate(0, 0)\"><foreignObject width=\"0\" height=\"0\"><div xmlns=\"http://www.w3.org/1999/xhtml\" class=\"labelBkg\" style=\"display: table-cell; white-space: nowrap; line-height: 1.5; max-width: 200px; text-align: center;\"><span class=\"edgeLabel \"></span></div></foreignObject></g></g><g class=\"edgeLabel\"><g class=\"label\" transform=\"translate(0, 0)\"><foreignObject width=\"0\" height=\"0\"><div xmlns=\"http://www.w3.org/1999/xhtml\" class=\"labelBkg\" style=\"display: table-cell; white-space: nowrap; line-height: 1.5; max-width: 200px; text-align: center;\"><span class=\"edgeLabel \"></span></div></foreignObject></g></g><g class=\"edgeLabel\"><g class=\"label\" transform=\"translate(0, 0)\"><foreignObject width=\"0\" height=\"0\"><div xmlns=\"http://www.w3.org/1999/xhtml\" class=\"labelBkg\" style=\"display: table-cell; white-space: nowrap; line-height: 1.5; max-width: 200px; text-align: center;\"><span class=\"edgeLabel \"></span></div></foreignObject></g></g><g class=\"edgeLabel\"><g class=\"label\" transform=\"translate(0, 0)\"><foreignObject width=\"0\" height=\"0\"><div xmlns=\"http://www.w3.org/1999/xhtml\" class=\"labelBkg\" style=\"display: table-cell; white-space: nowrap; line-height: 1.5; max-width: 200px; text-align: center;\"><span class=\"edgeLabel \"></span></div></foreignObject></g></g></g><g class=\"nodes\"><g class=\"node default  \" id=\"flowchart-GeocodeTaxaCountsDataFrame-0\" transform=\"translate(477.80859375, 139)\"><rect class=\"basic label-container\" style=\"\" x=\"-140.4375\" y=\"-27\" width=\"280.875\" height=\"54\"/><g class=\"label\" style=\"\" transform=\"translate(-110.4375, -12)\"><rect/><foreignObject width=\"220.875\" height=\"24\"><div xmlns=\"http://www.w3.org/1999/xhtml\" style=\"display: table; white-space: break-spaces; line-height: 1.5; max-width: 200px; text-align: center; width: 200px;\"><span class=\"nodeLabel \"><p>GeocodeTaxaCountsDataFrame</p></span></div></foreignObject></g></g><g class=\"node default  \" id=\"flowchart-ClusterTaxaStatisticsDataFrame-1\" transform=\"translate(231.6796875, 451)\"><rect class=\"basic label-container\" style=\"\" x=\"-143.03125\" y=\"-27\" width=\"286.0625\" height=\"54\"/><g class=\"label\" style=\"\" transform=\"translate(-113.03125, -12)\"><rect/><foreignObject width=\"226.0625\" height=\"24\"><div xmlns=\"http://www.w3.org/1999/xhtml\" style=\"display: table; white-space: break-spaces; line-height: 1.5; max-width: 200px; text-align: center; width: 200px;\"><span class=\"nodeLabel \"><p>ClusterTaxaStatisticsDataFrame</p></span></div></foreignObject></g></g><g class=\"node default  \" id=\"flowchart-GeocodeClusterDataFrame-2\" transform=\"translate(813.8671875, 347)\"><rect class=\"basic label-container\" style=\"\" x=\"-125.5390625\" y=\"-27\" width=\"251.078125\" height=\"54\"/><g class=\"label\" style=\"\" transform=\"translate(-95.5390625, -12)\"><rect/><foreignObject width=\"191.078125\" height=\"24\"><div xmlns=\"http://www.w3.org/1999/xhtml\" style=\"display: table-cell; white-space: nowrap; line-height: 1.5; max-width: 200px; text-align: center;\"><span class=\"nodeLabel \"><p>GeocodeClusterDataFrame</p></span></div></foreignObject></g></g><g class=\"node default  \" id=\"flowchart-TaxonomyDataFrame-4\" transform=\"translate(112.40625, 347)\"><rect class=\"basic label-container\" style=\"\" x=\"-104.40625\" y=\"-27\" width=\"208.8125\" height=\"54\"/><g class=\"label\" style=\"\" transform=\"translate(-74.40625, -12)\"><rect/><foreignObject width=\"148.8125\" height=\"24\"><div xmlns=\"http://www.w3.org/1999/xhtml\" style=\"display: table-cell; white-space: nowrap; line-height: 1.5; max-width: 200px; text-align: center;\"><span class=\"nodeLabel \"><p>TaxonomyDataFrame</p></span></div></foreignObject></g></g><g class=\"node default  \" id=\"flowchart-GeocodeDataFrame-6\" transform=\"translate(910.18359375, 139)\"><rect class=\"basic label-container\" style=\"\" x=\"-100.140625\" y=\"-27\" width=\"200.28125\" height=\"54\"/><g class=\"label\" style=\"\" transform=\"translate(-70.140625, -12)\"><rect/><foreignObject width=\"140.28125\" height=\"24\"><div xmlns=\"http://www.w3.org/1999/xhtml\" style=\"display: table-cell; white-space: nowrap; line-height: 1.5; max-width: 200px; text-align: center;\"><span class=\"nodeLabel \"><p>GeocodeDataFrame</p></span></div></foreignObject></g></g><g class=\"node default  \" id=\"flowchart-DistanceMatrix-8\" transform=\"translate(708.0390625, 243)\"><rect class=\"basic label-container\" style=\"\" x=\"-82.9453125\" y=\"-27\" width=\"165.890625\" height=\"54\"/><g class=\"label\" style=\"\" transform=\"translate(-52.9453125, -12)\"><rect/><foreignObject width=\"105.890625\" height=\"24\"><div xmlns=\"http://www.w3.org/1999/xhtml\" style=\"display: table-cell; white-space: nowrap; line-height: 1.5; max-width: 200px; text-align: center;\"><span class=\"nodeLabel \"><p>DistanceMatrix</p></span></div></foreignObject></g></g><g class=\"node default  \" id=\"flowchart-ConnectivityMatrix-10\" transform=\"translate(976.3671875, 243)\"><rect class=\"basic label-container\" style=\"\" x=\"-97.3671875\" y=\"-27\" width=\"194.734375\" height=\"54\"/><g class=\"label\" style=\"\" transform=\"translate(-67.3671875, -12)\"><rect/><foreignObject width=\"134.734375\" height=\"24\"><div xmlns=\"http://www.w3.org/1999/xhtml\" style=\"display: table-cell; white-space: nowrap; line-height: 1.5; max-width: 200px; text-align: center;\"><span class=\"nodeLabel \"><p>ConnectivityMatrix</p></span></div></foreignObject></g></g><g class=\"node default  \" id=\"flowchart-DarwinCoreCsvLazyFrame-12\" transform=\"translate(497.94140625, 35)\"><rect class=\"basic label-container\" style=\"\" x=\"-121.828125\" y=\"-27\" width=\"243.65625\" height=\"54\"/><g class=\"label\" style=\"\" transform=\"translate(-91.828125, -12)\"><rect/><foreignObject width=\"183.65625\" height=\"24\"><div xmlns=\"http://www.w3.org/1999/xhtml\" style=\"display: table-cell; white-space: nowrap; line-height: 1.5; max-width: 200px; text-align: center;\"><span class=\"nodeLabel \"><p>DarwinCoreCsvLazyFrame</p></span></div></foreignObject></g></g><g class=\"node default  \" id=\"flowchart-ClusterSignificantDifferencesDataFrame-19\" transform=\"translate(231.6796875, 555)\"><rect class=\"basic label-container\" style=\"\" x=\"-173.015625\" y=\"-27\" width=\"346.03125\" height=\"54\"/><g class=\"label\" style=\"\" transform=\"translate(-143.015625, -12)\"><rect/><foreignObject width=\"286.03125\" height=\"24\"><div xmlns=\"http://www.w3.org/1999/xhtml\" style=\"display: table; white-space: break-spaces; line-height: 1.5; max-width: 200px; text-align: center; width: 200px;\"><span class=\"nodeLabel \"><p>ClusterSignificantDifferencesDataFrame</p></span></div></foreignObject></g></g><g class=\"node default  \" id=\"flowchart-TaxaGeographicMeanDataFrame-23\" transform=\"translate(430.953125, 243)\"><rect class=\"basic label-container\" style=\"\" x=\"-144.140625\" y=\"-27\" width=\"288.28125\" height=\"54\"/><g class=\"label\" style=\"\" transform=\"translate(-114.140625, -12)\"><rect/><foreignObject width=\"228.28125\" height=\"24\"><div xmlns=\"http://www.w3.org/1999/xhtml\" style=\"display: table; white-space: break-spaces; line-height: 1.5; max-width: 200px; text-align: center; width: 200px;\"><span class=\"nodeLabel \"><p>TaxaGeographicMeanDataFrame</p></span></div></foreignObject></g></g><g class=\"node default  \" id=\"flowchart-ClusterColorDataFrame-25\" transform=\"translate(823.8671875, 451)\"><rect class=\"basic label-container\" style=\"\" x=\"-113.2421875\" y=\"-27\" width=\"226.484375\" height=\"54\"/><g class=\"label\" style=\"\" transform=\"translate(-83.2421875, -12)\"><rect/><foreignObject width=\"166.484375\" height=\"24\"><div xmlns=\"http://www.w3.org/1999/xhtml\" style=\"display: table-cell; white-space: nowrap; line-height: 1.5; max-width: 200px; text-align: center;\"><span class=\"nodeLabel \"><p>ClusterColorDataFrame</p></span></div></foreignObject></g></g></g></g></g></svg>"
      ],
      "text/plain": [
       "<mermaid.__main__.Mermaid at 0x154eb42f0>"
      ]
     },
     "execution_count": 3,
     "metadata": {},
     "output_type": "execute_result"
    }
   ],
   "source": [
    "from src.mermaid import build_mermaid_graph\n",
    "\n",
    "build_mermaid_graph()"
   ]
  },
  {
   "cell_type": "markdown",
   "id": "116c8d33",
   "metadata": {},
   "source": [
    "## `DarwinCoreCsvLazyFrame`"
   ]
  },
  {
   "cell_type": "markdown",
   "id": "5978dfa6",
   "metadata": {},
   "source": [
    "### Build"
   ]
  },
  {
   "cell_type": "code",
   "execution_count": 4,
   "id": "ef114a5c",
   "metadata": {},
   "outputs": [],
   "source": [
    "from src.lazyframes.darwin_core_csv import DarwinCoreCsvLazyFrame\n",
    "\n",
    "darwin_core_csv_lazy_frame = DarwinCoreCsvLazyFrame.build(input_file)"
   ]
  },
  {
   "cell_type": "markdown",
   "id": "a8aecc3d",
   "metadata": {},
   "source": [
    "### Preview"
   ]
  },
  {
   "cell_type": "code",
   "execution_count": 5,
   "id": "301909c5",
   "metadata": {},
   "outputs": [
    {
     "data": {
      "text/html": [
       "<div><style>\n",
       ".dataframe > thead > tr,\n",
       ".dataframe > tbody > tr {\n",
       "  text-align: right;\n",
       "  white-space: pre-wrap;\n",
       "}\n",
       "</style>\n",
       "<small>shape: (3, 50)</small><table border=\"1\" class=\"dataframe\"><thead><tr><th>gbifID</th><th>datasetKey</th><th>occurrenceID</th><th>kingdom</th><th>phylum</th><th>class</th><th>order</th><th>family</th><th>genus</th><th>species</th><th>infraspecificEpithet</th><th>taxonRank</th><th>scientificName</th><th>verbatimScientificName</th><th>verbatimScientificNameAuthorship</th><th>countryCode</th><th>locality</th><th>stateProvince</th><th>occurrenceStatus</th><th>individualCount</th><th>publishingOrgKey</th><th>decimalLatitude</th><th>decimalLongitude</th><th>coordinateUncertaintyInMeters</th><th>coordinatePrecision</th><th>elevation</th><th>elevationAccuracy</th><th>depth</th><th>depthAccuracy</th><th>eventDate</th><th>day</th><th>month</th><th>year</th><th>taxonKey</th><th>speciesKey</th><th>basisOfRecord</th><th>institutionCode</th><th>collectionCode</th><th>catalogNumber</th><th>recordNumber</th><th>identifiedBy</th><th>dateIdentified</th><th>license</th><th>rightsHolder</th><th>recordedBy</th><th>typeStatus</th><th>establishmentMeans</th><th>lastInterpreted</th><th>mediaType</th><th>issue</th></tr><tr><td>str</td><td>str</td><td>str</td><td>enum</td><td>str</td><td>str</td><td>str</td><td>str</td><td>str</td><td>str</td><td>str</td><td>str</td><td>str</td><td>str</td><td>str</td><td>str</td><td>str</td><td>str</td><td>str</td><td>str</td><td>str</td><td>f64</td><td>f64</td><td>str</td><td>str</td><td>str</td><td>str</td><td>str</td><td>str</td><td>str</td><td>str</td><td>str</td><td>str</td><td>u64</td><td>str</td><td>str</td><td>str</td><td>str</td><td>str</td><td>str</td><td>str</td><td>str</td><td>str</td><td>str</td><td>str</td><td>str</td><td>str</td><td>str</td><td>str</td><td>str</td></tr></thead><tbody><tr><td>&quot;4424226317&quot;</td><td>&quot;50c9509d-22c7-4a22-a47d-8c4842…</td><td>&quot;https://www.inaturalist.org/ob…</td><td>&quot;Animalia&quot;</td><td>&quot;Arthropoda&quot;</td><td>&quot;Insecta&quot;</td><td>&quot;Odonata&quot;</td><td>&quot;Libellulidae&quot;</td><td>&quot;Sympetrum&quot;</td><td>null</td><td>null</td><td>&quot;GENUS&quot;</td><td>&quot;Sympetrum Newman, 1833&quot;</td><td>&quot;Sympetrum&quot;</td><td>null</td><td>&quot;US&quot;</td><td>null</td><td>&quot;New York&quot;</td><td>&quot;PRESENT&quot;</td><td>null</td><td>&quot;28eb1a3f-1c15-4a95-931a-4af90e…</td><td>42.96266</td><td>-76.740947</td><td>&quot;2191.0&quot;</td><td>null</td><td>null</td><td>null</td><td>null</td><td>null</td><td>&quot;2019-09-06T10:30&quot;</td><td>&quot;6&quot;</td><td>&quot;9&quot;</td><td>&quot;2019&quot;</td><td>1428195</td><td>null</td><td>&quot;HUMAN_OBSERVATION&quot;</td><td>&quot;iNaturalist&quot;</td><td>&quot;Observations&quot;</td><td>&quot;32505913&quot;</td><td>null</td><td>&quot;Amy Guala&quot;</td><td>&quot;2019-09-11T01:33:07&quot;</td><td>&quot;CC_BY_NC_4_0&quot;</td><td>&quot;Amy Guala&quot;</td><td>&quot;Amy Guala&quot;</td><td>null</td><td>null</td><td>&quot;2024-12-03T00:52:33.467Z&quot;</td><td>&quot;StillImage&quot;</td><td>&quot;COORDINATE_ROUNDED;CONTINENT_D…</td></tr><tr><td>&quot;2423028148&quot;</td><td>&quot;50c9509d-22c7-4a22-a47d-8c4842…</td><td>&quot;https://www.inaturalist.org/ob…</td><td>&quot;Animalia&quot;</td><td>&quot;Arthropoda&quot;</td><td>&quot;Insecta&quot;</td><td>&quot;Lepidoptera&quot;</td><td>&quot;Geometridae&quot;</td><td>&quot;Nematocampa&quot;</td><td>&quot;Nematocampa resistaria&quot;</td><td>null</td><td>&quot;SPECIES&quot;</td><td>&quot;Nematocampa resistaria (Herric…</td><td>&quot;Nematocampa resistaria&quot;</td><td>null</td><td>&quot;US&quot;</td><td>null</td><td>&quot;Vermont&quot;</td><td>&quot;PRESENT&quot;</td><td>null</td><td>&quot;28eb1a3f-1c15-4a95-931a-4af90e…</td><td>43.822608</td><td>-72.641412</td><td>&quot;5.0&quot;</td><td>null</td><td>null</td><td>null</td><td>null</td><td>null</td><td>&quot;2019-09-11T22:08:52&quot;</td><td>&quot;11&quot;</td><td>&quot;9&quot;</td><td>&quot;2019&quot;</td><td>1991012</td><td>&quot;1991012&quot;</td><td>&quot;HUMAN_OBSERVATION&quot;</td><td>&quot;iNaturalist&quot;</td><td>&quot;Observations&quot;</td><td>&quot;32566956&quot;</td><td>null</td><td>&quot;bugguytad&quot;</td><td>&quot;2019-09-12T02:25:38&quot;</td><td>&quot;CC_BY_NC_4_0&quot;</td><td>&quot;bugguytad&quot;</td><td>&quot;bugguytad&quot;</td><td>null</td><td>null</td><td>&quot;2024-12-03T01:38:46.617Z&quot;</td><td>&quot;StillImage;StillImage;StillIma…</td><td>&quot;COORDINATE_ROUNDED;CONTINENT_D…</td></tr><tr><td>&quot;2423041120&quot;</td><td>&quot;50c9509d-22c7-4a22-a47d-8c4842…</td><td>&quot;https://www.inaturalist.org/ob…</td><td>&quot;Animalia&quot;</td><td>&quot;Arthropoda&quot;</td><td>&quot;Insecta&quot;</td><td>&quot;Odonata&quot;</td><td>&quot;Coenagrionidae&quot;</td><td>&quot;Argia&quot;</td><td>&quot;Argia moesta&quot;</td><td>null</td><td>&quot;SPECIES&quot;</td><td>&quot;Argia moesta (Hagen, 1861)&quot;</td><td>&quot;Argia moesta&quot;</td><td>null</td><td>&quot;US&quot;</td><td>null</td><td>&quot;Texas&quot;</td><td>&quot;PRESENT&quot;</td><td>null</td><td>&quot;28eb1a3f-1c15-4a95-931a-4af90e…</td><td>30.99463</td><td>-103.662658</td><td>null</td><td>null</td><td>null</td><td>null</td><td>null</td><td>null</td><td>&quot;2019-09-08T09:01&quot;</td><td>&quot;8&quot;</td><td>&quot;9&quot;</td><td>&quot;2019&quot;</td><td>5051399</td><td>&quot;5051399&quot;</td><td>&quot;HUMAN_OBSERVATION&quot;</td><td>&quot;iNaturalist&quot;</td><td>&quot;Observations&quot;</td><td>&quot;32612673&quot;</td><td>null</td><td>&quot;Todd Fitzgerald&quot;</td><td>&quot;2019-09-12T22:11:30&quot;</td><td>&quot;CC_BY_NC_4_0&quot;</td><td>&quot;Todd Fitzgerald&quot;</td><td>&quot;Todd Fitzgerald&quot;</td><td>null</td><td>null</td><td>&quot;2024-12-03T01:38:10.816Z&quot;</td><td>&quot;StillImage&quot;</td><td>&quot;COORDINATE_ROUNDED;CONTINENT_D…</td></tr></tbody></table></div>"
      ],
      "text/plain": [
       "shape: (3, 50)\n",
       "┌───────────┬───────────┬───────────┬──────────┬───┬───────────┬───────────┬───────────┬───────────┐\n",
       "│ gbifID    ┆ datasetKe ┆ occurrenc ┆ kingdom  ┆ … ┆ establish ┆ lastInter ┆ mediaType ┆ issue     │\n",
       "│ ---       ┆ y         ┆ eID       ┆ ---      ┆   ┆ mentMeans ┆ preted    ┆ ---       ┆ ---       │\n",
       "│ str       ┆ ---       ┆ ---       ┆ enum     ┆   ┆ ---       ┆ ---       ┆ str       ┆ str       │\n",
       "│           ┆ str       ┆ str       ┆          ┆   ┆ str       ┆ str       ┆           ┆           │\n",
       "╞═══════════╪═══════════╪═══════════╪══════════╪═══╪═══════════╪═══════════╪═══════════╪═══════════╡\n",
       "│ 442422631 ┆ 50c9509d- ┆ https://w ┆ Animalia ┆ … ┆ null      ┆ 2024-12-0 ┆ StillImag ┆ COORDINAT │\n",
       "│ 7         ┆ 22c7-4a22 ┆ ww.inatur ┆          ┆   ┆           ┆ 3T00:52:3 ┆ e         ┆ E_ROUNDED │\n",
       "│           ┆ -a47d-8c4 ┆ alist.org ┆          ┆   ┆           ┆ 3.467Z    ┆           ┆ ;CONTINEN │\n",
       "│           ┆ 842…      ┆ /ob…      ┆          ┆   ┆           ┆           ┆           ┆ T_D…      │\n",
       "│ 242302814 ┆ 50c9509d- ┆ https://w ┆ Animalia ┆ … ┆ null      ┆ 2024-12-0 ┆ StillImag ┆ COORDINAT │\n",
       "│ 8         ┆ 22c7-4a22 ┆ ww.inatur ┆          ┆   ┆           ┆ 3T01:38:4 ┆ e;StillIm ┆ E_ROUNDED │\n",
       "│           ┆ -a47d-8c4 ┆ alist.org ┆          ┆   ┆           ┆ 6.617Z    ┆ age;Still ┆ ;CONTINEN │\n",
       "│           ┆ 842…      ┆ /ob…      ┆          ┆   ┆           ┆           ┆ Ima…      ┆ T_D…      │\n",
       "│ 242304112 ┆ 50c9509d- ┆ https://w ┆ Animalia ┆ … ┆ null      ┆ 2024-12-0 ┆ StillImag ┆ COORDINAT │\n",
       "│ 0         ┆ 22c7-4a22 ┆ ww.inatur ┆          ┆   ┆           ┆ 3T01:38:1 ┆ e         ┆ E_ROUNDED │\n",
       "│           ┆ -a47d-8c4 ┆ alist.org ┆          ┆   ┆           ┆ 0.816Z    ┆           ┆ ;CONTINEN │\n",
       "│           ┆ 842…      ┆ /ob…      ┆          ┆   ┆           ┆           ┆           ┆ T_D…      │\n",
       "└───────────┴───────────┴───────────┴──────────┴───┴───────────┴───────────┴───────────┴───────────┘"
      ]
     },
     "execution_count": 5,
     "metadata": {},
     "output_type": "execute_result"
    }
   ],
   "source": [
    "darwin_core_csv_lazy_frame.lf.limit(3).collect()"
   ]
  },
  {
   "cell_type": "code",
   "execution_count": 6,
   "id": "5118e183",
   "metadata": {},
   "outputs": [
    {
     "data": {
      "text/html": [
       "<div><style>\n",
       ".dataframe > thead > tr,\n",
       ".dataframe > tbody > tr {\n",
       "  text-align: right;\n",
       "  white-space: pre-wrap;\n",
       "}\n",
       "</style>\n",
       "<small>shape: (3, 51)</small><table border=\"1\" class=\"dataframe\"><thead><tr><th>gbifID</th><th>datasetKey</th><th>occurrenceID</th><th>kingdom</th><th>phylum</th><th>class</th><th>order</th><th>family</th><th>genus</th><th>species</th><th>infraspecificEpithet</th><th>taxonRank</th><th>scientificName</th><th>verbatimScientificName</th><th>verbatimScientificNameAuthorship</th><th>countryCode</th><th>locality</th><th>stateProvince</th><th>occurrenceStatus</th><th>individualCount</th><th>publishingOrgKey</th><th>decimalLatitude</th><th>decimalLongitude</th><th>coordinateUncertaintyInMeters</th><th>coordinatePrecision</th><th>elevation</th><th>elevationAccuracy</th><th>depth</th><th>depthAccuracy</th><th>eventDate</th><th>day</th><th>month</th><th>year</th><th>taxonKey</th><th>speciesKey</th><th>basisOfRecord</th><th>institutionCode</th><th>collectionCode</th><th>catalogNumber</th><th>recordNumber</th><th>identifiedBy</th><th>dateIdentified</th><th>license</th><th>rightsHolder</th><th>recordedBy</th><th>typeStatus</th><th>establishmentMeans</th><th>lastInterpreted</th><th>mediaType</th><th>issue</th><th>h3_cell</th></tr><tr><td>str</td><td>str</td><td>str</td><td>enum</td><td>str</td><td>str</td><td>str</td><td>str</td><td>str</td><td>str</td><td>str</td><td>str</td><td>str</td><td>str</td><td>str</td><td>str</td><td>str</td><td>str</td><td>str</td><td>str</td><td>str</td><td>f64</td><td>f64</td><td>str</td><td>str</td><td>str</td><td>str</td><td>str</td><td>str</td><td>str</td><td>str</td><td>str</td><td>str</td><td>u64</td><td>str</td><td>str</td><td>str</td><td>str</td><td>str</td><td>str</td><td>str</td><td>str</td><td>str</td><td>str</td><td>str</td><td>str</td><td>str</td><td>str</td><td>str</td><td>str</td><td>str</td></tr></thead><tbody><tr><td>&quot;4424226317&quot;</td><td>&quot;50c9509d-22c7-4a22-a47d-8c4842…</td><td>&quot;https://www.inaturalist.org/ob…</td><td>&quot;Animalia&quot;</td><td>&quot;Arthropoda&quot;</td><td>&quot;Insecta&quot;</td><td>&quot;Odonata&quot;</td><td>&quot;Libellulidae&quot;</td><td>&quot;Sympetrum&quot;</td><td>null</td><td>null</td><td>&quot;GENUS&quot;</td><td>&quot;Sympetrum Newman, 1833&quot;</td><td>&quot;Sympetrum&quot;</td><td>null</td><td>&quot;US&quot;</td><td>null</td><td>&quot;New York&quot;</td><td>&quot;PRESENT&quot;</td><td>null</td><td>&quot;28eb1a3f-1c15-4a95-931a-4af90e…</td><td>42.96266</td><td>-76.740947</td><td>&quot;2191.0&quot;</td><td>null</td><td>null</td><td>null</td><td>null</td><td>null</td><td>&quot;2019-09-06T10:30&quot;</td><td>&quot;6&quot;</td><td>&quot;9&quot;</td><td>&quot;2019&quot;</td><td>1428195</td><td>null</td><td>&quot;HUMAN_OBSERVATION&quot;</td><td>&quot;iNaturalist&quot;</td><td>&quot;Observations&quot;</td><td>&quot;32505913&quot;</td><td>null</td><td>&quot;Amy Guala&quot;</td><td>&quot;2019-09-11T01:33:07&quot;</td><td>&quot;CC_BY_NC_4_0&quot;</td><td>&quot;Amy Guala&quot;</td><td>&quot;Amy Guala&quot;</td><td>null</td><td>null</td><td>&quot;2024-12-03T00:52:33.467Z&quot;</td><td>&quot;StillImage&quot;</td><td>&quot;COORDINATE_ROUNDED;CONTINENT_D…</td><td>&quot;842aa49ffffffff&quot;</td></tr><tr><td>&quot;2423028148&quot;</td><td>&quot;50c9509d-22c7-4a22-a47d-8c4842…</td><td>&quot;https://www.inaturalist.org/ob…</td><td>&quot;Animalia&quot;</td><td>&quot;Arthropoda&quot;</td><td>&quot;Insecta&quot;</td><td>&quot;Lepidoptera&quot;</td><td>&quot;Geometridae&quot;</td><td>&quot;Nematocampa&quot;</td><td>&quot;Nematocampa resistaria&quot;</td><td>null</td><td>&quot;SPECIES&quot;</td><td>&quot;Nematocampa resistaria (Herric…</td><td>&quot;Nematocampa resistaria&quot;</td><td>null</td><td>&quot;US&quot;</td><td>null</td><td>&quot;Vermont&quot;</td><td>&quot;PRESENT&quot;</td><td>null</td><td>&quot;28eb1a3f-1c15-4a95-931a-4af90e…</td><td>43.822608</td><td>-72.641412</td><td>&quot;5.0&quot;</td><td>null</td><td>null</td><td>null</td><td>null</td><td>null</td><td>&quot;2019-09-11T22:08:52&quot;</td><td>&quot;11&quot;</td><td>&quot;9&quot;</td><td>&quot;2019&quot;</td><td>1991012</td><td>&quot;1991012&quot;</td><td>&quot;HUMAN_OBSERVATION&quot;</td><td>&quot;iNaturalist&quot;</td><td>&quot;Observations&quot;</td><td>&quot;32566956&quot;</td><td>null</td><td>&quot;bugguytad&quot;</td><td>&quot;2019-09-12T02:25:38&quot;</td><td>&quot;CC_BY_NC_4_0&quot;</td><td>&quot;bugguytad&quot;</td><td>&quot;bugguytad&quot;</td><td>null</td><td>null</td><td>&quot;2024-12-03T01:38:46.617Z&quot;</td><td>&quot;StillImage;StillImage;StillIma…</td><td>&quot;COORDINATE_ROUNDED;CONTINENT_D…</td><td>&quot;842b8d9ffffffff&quot;</td></tr><tr><td>&quot;2423041120&quot;</td><td>&quot;50c9509d-22c7-4a22-a47d-8c4842…</td><td>&quot;https://www.inaturalist.org/ob…</td><td>&quot;Animalia&quot;</td><td>&quot;Arthropoda&quot;</td><td>&quot;Insecta&quot;</td><td>&quot;Odonata&quot;</td><td>&quot;Coenagrionidae&quot;</td><td>&quot;Argia&quot;</td><td>&quot;Argia moesta&quot;</td><td>null</td><td>&quot;SPECIES&quot;</td><td>&quot;Argia moesta (Hagen, 1861)&quot;</td><td>&quot;Argia moesta&quot;</td><td>null</td><td>&quot;US&quot;</td><td>null</td><td>&quot;Texas&quot;</td><td>&quot;PRESENT&quot;</td><td>null</td><td>&quot;28eb1a3f-1c15-4a95-931a-4af90e…</td><td>30.99463</td><td>-103.662658</td><td>null</td><td>null</td><td>null</td><td>null</td><td>null</td><td>null</td><td>&quot;2019-09-08T09:01&quot;</td><td>&quot;8&quot;</td><td>&quot;9&quot;</td><td>&quot;2019&quot;</td><td>5051399</td><td>&quot;5051399&quot;</td><td>&quot;HUMAN_OBSERVATION&quot;</td><td>&quot;iNaturalist&quot;</td><td>&quot;Observations&quot;</td><td>&quot;32612673&quot;</td><td>null</td><td>&quot;Todd Fitzgerald&quot;</td><td>&quot;2019-09-12T22:11:30&quot;</td><td>&quot;CC_BY_NC_4_0&quot;</td><td>&quot;Todd Fitzgerald&quot;</td><td>&quot;Todd Fitzgerald&quot;</td><td>null</td><td>null</td><td>&quot;2024-12-03T01:38:10.816Z&quot;</td><td>&quot;StillImage&quot;</td><td>&quot;COORDINATE_ROUNDED;CONTINENT_D…</td><td>&quot;844889bffffffff&quot;</td></tr></tbody></table></div>"
      ],
      "text/plain": [
       "shape: (3, 51)\n",
       "┌───────────┬───────────┬───────────┬──────────┬───┬───────────┬───────────┬───────────┬───────────┐\n",
       "│ gbifID    ┆ datasetKe ┆ occurrenc ┆ kingdom  ┆ … ┆ lastInter ┆ mediaType ┆ issue     ┆ h3_cell   │\n",
       "│ ---       ┆ y         ┆ eID       ┆ ---      ┆   ┆ preted    ┆ ---       ┆ ---       ┆ ---       │\n",
       "│ str       ┆ ---       ┆ ---       ┆ enum     ┆   ┆ ---       ┆ str       ┆ str       ┆ str       │\n",
       "│           ┆ str       ┆ str       ┆          ┆   ┆ str       ┆           ┆           ┆           │\n",
       "╞═══════════╪═══════════╪═══════════╪══════════╪═══╪═══════════╪═══════════╪═══════════╪═══════════╡\n",
       "│ 442422631 ┆ 50c9509d- ┆ https://w ┆ Animalia ┆ … ┆ 2024-12-0 ┆ StillImag ┆ COORDINAT ┆ 842aa49ff │\n",
       "│ 7         ┆ 22c7-4a22 ┆ ww.inatur ┆          ┆   ┆ 3T00:52:3 ┆ e         ┆ E_ROUNDED ┆ ffffff    │\n",
       "│           ┆ -a47d-8c4 ┆ alist.org ┆          ┆   ┆ 3.467Z    ┆           ┆ ;CONTINEN ┆           │\n",
       "│           ┆ 842…      ┆ /ob…      ┆          ┆   ┆           ┆           ┆ T_D…      ┆           │\n",
       "│ 242302814 ┆ 50c9509d- ┆ https://w ┆ Animalia ┆ … ┆ 2024-12-0 ┆ StillImag ┆ COORDINAT ┆ 842b8d9ff │\n",
       "│ 8         ┆ 22c7-4a22 ┆ ww.inatur ┆          ┆   ┆ 3T01:38:4 ┆ e;StillIm ┆ E_ROUNDED ┆ ffffff    │\n",
       "│           ┆ -a47d-8c4 ┆ alist.org ┆          ┆   ┆ 6.617Z    ┆ age;Still ┆ ;CONTINEN ┆           │\n",
       "│           ┆ 842…      ┆ /ob…      ┆          ┆   ┆           ┆ Ima…      ┆ T_D…      ┆           │\n",
       "│ 242304112 ┆ 50c9509d- ┆ https://w ┆ Animalia ┆ … ┆ 2024-12-0 ┆ StillImag ┆ COORDINAT ┆ 844889bff │\n",
       "│ 0         ┆ 22c7-4a22 ┆ ww.inatur ┆          ┆   ┆ 3T01:38:1 ┆ e         ┆ E_ROUNDED ┆ ffffff    │\n",
       "│           ┆ -a47d-8c4 ┆ alist.org ┆          ┆   ┆ 0.816Z    ┆           ┆ ;CONTINEN ┆           │\n",
       "│           ┆ 842…      ┆ /ob…      ┆          ┆   ┆           ┆           ┆ T_D…      ┆           │\n",
       "└───────────┴───────────┴───────────┴──────────┴───┴───────────┴───────────┴───────────┴───────────┘"
      ]
     },
     "execution_count": 6,
     "metadata": {},
     "output_type": "execute_result"
    }
   ],
   "source": [
    "import polars_h3 as plh3\n",
    "import polars as pl\n",
    "\n",
    "(\n",
    "    darwin_core_csv_lazy_frame\n",
    "        .lf\n",
    "        .limit(3)\n",
    "        .with_columns(\n",
    "            plh3.latlng_to_cell(\n",
    "                \"decimalLatitude\",\n",
    "                \"decimalLongitude\",\n",
    "                resolution=4,\n",
    "                return_dtype=pl.Utf8\n",
    "            ).alias(\"h3_cell\"),\n",
    "        )\n",
    "        .collect()\n",
    ")"
   ]
  },
  {
   "cell_type": "markdown",
   "metadata": {},
   "source": [
    "## `GeohashDataFrame`"
   ]
  },
  {
   "cell_type": "markdown",
   "id": "941b9a5b",
   "metadata": {},
   "source": [
    "### Build"
   ]
  },
  {
   "cell_type": "code",
   "execution_count": 7,
   "metadata": {},
   "outputs": [],
   "source": [
    "from src.dataframes.geocode import GeocodeDataFrame\n",
    "\n",
    "geocode_dataframe = GeocodeDataFrame.build(\n",
    "    darwin_core_csv_lazy_frame,\n",
    "    geocode_precision,\n",
    ")"
   ]
  },
  {
   "cell_type": "markdown",
   "id": "be268bf3",
   "metadata": {},
   "source": [
    "### Shape"
   ]
  },
  {
   "cell_type": "code",
   "execution_count": 8,
   "id": "73aa6b9f",
   "metadata": {},
   "outputs": [
    {
     "data": {
      "text/plain": [
       "(20759, 3)"
      ]
     },
     "execution_count": 8,
     "metadata": {},
     "output_type": "execute_result"
    }
   ],
   "source": [
    "geocode_dataframe.df.shape"
   ]
  },
  {
   "cell_type": "markdown",
   "metadata": {},
   "source": [
    "### Preview"
   ]
  },
  {
   "cell_type": "code",
   "execution_count": 9,
   "metadata": {},
   "outputs": [
    {
     "data": {
      "text/html": [
       "<div><style>\n",
       ".dataframe > thead > tr,\n",
       ".dataframe > tbody > tr {\n",
       "  text-align: right;\n",
       "  white-space: pre-wrap;\n",
       "}\n",
       "</style>\n",
       "<small>shape: (6, 3)</small><table border=\"1\" class=\"dataframe\"><thead><tr><th>geocode</th><th>center</th><th>neighbors</th></tr><tr><td>str</td><td>struct[2]</td><td>list[str]</td></tr></thead><tbody><tr><td>&quot;97zz&quot;</td><td>{22.412109,-112.675781}</td><td>[&quot;9ebn&quot;]</td></tr><tr><td>&quot;9eb4&quot;</td><td>{21.533203,-112.324219}</td><td>[]</td></tr><tr><td>&quot;9ebn&quot;</td><td>{22.236328,-112.324219}</td><td>[&quot;97zz&quot;]</td></tr><tr><td>&quot;9ebt&quot;</td><td>{22.060547,-111.621094}</td><td>[]</td></tr><tr><td>&quot;9ebx&quot;</td><td>{22.412109,-111.621094}</td><td>[]</td></tr><tr><td>&quot;9ec6&quot;</td><td>{21.533203,-110.566406}</td><td>[&quot;9ecd&quot;, &quot;9ece&quot;]</td></tr></tbody></table></div>"
      ],
      "text/plain": [
       "shape: (6, 3)\n",
       "┌─────────┬─────────────────────────┬──────────────────┐\n",
       "│ geocode ┆ center                  ┆ neighbors        │\n",
       "│ ---     ┆ ---                     ┆ ---              │\n",
       "│ str     ┆ struct[2]               ┆ list[str]        │\n",
       "╞═════════╪═════════════════════════╪══════════════════╡\n",
       "│ 97zz    ┆ {22.412109,-112.675781} ┆ [\"9ebn\"]         │\n",
       "│ 9eb4    ┆ {21.533203,-112.324219} ┆ []               │\n",
       "│ 9ebn    ┆ {22.236328,-112.324219} ┆ [\"97zz\"]         │\n",
       "│ 9ebt    ┆ {22.060547,-111.621094} ┆ []               │\n",
       "│ 9ebx    ┆ {22.412109,-111.621094} ┆ []               │\n",
       "│ 9ec6    ┆ {21.533203,-110.566406} ┆ [\"9ecd\", \"9ece\"] │\n",
       "└─────────┴─────────────────────────┴──────────────────┘"
      ]
     },
     "execution_count": 9,
     "metadata": {},
     "output_type": "execute_result"
    }
   ],
   "source": [
    "geocode_dataframe.df.limit(6)"
   ]
  },
  {
   "cell_type": "markdown",
   "id": "d894f444",
   "metadata": {},
   "source": [
    "## `TaxonomyDataFrame`"
   ]
  },
  {
   "cell_type": "markdown",
   "id": "9aea10c8",
   "metadata": {},
   "source": [
    "### Build"
   ]
  },
  {
   "cell_type": "code",
   "execution_count": 10,
   "id": "dc245900",
   "metadata": {},
   "outputs": [],
   "source": [
    "from src.dataframes.taxonomy import TaxonomyDataFrame\n",
    "\n",
    "taxonomy_dataframe = TaxonomyDataFrame.build(darwin_core_csv_lazy_frame)"
   ]
  },
  {
   "cell_type": "markdown",
   "id": "4fd52a30",
   "metadata": {},
   "source": [
    "### Preview"
   ]
  },
  {
   "cell_type": "code",
   "execution_count": 11,
   "id": "da2a0349",
   "metadata": {},
   "outputs": [
    {
     "data": {
      "text/html": [
       "<div><style>\n",
       ".dataframe > thead > tr,\n",
       ".dataframe > tbody > tr {\n",
       "  text-align: right;\n",
       "  white-space: pre-wrap;\n",
       "}\n",
       "</style>\n",
       "<small>shape: (3, 9)</small><table border=\"1\" class=\"dataframe\"><thead><tr><th>kingdom</th><th>phylum</th><th>class</th><th>order</th><th>family</th><th>genus</th><th>species</th><th>taxonRank</th><th>scientificName</th></tr><tr><td>enum</td><td>str</td><td>str</td><td>str</td><td>str</td><td>str</td><td>str</td><td>str</td><td>str</td></tr></thead><tbody><tr><td>&quot;Plantae&quot;</td><td>&quot;Tracheophyta&quot;</td><td>&quot;Liliopsida&quot;</td><td>&quot;Poales&quot;</td><td>&quot;Cyperaceae&quot;</td><td>&quot;Carex&quot;</td><td>&quot;Carex tonsa&quot;</td><td>&quot;VARIETY&quot;</td><td>&quot;Carex tonsa var. rugosperma (M…</td></tr><tr><td>&quot;Plantae&quot;</td><td>&quot;Tracheophyta&quot;</td><td>&quot;Magnoliopsida&quot;</td><td>&quot;Boraginales&quot;</td><td>&quot;Boraginaceae&quot;</td><td>&quot;Cryptantha&quot;</td><td>&quot;Cryptantha martirensis&quot;</td><td>&quot;SPECIES&quot;</td><td>&quot;Cryptantha martirensis M.G.Sim…</td></tr><tr><td>&quot;Plantae&quot;</td><td>&quot;Tracheophyta&quot;</td><td>&quot;Liliopsida&quot;</td><td>&quot;Asparagales&quot;</td><td>&quot;Amaryllidaceae&quot;</td><td>&quot;Sprekelia&quot;</td><td>&quot;Sprekelia formosissima&quot;</td><td>&quot;SPECIES&quot;</td><td>&quot;Sprekelia formosissima (L.) He…</td></tr></tbody></table></div>"
      ],
      "text/plain": [
       "shape: (3, 9)\n",
       "┌─────────┬────────────┬───────────┬───────────┬───┬───────────┬───────────┬───────────┬───────────┐\n",
       "│ kingdom ┆ phylum     ┆ class     ┆ order     ┆ … ┆ genus     ┆ species   ┆ taxonRank ┆ scientifi │\n",
       "│ ---     ┆ ---        ┆ ---       ┆ ---       ┆   ┆ ---       ┆ ---       ┆ ---       ┆ cName     │\n",
       "│ enum    ┆ str        ┆ str       ┆ str       ┆   ┆ str       ┆ str       ┆ str       ┆ ---       │\n",
       "│         ┆            ┆           ┆           ┆   ┆           ┆           ┆           ┆ str       │\n",
       "╞═════════╪════════════╪═══════════╪═══════════╪═══╪═══════════╪═══════════╪═══════════╪═══════════╡\n",
       "│ Plantae ┆ Tracheophy ┆ Liliopsid ┆ Poales    ┆ … ┆ Carex     ┆ Carex     ┆ VARIETY   ┆ Carex     │\n",
       "│         ┆ ta         ┆ a         ┆           ┆   ┆           ┆ tonsa     ┆           ┆ tonsa     │\n",
       "│         ┆            ┆           ┆           ┆   ┆           ┆           ┆           ┆ var. rugo │\n",
       "│         ┆            ┆           ┆           ┆   ┆           ┆           ┆           ┆ sperma    │\n",
       "│         ┆            ┆           ┆           ┆   ┆           ┆           ┆           ┆ (M…       │\n",
       "│ Plantae ┆ Tracheophy ┆ Magnoliop ┆ Boraginal ┆ … ┆ Cryptanth ┆ Cryptanth ┆ SPECIES   ┆ Cryptanth │\n",
       "│         ┆ ta         ┆ sida      ┆ es        ┆   ┆ a         ┆ a martire ┆           ┆ a martire │\n",
       "│         ┆            ┆           ┆           ┆   ┆           ┆ nsis      ┆           ┆ nsis      │\n",
       "│         ┆            ┆           ┆           ┆   ┆           ┆           ┆           ┆ M.G.Sim…  │\n",
       "│ Plantae ┆ Tracheophy ┆ Liliopsid ┆ Asparagal ┆ … ┆ Sprekelia ┆ Sprekelia ┆ SPECIES   ┆ Sprekelia │\n",
       "│         ┆ ta         ┆ a         ┆ es        ┆   ┆           ┆ formosiss ┆           ┆ formosiss │\n",
       "│         ┆            ┆           ┆           ┆   ┆           ┆ ima       ┆           ┆ ima (L.)  │\n",
       "│         ┆            ┆           ┆           ┆   ┆           ┆           ┆           ┆ He…       │\n",
       "└─────────┴────────────┴───────────┴───────────┴───┴───────────┴───────────┴───────────┴───────────┘"
      ]
     },
     "execution_count": 11,
     "metadata": {},
     "output_type": "execute_result"
    }
   ],
   "source": [
    "taxonomy_dataframe.df.limit(3)"
   ]
  },
  {
   "cell_type": "markdown",
   "id": "a0648044",
   "metadata": {},
   "source": [
    "## `GeohashSpeciesCountsDataFrame`"
   ]
  },
  {
   "cell_type": "markdown",
   "id": "c9342219",
   "metadata": {},
   "source": [
    "### Build"
   ]
  },
  {
   "cell_type": "code",
   "execution_count": 12,
   "id": "193e313e",
   "metadata": {},
   "outputs": [],
   "source": [
    "from src.dataframes.geocode_taxa_counts import GeocodeTaxaCountsDataFrame\n",
    "\n",
    "geocode_taxa_counts_dataframe = GeocodeTaxaCountsDataFrame.build(\n",
    "    darwin_core_csv_lazy_frame,\n",
    "    geocode_precision,\n",
    ")"
   ]
  },
  {
   "cell_type": "markdown",
   "id": "6ba90961",
   "metadata": {},
   "source": [
    "### Shape"
   ]
  },
  {
   "cell_type": "code",
   "execution_count": 13,
   "id": "d7abce36",
   "metadata": {},
   "outputs": [
    {
     "data": {
      "text/plain": [
       "(8123674, 5)"
      ]
     },
     "execution_count": 13,
     "metadata": {},
     "output_type": "execute_result"
    }
   ],
   "source": [
    "geocode_taxa_counts_dataframe.df.shape"
   ]
  },
  {
   "cell_type": "markdown",
   "id": "a657db45",
   "metadata": {},
   "source": [
    "### Preview"
   ]
  },
  {
   "cell_type": "code",
   "execution_count": 14,
   "id": "650b1cde",
   "metadata": {},
   "outputs": [
    {
     "data": {
      "text/html": [
       "<div><style>\n",
       ".dataframe > thead > tr,\n",
       ".dataframe > tbody > tr {\n",
       "  text-align: right;\n",
       "  white-space: pre-wrap;\n",
       "}\n",
       "</style>\n",
       "<small>shape: (3, 5)</small><table border=\"1\" class=\"dataframe\"><thead><tr><th>geocode</th><th>kingdom</th><th>taxonRank</th><th>scientificName</th><th>count</th></tr><tr><td>str</td><td>enum</td><td>str</td><td>str</td><td>u32</td></tr></thead><tbody><tr><td>&quot;97zz&quot;</td><td>&quot;Animalia&quot;</td><td>&quot;SPECIES&quot;</td><td>&quot;Eschrichtius robustus (Lilljeb…</td><td>1</td></tr><tr><td>&quot;9eb4&quot;</td><td>&quot;Animalia&quot;</td><td>&quot;SPECIES&quot;</td><td>&quot;Papilio rutulus Lucas, 1852&quot;</td><td>1</td></tr><tr><td>&quot;9ebn&quot;</td><td>&quot;Animalia&quot;</td><td>&quot;SPECIES&quot;</td><td>&quot;Eschrichtius robustus (Lilljeb…</td><td>1</td></tr></tbody></table></div>"
      ],
      "text/plain": [
       "shape: (3, 5)\n",
       "┌─────────┬──────────┬───────────┬─────────────────────────────────┬───────┐\n",
       "│ geocode ┆ kingdom  ┆ taxonRank ┆ scientificName                  ┆ count │\n",
       "│ ---     ┆ ---      ┆ ---       ┆ ---                             ┆ ---   │\n",
       "│ str     ┆ enum     ┆ str       ┆ str                             ┆ u32   │\n",
       "╞═════════╪══════════╪═══════════╪═════════════════════════════════╪═══════╡\n",
       "│ 97zz    ┆ Animalia ┆ SPECIES   ┆ Eschrichtius robustus (Lilljeb… ┆ 1     │\n",
       "│ 9eb4    ┆ Animalia ┆ SPECIES   ┆ Papilio rutulus Lucas, 1852     ┆ 1     │\n",
       "│ 9ebn    ┆ Animalia ┆ SPECIES   ┆ Eschrichtius robustus (Lilljeb… ┆ 1     │\n",
       "└─────────┴──────────┴───────────┴─────────────────────────────────┴───────┘"
      ]
     },
     "execution_count": 14,
     "metadata": {},
     "output_type": "execute_result"
    }
   ],
   "source": [
    "geocode_taxa_counts_dataframe.df.limit(3)"
   ]
  },
  {
   "cell_type": "markdown",
   "id": "c702a476",
   "metadata": {},
   "source": [
    "# `ConnectivityMatrix`\n",
    "\n",
    "### Build"
   ]
  },
  {
   "cell_type": "code",
   "execution_count": 15,
   "id": "c5e80f91",
   "metadata": {},
   "outputs": [
    {
     "name": "stdout",
     "output_type": "stream",
     "text": [
      "More than one connected component (n=303), connecting the first with the closest node not in that component\n",
      "Adding edge between 9ebn and 9s03\n",
      "More than one connected component (n=302), connecting the first with the closest node not in that component\n",
      "Adding edge between 9s03 and 9ebx\n",
      "More than one connected component (n=301), connecting the first with the closest node not in that component\n",
      "Adding edge between 9ebx and 9ebt\n",
      "More than one connected component (n=300), connecting the first with the closest node not in that component\n",
      "Adding edge between 9ebn and 9eb4\n",
      "More than one connected component (n=299), connecting the first with the closest node not in that component\n",
      "Adding edge between 9ebx and 9s0g\n",
      "More than one connected component (n=298), connecting the first with the closest node not in that component\n",
      "Adding edge between 9egw and 9egs\n",
      "More than one connected component (n=297), connecting the first with the closest node not in that component\n",
      "Adding edge between 9m7x and 9m7t\n",
      "More than one connected component (n=296), connecting the first with the closest node not in that component\n",
      "Adding edge between 9m7t and 9m7e\n",
      "More than one connected component (n=295), connecting the first with the closest node not in that component\n",
      "Adding edge between 9pqe and 9pqt\n",
      "More than one connected component (n=294), connecting the first with the closest node not in that component\n",
      "Adding edge between 9s5h and 9s5n\n",
      "More than one connected component (n=293), connecting the first with the closest node not in that component\n",
      "Adding edge between 9uyk and 9uy6\n",
      "More than one connected component (n=292), connecting the first with the closest node not in that component\n",
      "Adding edge between d7vt and d7vx\n",
      "More than one connected component (n=291), connecting the first with the closest node not in that component\n",
      "Adding edge between dh50 and dh54\n",
      "More than one connected component (n=290), connecting the first with the closest node not in that component\n",
      "Adding edge between dh54 and dh5h\n",
      "More than one connected component (n=289), connecting the first with the closest node not in that component\n",
      "Adding edge between dk4b and d7fy\n",
      "More than one connected component (n=288), connecting the first with the closest node not in that component\n",
      "Adding edge between d7fv and d7fg\n",
      "More than one connected component (n=287), connecting the first with the closest node not in that component\n",
      "Adding edge between dk4j and dk45\n",
      "More than one connected component (n=286), connecting the first with the closest node not in that component\n",
      "Adding edge between dk59 and dk5e\n",
      "More than one connected component (n=285), connecting the first with the closest node not in that component\n",
      "Adding edge between dk6v and dk6z\n",
      "More than one connected component (n=284), connecting the first with the closest node not in that component\n",
      "Adding edge between dkbp and dm01\n",
      "More than one connected component (n=283), connecting the first with the closest node not in that component\n",
      "Adding edge between dkdb and dkdf\n",
      "More than one connected component (n=282), connecting the first with the closest node not in that component\n",
      "Adding edge between dm05 and dm0j\n",
      "More than one connected component (n=281), connecting the first with the closest node not in that component\n",
      "Adding edge between dm8m and dm87\n",
      "More than one connected component (n=280), connecting the first with the closest node not in that component\n",
      "Adding edge between dm9f and dm9u\n",
      "More than one connected component (n=279), connecting the first with the closest node not in that component\n",
      "Adding edge between dm9u and dm9y\n",
      "More than one connected component (n=278), connecting the first with the closest node not in that component\n",
      "Adding edge between dx0r and dx0m\n",
      "More than one connected component (n=277), connecting the first with the closest node not in that component\n",
      "Adding edge between dxgv and dxgg\n",
      "More than one connected component (n=276), connecting the first with the closest node not in that component\n",
      "Adding edge between f8e7 and f8e3\n",
      "More than one connected component (n=275), connecting the first with the closest node not in that component\n",
      "Adding edge between 9krq and 9kx0\n",
      "More than one connected component (n=274), connecting the first with the closest node not in that component\n",
      "Adding edge between 9kws and 9kww\n",
      "More than one connected component (n=273), connecting the first with the closest node not in that component\n",
      "Adding edge between 9kwn and 9kwh\n",
      "More than one connected component (n=272), connecting the first with the closest node not in that component\n",
      "Adding edge between 9kvw and 9kvk\n",
      "More than one connected component (n=271), connecting the first with the closest node not in that component\n",
      "Adding edge between 9kvk and 9kvn\n",
      "More than one connected component (n=270), connecting the first with the closest node not in that component\n",
      "Adding edge between 9kur and 9kum\n",
      "More than one connected component (n=269), connecting the first with the closest node not in that component\n",
      "Adding edge between 9mhb and 9mhf\n",
      "More than one connected component (n=268), connecting the first with the closest node not in that component\n",
      "Adding edge between 9kwh and 9kw6\n",
      "More than one connected component (n=267), connecting the first with the closest node not in that component\n",
      "Adding edge between 9mcs and 9mc6\n",
      "More than one connected component (n=266), connecting the first with the closest node not in that component\n",
      "Adding edge between 9mkf and 9mk8\n",
      "More than one connected component (n=265), connecting the first with the closest node not in that component\n",
      "Adding edge between 9q04 and 9q02\n",
      "More than one connected component (n=264), connecting the first with the closest node not in that component\n",
      "Adding edge between 9q02 and 9mbw\n",
      "More than one connected component (n=263), connecting the first with the closest node not in that component\n",
      "Adding edge between 9mby and 9q0b\n",
      "More than one connected component (n=262), connecting the first with the closest node not in that component\n",
      "Adding edge between 9mbw and 9mbk\n",
      "More than one connected component (n=261), connecting the first with the closest node not in that component\n",
      "Adding edge between 9mbk and 9mb6\n",
      "More than one connected component (n=260), connecting the first with the closest node not in that component\n",
      "Adding edge between 9uzm and 9uze\n",
      "More than one connected component (n=259), connecting the first with the closest node not in that component\n",
      "Adding edge between 9uz9 and 9uxx\n",
      "More than one connected component (n=258), connecting the first with the closest node not in that component\n",
      "Adding edge between 9uwz and 9uyc\n",
      "More than one connected component (n=257), connecting the first with the closest node not in that component\n",
      "Adding edge between 9uxe and 9ux9\n",
      "More than one connected component (n=256), connecting the first with the closest node not in that component\n",
      "Adding edge between c0n3 and c0n5\n",
      "More than one connected component (n=255), connecting the first with the closest node not in that component\n",
      "Adding edge between c0sv and c0se\n",
      "More than one connected component (n=254), connecting the first with the closest node not in that component\n",
      "Adding edge between c0w1 and c0mz\n",
      "More than one connected component (n=253), connecting the first with the closest node not in that component\n",
      "Adding edge between d5gr and d5gj\n",
      "More than one connected component (n=252), connecting the first with the closest node not in that component\n",
      "Adding edge between dh1b and dh1f\n",
      "More than one connected component (n=251), connecting the first with the closest node not in that component\n",
      "Adding edge between dh4k and dh4q\n",
      "More than one connected component (n=250), connecting the first with the closest node not in that component\n",
      "Adding edge between d7gq and d7gs\n",
      "More than one connected component (n=249), connecting the first with the closest node not in that component\n",
      "Adding edge between dhbd and dhbb\n",
      "More than one connected component (n=248), connecting the first with the closest node not in that component\n",
      "Adding edge between dhbb and dh9n\n",
      "More than one connected component (n=247), connecting the first with the closest node not in that component\n",
      "Adding edge between dh9j and dh8g\n",
      "More than one connected component (n=246), connecting the first with the closest node not in that component\n",
      "Adding edge between dh9r and dhc9\n",
      "More than one connected component (n=245), connecting the first with the closest node not in that component\n",
      "Adding edge between dhc1 and dhc7\n",
      "More than one connected component (n=244), connecting the first with the closest node not in that component\n",
      "Adding edge between dhc7 and dhct\n",
      "More than one connected component (n=243), connecting the first with the closest node not in that component\n",
      "Adding edge between dhcc and dhdp\n",
      "More than one connected component (n=242), connecting the first with the closest node not in that component\n",
      "Adding edge between dhkg and dhk9\n",
      "More than one connected component (n=241), connecting the first with the closest node not in that component\n",
      "Adding edge between dhk9 and dhhr\n",
      "More than one connected component (n=240), connecting the first with the closest node not in that component\n",
      "Adding edge between dj1d and dj1b\n",
      "More than one connected component (n=239), connecting the first with the closest node not in that component\n",
      "Adding edge between dj40 and dhfq\n",
      "More than one connected component (n=238), connecting the first with the closest node not in that component\n",
      "Adding edge between dj53 and dhgp\n",
      "More than one connected component (n=237), connecting the first with the closest node not in that component\n",
      "Adding edge between djrs and djry\n",
      "More than one connected component (n=236), connecting the first with the closest node not in that component\n",
      "Adding edge between djry and dm2h\n",
      "More than one connected component (n=235), connecting the first with the closest node not in that component\n",
      "Adding edge between dk9c and dkd5\n",
      "More than one connected component (n=234), connecting the first with the closest node not in that component\n",
      "Adding edge between dk9x and dkcc\n",
      "More than one connected component (n=233), connecting the first with the closest node not in that component\n",
      "Adding edge between dkcc and dkce\n",
      "More than one connected component (n=232), connecting the first with the closest node not in that component\n",
      "Adding edge between dkdf and dkds\n",
      "More than one connected component (n=231), connecting the first with the closest node not in that component\n",
      "Adding edge between dkds and dkdw\n",
      "More than one connected component (n=230), connecting the first with the closest node not in that component\n",
      "Adding edge between dkdw and dkf2\n",
      "More than one connected component (n=229), connecting the first with the closest node not in that component\n",
      "Adding edge between dm0s and dm0f\n",
      "More than one connected component (n=228), connecting the first with the closest node not in that component\n",
      "Adding edge between dm9f and dmd0\n",
      "More than one connected component (n=227), connecting the first with the closest node not in that component\n",
      "Adding edge between dm9w and dmc2\n",
      "More than one connected component (n=226), connecting the first with the closest node not in that component\n",
      "Adding edge between dmc3 and dmce\n",
      "More than one connected component (n=225), connecting the first with the closest node not in that component\n",
      "Adding edge between dmd0 and dmd6\n",
      "More than one connected component (n=224), connecting the first with the closest node not in that component\n",
      "Adding edge between drn9 and dqyz\n",
      "More than one connected component (n=223), connecting the first with the closest node not in that component\n",
      "Adding edge between dx3m and dx3e\n",
      "More than one connected component (n=222), connecting the first with the closest node not in that component\n",
      "Adding edge between dx39 and dx1z\n",
      "More than one connected component (n=221), connecting the first with the closest node not in that component\n",
      "Adding edge between dxdj and dxd7\n",
      "More than one connected component (n=220), connecting the first with the closest node not in that component\n",
      "Adding edge between dxd7 and dxd1\n",
      "More than one connected component (n=219), connecting the first with the closest node not in that component\n",
      "Adding edge between dxdg and dxej\n",
      "More than one connected component (n=218), connecting the first with the closest node not in that component\n",
      "Adding edge between f86u and f87n\n",
      "More than one connected component (n=217), connecting the first with the closest node not in that component\n",
      "Adding edge between 9me5 and 9me0\n",
      "More than one connected component (n=216), connecting the first with the closest node not in that component\n",
      "Adding edge between 9mf4 and 9mdp\n",
      "More than one connected component (n=215), connecting the first with the closest node not in that component\n",
      "Adding edge between 9mhd and 9mht\n",
      "More than one connected component (n=214), connecting the first with the closest node not in that component\n",
      "Adding edge between 9mk5 and 9mk0\n",
      "More than one connected component (n=213), connecting the first with the closest node not in that component\n",
      "Adding edge between 9m7b and 9m5y\n",
      "More than one connected component (n=212), connecting the first with the closest node not in that component\n",
      "Adding edge between 9nqz and 9nqu\n",
      "More than one connected component (n=211), connecting the first with the closest node not in that component\n",
      "Adding edge between 9usg and 9usb\n",
      "More than one connected component (n=210), connecting the first with the closest node not in that component\n",
      "Adding edge between 9ukx and 9ukm\n",
      "More than one connected component (n=209), connecting the first with the closest node not in that component\n",
      "Adding edge between 9umq and 9umh\n",
      "More than one connected component (n=208), connecting the first with the closest node not in that component\n",
      "Adding edge between dk1k and dk13\n",
      "More than one connected component (n=207), connecting the first with the closest node not in that component\n",
      "Adding edge between dkbc and dkbu\n",
      "More than one connected component (n=206), connecting the first with the closest node not in that component\n",
      "Adding edge between dkbu and dkbw\n",
      "More than one connected component (n=205), connecting the first with the closest node not in that component\n",
      "Adding edge between dkce and dkcw\n",
      "More than one connected component (n=204), connecting the first with the closest node not in that component\n",
      "Adding edge between dkhj and dkk0\n",
      "More than one connected component (n=203), connecting the first with the closest node not in that component\n",
      "Adding edge between dmd6 and dmdm\n",
      "More than one connected component (n=202), connecting the first with the closest node not in that component\n",
      "Adding edge between dmdm and dmf2\n",
      "More than one connected component (n=201), connecting the first with the closest node not in that component\n",
      "Adding edge between dmf2 and dmfd\n",
      "More than one connected component (n=200), connecting the first with the closest node not in that component\n",
      "Adding edge between dmf7 and dmfj\n",
      "More than one connected component (n=199), connecting the first with the closest node not in that component\n",
      "Adding edge between dmf7 and dmft\n",
      "More than one connected component (n=198), connecting the first with the closest node not in that component\n",
      "Adding edge between drn4 and dqyp\n",
      "More than one connected component (n=197), connecting the first with the closest node not in that component\n",
      "Adding edge between 9me0 and 9m6v\n",
      "More than one connected component (n=196), connecting the first with the closest node not in that component\n",
      "Adding edge between 9m6t and 9m6x\n",
      "More than one connected component (n=195), connecting the first with the closest node not in that component\n",
      "Adding edge between 9m6m and 9md0\n",
      "More than one connected component (n=194), connecting the first with the closest node not in that component\n",
      "Adding edge between 9m9c and 9m9e\n",
      "More than one connected component (n=193), connecting the first with the closest node not in that component\n",
      "Adding edge between 9m9k and 9m94\n",
      "More than one connected component (n=192), connecting the first with the closest node not in that component\n",
      "Adding edge between 9m94 and 9m8v\n",
      "More than one connected component (n=191), connecting the first with the closest node not in that component\n",
      "Adding edge between 9md0 and 9m3v\n",
      "More than one connected component (n=190), connecting the first with the closest node not in that component\n",
      "Adding edge between 9m3v and 9m3e\n",
      "More than one connected component (n=189), connecting the first with the closest node not in that component\n",
      "Adding edge between 9nxn and 9nyc\n",
      "More than one connected component (n=188), connecting the first with the closest node not in that component\n",
      "Adding edge between 9u6c and 9u7h\n",
      "More than one connected component (n=187), connecting the first with the closest node not in that component\n",
      "Adding edge between 9ueg and 9us0\n",
      "More than one connected component (n=186), connecting the first with the closest node not in that component\n",
      "Adding edge between c0sd and c0kz\n",
      "More than one connected component (n=185), connecting the first with the closest node not in that component\n",
      "Adding edge between dh18 and dh17\n",
      "More than one connected component (n=184), connecting the first with the closest node not in that component\n",
      "Adding edge between dh1t and dh1x\n",
      "More than one connected component (n=183), connecting the first with the closest node not in that component\n",
      "Adding edge between dh0d and dh02\n",
      "More than one connected component (n=182), connecting the first with the closest node not in that component\n",
      "Adding edge between dh1j and dh2b\n",
      "More than one connected component (n=181), connecting the first with the closest node not in that component\n",
      "Adding edge between dh39 and dh3u\n",
      "More than one connected component (n=180), connecting the first with the closest node not in that component\n",
      "Adding edge between dh3u and dh6p\n",
      "More than one connected component (n=179), connecting the first with the closest node not in that component\n",
      "Adding edge between dh8s and dh8r\n",
      "More than one connected component (n=178), connecting the first with the closest node not in that component\n",
      "Adding edge between dh8r and dhb1\n",
      "More than one connected component (n=177), connecting the first with the closest node not in that component\n",
      "Adding edge between dh9j and dh96\n",
      "More than one connected component (n=176), connecting the first with the closest node not in that component\n",
      "Adding edge between dhu1 and dhey\n",
      "More than one connected component (n=175), connecting the first with the closest node not in that component\n",
      "Adding edge between dhey and dhsh\n",
      "More than one connected component (n=174), connecting the first with the closest node not in that component\n",
      "Adding edge between dkbu and dkcp\n",
      "More than one connected component (n=173), connecting the first with the closest node not in that component\n",
      "Adding edge between dkf2 and dkfe\n",
      "More than one connected component (n=172), connecting the first with the closest node not in that component\n",
      "Adding edge between dkhd and dkhv\n",
      "More than one connected component (n=171), connecting the first with the closest node not in that component\n",
      "Adding edge between dkk0 and dkk7\n",
      "More than one connected component (n=170), connecting the first with the closest node not in that component\n",
      "Adding edge between dm0s and dm0z\n",
      "More than one connected component (n=169), connecting the first with the closest node not in that component\n",
      "Adding edge between dm0z and dm31\n",
      "More than one connected component (n=168), connecting the first with the closest node not in that component\n",
      "Adding edge between dm2f and dm3h\n",
      "More than one connected component (n=167), connecting the first with the closest node not in that component\n",
      "Adding edge between dm87 and dm88\n",
      "More than one connected component (n=166), connecting the first with the closest node not in that component\n",
      "Adding edge between dmd6 and dm6x\n",
      "More than one connected component (n=165), connecting the first with the closest node not in that component\n",
      "Adding edge between dqyp and dqyk\n",
      "More than one connected component (n=164), connecting the first with the closest node not in that component\n",
      "Adding edge between dx39 and dx1q\n",
      "More than one connected component (n=163), connecting the first with the closest node not in that component\n",
      "Adding edge between dx1q and dx15\n",
      "More than one connected component (n=162), connecting the first with the closest node not in that component\n",
      "Adding edge between dxeq and dxee\n",
      "More than one connected component (n=161), connecting the first with the closest node not in that component\n",
      "Adding edge between 9gff and 9gg6\n",
      "More than one connected component (n=160), connecting the first with the closest node not in that component\n",
      "Adding edge between 9kuv and 9kuc\n",
      "More than one connected component (n=159), connecting the first with the closest node not in that component\n",
      "Adding edge between 9m6v and 9m6c\n",
      "More than one connected component (n=158), connecting the first with the closest node not in that component\n",
      "Adding edge between 9m68 and 9m4v\n",
      "More than one connected component (n=157), connecting the first with the closest node not in that component\n",
      "Adding edge between 9m91 and 9m3j\n",
      "More than one connected component (n=156), connecting the first with the closest node not in that component\n",
      "Adding edge between 9npg and 9np7\n",
      "More than one connected component (n=155), connecting the first with the closest node not in that component\n",
      "Adding edge between 9nqx and 9nqp\n",
      "More than one connected component (n=154), connecting the first with the closest node not in that component\n",
      "Adding edge between 9pqe and 9pq5\n",
      "More than one connected component (n=153), connecting the first with the closest node not in that component\n",
      "Adding edge between 9pwm and 9ptv\n",
      "More than one connected component (n=152), connecting the first with the closest node not in that component\n",
      "Adding edge between 9ptu and 9ptf\n",
      "More than one connected component (n=151), connecting the first with the closest node not in that component\n",
      "Adding edge between 9ptv and 9ptz\n",
      "More than one connected component (n=150), connecting the first with the closest node not in that component\n",
      "Adding edge between c0sd and c0s4\n",
      "More than one connected component (n=149), connecting the first with the closest node not in that component\n",
      "Adding edge between c0s4 and c0s0\n",
      "More than one connected component (n=148), connecting the first with the closest node not in that component\n",
      "Adding edge between c0s4 and c0ed\n",
      "More than one connected component (n=147), connecting the first with the closest node not in that component\n",
      "Adding edge between d7ce and d7f5\n",
      "More than one connected component (n=146), connecting the first with the closest node not in that component\n",
      "Adding edge between d7f7 and d7fm\n",
      "More than one connected component (n=145), connecting the first with the closest node not in that component\n",
      "Adding edge between dh5x and dh7e\n",
      "More than one connected component (n=144), connecting the first with the closest node not in that component\n",
      "Adding edge between dkk7 and dkkr\n",
      "More than one connected component (n=143), connecting the first with the closest node not in that component\n",
      "Adding edge between 9krm and 9kqu\n",
      "More than one connected component (n=142), connecting the first with the closest node not in that component\n",
      "Adding edge between 9kqg and 9kq9\n",
      "More than one connected component (n=141), connecting the first with the closest node not in that component\n",
      "Adding edge between 9kq9 and 9knt\n",
      "More than one connected component (n=140), connecting the first with the closest node not in that component\n",
      "Adding edge between 9kqs and 9kqh\n",
      "More than one connected component (n=139), connecting the first with the closest node not in that component\n",
      "Adding edge between 9np7 and 9nnf\n",
      "More than one connected component (n=138), connecting the first with the closest node not in that component\n",
      "Adding edge between 9ptz and 9pv2\n",
      "More than one connected component (n=137), connecting the first with the closest node not in that component\n",
      "Adding edge between 9u4y and 9u5r\n",
      "More than one connected component (n=136), connecting the first with the closest node not in that component\n",
      "Adding edge between c0n5 and c0js\n",
      "More than one connected component (n=135), connecting the first with the closest node not in that component\n",
      "Adding edge between c0js and c0jw\n",
      "More than one connected component (n=134), connecting the first with the closest node not in that component\n",
      "Adding edge between dmdm and dmdu\n",
      "More than one connected component (n=133), connecting the first with the closest node not in that component\n",
      "Adding edge between dmdu and dmdy\n",
      "More than one connected component (n=132), connecting the first with the closest node not in that component\n",
      "Adding edge between dxee and dxs4\n",
      "More than one connected component (n=131), connecting the first with the closest node not in that component\n",
      "Adding edge between dxs4 and dxsh\n",
      "More than one connected component (n=130), connecting the first with the closest node not in that component\n",
      "Adding edge between 9kuj and 9kgc\n",
      "More than one connected component (n=129), connecting the first with the closest node not in that component\n",
      "Adding edge between 9m8s and 9m84\n",
      "More than one connected component (n=128), connecting the first with the closest node not in that component\n",
      "Adding edge between 9m84 and 9m2r\n",
      "More than one connected component (n=127), connecting the first with the closest node not in that component\n",
      "Adding edge between 9m84 and 9jx9\n",
      "More than one connected component (n=126), connecting the first with the closest node not in that component\n",
      "Adding edge between 9nqp and 9nt9\n",
      "More than one connected component (n=125), connecting the first with the closest node not in that component\n",
      "Adding edge between 9nt9 and 9ntg\n",
      "More than one connected component (n=124), connecting the first with the closest node not in that component\n",
      "Adding edge between 9ntg and 9nwk\n",
      "More than one connected component (n=123), connecting the first with the closest node not in that component\n",
      "Adding edge between 9nt9 and 9nmp\n",
      "More than one connected component (n=122), connecting the first with the closest node not in that component\n",
      "Adding edge between 9ptf and 9pt2\n",
      "More than one connected component (n=121), connecting the first with the closest node not in that component\n",
      "Adding edge between 9pt2 and 9pmq\n",
      "More than one connected component (n=120), connecting the first with the closest node not in that component\n",
      "Adding edge between 9u7h and 9u7w\n",
      "More than one connected component (n=119), connecting the first with the closest node not in that component\n",
      "Adding edge between 9u7w and 9u7g\n",
      "More than one connected component (n=118), connecting the first with the closest node not in that component\n",
      "Adding edge between dhf9 and dhep\n",
      "More than one connected component (n=117), connecting the first with the closest node not in that component\n",
      "Adding edge between dhen and dheh\n",
      "More than one connected component (n=116), connecting the first with the closest node not in that component\n",
      "Adding edge between dq7u and dqk0\n",
      "More than one connected component (n=115), connecting the first with the closest node not in that component\n",
      "Adding edge between drpv and dx01\n",
      "More than one connected component (n=114), connecting the first with the closest node not in that component\n",
      "Adding edge between 9ute and 9uw0\n",
      "More than one connected component (n=113), connecting the first with the closest node not in that component\n",
      "Adding edge between dqk0 and dqh5\n",
      "More than one connected component (n=112), connecting the first with the closest node not in that component\n",
      "Adding edge between dqvc and dqwq\n",
      "More than one connected component (n=111), connecting the first with the closest node not in that component\n",
      "Adding edge between dx1z and dx1f\n",
      "More than one connected component (n=110), connecting the first with the closest node not in that component\n",
      "Adding edge between dx1f and dx46\n",
      "More than one connected component (n=109), connecting the first with the closest node not in that component\n",
      "Adding edge between dx46 and dx4g\n",
      "More than one connected component (n=108), connecting the first with the closest node not in that component\n",
      "Adding edge between dx55 and dx59\n",
      "More than one connected component (n=107), connecting the first with the closest node not in that component\n",
      "Adding edge between dx46 and dwfm\n",
      "More than one connected component (n=106), connecting the first with the closest node not in that component\n",
      "Adding edge between c0j7 and 9pvn\n",
      "More than one connected component (n=105), connecting the first with the closest node not in that component\n",
      "Adding edge between 9pvn and 9pue\n",
      "More than one connected component (n=104), connecting the first with the closest node not in that component\n",
      "Adding edge between 9pue and 9psq\n",
      "More than one connected component (n=103), connecting the first with the closest node not in that component\n",
      "Adding edge between dmd0 and dm3g\n",
      "More than one connected component (n=102), connecting the first with the closest node not in that component\n",
      "Adding edge between dm3g and dm1z\n",
      "More than one connected component (n=101), connecting the first with the closest node not in that component\n",
      "Adding edge between dqwm and dqw0\n",
      "More than one connected component (n=100), connecting the first with the closest node not in that component\n",
      "Adding edge between dqw0 and dqq5\n",
      "More than one connected component (n=99), connecting the first with the closest node not in that component\n",
      "Adding edge between 9uw0 and 9uqs\n",
      "More than one connected component (n=98), connecting the first with the closest node not in that component\n",
      "Adding edge between 9nnf and 9jyu\n",
      "More than one connected component (n=97), connecting the first with the closest node not in that component\n",
      "Adding edge between c0kz and c0kc\n",
      "More than one connected component (n=96), connecting the first with the closest node not in that component\n",
      "Adding edge between d7vg and d7ye\n",
      "More than one connected component (n=95), connecting the first with the closest node not in that component\n",
      "Adding edge between d7ye and d7yv\n",
      "More than one connected component (n=94), connecting the first with the closest node not in that component\n",
      "Adding edge between d7yv and dknb\n",
      "More than one connected component (n=93), connecting the first with the closest node not in that component\n",
      "Adding edge between d7yv and d7zk\n",
      "More than one connected component (n=92), connecting the first with the closest node not in that component\n",
      "Adding edge between d7zk and dkp9\n",
      "More than one connected component (n=91), connecting the first with the closest node not in that component\n",
      "Adding edge between dkp9 and ds04\n",
      "More than one connected component (n=90), connecting the first with the closest node not in that component\n",
      "Adding edge between dm1z and dm4x\n",
      "More than one connected component (n=89), connecting the first with the closest node not in that component\n",
      "Adding edge between dm4x and dm55\n",
      "More than one connected component (n=88), connecting the first with the closest node not in that component\n",
      "Adding edge between 9u51 and 9u5f\n",
      "More than one connected component (n=87), connecting the first with the closest node not in that component\n",
      "Adding edge between 9upc and 9up4\n",
      "More than one connected component (n=86), connecting the first with the closest node not in that component\n",
      "Adding edge between 9up4 and 9gzj\n",
      "More than one connected component (n=85), connecting the first with the closest node not in that component\n",
      "Adding edge between 9gzj and 9gys\n",
      "More than one connected component (n=84), connecting the first with the closest node not in that component\n",
      "Adding edge between 9gys and 9gyj\n",
      "More than one connected component (n=83), connecting the first with the closest node not in that component\n",
      "Adding edge between 9gyj and 9gvt\n",
      "More than one connected component (n=82), connecting the first with the closest node not in that component\n",
      "Adding edge between 9gvt and 9uj2\n",
      "More than one connected component (n=81), connecting the first with the closest node not in that component\n",
      "Adding edge between 9uj2 and 9uje\n",
      "More than one connected component (n=80), connecting the first with the closest node not in that component\n",
      "Adding edge between 9gvt and 9gvh\n",
      "More than one connected component (n=79), connecting the first with the closest node not in that component\n",
      "Adding edge between 9guv and 9guz\n",
      "More than one connected component (n=78), connecting the first with the closest node not in that component\n",
      "Adding edge between 9uje and 9unp\n",
      "More than one connected component (n=77), connecting the first with the closest node not in that component\n",
      "Adding edge between dmdy and dmex\n",
      "More than one connected component (n=76), connecting the first with the closest node not in that component\n",
      "Adding edge between dmex and dmu0\n",
      "More than one connected component (n=75), connecting the first with the closest node not in that component\n",
      "Adding edge between dmu1 and dmut\n",
      "More than one connected component (n=74), connecting the first with the closest node not in that component\n",
      "Adding edge between dqq5 and dqqf\n",
      "More than one connected component (n=73), connecting the first with the closest node not in that component\n",
      "Adding edge between dqqf and dqre\n",
      "More than one connected component (n=72), connecting the first with the closest node not in that component\n",
      "Adding edge between d7zk and deb4\n",
      "More than one connected component (n=71), connecting the first with the closest node not in that component\n",
      "Adding edge between deb7 and dec4\n",
      "More than one connected component (n=70), connecting the first with the closest node not in that component\n",
      "Adding edge between dec4 and deck\n",
      "More than one connected component (n=69), connecting the first with the closest node not in that component\n",
      "Adding edge between deck and def5\n",
      "More than one connected component (n=68), connecting the first with the closest node not in that component\n",
      "Adding edge between dm6x and dm7m\n",
      "More than one connected component (n=67), connecting the first with the closest node not in that component\n",
      "Adding edge between dm7m and dm76\n",
      "More than one connected component (n=66), connecting the first with the closest node not in that component\n",
      "Adding edge between dmut and dmvr\n",
      "More than one connected component (n=65), connecting the first with the closest node not in that component\n",
      "Adding edge between dqqf and dqx0\n",
      "More than one connected component (n=64), connecting the first with the closest node not in that component\n",
      "Adding edge between dxe4 and dx7k\n",
      "More than one connected component (n=63), connecting the first with the closest node not in that component\n",
      "Adding edge between 9m4v and 9kfr\n",
      "More than one connected component (n=62), connecting the first with the closest node not in that component\n",
      "Adding edge between dm7m and dmkm\n",
      "More than one connected component (n=61), connecting the first with the closest node not in that component\n",
      "Adding edge between dmkm and dmku\n",
      "More than one connected component (n=60), connecting the first with the closest node not in that component\n",
      "Adding edge between dmku and dmhy\n",
      "More than one connected component (n=59), connecting the first with the closest node not in that component\n",
      "Adding edge between dmhy and dmm8\n",
      "More than one connected component (n=58), connecting the first with the closest node not in that component\n",
      "Adding edge between dmm8 and dmq4\n",
      "More than one connected component (n=57), connecting the first with the closest node not in that component\n",
      "Adding edge between dmq4 and dmqm\n",
      "More than one connected component (n=56), connecting the first with the closest node not in that component\n",
      "Adding edge between dmqm and dmqe\n",
      "More than one connected component (n=55), connecting the first with the closest node not in that component\n",
      "Adding edge between dmqm and dmwd\n",
      "More than one connected component (n=54), connecting the first with the closest node not in that component\n",
      "Adding edge between dmwd and dmw5\n",
      "More than one connected component (n=53), connecting the first with the closest node not in that component\n",
      "Adding edge between dmw5 and dmtv\n",
      "More than one connected component (n=52), connecting the first with the closest node not in that component\n",
      "Adding edge between dmwd and dmwz\n",
      "More than one connected component (n=51), connecting the first with the closest node not in that component\n",
      "Adding edge between dmtv and dmt5\n",
      "More than one connected component (n=50), connecting the first with the closest node not in that component\n",
      "Adding edge between dmwz and dmyt\n",
      "More than one connected component (n=49), connecting the first with the closest node not in that component\n",
      "Adding edge between dmyt and dqn2\n",
      "More than one connected component (n=48), connecting the first with the closest node not in that component\n",
      "Adding edge between dmqu and dmpr\n",
      "More than one connected component (n=47), connecting the first with the closest node not in that component\n",
      "Adding edge between dqk0 and dqm0\n",
      "More than one connected component (n=46), connecting the first with the closest node not in that component\n",
      "Adding edge between 9jyg and 9jwk\n",
      "More than one connected component (n=45), connecting the first with the closest node not in that component\n",
      "Adding edge between 9psq and 9pkn\n",
      "More than one connected component (n=44), connecting the first with the closest node not in that component\n",
      "Adding edge between 9pue and 9pgw\n",
      "More than one connected component (n=43), connecting the first with the closest node not in that component\n",
      "Adding edge between 9pgw and c05g\n",
      "More than one connected component (n=42), connecting the first with the closest node not in that component\n",
      "Adding edge between 9nmp and 9ns5\n",
      "More than one connected component (n=41), connecting the first with the closest node not in that component\n",
      "Adding edge between dkkr and dku8\n",
      "More than one connected component (n=40), connecting the first with the closest node not in that component\n",
      "Adding edge between dku9 and dkum\n",
      "More than one connected component (n=39), connecting the first with the closest node not in that component\n",
      "Adding edge between dku9 and dkvk\n",
      "More than one connected component (n=38), connecting the first with the closest node not in that component\n",
      "Adding edge between dknb and dkq3\n",
      "More than one connected component (n=37), connecting the first with the closest node not in that component\n",
      "Adding edge between ds04 and ds2f\n",
      "More than one connected component (n=36), connecting the first with the closest node not in that component\n",
      "Adding edge between ds2f and ds3x\n",
      "More than one connected component (n=35), connecting the first with the closest node not in that component\n",
      "Adding edge between ds3x and ds95\n",
      "More than one connected component (n=34), connecting the first with the closest node not in that component\n",
      "Adding edge between ds95 and ds9t\n",
      "More than one connected component (n=33), connecting the first with the closest node not in that component\n",
      "Adding edge between ds9t and dsds\n",
      "More than one connected component (n=32), connecting the first with the closest node not in that component\n",
      "Adding edge between dsds and dsej\n",
      "More than one connected component (n=31), connecting the first with the closest node not in that component\n",
      "Adding edge between dsej and dsg1\n",
      "More than one connected component (n=30), connecting the first with the closest node not in that component\n",
      "Adding edge between dsg1 and dsfv\n",
      "More than one connected component (n=29), connecting the first with the closest node not in that component\n",
      "Adding edge between dsfv and dsgp\n",
      "More than one connected component (n=28), connecting the first with the closest node not in that component\n",
      "Adding edge between dsgp and dt51\n",
      "More than one connected component (n=27), connecting the first with the closest node not in that component\n",
      "Adding edge between dt51 and dt57\n",
      "More than one connected component (n=26), connecting the first with the closest node not in that component\n",
      "Adding edge between dt57 and dt6b\n",
      "More than one connected component (n=25), connecting the first with the closest node not in that component\n",
      "Adding edge between dt6b and dt6g\n",
      "More than one connected component (n=24), connecting the first with the closest node not in that component\n",
      "Adding edge between dt7h and dte5\n",
      "More than one connected component (n=23), connecting the first with the closest node not in that component\n",
      "Adding edge between dte5 and dtd7\n",
      "More than one connected component (n=22), connecting the first with the closest node not in that component\n",
      "Adding edge between dtcc and dtcg\n",
      "More than one connected component (n=21), connecting the first with the closest node not in that component\n",
      "Adding edge between dt57 and dthp\n",
      "More than one connected component (n=20), connecting the first with the closest node not in that component\n",
      "Adding edge between dtdr and dtgh\n",
      "More than one connected component (n=19), connecting the first with the closest node not in that component\n",
      "Adding edge between dt6b and dt3c\n",
      "More than one connected component (n=18), connecting the first with the closest node not in that component\n",
      "Adding edge between dt3c and dt32\n",
      "More than one connected component (n=17), connecting the first with the closest node not in that component\n",
      "Adding edge between dt9x and dt8r\n",
      "More than one connected component (n=16), connecting the first with the closest node not in that component\n",
      "Adding edge between dtcg and dw1v\n",
      "More than one connected component (n=15), connecting the first with the closest node not in that component\n",
      "Adding edge between dw1v and dw38\n",
      "More than one connected component (n=14), connecting the first with the closest node not in that component\n",
      "Adding edge between dw1v and dw4x\n",
      "More than one connected component (n=13), connecting the first with the closest node not in that component\n",
      "Adding edge between dw38 and dw0y\n",
      "More than one connected component (n=12), connecting the first with the closest node not in that component\n",
      "Adding edge between 9kmt and 9kk7\n",
      "More than one connected component (n=11), connecting the first with the closest node not in that component\n",
      "Adding edge between 9kk7 and 9kht\n",
      "More than one connected component (n=10), connecting the first with the closest node not in that component\n",
      "Adding edge between 9kht and 9kh7\n",
      "More than one connected component (n=9), connecting the first with the closest node not in that component\n",
      "Adding edge between 9m2r and 9m0j\n",
      "More than one connected component (n=8), connecting the first with the closest node not in that component\n",
      "Adding edge between 9m0j and 9jpc\n",
      "More than one connected component (n=7), connecting the first with the closest node not in that component\n",
      "Adding edge between dx01 and dw8r\n",
      "More than one connected component (n=6), connecting the first with the closest node not in that component\n",
      "Adding edge between 9ntg and 9nvn\n",
      "More than one connected component (n=5), connecting the first with the closest node not in that component\n",
      "Adding edge between dmpr and dkz6\n",
      "More than one connected component (n=4), connecting the first with the closest node not in that component\n",
      "Adding edge between 9kfr and 9kd4\n",
      "More than one connected component (n=3), connecting the first with the closest node not in that component\n",
      "Adding edge between 9jpc and 9hqw\n",
      "More than one connected component (n=2), connecting the first with the closest node not in that component\n",
      "Adding edge between 9hqw and 9hqp\n"
     ]
    }
   ],
   "source": [
    "from src.matrices.connectivity import ConnectivityMatrix\n",
    "\n",
    "connectivity_matrix = ConnectivityMatrix.build(geocode_dataframe)"
   ]
  },
  {
   "cell_type": "markdown",
   "id": "779a1ded",
   "metadata": {},
   "source": [
    "### Preview"
   ]
  },
  {
   "cell_type": "code",
   "execution_count": 16,
   "id": "a0a89bf6",
   "metadata": {},
   "outputs": [
    {
     "data": {
      "text/plain": [
       "array([[0, 0, 1, ..., 0, 0, 0],\n",
       "       [0, 0, 1, ..., 0, 0, 0],\n",
       "       [1, 1, 0, ..., 0, 0, 0],\n",
       "       ...,\n",
       "       [0, 0, 0, ..., 0, 0, 0],\n",
       "       [0, 0, 0, ..., 0, 0, 1],\n",
       "       [0, 0, 0, ..., 0, 1, 0]], shape=(20759, 20759))"
      ]
     },
     "execution_count": 16,
     "metadata": {},
     "output_type": "execute_result"
    }
   ],
   "source": [
    "connectivity_matrix._connectivity_matrix"
   ]
  },
  {
   "cell_type": "markdown",
   "id": "79cc061b",
   "metadata": {},
   "source": [
    "## `DistanceMatrix`\n",
    "\n",
    "### Build"
   ]
  },
  {
   "cell_type": "code",
   "execution_count": 17,
   "id": "f7e3d885",
   "metadata": {},
   "outputs": [],
   "source": [
    "from src.matrices.distance import DistanceMatrix\n",
    "\n",
    "distance_matrix = DistanceMatrix.build(\n",
    "    geocode_taxa_counts_dataframe,\n",
    "    geocode_dataframe,\n",
    ")"
   ]
  },
  {
   "cell_type": "markdown",
   "id": "214d36ed",
   "metadata": {},
   "source": [
    "### Preview"
   ]
  },
  {
   "cell_type": "code",
   "execution_count": 18,
   "id": "4f233d45",
   "metadata": {},
   "outputs": [
    {
     "data": {
      "text/plain": [
       "array([[0.        , 0.08834434, 0.        , ..., 0.0606778 , 0.14023975,\n",
       "        0.13506384],\n",
       "       [0.08834434, 0.        , 0.08834434, ..., 0.0609374 , 0.13517925,\n",
       "        0.13032476],\n",
       "       [0.        , 0.08834434, 0.        , ..., 0.0606778 , 0.14023975,\n",
       "        0.13506384],\n",
       "       ...,\n",
       "       [0.0606778 , 0.0609374 , 0.0606778 , ..., 0.        , 0.12093976,\n",
       "        0.1173058 ],\n",
       "       [0.14023975, 0.13517925, 0.14023975, ..., 0.12093976, 0.        ,\n",
       "        0.16501524],\n",
       "       [0.13506384, 0.13032476, 0.13506384, ..., 0.1173058 , 0.16501524,\n",
       "        0.        ]], shape=(20759, 20759))"
      ]
     },
     "execution_count": 18,
     "metadata": {},
     "output_type": "execute_result"
    }
   ],
   "source": [
    "distance_matrix.squareform()"
   ]
  },
  {
   "cell_type": "markdown",
   "id": "3ae9ea61",
   "metadata": {},
   "source": [
    "## `GeohashClusterDataFrame`\n",
    "\n",
    "### Build"
   ]
  },
  {
   "cell_type": "code",
   "execution_count": 19,
   "id": "eaedbc3d",
   "metadata": {},
   "outputs": [],
   "source": [
    "from src.dataframes.geocode_cluster import GeocodeClusterDataFrame\n",
    "\n",
    "geocode_cluster_dataframe = GeocodeClusterDataFrame.build(\n",
    "    geocode_dataframe,\n",
    "    distance_matrix,\n",
    "    connectivity_matrix,\n",
    "    # num_clusters,\n",
    "    60,\n",
    ")"
   ]
  },
  {
   "cell_type": "markdown",
   "id": "d6713b4a",
   "metadata": {},
   "source": [
    "### Preview"
   ]
  },
  {
   "cell_type": "code",
   "execution_count": 20,
   "id": "04c9d615",
   "metadata": {},
   "outputs": [
    {
     "data": {
      "text/html": [
       "<div><style>\n",
       ".dataframe > thead > tr,\n",
       ".dataframe > tbody > tr {\n",
       "  text-align: right;\n",
       "  white-space: pre-wrap;\n",
       "}\n",
       "</style>\n",
       "<small>shape: (3, 2)</small><table border=\"1\" class=\"dataframe\"><thead><tr><th>geocode</th><th>cluster</th></tr><tr><td>str</td><td>u32</td></tr></thead><tbody><tr><td>&quot;97zz&quot;</td><td>48</td></tr><tr><td>&quot;9eb4&quot;</td><td>48</td></tr><tr><td>&quot;9ebn&quot;</td><td>48</td></tr></tbody></table></div>"
      ],
      "text/plain": [
       "shape: (3, 2)\n",
       "┌─────────┬─────────┐\n",
       "│ geocode ┆ cluster │\n",
       "│ ---     ┆ ---     │\n",
       "│ str     ┆ u32     │\n",
       "╞═════════╪═════════╡\n",
       "│ 97zz    ┆ 48      │\n",
       "│ 9eb4    ┆ 48      │\n",
       "│ 9ebn    ┆ 48      │\n",
       "└─────────┴─────────┘"
      ]
     },
     "execution_count": 20,
     "metadata": {},
     "output_type": "execute_result"
    }
   ],
   "source": [
    "geocode_cluster_dataframe.df.limit(3)"
   ]
  },
  {
   "cell_type": "code",
   "execution_count": 21,
   "id": "b2330990",
   "metadata": {},
   "outputs": [
    {
     "name": "stdout",
     "output_type": "stream",
     "text": [
      "2: 0.16485492582527791\n",
      "3: 0.11622373383669388\n",
      "4: -0.17447827901109275\n",
      "5: -0.15883634882412134\n",
      "6: -0.18609993552582896\n",
      "7: -0.1804488903337901\n",
      "8: -0.17856758025531078\n",
      "9: -0.1768942029669183\n",
      "10: -0.17550606105914174\n",
      "11: -0.17439916903155428\n",
      "12: -0.1724994492214062\n",
      "13: -0.17175245970897807\n",
      "14: -0.1699621087940511\n",
      "15: -0.16812256241810225\n"
     ]
    },
    {
     "ename": "KeyboardInterrupt",
     "evalue": "",
     "output_type": "error",
     "traceback": [
      "\u001b[31m---------------------------------------------------------------------------\u001b[39m",
      "\u001b[31mKeyboardInterrupt\u001b[39m                         Traceback (most recent call last)",
      "\u001b[36mCell\u001b[39m\u001b[36m \u001b[39m\u001b[32mIn[21]\u001b[39m\u001b[32m, line 16\u001b[39m\n\u001b[32m      8\u001b[39m \u001b[38;5;28;01mfor\u001b[39;00m i \u001b[38;5;129;01min\u001b[39;00m \u001b[38;5;28mrange\u001b[39m(\u001b[32m2\u001b[39m, \u001b[32m200\u001b[39m):\n\u001b[32m      9\u001b[39m     geocode_cluster_dataframe = GeocodeClusterDataFrame.build(\n\u001b[32m     10\u001b[39m         geocode_dataframe,\n\u001b[32m     11\u001b[39m         distance_matrix,\n\u001b[32m     12\u001b[39m         connectivity_matrix,\n\u001b[32m     13\u001b[39m         num_clusters=i,\n\u001b[32m     14\u001b[39m     )\n\u001b[32m     15\u001b[39m     score = silhouette_score(\n\u001b[32m---> \u001b[39m\u001b[32m16\u001b[39m         X=\u001b[43mdistance_matrix\u001b[49m\u001b[43m.\u001b[49m\u001b[43msquareform\u001b[49m\u001b[43m(\u001b[49m\u001b[43m)\u001b[49m,\n\u001b[32m     17\u001b[39m         labels=geocode_cluster_dataframe.df[\u001b[33m\"\u001b[39m\u001b[33mcluster\u001b[39m\u001b[33m\"\u001b[39m],\n\u001b[32m     18\u001b[39m         metric=\u001b[33m\"\u001b[39m\u001b[33mprecomputed\u001b[39m\u001b[33m\"\u001b[39m,\n\u001b[32m     19\u001b[39m     )\n\u001b[32m     20\u001b[39m     \u001b[38;5;28mprint\u001b[39m(\u001b[33mf\u001b[39m\u001b[33m\"\u001b[39m\u001b[38;5;132;01m{\u001b[39;00mi\u001b[38;5;132;01m}\u001b[39;00m\u001b[33m: \u001b[39m\u001b[38;5;132;01m{\u001b[39;00mscore\u001b[38;5;132;01m}\u001b[39;00m\u001b[33m\"\u001b[39m)\n\u001b[32m     21\u001b[39m     results.append((i, score))\n",
      "\u001b[36mFile \u001b[39m\u001b[32m~/dev/frewsxcv/citizen-science-ecoregions-experiments/src/matrices/distance.py:143\u001b[39m, in \u001b[36mDistanceMatrix.squareform\u001b[39m\u001b[34m(self)\u001b[39m\n\u001b[32m    142\u001b[39m \u001b[38;5;28;01mdef\u001b[39;00m\u001b[38;5;250m \u001b[39m\u001b[34msquareform\u001b[39m(\u001b[38;5;28mself\u001b[39m) -> np.ndarray:\n\u001b[32m--> \u001b[39m\u001b[32m143\u001b[39m     \u001b[38;5;28;01mreturn\u001b[39;00m \u001b[43msquareform\u001b[49m\u001b[43m(\u001b[49m\u001b[38;5;28;43mself\u001b[39;49m\u001b[43m.\u001b[49m\u001b[43m_condensed\u001b[49m\u001b[43m)\u001b[49m\n",
      "\u001b[36mFile \u001b[39m\u001b[32m~/dev/frewsxcv/citizen-science-ecoregions-experiments/.venv/lib/python3.13/site-packages/scipy/spatial/distance.py:2460\u001b[39m, in \u001b[36msquareform\u001b[39m\u001b[34m(X, force, checks)\u001b[39m\n\u001b[32m   2457\u001b[39m X = _copy_array_if_base_present(X)\n\u001b[32m   2459\u001b[39m \u001b[38;5;66;03m# Fill in the values of the distance matrix.\u001b[39;00m\n\u001b[32m-> \u001b[39m\u001b[32m2460\u001b[39m \u001b[43m_distance_wrap\u001b[49m\u001b[43m.\u001b[49m\u001b[43mto_squareform_from_vector_wrap\u001b[49m\u001b[43m(\u001b[49m\u001b[43mM\u001b[49m\u001b[43m,\u001b[49m\u001b[43m \u001b[49m\u001b[43mX\u001b[49m\u001b[43m)\u001b[49m\n\u001b[32m   2462\u001b[39m \u001b[38;5;66;03m# Return the distance matrix.\u001b[39;00m\n\u001b[32m   2463\u001b[39m \u001b[38;5;28;01mreturn\u001b[39;00m M\n",
      "\u001b[31mKeyboardInterrupt\u001b[39m: "
     ]
    }
   ],
   "source": [
    "# # TMP\n",
    "\n",
    "# from src.dataframes.geocode_cluster import GeocodeClusterDataFrame\n",
    "# from sklearn.metrics import silhouette_score\n",
    "\n",
    "# results = []\n",
    "\n",
    "# for i in range(2, 200):\n",
    "#     geocode_cluster_dataframe = GeocodeClusterDataFrame.build(\n",
    "#         geocode_dataframe,\n",
    "#         distance_matrix,\n",
    "#         connectivity_matrix,\n",
    "#         num_clusters=i,\n",
    "#     )\n",
    "#     score = silhouette_score(\n",
    "#         X=distance_matrix.squareform(),\n",
    "#         labels=geocode_cluster_dataframe.df[\"cluster\"],\n",
    "#         metric=\"precomputed\",\n",
    "#     )\n",
    "#     print(f\"{i}: {score}\")\n",
    "#     results.append((i, score))\n",
    "\n",
    "# results\n"
   ]
  },
  {
   "cell_type": "markdown",
   "id": "089e1634",
   "metadata": {},
   "source": [
    "## `ClusterColorDataFrame`\n",
    "\n",
    "### Build"
   ]
  },
  {
   "cell_type": "code",
   "execution_count": 24,
   "id": "98c37aad",
   "metadata": {},
   "outputs": [],
   "source": [
    "from src.dataframes.cluster_color import ClusterColorDataFrame\n",
    "\n",
    "cluster_colors_dataframe = ClusterColorDataFrame.build(geocode_cluster_dataframe)"
   ]
  },
  {
   "cell_type": "markdown",
   "id": "7874af43",
   "metadata": {},
   "source": [
    "### Preview"
   ]
  },
  {
   "cell_type": "code",
   "execution_count": null,
   "id": "c0bf9f80",
   "metadata": {},
   "outputs": [],
   "source": [
    "cluster_colors_dataframe.df.limit(3)"
   ]
  },
  {
   "cell_type": "markdown",
   "id": "c5126a20",
   "metadata": {},
   "source": [
    "## Silhouette score"
   ]
  },
  {
   "cell_type": "code",
   "execution_count": null,
   "id": "35aafa8e",
   "metadata": {},
   "outputs": [],
   "source": [
    "\n",
    "from sklearn.metrics import silhouette_score\n",
    "\n",
    "silhouette_score(\n",
    "    X=distance_matrix.squareform(),\n",
    "    labels=geocode_cluster_dataframe.df[\"cluster\"],\n",
    "    metric=\"precomputed\",\n",
    ")\n"
   ]
  },
  {
   "cell_type": "code",
   "execution_count": null,
   "id": "30ba0cf3",
   "metadata": {},
   "outputs": [],
   "source": [
    "from sklearn.metrics import silhouette_samples\n",
    "import matplotlib.pyplot as plt\n",
    "import polars as pl\n",
    "import matplotlib.pyplot as plt\n",
    "import numpy as np\n",
    "\n",
    "samples = silhouette_samples(\n",
    "    X=distance_matrix.squareform(),\n",
    "    labels=geocode_cluster_dataframe.df[\"cluster\"],\n",
    "    metric=\"precomputed\",\n",
    ")\n",
    "\n",
    "new = geocode_cluster_dataframe.df.with_columns(\n",
    "    pl.Series(\n",
    "        name=\"sample\",\n",
    "        values=samples,\n",
    "    )\n",
    ")\n",
    "\n",
    "n_clusters = len(geocode_cluster_dataframe.df[\"cluster\"].unique())\n",
    "n_geocodees = len(distance_matrix.squareform())\n",
    "\n",
    "# Create a subplot with 1 row and 2 columns\n",
    "fig, ax1 = plt.subplots()\n",
    "fig.set_size_inches(18, 7)\n",
    "# The 1st subplot is the silhouette plot\n",
    "# The silhouette coefficient can range from -1, 1 but in this example all\n",
    "# lie within [-0.1, 1]\n",
    "# ax1.set_xlim([-0.1, 1])\n",
    "# The (n_clusters+1)*10 is for inserting blank space between silhouette\n",
    "# plots of individual clusters, to demarcate them clearly.\n",
    "ax1.set_ylim([0, n_geocodees + (n_clusters + 1) * 10])\n",
    "\n",
    "y_lower = 10\n",
    "for i, cluster in enumerate(geocode_cluster_dataframe.df[\"cluster\"].unique()):\n",
    "    ith_cluster_silhouette_values = (new.filter(pl.col(\"cluster\") == cluster).sort(\"sample\", descending=True))[\"sample\"]\n",
    "\n",
    "    size_cluster_i = ith_cluster_silhouette_values.shape[0]\n",
    "    y_upper = y_lower + size_cluster_i\n",
    "\n",
    "    color =  cluster_colors_dataframe.get_color_for_cluster(cluster)\n",
    "    ax1.fill_betweenx(\n",
    "        np.arange(y_lower, y_upper),\n",
    "        0,\n",
    "        ith_cluster_silhouette_values,\n",
    "        facecolor=color,\n",
    "        edgecolor=color,\n",
    "    )\n",
    "\n",
    "    # Compute the new y_lower for next plot\n",
    "    y_lower = y_upper + 10  # 10 for the 0 samples\n"
   ]
  },
  {
   "cell_type": "markdown",
   "id": "a5c4faa1",
   "metadata": {},
   "source": [
    "## `ClusterTaxaStatisticsDataFrame`\n",
    "\n",
    "### Build"
   ]
  },
  {
   "cell_type": "code",
   "execution_count": 27,
   "id": "39c1a999",
   "metadata": {},
   "outputs": [],
   "source": [
    "from src.dataframes.cluster_taxa_statistics import ClusterTaxaStatisticsDataFrame\n",
    "\n",
    "cluster_taxa_statistics_dataframe = ClusterTaxaStatisticsDataFrame.build(\n",
    "    geocode_taxa_counts_dataframe,\n",
    "    geocode_cluster_dataframe,\n",
    "    taxonomy_dataframe,\n",
    ")"
   ]
  },
  {
   "cell_type": "markdown",
   "id": "abb7c9b6",
   "metadata": {},
   "source": [
    "### Preview"
   ]
  },
  {
   "cell_type": "code",
   "execution_count": null,
   "id": "87264ffa",
   "metadata": {},
   "outputs": [],
   "source": [
    "cluster_taxa_statistics_dataframe.df.limit(3)"
   ]
  },
  {
   "cell_type": "markdown",
   "id": "8ba074be",
   "metadata": {},
   "source": [
    "## `ClusterSignificantDifferencesDataFrame`\n",
    "\n",
    "### Build"
   ]
  },
  {
   "cell_type": "code",
   "execution_count": 29,
   "id": "51fd3375",
   "metadata": {},
   "outputs": [],
   "source": [
    "from src.dataframes.cluster_significant_differences import ClusterSignificantDifferencesDataFrame\n",
    "\n",
    "cluster_significant_differences_dataframe = ClusterSignificantDifferencesDataFrame.build(\n",
    "    cluster_taxa_statistics_dataframe,\n",
    ")"
   ]
  },
  {
   "cell_type": "markdown",
   "id": "f1ee5c86",
   "metadata": {},
   "source": [
    "### Preview"
   ]
  },
  {
   "cell_type": "code",
   "execution_count": null,
   "id": "d48c1e6b",
   "metadata": {},
   "outputs": [],
   "source": [
    "cluster_significant_differences_dataframe.df.limit(3)"
   ]
  },
  {
   "cell_type": "markdown",
   "id": "d244acaa",
   "metadata": {},
   "source": [
    "## Build and plot GeoJSON feature collection"
   ]
  },
  {
   "cell_type": "code",
   "execution_count": null,
   "id": "9fde6339",
   "metadata": {},
   "outputs": [],
   "source": [
    "from src.geojson import build_geojson_feature_collection, write_geojson\n",
    "from src.render import plot_clusters\n",
    "import matplotlib.pyplot as plt\n",
    "\n",
    "# Set the figure size\n",
    "plt.rcParams['figure.figsize'] = [12, 7]\n",
    "\n",
    "feature_collection = build_geojson_feature_collection(\n",
    "    geocode_cluster_dataframe,\n",
    "    cluster_colors_dataframe,\n",
    ")\n",
    "\n",
    "# print_results(darwin_core_aggregations, all_stats, cluster_dataframe)\n",
    "\n",
    "write_geojson(feature_collection, output_file)\n",
    "\n",
    "plot_clusters(feature_collection)"
   ]
  },
  {
   "cell_type": "markdown",
   "id": "a56060aa",
   "metadata": {},
   "source": [
    "# Build and display HTML output"
   ]
  },
  {
   "cell_type": "code",
   "execution_count": null,
   "id": "672180bd",
   "metadata": {},
   "outputs": [],
   "source": [
    "from src.html_output import build_html_output\n",
    "from IPython.display import display, HTML\n",
    "\n",
    "html = build_html_output(\n",
    "    cluster_colors_dataframe,\n",
    "    cluster_significant_differences_dataframe,\n",
    ")\n",
    "\n",
    "display(HTML(html))\n"
   ]
  },
  {
   "cell_type": "code",
   "execution_count": null,
   "id": "33f2c697",
   "metadata": {},
   "outputs": [],
   "source": [
    "from sklearn.manifold import TSNE\n",
    "\n",
    "tsne = TSNE(\n",
    "    n_components=2,\n",
    "    random_state=42,\n",
    "    metric=\"precomputed\",\n",
    "    init=\"random\",\n",
    "    perplexity=min(30, distance_matrix.squareform().shape[0] - 1), # HACK FOR SMALLER DATASETS\n",
    ")\n",
    "X_tsne = tsne.fit_transform(distance_matrix.squareform())\n",
    "tsne.kl_divergence_\n"
   ]
  },
  {
   "cell_type": "code",
   "execution_count": null,
   "id": "9168849f",
   "metadata": {},
   "outputs": [],
   "source": [
    "import seaborn as sns\n",
    "\n",
    "sns.scatterplot(\n",
    "    x=X_tsne[:, 0],\n",
    "    y=X_tsne[:, 1],\n",
    "    hue=geocode_cluster_dataframe.df[\"cluster\"],\n",
    "    palette=cluster_colors_dataframe.to_dict(),\n",
    "    alpha=1,\n",
    ")"
   ]
  },
  {
   "cell_type": "code",
   "execution_count": null,
   "id": "54d78320",
   "metadata": {},
   "outputs": [],
   "source": [
    "import seaborn as sns\n",
    "import polars as pl\n",
    "from scipy.cluster.hierarchy import linkage\n",
    "\n",
    "\n",
    "linkage_array = linkage(distance_matrix.condensed(), \"ward\")\n",
    "\n",
    "ordered_geocodees = geocode_dataframe.df[\"geocode\"].unique()\n",
    "\n",
    "def min_max_normalize(series: pl.Series) -> pl.Series:\n",
    "    return (series - series.min()) / (series.max() - series.min())\n",
    "\n",
    "col_colors = []\n",
    "for geocode in ordered_geocodees:\n",
    "    cluster = geocode_cluster_dataframe.cluster_for_geocode(geocode)\n",
    "    col_colors.append(cluster_colors_dataframe.get_color_for_cluster(cluster))\n",
    "\n",
    "data = {}\n",
    "for species in cluster_significant_differences_dataframe.df[\"taxon\"].unique():\n",
    "    counts = []\n",
    "\n",
    "    for geocode in ordered_geocodees:\n",
    "        geocode_counts_species = geocode_taxa_counts_dataframe.df.filter(\n",
    "            pl.col(\"geocode\") == geocode, pl.col(\"name\") == species\n",
    "        ).get_column(\"count\").sum()\n",
    "        geocode_counts_all = geocode_taxa_counts_dataframe.df.filter(\n",
    "            pl.col(\"geocode\") == geocode\n",
    "        ).get_column(\"count\").sum()\n",
    "        geocode_average = geocode_counts_species / geocode_counts_all\n",
    "        all_average = (\n",
    "            cluster_taxa_statistics_dataframe.df.filter(\n",
    "                # pl.col(\"kingdom\") == kingdom, FIXME\n",
    "                pl.col(\"name\") == species,\n",
    "                pl.col(\"cluster\").is_null(),\n",
    "                pl.col(\"rank\") == TaxonRank.species,\n",
    "            )\n",
    "            .get_column(\"average\")\n",
    "            .item()\n",
    "        )\n",
    "        counts.append(geocode_average - all_average)\n",
    "    counts = pl.Series(\n",
    "        values=counts,\n",
    "        name=species,\n",
    "    )\n",
    "    # counts = counts / counts.max()\n",
    "    # counts = counts.pow(1 / 3)\n",
    "    data[species] = min_max_normalize(counts)\n"
   ]
  },
  {
   "cell_type": "code",
   "execution_count": null,
   "id": "92925ee1",
   "metadata": {},
   "outputs": [],
   "source": [
    "data"
   ]
  },
  {
   "cell_type": "code",
   "execution_count": null,
   "id": "1f706269",
   "metadata": {},
   "outputs": [],
   "source": [
    "dataframe = pl.DataFrame(data=data)\n",
    "sns.clustermap(\n",
    "    data=dataframe,\n",
    "    col_cluster=False,\n",
    "    row_cluster=True,\n",
    "    row_linkage=linkage_array,\n",
    "    row_colors=col_colors,\n",
    "    xticklabels=dataframe.columns,\n",
    "    yticklabels=False,\n",
    ")"
   ]
  }
 ],
 "metadata": {
  "kernelspec": {
   "display_name": ".venv",
   "language": "python",
   "name": "python3"
  },
  "language_info": {
   "codemirror_mode": {
    "name": "ipython",
    "version": 3
   },
   "file_extension": ".py",
   "mimetype": "text/x-python",
   "name": "python",
   "nbconvert_exporter": "python",
   "pygments_lexer": "ipython3",
   "version": "3.13.1"
  }
 },
 "nbformat": 4,
 "nbformat_minor": 5
}

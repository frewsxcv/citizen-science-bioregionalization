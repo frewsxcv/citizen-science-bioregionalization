{
 "cells": [
  {
   "cell_type": "code",
   "execution_count": 5,
   "id": "d3220cf1",
   "metadata": {},
   "outputs": [],
   "source": [
    "from src.geojson import build_geojson_feature_collection\n",
    "from src.cluster_stats import Stats\n",
    "from src.dataframes.geohash_taxa_counts import GeohashTaxaCountsDataFrame\n",
    "from src.render import plot_clusters\n",
    "from src.geojson import build_geojson_feature_collection\n",
    "import logging\n",
    "from run import cluster\n",
    "import polars as pl\n"
   ]
  },
  {
   "cell_type": "code",
   "execution_count": 6,
   "id": "5bd4a825",
   "metadata": {},
   "outputs": [],
   "source": [
    "# Inputs\n",
    "input_file = \"data-north-america-us-ca-mx.csv\"\n",
    "geohash_precision = 3\n",
    "show_dendrogram = True\n",
    "log_file = \"log.txt\"\n",
    "output_file = \"output.geojson\"\n",
    "num_clusters = 8\n",
    "use_cache = False\n",
    "plot = True"
   ]
  },
  {
   "cell_type": "code",
   "execution_count": 7,
   "id": "44ea301b",
   "metadata": {},
   "outputs": [],
   "source": [
    "# set up logging\n",
    "logging.basicConfig(filename=log_file, encoding=\"utf-8\", level=logging.INFO)\n"
   ]
  },
  {
   "cell_type": "code",
   "execution_count": 8,
   "id": "193e313e",
   "metadata": {},
   "outputs": [],
   "source": [
    "geohash_taxa_counts_dataframe = GeohashTaxaCountsDataFrame.build(\n",
    "    input_file, geohash_precision\n",
    ")"
   ]
  },
  {
   "cell_type": "code",
   "execution_count": null,
   "id": "c6bdfbbd",
   "metadata": {},
   "outputs": [],
   "source": [
    "geohash_taxa_counts_dataframe.df"
   ]
  },
  {
   "cell_type": "code",
   "execution_count": null,
   "id": "eaedbc3d",
   "metadata": {},
   "outputs": [],
   "source": [
    "\n",
    "cluster_index = cluster.run(\n",
    "    geohash_taxa_counts_dataframe,\n",
    "    num_clusters,\n",
    "    show_dendrogram,\n",
    "    use_cache,\n",
    ")"
   ]
  },
  {
   "cell_type": "code",
   "execution_count": 8,
   "id": "359469d9",
   "metadata": {},
   "outputs": [],
   "source": [
    "# Exclude the Aleutian Islands\n",
    "cluster_index.df = cluster_index.df.filter(pl.col(\"geohash\").str.starts_with(\"z\").not_())"
   ]
  },
  {
   "cell_type": "code",
   "execution_count": null,
   "id": "9fde6339",
   "metadata": {},
   "outputs": [],
   "source": [
    "from src.dataframes.cluster_color import ClusterColorDataFrame\n",
    "\n",
    "# Find the top averages of taxon\n",
    "all_stats = Stats.build(geohash_taxa_counts_dataframe)\n",
    "\n",
    "cluster_colors = ClusterColorDataFrame.from_clusters(cluster_index.cluster_ids())\n",
    "\n",
    "feature_collection = build_geojson_feature_collection(\n",
    "    cluster_index,\n",
    "    cluster_colors,\n",
    ")\n",
    "\n",
    "# print_results(darwin_core_aggregations, all_stats, cluster_dataframe)\n",
    "\n",
    "from run import write_geojson\n",
    "write_geojson(feature_collection, output_file)\n",
    "\n",
    "plot_clusters(feature_collection)\n",
    "\n",
    "# write_geojson(feature_collection, args.output_file)"
   ]
  },
  {
   "cell_type": "code",
   "execution_count": null,
   "id": "672180bd",
   "metadata": {},
   "outputs": [],
   "source": [
    "from src.html_output import build_html_output\n",
    "from IPython.display import display, HTML\n",
    "\n",
    "html = build_html_output(\n",
    "    geohash_taxa_counts_dataframe,\n",
    "    cluster_index,\n",
    "    cluster_colors,\n",
    "    all_stats,\n",
    ")\n",
    "\n",
    "display(HTML(html))\n"
   ]
  }
 ],
 "metadata": {
  "kernelspec": {
   "display_name": ".venv",
   "language": "python",
   "name": "python3"
  },
  "language_info": {
   "codemirror_mode": {
    "name": "ipython",
    "version": 3
   },
   "file_extension": ".py",
   "mimetype": "text/x-python",
   "name": "python",
   "nbconvert_exporter": "python",
   "pygments_lexer": "ipython3",
   "version": "3.13.0"
  }
 },
 "nbformat": 4,
 "nbformat_minor": 5
}

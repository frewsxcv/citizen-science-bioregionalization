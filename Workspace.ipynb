{
 "cells": [
  {
   "cell_type": "markdown",
   "id": "f06de749",
   "metadata": {
    "slideshow": {
     "slide_type": "slide"
    }
   },
   "source": [
    "# Dynamic ecoregions"
   ]
  },
  {
   "cell_type": "markdown",
   "id": "dd126c3a",
   "metadata": {},
   "source": [
    "## Define inputs"
   ]
  },
  {
   "cell_type": "code",
   "execution_count": 1,
   "id": "99519ac0",
   "metadata": {},
   "outputs": [],
   "source": [
    "# Inputs\n",
    "\n",
    "input_file = \"data/data-continental-united-states.csv\"\n",
    "# input_file = \"data/data-nh-vt.csv\"\n",
    "\n",
    "geocode_precision = 4\n",
    "# geocode_precision = 5\n",
    "\n",
    "log_file = \"run.log\"\n",
    "\n",
    "output_file = \"output.geojson\"\n",
    "\n",
    "num_clusters = 120\n",
    "# num_clusters = 3"
   ]
  },
  {
   "cell_type": "markdown",
   "id": "7bbc4cef",
   "metadata": {},
   "source": [
    "## Set up logging"
   ]
  },
  {
   "cell_type": "code",
   "execution_count": 2,
   "id": "44ea301b",
   "metadata": {},
   "outputs": [],
   "source": [
    "import logging\n",
    "\n",
    "logging.basicConfig(filename=log_file, encoding=\"utf-8\", level=logging.INFO)"
   ]
  },
  {
   "cell_type": "markdown",
   "id": "27b9d760",
   "metadata": {},
   "source": [
    "## Data flow"
   ]
  },
  {
   "cell_type": "code",
   "execution_count": null,
   "id": "551cabe9",
   "metadata": {},
   "outputs": [],
   "source": [
    "from src.dependency_graph import plot_dependency_graph\n",
    "\n",
    "plot_dependency_graph()"
   ]
  },
  {
   "cell_type": "markdown",
   "id": "116c8d33",
   "metadata": {},
   "source": [
    "## `DarwinCoreCsvLazyFrame`"
   ]
  },
  {
   "cell_type": "markdown",
   "id": "5978dfa6",
   "metadata": {},
   "source": [
    "### Build"
   ]
  },
  {
   "cell_type": "code",
   "execution_count": 4,
   "id": "ef114a5c",
   "metadata": {},
   "outputs": [],
   "source": [
    "from src.lazyframes.darwin_core_csv import DarwinCoreCsvLazyFrame\n",
    "\n",
    "darwin_core_csv_lazy_frame = DarwinCoreCsvLazyFrame.build(input_file)"
   ]
  },
  {
   "cell_type": "markdown",
   "id": "a8aecc3d",
   "metadata": {},
   "source": [
    "### Preview"
   ]
  },
  {
   "cell_type": "code",
   "execution_count": null,
   "id": "301909c5",
   "metadata": {},
   "outputs": [],
   "source": [
    "darwin_core_csv_lazy_frame.lf.limit(3).collect()"
   ]
  },
  {
   "cell_type": "markdown",
   "metadata": {},
   "source": [
    "## `GeohashDataFrame`"
   ]
  },
  {
   "cell_type": "markdown",
   "id": "941b9a5b",
   "metadata": {},
   "source": [
    "### Build"
   ]
  },
  {
   "cell_type": "code",
   "execution_count": 6,
   "metadata": {},
   "outputs": [],
   "source": [
    "from src.dataframes.geocode import GeocodeDataFrame\n",
    "\n",
    "geocode_dataframe = GeocodeDataFrame.build(\n",
    "    darwin_core_csv_lazy_frame,\n",
    "    geocode_precision,\n",
    ")"
   ]
  },
  {
   "cell_type": "markdown",
   "metadata": {},
   "source": [
    "### Preview"
   ]
  },
  {
   "cell_type": "code",
   "execution_count": null,
   "metadata": {},
   "outputs": [],
   "source": [
    "geocode_dataframe.df"
   ]
  },
  {
   "cell_type": "markdown",
   "id": "d894f444",
   "metadata": {},
   "source": [
    "## `TaxonomyDataFrame`"
   ]
  },
  {
   "cell_type": "markdown",
   "id": "9aea10c8",
   "metadata": {},
   "source": [
    "### Build"
   ]
  },
  {
   "cell_type": "code",
   "execution_count": 8,
   "id": "dc245900",
   "metadata": {},
   "outputs": [],
   "source": [
    "from src.dataframes.taxonomy import TaxonomyDataFrame\n",
    "\n",
    "taxonomy_dataframe = TaxonomyDataFrame.build(darwin_core_csv_lazy_frame)"
   ]
  },
  {
   "cell_type": "markdown",
   "id": "4fd52a30",
   "metadata": {},
   "source": [
    "### Preview"
   ]
  },
  {
   "cell_type": "code",
   "execution_count": null,
   "id": "da2a0349",
   "metadata": {},
   "outputs": [],
   "source": [
    "taxonomy_dataframe.df"
   ]
  },
  {
   "cell_type": "markdown",
   "id": "a0648044",
   "metadata": {},
   "source": [
    "## `GeohashSpeciesCountsDataFrame`"
   ]
  },
  {
   "cell_type": "markdown",
   "id": "c9342219",
   "metadata": {},
   "source": [
    "### Build"
   ]
  },
  {
   "cell_type": "code",
   "execution_count": 10,
   "id": "193e313e",
   "metadata": {},
   "outputs": [],
   "source": [
    "from src.dataframes.geocode_taxa_counts import GeocodeTaxaCountsDataFrame\n",
    "\n",
    "geocode_taxa_counts_dataframe = GeocodeTaxaCountsDataFrame.build(\n",
    "    darwin_core_csv_lazy_frame,\n",
    "    geocode_precision,\n",
    ")"
   ]
  },
  {
   "cell_type": "markdown",
   "id": "a657db45",
   "metadata": {},
   "source": [
    "### Preview"
   ]
  },
  {
   "cell_type": "code",
   "execution_count": null,
   "id": "650b1cde",
   "metadata": {},
   "outputs": [],
   "source": [
    "geocode_taxa_counts_dataframe.df"
   ]
  },
  {
   "cell_type": "markdown",
   "id": "c702a476",
   "metadata": {},
   "source": [
    "## `ConnectivityMatrix`"
   ]
  },
  {
   "cell_type": "markdown",
   "id": "f3a4e2da",
   "metadata": {},
   "source": [
    "### Build"
   ]
  },
  {
   "cell_type": "code",
   "execution_count": 12,
   "id": "c5e80f91",
   "metadata": {},
   "outputs": [],
   "source": [
    "from src.matrices.connectivity import ConnectivityMatrix\n",
    "\n",
    "connectivity_matrix = ConnectivityMatrix.build(geocode_dataframe)"
   ]
  },
  {
   "cell_type": "markdown",
   "id": "18cfd051",
   "metadata": {},
   "source": [
    "### Shape"
   ]
  },
  {
   "cell_type": "code",
   "execution_count": null,
   "id": "93c28af8",
   "metadata": {},
   "outputs": [],
   "source": [
    "connectivity_matrix._connectivity_matrix.shape"
   ]
  },
  {
   "cell_type": "markdown",
   "id": "779a1ded",
   "metadata": {},
   "source": [
    "### Preview"
   ]
  },
  {
   "cell_type": "code",
   "execution_count": null,
   "id": "a0a89bf6",
   "metadata": {},
   "outputs": [],
   "source": [
    "connectivity_matrix._connectivity_matrix"
   ]
  },
  {
   "cell_type": "markdown",
   "id": "79cc061b",
   "metadata": {},
   "source": [
    "## `DistanceMatrix`"
   ]
  },
  {
   "cell_type": "code",
   "execution_count": null,
   "id": "571ea311",
   "metadata": {},
   "outputs": [],
   "source": [
    "from src.matrices.distance import DistanceMatrix\n",
    "\n",
    "print(DistanceMatrix.__doc__)"
   ]
  },
  {
   "cell_type": "markdown",
   "id": "29d952cb",
   "metadata": {},
   "source": [
    "### Build"
   ]
  },
  {
   "cell_type": "code",
   "execution_count": null,
   "id": "f7e3d885",
   "metadata": {},
   "outputs": [],
   "source": [
    "distance_matrix = DistanceMatrix.build(\n",
    "    geocode_taxa_counts_dataframe,\n",
    "    geocode_dataframe,\n",
    ")"
   ]
  },
  {
   "cell_type": "markdown",
   "id": "116291c9",
   "metadata": {},
   "source": [
    "### Shape"
   ]
  },
  {
   "cell_type": "code",
   "execution_count": null,
   "id": "d15fef8c",
   "metadata": {},
   "outputs": [],
   "source": [
    "distance_matrix.squareform().shape"
   ]
  },
  {
   "cell_type": "markdown",
   "id": "214d36ed",
   "metadata": {},
   "source": [
    "### Preview"
   ]
  },
  {
   "cell_type": "code",
   "execution_count": null,
   "id": "4f233d45",
   "metadata": {},
   "outputs": [],
   "source": [
    "distance_matrix.squareform()"
   ]
  },
  {
   "cell_type": "markdown",
   "id": "3ae9ea61",
   "metadata": {},
   "source": [
    "## `GeohashClusterDataFrame`"
   ]
  },
  {
   "cell_type": "markdown",
   "id": "cc633492",
   "metadata": {},
   "source": [
    "### Build"
   ]
  },
  {
   "cell_type": "code",
   "execution_count": 19,
   "id": "eaedbc3d",
   "metadata": {},
   "outputs": [],
   "source": [
    "from src.dataframes.geocode_cluster import GeocodeClusterDataFrame\n",
    "\n",
    "geocode_cluster_dataframe = GeocodeClusterDataFrame.build(\n",
    "    geocode_dataframe,\n",
    "    distance_matrix,\n",
    "    connectivity_matrix,\n",
    "    num_clusters,\n",
    ")"
   ]
  },
  {
   "cell_type": "markdown",
   "id": "d6713b4a",
   "metadata": {},
   "source": [
    "### Preview"
   ]
  },
  {
   "cell_type": "code",
   "execution_count": null,
   "id": "04c9d615",
   "metadata": {},
   "outputs": [],
   "source": [
    "geocode_cluster_dataframe.df.limit(3)"
   ]
  },
  {
   "cell_type": "code",
   "execution_count": 21,
   "id": "b2330990",
   "metadata": {},
   "outputs": [],
   "source": [
    "# # TMP\n",
    "\n",
    "# from src.dataframes.geocode_cluster import GeocodeClusterDataFrame\n",
    "# from sklearn.metrics import silhouette_score\n",
    "\n",
    "# results = []\n",
    "\n",
    "# for i in range(2, 200):\n",
    "#     geocode_cluster_dataframe = GeocodeClusterDataFrame.build(\n",
    "#         geocode_dataframe,\n",
    "#         distance_matrix,\n",
    "#         connectivity_matrix,\n",
    "#         num_clusters=i,\n",
    "#     )\n",
    "#     score = silhouette_score(\n",
    "#         X=distance_matrix.squareform(),\n",
    "#         labels=geocode_cluster_dataframe.df[\"cluster\"],\n",
    "#         metric=\"precomputed\",\n",
    "#     )\n",
    "#     print(f\"{i}: {score}\")\n",
    "#     results.append((i, score))\n",
    "\n",
    "# results\n"
   ]
  },
  {
   "cell_type": "markdown",
   "id": "eaae27da",
   "metadata": {},
   "source": [
    "## `ClusterNeighborsDataframe`"
   ]
  },
  {
   "cell_type": "markdown",
   "id": "67c8906b",
   "metadata": {},
   "source": [
    "### Build"
   ]
  },
  {
   "cell_type": "code",
   "execution_count": 22,
   "id": "839d444a",
   "metadata": {},
   "outputs": [],
   "source": [
    "from src.dataframes.cluster_neighbors import ClusterNeighborsDataFrame\n",
    "\n",
    "cluster_neighbors_dataframe = ClusterNeighborsDataFrame.build(\n",
    "    geocode_dataframe,\n",
    "    geocode_cluster_dataframe,\n",
    ")"
   ]
  },
  {
   "cell_type": "markdown",
   "id": "57e31621",
   "metadata": {},
   "source": [
    "### Preview"
   ]
  },
  {
   "cell_type": "code",
   "execution_count": null,
   "id": "a46f9865",
   "metadata": {},
   "outputs": [],
   "source": [
    "cluster_neighbors_dataframe.df"
   ]
  },
  {
   "cell_type": "markdown",
   "id": "089e1634",
   "metadata": {},
   "source": [
    "## `ClusterColorDataFrame`"
   ]
  },
  {
   "cell_type": "markdown",
   "id": "a129f899",
   "metadata": {},
   "source": [
    "### Build"
   ]
  },
  {
   "cell_type": "code",
   "execution_count": 24,
   "id": "98c37aad",
   "metadata": {},
   "outputs": [],
   "source": [
    "from src.dataframes.cluster_color import ClusterColorDataFrame\n",
    "\n",
    "cluster_colors_dataframe = ClusterColorDataFrame.build(cluster_neighbors_dataframe)"
   ]
  },
  {
   "cell_type": "markdown",
   "id": "7874af43",
   "metadata": {},
   "source": [
    "### Preview"
   ]
  },
  {
   "cell_type": "code",
   "execution_count": null,
   "id": "c0bf9f80",
   "metadata": {},
   "outputs": [],
   "source": [
    "cluster_colors_dataframe.df"
   ]
  },
  {
   "cell_type": "markdown",
   "id": "261e501c",
   "metadata": {},
   "source": [
    "## `GeocodeSilhouetteScoreDataFrame`"
   ]
  },
  {
   "cell_type": "markdown",
   "id": "5c06495a",
   "metadata": {},
   "source": [
    "### Build"
   ]
  },
  {
   "cell_type": "code",
   "execution_count": 26,
   "id": "bd2c6399",
   "metadata": {},
   "outputs": [],
   "source": [
    "from src.dataframes.geocode_silhouette_score import GeocodeSilhouetteScoreDataFrame\n",
    "\n",
    "geocode_silhouette_score_dataframe = GeocodeSilhouetteScoreDataFrame.build(\n",
    "    cluster_neighbors_dataframe,\n",
    "    distance_matrix,\n",
    "    geocode_cluster_dataframe,\n",
    ")"
   ]
  },
  {
   "cell_type": "markdown",
   "id": "87846da9",
   "metadata": {},
   "source": [
    "### Preview"
   ]
  },
  {
   "cell_type": "code",
   "execution_count": null,
   "id": "79ce56f7",
   "metadata": {},
   "outputs": [],
   "source": [
    "geocode_silhouette_score_dataframe.df.sort(by=\"silhouette_score\")"
   ]
  },
  {
   "cell_type": "code",
   "execution_count": null,
   "id": "30ba0cf3",
   "metadata": {},
   "outputs": [],
   "source": [
    "import matplotlib.pyplot as plt\n",
    "import polars as pl\n",
    "import matplotlib.pyplot as plt\n",
    "import numpy as np\n",
    "\n",
    "\n",
    "n_clusters = len(geocode_cluster_dataframe.df[\"cluster\"].unique())\n",
    "n_geocodes = len(distance_matrix.squareform())\n",
    "\n",
    "# Create a subplot with 1 row and 2 columns\n",
    "fig, ax1 = plt.subplots()\n",
    "fig.set_size_inches(18, 7)\n",
    "# The 1st subplot is the silhouette plot\n",
    "# The silhouette coefficient can range from -1, 1 but in this example all\n",
    "# lie within [-0.1, 1]\n",
    "# ax1.set_xlim([-0.1, 1])\n",
    "# The (n_clusters+1)*10 is for inserting blank space between silhouette\n",
    "# plots of individual clusters, to demarcate them clearly.\n",
    "ax1.set_ylim([0, n_geocodes + (n_clusters + 1) * 10])\n",
    "\n",
    "y_lower = 10\n",
    "for i, cluster in enumerate(geocode_cluster_dataframe.df[\"cluster\"].unique()):\n",
    "    ith_cluster_silhouette_values = (\n",
    "        geocode_silhouette_score_dataframe\n",
    "        .df\n",
    "        .join(geocode_cluster_dataframe.df, on=\"geocode\")\n",
    "        .filter(pl.col(\"cluster\") == cluster)\n",
    "        .sort(\"silhouette_score\", descending=True)\n",
    "    )[\"silhouette_score\"]\n",
    "\n",
    "    size_cluster_i = ith_cluster_silhouette_values.shape[0]\n",
    "    y_upper = y_lower + size_cluster_i\n",
    "\n",
    "    color =  cluster_colors_dataframe.get_color_for_cluster(cluster)\n",
    "    ax1.fill_betweenx(\n",
    "        np.arange(y_lower, y_upper),\n",
    "        0,\n",
    "        ith_cluster_silhouette_values,\n",
    "        facecolor=color,\n",
    "        edgecolor=color,\n",
    "    )\n",
    "\n",
    "    # Compute the new y_lower for next plot\n",
    "    y_lower = y_upper + 10  # 10 for the 0 samples\n"
   ]
  },
  {
   "cell_type": "markdown",
   "id": "a5c4faa1",
   "metadata": {},
   "source": [
    "## `ClusterTaxaStatisticsDataFrame`"
   ]
  },
  {
   "cell_type": "markdown",
   "id": "6f108bc3",
   "metadata": {},
   "source": [
    "### Build"
   ]
  },
  {
   "cell_type": "code",
   "execution_count": 29,
   "id": "39c1a999",
   "metadata": {},
   "outputs": [],
   "source": [
    "from src.dataframes.cluster_taxa_statistics import ClusterTaxaStatisticsDataFrame\n",
    "\n",
    "cluster_taxa_statistics_dataframe = ClusterTaxaStatisticsDataFrame.build(\n",
    "    geocode_taxa_counts_dataframe,\n",
    "    geocode_cluster_dataframe,\n",
    "    taxonomy_dataframe,\n",
    ")"
   ]
  },
  {
   "cell_type": "markdown",
   "id": "abb7c9b6",
   "metadata": {},
   "source": [
    "### Preview"
   ]
  },
  {
   "cell_type": "code",
   "execution_count": null,
   "id": "87264ffa",
   "metadata": {},
   "outputs": [],
   "source": [
    "cluster_taxa_statistics_dataframe.df.limit(3)"
   ]
  },
  {
   "cell_type": "markdown",
   "id": "8ba074be",
   "metadata": {},
   "source": [
    "## `ClusterSignificantDifferencesDataFrame`"
   ]
  },
  {
   "cell_type": "markdown",
   "id": "40e275c7",
   "metadata": {},
   "source": [
    "### Build"
   ]
  },
  {
   "cell_type": "code",
   "execution_count": 31,
   "id": "51fd3375",
   "metadata": {},
   "outputs": [],
   "source": [
    "from src.dataframes.cluster_significant_differences import ClusterSignificantDifferencesDataFrame\n",
    "\n",
    "cluster_significant_differences_dataframe = ClusterSignificantDifferencesDataFrame.build(\n",
    "    cluster_taxa_statistics_dataframe,\n",
    ")"
   ]
  },
  {
   "cell_type": "markdown",
   "id": "f1ee5c86",
   "metadata": {},
   "source": [
    "### Preview"
   ]
  },
  {
   "cell_type": "code",
   "execution_count": null,
   "id": "d48c1e6b",
   "metadata": {},
   "outputs": [],
   "source": [
    "cluster_significant_differences_dataframe.df.limit(3)"
   ]
  },
  {
   "cell_type": "markdown",
   "id": "80329627",
   "metadata": {},
   "source": [
    "## `GeocodeBoundaryDataFrame`"
   ]
  },
  {
   "cell_type": "markdown",
   "id": "e5bd11d6",
   "metadata": {},
   "source": [
    "### Build"
   ]
  },
  {
   "cell_type": "code",
   "execution_count": 33,
   "id": "ff75a0bc",
   "metadata": {},
   "outputs": [],
   "source": [
    "from src.dataframes.geocode_boundary import GeocodeBoundaryDataFrame\n",
    "\n",
    "geocode_boundary_dataframe = GeocodeBoundaryDataFrame.build(\n",
    "    geocode_cluster_dataframe,\n",
    ")"
   ]
  },
  {
   "cell_type": "markdown",
   "id": "47ed056e",
   "metadata": {},
   "source": [
    "### Preview"
   ]
  },
  {
   "cell_type": "code",
   "execution_count": null,
   "id": "c8c1a399",
   "metadata": {},
   "outputs": [],
   "source": [
    "geocode_boundary_dataframe.df"
   ]
  },
  {
   "cell_type": "markdown",
   "id": "6abb92e2",
   "metadata": {},
   "source": [
    "## `ClusterBoundaryDataFrame`"
   ]
  },
  {
   "cell_type": "markdown",
   "id": "6f6adfdd",
   "metadata": {},
   "source": [
    "### Build"
   ]
  },
  {
   "cell_type": "code",
   "execution_count": null,
   "id": "49520e5b",
   "metadata": {},
   "outputs": [],
   "source": [
    "from src.dataframes.cluster_boundary import ClusterBoundaryDataFrame\n",
    "\n",
    "cluster_boundary_dataframe = ClusterBoundaryDataFrame.build(\n",
    "    geocode_cluster_dataframe,\n",
    "    geocode_boundary_dataframe,\n",
    ")"
   ]
  },
  {
   "cell_type": "markdown",
   "id": "41d4fef5",
   "metadata": {},
   "source": [
    "### Preview"
   ]
  },
  {
   "cell_type": "code",
   "execution_count": null,
   "id": "0a4f499b",
   "metadata": {},
   "outputs": [],
   "source": [
    "cluster_boundary_dataframe.df"
   ]
  },
  {
   "cell_type": "markdown",
   "id": "d244acaa",
   "metadata": {},
   "source": [
    "## Build and plot GeoJSON feature collection"
   ]
  },
  {
   "cell_type": "code",
   "execution_count": null,
   "id": "9fde6339",
   "metadata": {},
   "outputs": [],
   "source": [
    "from src.geojson import build_geojson_feature_collection, write_geojson\n",
    "from src.render import plot_clusters\n",
    "import matplotlib.pyplot as plt\n",
    "\n",
    "# Set the figure size\n",
    "plt.rcParams['figure.figsize'] = [12, 7]\n",
    "\n",
    "feature_collection = build_geojson_feature_collection(\n",
    "    cluster_boundary_dataframe,\n",
    "    cluster_colors_dataframe,\n",
    ")\n",
    "\n",
    "write_geojson(feature_collection, output_file)\n",
    "\n",
    "plot_clusters(feature_collection)"
   ]
  },
  {
   "cell_type": "markdown",
   "id": "a56060aa",
   "metadata": {},
   "source": [
    "## Build and display HTML output"
   ]
  },
  {
   "cell_type": "code",
   "execution_count": null,
   "id": "672180bd",
   "metadata": {},
   "outputs": [],
   "source": [
    "from src.html_output import build_html_output\n",
    "from IPython.display import display, HTML\n",
    "\n",
    "html = build_html_output(\n",
    "    cluster_colors_dataframe,\n",
    "    cluster_significant_differences_dataframe,\n",
    ")\n",
    "\n",
    "display(HTML(html))\n"
   ]
  },
  {
   "cell_type": "markdown",
   "id": "0696aa73",
   "metadata": {},
   "source": [
    "## TSNE 2d plot"
   ]
  },
  {
   "cell_type": "code",
   "execution_count": null,
   "id": "33f2c697",
   "metadata": {},
   "outputs": [],
   "source": [
    "from sklearn.manifold import TSNE\n",
    "\n",
    "tsne = TSNE(\n",
    "    n_components=2,\n",
    "    random_state=42,\n",
    "    metric=\"precomputed\",\n",
    "    init=\"random\",\n",
    "    perplexity=min(30, distance_matrix.squareform().shape[0] - 1), # HACK FOR SMALLER DATASETS\n",
    ")\n",
    "X_tsne = tsne.fit_transform(distance_matrix.squareform())\n",
    "tsne.kl_divergence_\n"
   ]
  },
  {
   "cell_type": "code",
   "execution_count": null,
   "id": "bb32aba9",
   "metadata": {},
   "outputs": [],
   "source": [
    "import umap\n",
    "\n",
    "umap = umap.UMAP(\n",
    "    n_components=2,\n",
    "    metric=\"precomputed\",\n",
    "    random_state=42,\n",
    "    n_neighbors=3000,\n",
    "    # min_dist=1,\n",
    "    # init=\"random\",\n",
    ")\n",
    "X_umap = umap.fit_transform(distance_matrix.squareform())\n"
   ]
  },
  {
   "cell_type": "code",
   "execution_count": null,
   "id": "9168849f",
   "metadata": {},
   "outputs": [],
   "source": [
    "import seaborn as sns\n",
    "\n",
    "sns.scatterplot(\n",
    "    x=X_umap[:, 0],\n",
    "    y=X_umap[:, 1],\n",
    "    hue=geocode_cluster_dataframe.df[\"cluster\"],\n",
    "    palette=cluster_colors_dataframe.to_dict(),\n",
    "    alpha=1,\n",
    ")"
   ]
  },
  {
   "cell_type": "markdown",
   "id": "59f7a0e2",
   "metadata": {},
   "source": [
    "## Clustermap visualization"
   ]
  },
  {
   "cell_type": "code",
   "execution_count": null,
   "id": "54d78320",
   "metadata": {},
   "outputs": [],
   "source": [
    "import seaborn as sns\n",
    "import polars as pl\n",
    "from scipy.cluster.hierarchy import linkage\n",
    "\n",
    "\n",
    "linkage_array = linkage(distance_matrix.condensed(), \"ward\")\n",
    "\n",
    "ordered_geocodes = geocode_dataframe.df[\"geocode\"].unique()\n",
    "\n",
    "def min_max_normalize(series: pl.Series) -> pl.Series:\n",
    "    return (series - series.min()) / (series.max() - series.min())\n",
    "\n",
    "col_colors = []\n",
    "for geocode in ordered_geocodes:\n",
    "    cluster = geocode_cluster_dataframe.cluster_for_geocode(geocode)\n",
    "    col_colors.append(cluster_colors_dataframe.get_color_for_cluster(cluster))\n",
    "\n",
    "data = {}\n",
    "for species, kingdom, taxonRank in cluster_significant_differences_dataframe.df.select(\"scientificName\", \"kingdom\", \"taxonRank\").unique().iter_rows():\n",
    "    counts = []\n",
    "\n",
    "    for geocode in ordered_geocodes:\n",
    "        geocode_counts_species = geocode_taxa_counts_dataframe.df.filter(\n",
    "            pl.col(\"geocode\") == geocode, pl.col(\"scientificName\") == species\n",
    "        ).get_column(\"count\").sum()\n",
    "        geocode_counts_all = geocode_taxa_counts_dataframe.df.filter(\n",
    "            pl.col(\"geocode\") == geocode\n",
    "        ).get_column(\"count\").sum()\n",
    "        geocode_average = geocode_counts_species / geocode_counts_all\n",
    "        all_average = (\n",
    "            cluster_taxa_statistics_dataframe.df.filter(\n",
    "                pl.col(\"kingdom\") == kingdom,\n",
    "                pl.col(\"scientificName\") == species,\n",
    "                pl.col(\"cluster\").is_null(),\n",
    "                pl.col(\"taxonRank\") == taxonRank,\n",
    "            )\n",
    "            .get_column(\"average\")\n",
    "            .item()\n",
    "        )\n",
    "        counts.append(geocode_average - all_average)\n",
    "    counts = pl.Series(\n",
    "        values=counts,\n",
    "        name=species,\n",
    "    )\n",
    "    # counts = counts / counts.max()\n",
    "    # counts = counts.pow(1 / 3)\n",
    "    data[species] = min_max_normalize(counts)\n"
   ]
  },
  {
   "cell_type": "code",
   "execution_count": null,
   "id": "1f706269",
   "metadata": {},
   "outputs": [],
   "source": [
    "dataframe = pl.DataFrame(data=data)\n",
    "sns.clustermap(\n",
    "    data=dataframe,\n",
    "    col_cluster=False,\n",
    "    row_cluster=True,\n",
    "    row_linkage=linkage_array,\n",
    "    row_colors=col_colors,\n",
    "    xticklabels=dataframe.columns,\n",
    "    yticklabels=False,\n",
    ")"
   ]
  }
 ],
 "metadata": {
  "kernelspec": {
   "display_name": ".venv",
   "language": "python",
   "name": "python3"
  },
  "language_info": {
   "codemirror_mode": {
    "name": "ipython",
    "version": 3
   },
   "file_extension": ".py",
   "mimetype": "text/x-python",
   "name": "python",
   "nbconvert_exporter": "python",
   "pygments_lexer": "ipython3",
   "version": "3.10.16"
  }
 },
 "nbformat": 4,
 "nbformat_minor": 5
}

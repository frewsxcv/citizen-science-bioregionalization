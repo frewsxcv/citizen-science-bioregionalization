{
 "cells": [
  {
   "cell_type": "markdown",
   "id": "f06de749",
   "metadata": {},
   "source": [
    "# Dynamic ecoregions"
   ]
  },
  {
   "cell_type": "markdown",
   "id": "dd126c3a",
   "metadata": {},
   "source": [
    "## Define inputs"
   ]
  },
  {
   "cell_type": "code",
   "execution_count": 1,
   "id": "99519ac0",
   "metadata": {},
   "outputs": [],
   "source": [
    "# Inputs\n",
    "input_file = \"data/data-continental-united-states.csv\"\n",
    "geohash_precision = 4\n",
    "log_file = \"run.log\"\n",
    "output_file = \"output.geojson\"\n",
    "num_clusters = 12"
   ]
  },
  {
   "cell_type": "markdown",
   "id": "7bbc4cef",
   "metadata": {},
   "source": [
    "## Set up logging"
   ]
  },
  {
   "cell_type": "code",
   "execution_count": 2,
   "id": "44ea301b",
   "metadata": {},
   "outputs": [],
   "source": [
    "import logging\n",
    "\n",
    "logging.basicConfig(filename=log_file, encoding=\"utf-8\", level=logging.INFO)"
   ]
  },
  {
   "cell_type": "markdown",
   "id": "27b9d760",
   "metadata": {},
   "source": [
    "## Data flow"
   ]
  },
  {
   "cell_type": "code",
   "execution_count": 3,
   "id": "551cabe9",
   "metadata": {},
   "outputs": [
    {
     "data": {
      "text/html": [
       "<svg id=\"mermaid-svg\" width=\"100%\" xmlns=\"http://www.w3.org/2000/svg\" class=\"flowchart\" style=\"max-width: 902.015625px;\" viewBox=\"0 0 902.015625 694\" role=\"graphics-document document\" aria-roledescription=\"flowchart-v2\" xmlns:xlink=\"http://www.w3.org/1999/xlink\"><style xmlns=\"http://www.w3.org/1999/xhtml\">@import url(\"https://cdnjs.cloudflare.com/ajax/libs/font-awesome/6.7.1/css/all.min.css\");</style><style>#mermaid-svg{font-family:\"trebuchet ms\",verdana,arial,sans-serif;font-size:16px;fill:#333;}#mermaid-svg .error-icon{fill:#552222;}#mermaid-svg .error-text{fill:#552222;stroke:#552222;}#mermaid-svg .edge-thickness-normal{stroke-width:1px;}#mermaid-svg .edge-thickness-thick{stroke-width:3.5px;}#mermaid-svg .edge-pattern-solid{stroke-dasharray:0;}#mermaid-svg .edge-thickness-invisible{stroke-width:0;fill:none;}#mermaid-svg .edge-pattern-dashed{stroke-dasharray:3;}#mermaid-svg .edge-pattern-dotted{stroke-dasharray:2;}#mermaid-svg .marker{fill:#333333;stroke:#333333;}#mermaid-svg .marker.cross{stroke:#333333;}#mermaid-svg svg{font-family:\"trebuchet ms\",verdana,arial,sans-serif;font-size:16px;}#mermaid-svg p{margin:0;}#mermaid-svg .label{font-family:\"trebuchet ms\",verdana,arial,sans-serif;color:#333;}#mermaid-svg .cluster-label text{fill:#333;}#mermaid-svg .cluster-label span{color:#333;}#mermaid-svg .cluster-label span p{background-color:transparent;}#mermaid-svg .label text,#mermaid-svg span{fill:#333;color:#333;}#mermaid-svg .node rect,#mermaid-svg .node circle,#mermaid-svg .node ellipse,#mermaid-svg .node polygon,#mermaid-svg .node path{fill:#ECECFF;stroke:#9370DB;stroke-width:1px;}#mermaid-svg .rough-node .label text,#mermaid-svg .node .label text,#mermaid-svg .image-shape .label,#mermaid-svg .icon-shape .label{text-anchor:middle;}#mermaid-svg .node .katex path{fill:#000;stroke:#000;stroke-width:1px;}#mermaid-svg .rough-node .label,#mermaid-svg .node .label,#mermaid-svg .image-shape .label,#mermaid-svg .icon-shape .label{text-align:center;}#mermaid-svg .node.clickable{cursor:pointer;}#mermaid-svg .root .anchor path{fill:#333333!important;stroke-width:0;stroke:#333333;}#mermaid-svg .arrowheadPath{fill:#333333;}#mermaid-svg .edgePath .path{stroke:#333333;stroke-width:2.0px;}#mermaid-svg .flowchart-link{stroke:#333333;fill:none;}#mermaid-svg .edgeLabel{background-color:rgba(232,232,232, 0.8);text-align:center;}#mermaid-svg .edgeLabel p{background-color:rgba(232,232,232, 0.8);}#mermaid-svg .edgeLabel rect{opacity:0.5;background-color:rgba(232,232,232, 0.8);fill:rgba(232,232,232, 0.8);}#mermaid-svg .labelBkg{background-color:rgba(232, 232, 232, 0.5);}#mermaid-svg .cluster rect{fill:#ffffde;stroke:#aaaa33;stroke-width:1px;}#mermaid-svg .cluster text{fill:#333;}#mermaid-svg .cluster span{color:#333;}#mermaid-svg div.mermaidTooltip{position:absolute;text-align:center;max-width:200px;padding:2px;font-family:\"trebuchet ms\",verdana,arial,sans-serif;font-size:12px;background:hsl(80, 100%, 96.2745098039%);border:1px solid #aaaa33;border-radius:2px;pointer-events:none;z-index:100;}#mermaid-svg .flowchartTitleText{text-anchor:middle;font-size:18px;fill:#333;}#mermaid-svg rect.text{fill:none;stroke-width:0;}#mermaid-svg .icon-shape,#mermaid-svg .image-shape{background-color:rgba(232,232,232, 0.8);text-align:center;}#mermaid-svg .icon-shape p,#mermaid-svg .image-shape p{background-color:rgba(232,232,232, 0.8);padding:2px;}#mermaid-svg .icon-shape rect,#mermaid-svg .image-shape rect{opacity:0.5;background-color:rgba(232,232,232, 0.8);fill:rgba(232,232,232, 0.8);}#mermaid-svg :root{--mermaid-font-family:\"trebuchet ms\",verdana,arial,sans-serif;}</style><g><marker id=\"mermaid-svg_flowchart-v2-pointEnd\" class=\"marker flowchart-v2\" viewBox=\"0 0 10 10\" refX=\"5\" refY=\"5\" markerUnits=\"userSpaceOnUse\" markerWidth=\"8\" markerHeight=\"8\" orient=\"auto\"><path d=\"M 0 0 L 10 5 L 0 10 z\" class=\"arrowMarkerPath\" style=\"stroke-width: 1; stroke-dasharray: 1, 0;\"/></marker><marker id=\"mermaid-svg_flowchart-v2-pointStart\" class=\"marker flowchart-v2\" viewBox=\"0 0 10 10\" refX=\"4.5\" refY=\"5\" markerUnits=\"userSpaceOnUse\" markerWidth=\"8\" markerHeight=\"8\" orient=\"auto\"><path d=\"M 0 5 L 10 10 L 10 0 z\" class=\"arrowMarkerPath\" style=\"stroke-width: 1; stroke-dasharray: 1, 0;\"/></marker><marker id=\"mermaid-svg_flowchart-v2-circleEnd\" class=\"marker flowchart-v2\" viewBox=\"0 0 10 10\" refX=\"11\" refY=\"5\" markerUnits=\"userSpaceOnUse\" markerWidth=\"11\" markerHeight=\"11\" orient=\"auto\"><circle cx=\"5\" cy=\"5\" r=\"5\" class=\"arrowMarkerPath\" style=\"stroke-width: 1; stroke-dasharray: 1, 0;\"/></marker><marker id=\"mermaid-svg_flowchart-v2-circleStart\" class=\"marker flowchart-v2\" viewBox=\"0 0 10 10\" refX=\"-1\" refY=\"5\" markerUnits=\"userSpaceOnUse\" markerWidth=\"11\" markerHeight=\"11\" orient=\"auto\"><circle cx=\"5\" cy=\"5\" r=\"5\" class=\"arrowMarkerPath\" style=\"stroke-width: 1; stroke-dasharray: 1, 0;\"/></marker><marker id=\"mermaid-svg_flowchart-v2-crossEnd\" class=\"marker cross flowchart-v2\" viewBox=\"0 0 11 11\" refX=\"12\" refY=\"5.2\" markerUnits=\"userSpaceOnUse\" markerWidth=\"11\" markerHeight=\"11\" orient=\"auto\"><path d=\"M 1,1 l 9,9 M 10,1 l -9,9\" class=\"arrowMarkerPath\" style=\"stroke-width: 2; stroke-dasharray: 1, 0;\"/></marker><marker id=\"mermaid-svg_flowchart-v2-crossStart\" class=\"marker cross flowchart-v2\" viewBox=\"0 0 11 11\" refX=\"-1\" refY=\"5.2\" markerUnits=\"userSpaceOnUse\" markerWidth=\"11\" markerHeight=\"11\" orient=\"auto\"><path d=\"M 1,1 l 9,9 M 10,1 l -9,9\" class=\"arrowMarkerPath\" style=\"stroke-width: 2; stroke-dasharray: 1, 0;\"/></marker><g class=\"root\"><g class=\"clusters\"/><g class=\"edgePaths\"><path d=\"M252.801,62L238.447,66.167C224.093,70.333,195.384,78.667,181.03,86.333C166.676,94,166.676,101,166.676,104.5L166.676,108\" id=\"L_DarwinCoreCsvLazyFrame_GeohashSpeciesCountsDataFrame_0\" class=\" edge-thickness-normal edge-pattern-solid edge-thickness-normal edge-pattern-solid flowchart-link\" style=\"\" marker-end=\"url(#mermaid-svg_flowchart-v2-pointEnd)\"/><path d=\"M87.897,166L75.739,170.167C63.582,174.333,39.268,182.667,27.11,195.5C14.953,208.333,14.953,225.667,14.953,243C14.953,260.333,14.953,277.667,14.953,295C14.953,312.333,14.953,329.667,14.953,347C14.953,364.333,14.953,381.667,14.953,399C14.953,416.333,14.953,433.667,14.953,451C14.953,468.333,14.953,485.667,27.623,498.301C40.293,510.935,65.633,518.87,78.304,522.837L90.974,526.805\" id=\"L_GeohashSpeciesCountsDataFrame_ClusterTaxaStatisticsDataFrame_1\" class=\" edge-thickness-normal edge-pattern-solid edge-thickness-normal edge-pattern-solid flowchart-link\" style=\"\" marker-end=\"url(#mermaid-svg_flowchart-v2-pointEnd)\"/><path d=\"M178.401,478L166.13,482.167C153.86,486.333,129.318,494.667,122.606,502.624C115.894,510.582,127.01,518.164,132.568,521.955L138.126,525.746\" id=\"L_GeohashClusterDataFrame_ClusterTaxaStatisticsDataFrame_2\" class=\" edge-thickness-normal edge-pattern-solid edge-thickness-normal edge-pattern-solid flowchart-link\" style=\"\" marker-end=\"url(#mermaid-svg_flowchart-v2-pointEnd)\"/><path d=\"M789.609,478L789.609,482.167C789.609,486.333,789.609,494.667,712.68,505.406C635.75,516.146,481.891,529.292,404.962,535.865L328.032,542.438\" id=\"L_TaxonomyDataFrame_ClusterTaxaStatisticsDataFrame_3\" class=\" edge-thickness-normal edge-pattern-solid edge-thickness-normal edge-pattern-solid flowchart-link\" style=\"\" marker-end=\"url(#mermaid-svg_flowchart-v2-pointEnd)\"/><path d=\"M467.645,49.275L521.305,55.562C574.966,61.85,682.288,74.425,735.949,89.379C789.609,104.333,789.609,121.667,789.609,139C789.609,156.333,789.609,173.667,789.609,191C789.609,208.333,789.609,225.667,789.609,243C789.609,260.333,789.609,277.667,789.609,295C789.609,312.333,789.609,329.667,789.609,347C789.609,364.333,789.609,381.667,789.609,393.833C789.609,406,789.609,413,789.609,416.5L789.609,420\" id=\"L_DarwinCoreCsvLazyFrame_TaxonomyDataFrame_4\" class=\" edge-thickness-normal edge-pattern-solid edge-thickness-normal edge-pattern-solid flowchart-link\" style=\"\" marker-end=\"url(#mermaid-svg_flowchart-v2-pointEnd)\"/><path d=\"M181.204,166L183.446,170.167C185.688,174.333,190.172,182.667,192.414,190.333C194.656,198,194.656,205,194.656,208.5L194.656,212\" id=\"L_GeohashSpeciesCountsDataFrame_GeohashSeries_5\" class=\" edge-thickness-normal edge-pattern-solid edge-thickness-normal edge-pattern-solid flowchart-link\" style=\"\" marker-end=\"url(#mermaid-svg_flowchart-v2-pointEnd)\"/><path d=\"M302.572,166L323.544,170.167C344.516,174.333,386.459,182.667,407.431,195.5C428.402,208.333,428.402,225.667,428.402,243C428.402,260.333,428.402,277.667,428.402,289.833C428.402,302,428.402,309,428.402,312.5L428.402,316\" id=\"L_GeohashSpeciesCountsDataFrame_DistanceMatrix_6\" class=\" edge-thickness-normal edge-pattern-solid edge-thickness-normal edge-pattern-solid flowchart-link\" style=\"\" marker-end=\"url(#mermaid-svg_flowchart-v2-pointEnd)\"/><path d=\"M181.016,582L181.016,586.167C181.016,590.333,181.016,598.667,181.016,606.333C181.016,614,181.016,621,181.016,624.5L181.016,628\" id=\"L_ClusterTaxaStatisticsDataFrame_ClusterSignificantDifferencesDataFrame_7\" class=\" edge-thickness-normal edge-pattern-solid edge-thickness-normal edge-pattern-solid flowchart-link\" style=\"\" marker-end=\"url(#mermaid-svg_flowchart-v2-pointEnd)\"/><path d=\"M316.668,156.691L365.147,162.41C413.626,168.128,510.585,179.564,559.064,188.782C607.543,198,607.543,205,607.543,208.5L607.543,212\" id=\"L_GeohashSpeciesCountsDataFrame_TaxaGeographicMeanDataFrame_8\" class=\" edge-thickness-normal edge-pattern-solid edge-thickness-normal edge-pattern-solid flowchart-link\" style=\"\" marker-end=\"url(#mermaid-svg_flowchart-v2-pointEnd)\"/><path d=\"M382.563,474.095L408.564,478.912C434.565,483.73,486.568,493.365,533.217,502.637C579.866,511.909,621.162,520.818,641.809,525.272L662.457,529.726\" id=\"L_GeohashClusterDataFrame_ClusterColorDataFrame_9\" class=\" edge-thickness-normal edge-pattern-solid edge-thickness-normal edge-pattern-solid flowchart-link\" style=\"\" marker-end=\"url(#mermaid-svg_flowchart-v2-pointEnd)\"/><path d=\"M170.078,270L166.285,274.167C162.492,278.333,154.906,286.667,151.113,294.333C147.32,302,147.32,309,147.32,312.5L147.32,316\" id=\"L_GeohashSeries_ConnectivityMatrix_10\" class=\" edge-thickness-normal edge-pattern-solid edge-thickness-normal edge-pattern-solid flowchart-link\" style=\"\" marker-end=\"url(#mermaid-svg_flowchart-v2-pointEnd)\"/><path d=\"M254.784,270L264.062,274.167C273.341,278.333,291.899,286.667,301.178,299.5C310.457,312.333,310.457,329.667,310.457,347C310.457,364.333,310.457,381.667,306.721,394.031C302.984,406.395,295.512,413.791,291.775,417.489L288.039,421.186\" id=\"L_GeohashSeries_GeohashClusterDataFrame_11\" class=\" edge-thickness-normal edge-pattern-solid edge-thickness-normal edge-pattern-solid flowchart-link\" style=\"\" marker-end=\"url(#mermaid-svg_flowchart-v2-pointEnd)\"/><path d=\"M428.402,374L428.402,378.167C428.402,382.333,428.402,390.667,415.379,398.806C402.356,406.944,376.309,414.889,363.286,418.861L350.263,422.833\" id=\"L_DistanceMatrix_GeohashClusterDataFrame_12\" class=\" edge-thickness-normal edge-pattern-solid edge-thickness-normal edge-pattern-solid flowchart-link\" style=\"\" marker-end=\"url(#mermaid-svg_flowchart-v2-pointEnd)\"/><path d=\"M147.32,374L147.32,378.167C147.32,382.333,147.32,390.667,155.579,398.716C163.837,406.766,180.354,414.532,188.612,418.415L196.871,422.298\" id=\"L_ConnectivityMatrix_GeohashClusterDataFrame_13\" class=\" edge-thickness-normal edge-pattern-solid edge-thickness-normal edge-pattern-solid flowchart-link\" style=\"\" marker-end=\"url(#mermaid-svg_flowchart-v2-pointEnd)\"/></g><g class=\"edgeLabels\"><g class=\"edgeLabel\"><g class=\"label\" transform=\"translate(0, 0)\"><foreignObject width=\"0\" height=\"0\"><div xmlns=\"http://www.w3.org/1999/xhtml\" class=\"labelBkg\" style=\"display: table-cell; white-space: nowrap; line-height: 1.5; max-width: 200px; text-align: center;\"><span class=\"edgeLabel \"></span></div></foreignObject></g></g><g class=\"edgeLabel\"><g class=\"label\" transform=\"translate(0, 0)\"><foreignObject width=\"0\" height=\"0\"><div xmlns=\"http://www.w3.org/1999/xhtml\" class=\"labelBkg\" style=\"display: table-cell; white-space: nowrap; line-height: 1.5; max-width: 200px; text-align: center;\"><span class=\"edgeLabel \"></span></div></foreignObject></g></g><g class=\"edgeLabel\"><g class=\"label\" transform=\"translate(0, 0)\"><foreignObject width=\"0\" height=\"0\"><div xmlns=\"http://www.w3.org/1999/xhtml\" class=\"labelBkg\" style=\"display: table-cell; white-space: nowrap; line-height: 1.5; max-width: 200px; text-align: center;\"><span class=\"edgeLabel \"></span></div></foreignObject></g></g><g class=\"edgeLabel\"><g class=\"label\" transform=\"translate(0, 0)\"><foreignObject width=\"0\" height=\"0\"><div xmlns=\"http://www.w3.org/1999/xhtml\" class=\"labelBkg\" style=\"display: table-cell; white-space: nowrap; line-height: 1.5; max-width: 200px; text-align: center;\"><span class=\"edgeLabel \"></span></div></foreignObject></g></g><g class=\"edgeLabel\"><g class=\"label\" transform=\"translate(0, 0)\"><foreignObject width=\"0\" height=\"0\"><div xmlns=\"http://www.w3.org/1999/xhtml\" class=\"labelBkg\" style=\"display: table-cell; white-space: nowrap; line-height: 1.5; max-width: 200px; text-align: center;\"><span class=\"edgeLabel \"></span></div></foreignObject></g></g><g class=\"edgeLabel\"><g class=\"label\" transform=\"translate(0, 0)\"><foreignObject width=\"0\" height=\"0\"><div xmlns=\"http://www.w3.org/1999/xhtml\" class=\"labelBkg\" style=\"display: table-cell; white-space: nowrap; line-height: 1.5; max-width: 200px; text-align: center;\"><span class=\"edgeLabel \"></span></div></foreignObject></g></g><g class=\"edgeLabel\"><g class=\"label\" transform=\"translate(0, 0)\"><foreignObject width=\"0\" height=\"0\"><div xmlns=\"http://www.w3.org/1999/xhtml\" class=\"labelBkg\" style=\"display: table-cell; white-space: nowrap; line-height: 1.5; max-width: 200px; text-align: center;\"><span class=\"edgeLabel \"></span></div></foreignObject></g></g><g class=\"edgeLabel\"><g class=\"label\" transform=\"translate(0, 0)\"><foreignObject width=\"0\" height=\"0\"><div xmlns=\"http://www.w3.org/1999/xhtml\" class=\"labelBkg\" style=\"display: table-cell; white-space: nowrap; line-height: 1.5; max-width: 200px; text-align: center;\"><span class=\"edgeLabel \"></span></div></foreignObject></g></g><g class=\"edgeLabel\"><g class=\"label\" transform=\"translate(0, 0)\"><foreignObject width=\"0\" height=\"0\"><div xmlns=\"http://www.w3.org/1999/xhtml\" class=\"labelBkg\" style=\"display: table-cell; white-space: nowrap; line-height: 1.5; max-width: 200px; text-align: center;\"><span class=\"edgeLabel \"></span></div></foreignObject></g></g><g class=\"edgeLabel\"><g class=\"label\" transform=\"translate(0, 0)\"><foreignObject width=\"0\" height=\"0\"><div xmlns=\"http://www.w3.org/1999/xhtml\" class=\"labelBkg\" style=\"display: table-cell; white-space: nowrap; line-height: 1.5; max-width: 200px; text-align: center;\"><span class=\"edgeLabel \"></span></div></foreignObject></g></g><g class=\"edgeLabel\"><g class=\"label\" transform=\"translate(0, 0)\"><foreignObject width=\"0\" height=\"0\"><div xmlns=\"http://www.w3.org/1999/xhtml\" class=\"labelBkg\" style=\"display: table-cell; white-space: nowrap; line-height: 1.5; max-width: 200px; text-align: center;\"><span class=\"edgeLabel \"></span></div></foreignObject></g></g><g class=\"edgeLabel\"><g class=\"label\" transform=\"translate(0, 0)\"><foreignObject width=\"0\" height=\"0\"><div xmlns=\"http://www.w3.org/1999/xhtml\" class=\"labelBkg\" style=\"display: table-cell; white-space: nowrap; line-height: 1.5; max-width: 200px; text-align: center;\"><span class=\"edgeLabel \"></span></div></foreignObject></g></g><g class=\"edgeLabel\"><g class=\"label\" transform=\"translate(0, 0)\"><foreignObject width=\"0\" height=\"0\"><div xmlns=\"http://www.w3.org/1999/xhtml\" class=\"labelBkg\" style=\"display: table-cell; white-space: nowrap; line-height: 1.5; max-width: 200px; text-align: center;\"><span class=\"edgeLabel \"></span></div></foreignObject></g></g><g class=\"edgeLabel\"><g class=\"label\" transform=\"translate(0, 0)\"><foreignObject width=\"0\" height=\"0\"><div xmlns=\"http://www.w3.org/1999/xhtml\" class=\"labelBkg\" style=\"display: table-cell; white-space: nowrap; line-height: 1.5; max-width: 200px; text-align: center;\"><span class=\"edgeLabel \"></span></div></foreignObject></g></g></g><g class=\"nodes\"><g class=\"node default  \" id=\"flowchart-DarwinCoreCsvLazyFrame-0\" transform=\"translate(345.81640625, 35)\"><rect class=\"basic label-container\" style=\"\" x=\"-121.828125\" y=\"-27\" width=\"243.65625\" height=\"54\"/><g class=\"label\" style=\"\" transform=\"translate(-91.828125, -12)\"><rect/><foreignObject width=\"183.65625\" height=\"24\"><div xmlns=\"http://www.w3.org/1999/xhtml\" style=\"display: table-cell; white-space: nowrap; line-height: 1.5; max-width: 200px; text-align: center;\"><span class=\"nodeLabel \"><p>DarwinCoreCsvLazyFrame</p></span></div></foreignObject></g></g><g class=\"node default  \" id=\"flowchart-GeohashSpeciesCountsDataFrame-1\" transform=\"translate(166.67578125, 139)\"><rect class=\"basic label-container\" style=\"\" x=\"-149.9921875\" y=\"-27\" width=\"299.984375\" height=\"54\"/><g class=\"label\" style=\"\" transform=\"translate(-119.9921875, -12)\"><rect/><foreignObject width=\"239.984375\" height=\"24\"><div xmlns=\"http://www.w3.org/1999/xhtml\" style=\"display: table; white-space: break-spaces; line-height: 1.5; max-width: 200px; text-align: center; width: 200px;\"><span class=\"nodeLabel \"><p>GeohashSpeciesCountsDataFrame</p></span></div></foreignObject></g></g><g class=\"node default  \" id=\"flowchart-ClusterTaxaStatisticsDataFrame-3\" transform=\"translate(181.015625, 555)\"><rect class=\"basic label-container\" style=\"\" x=\"-143.03125\" y=\"-27\" width=\"286.0625\" height=\"54\"/><g class=\"label\" style=\"\" transform=\"translate(-113.03125, -12)\"><rect/><foreignObject width=\"226.0625\" height=\"24\"><div xmlns=\"http://www.w3.org/1999/xhtml\" style=\"display: table; white-space: break-spaces; line-height: 1.5; max-width: 200px; text-align: center; width: 200px;\"><span class=\"nodeLabel \"><p>ClusterTaxaStatisticsDataFrame</p></span></div></foreignObject></g></g><g class=\"node default  \" id=\"flowchart-GeohashClusterDataFrame-4\" transform=\"translate(257.9140625, 451)\"><rect class=\"basic label-container\" style=\"\" x=\"-124.6484375\" y=\"-27\" width=\"249.296875\" height=\"54\"/><g class=\"label\" style=\"\" transform=\"translate(-94.6484375, -12)\"><rect/><foreignObject width=\"189.296875\" height=\"24\"><div xmlns=\"http://www.w3.org/1999/xhtml\" style=\"display: table-cell; white-space: nowrap; line-height: 1.5; max-width: 200px; text-align: center;\"><span class=\"nodeLabel \"><p>GeohashClusterDataFrame</p></span></div></foreignObject></g></g><g class=\"node default  \" id=\"flowchart-TaxonomyDataFrame-6\" transform=\"translate(789.609375, 451)\"><rect class=\"basic label-container\" style=\"\" x=\"-104.40625\" y=\"-27\" width=\"208.8125\" height=\"54\"/><g class=\"label\" style=\"\" transform=\"translate(-74.40625, -12)\"><rect/><foreignObject width=\"148.8125\" height=\"24\"><div xmlns=\"http://www.w3.org/1999/xhtml\" style=\"display: table-cell; white-space: nowrap; line-height: 1.5; max-width: 200px; text-align: center;\"><span class=\"nodeLabel \"><p>TaxonomyDataFrame</p></span></div></foreignObject></g></g><g class=\"node default  \" id=\"flowchart-GeohashSeries-11\" transform=\"translate(194.65625, 243)\"><rect class=\"basic label-container\" style=\"\" x=\"-81.453125\" y=\"-27\" width=\"162.90625\" height=\"54\"/><g class=\"label\" style=\"\" transform=\"translate(-51.453125, -12)\"><rect/><foreignObject width=\"102.90625\" height=\"24\"><div xmlns=\"http://www.w3.org/1999/xhtml\" style=\"display: table-cell; white-space: nowrap; line-height: 1.5; max-width: 200px; text-align: center;\"><span class=\"nodeLabel \"><p>GeohashSeries</p></span></div></foreignObject></g></g><g class=\"node default  \" id=\"flowchart-DistanceMatrix-13\" transform=\"translate(428.40234375, 347)\"><rect class=\"basic label-container\" style=\"\" x=\"-82.9453125\" y=\"-27\" width=\"165.890625\" height=\"54\"/><g class=\"label\" style=\"\" transform=\"translate(-52.9453125, -12)\"><rect/><foreignObject width=\"105.890625\" height=\"24\"><div xmlns=\"http://www.w3.org/1999/xhtml\" style=\"display: table-cell; white-space: nowrap; line-height: 1.5; max-width: 200px; text-align: center;\"><span class=\"nodeLabel \"><p>DistanceMatrix</p></span></div></foreignObject></g></g><g class=\"node default  \" id=\"flowchart-ClusterSignificantDifferencesDataFrame-15\" transform=\"translate(181.015625, 659)\"><rect class=\"basic label-container\" style=\"\" x=\"-173.015625\" y=\"-27\" width=\"346.03125\" height=\"54\"/><g class=\"label\" style=\"\" transform=\"translate(-143.015625, -12)\"><rect/><foreignObject width=\"286.03125\" height=\"24\"><div xmlns=\"http://www.w3.org/1999/xhtml\" style=\"display: table; white-space: break-spaces; line-height: 1.5; max-width: 200px; text-align: center; width: 200px;\"><span class=\"nodeLabel \"><p>ClusterSignificantDifferencesDataFrame</p></span></div></foreignObject></g></g><g class=\"node default  \" id=\"flowchart-TaxaGeographicMeanDataFrame-17\" transform=\"translate(607.54296875, 243)\"><rect class=\"basic label-container\" style=\"\" x=\"-144.140625\" y=\"-27\" width=\"288.28125\" height=\"54\"/><g class=\"label\" style=\"\" transform=\"translate(-114.140625, -12)\"><rect/><foreignObject width=\"228.28125\" height=\"24\"><div xmlns=\"http://www.w3.org/1999/xhtml\" style=\"display: table; white-space: break-spaces; line-height: 1.5; max-width: 200px; text-align: center; width: 200px;\"><span class=\"nodeLabel \"><p>TaxaGeographicMeanDataFrame</p></span></div></foreignObject></g></g><g class=\"node default  \" id=\"flowchart-ClusterColorDataFrame-19\" transform=\"translate(779.609375, 555)\"><rect class=\"basic label-container\" style=\"\" x=\"-113.2421875\" y=\"-27\" width=\"226.484375\" height=\"54\"/><g class=\"label\" style=\"\" transform=\"translate(-83.2421875, -12)\"><rect/><foreignObject width=\"166.484375\" height=\"24\"><div xmlns=\"http://www.w3.org/1999/xhtml\" style=\"display: table-cell; white-space: nowrap; line-height: 1.5; max-width: 200px; text-align: center;\"><span class=\"nodeLabel \"><p>ClusterColorDataFrame</p></span></div></foreignObject></g></g><g class=\"node default  \" id=\"flowchart-ConnectivityMatrix-21\" transform=\"translate(147.3203125, 347)\"><rect class=\"basic label-container\" style=\"\" x=\"-97.3671875\" y=\"-27\" width=\"194.734375\" height=\"54\"/><g class=\"label\" style=\"\" transform=\"translate(-67.3671875, -12)\"><rect/><foreignObject width=\"134.734375\" height=\"24\"><div xmlns=\"http://www.w3.org/1999/xhtml\" style=\"display: table-cell; white-space: nowrap; line-height: 1.5; max-width: 200px; text-align: center;\"><span class=\"nodeLabel \"><p>ConnectivityMatrix</p></span></div></foreignObject></g></g></g></g></g></svg>"
      ],
      "text/plain": [
       "<mermaid.__main__.Mermaid at 0x12908d2b0>"
      ]
     },
     "execution_count": 3,
     "metadata": {},
     "output_type": "execute_result"
    }
   ],
   "source": [
    "from src.mermaid import build_mermaid_graph\n",
    "\n",
    "build_mermaid_graph()"
   ]
  },
  {
   "cell_type": "markdown",
   "id": "116c8d33",
   "metadata": {},
   "source": [
    "## `DarwinCoreCsvLazyFrame`"
   ]
  },
  {
   "cell_type": "markdown",
   "id": "5978dfa6",
   "metadata": {},
   "source": [
    "### Build"
   ]
  },
  {
   "cell_type": "code",
   "execution_count": 4,
   "id": "ef114a5c",
   "metadata": {},
   "outputs": [],
   "source": [
    "from src.lazyframes.darwin_core_csv import DarwinCoreCsvLazyFrame\n",
    "\n",
    "darwin_core_csv_lazy_frame = DarwinCoreCsvLazyFrame.build(input_file)"
   ]
  },
  {
   "cell_type": "markdown",
   "id": "a8aecc3d",
   "metadata": {},
   "source": [
    "### Preview"
   ]
  },
  {
   "cell_type": "code",
   "execution_count": 5,
   "id": "301909c5",
   "metadata": {},
   "outputs": [
    {
     "data": {
      "text/html": [
       "<div><style>\n",
       ".dataframe > thead > tr,\n",
       ".dataframe > tbody > tr {\n",
       "  text-align: right;\n",
       "  white-space: pre-wrap;\n",
       "}\n",
       "</style>\n",
       "<small>shape: (3, 50)</small><table border=\"1\" class=\"dataframe\"><thead><tr><th>gbifID</th><th>datasetKey</th><th>occurrenceID</th><th>kingdom</th><th>phylum</th><th>class</th><th>order</th><th>family</th><th>genus</th><th>species</th><th>infraspecificEpithet</th><th>taxonRank</th><th>scientificName</th><th>verbatimScientificName</th><th>verbatimScientificNameAuthorship</th><th>countryCode</th><th>locality</th><th>stateProvince</th><th>occurrenceStatus</th><th>individualCount</th><th>publishingOrgKey</th><th>decimalLatitude</th><th>decimalLongitude</th><th>coordinateUncertaintyInMeters</th><th>coordinatePrecision</th><th>elevation</th><th>elevationAccuracy</th><th>depth</th><th>depthAccuracy</th><th>eventDate</th><th>day</th><th>month</th><th>year</th><th>taxonKey</th><th>speciesKey</th><th>basisOfRecord</th><th>institutionCode</th><th>collectionCode</th><th>catalogNumber</th><th>recordNumber</th><th>identifiedBy</th><th>dateIdentified</th><th>license</th><th>rightsHolder</th><th>recordedBy</th><th>typeStatus</th><th>establishmentMeans</th><th>lastInterpreted</th><th>mediaType</th><th>issue</th></tr><tr><td>str</td><td>str</td><td>str</td><td>enum</td><td>str</td><td>str</td><td>str</td><td>str</td><td>str</td><td>str</td><td>str</td><td>str</td><td>str</td><td>str</td><td>str</td><td>str</td><td>str</td><td>str</td><td>str</td><td>str</td><td>str</td><td>f64</td><td>f64</td><td>str</td><td>str</td><td>str</td><td>str</td><td>str</td><td>str</td><td>str</td><td>str</td><td>str</td><td>str</td><td>u64</td><td>str</td><td>str</td><td>str</td><td>str</td><td>str</td><td>str</td><td>str</td><td>str</td><td>str</td><td>str</td><td>str</td><td>str</td><td>str</td><td>str</td><td>str</td><td>str</td></tr></thead><tbody><tr><td>&quot;4424226317&quot;</td><td>&quot;50c9509d-22c7-4a22-a47d-8c4842…</td><td>&quot;https://www.inaturalist.org/ob…</td><td>&quot;Animalia&quot;</td><td>&quot;Arthropoda&quot;</td><td>&quot;Insecta&quot;</td><td>&quot;Odonata&quot;</td><td>&quot;Libellulidae&quot;</td><td>&quot;Sympetrum&quot;</td><td>null</td><td>null</td><td>&quot;GENUS&quot;</td><td>&quot;Sympetrum Newman, 1833&quot;</td><td>&quot;Sympetrum&quot;</td><td>null</td><td>&quot;US&quot;</td><td>null</td><td>&quot;New York&quot;</td><td>&quot;PRESENT&quot;</td><td>null</td><td>&quot;28eb1a3f-1c15-4a95-931a-4af90e…</td><td>42.96266</td><td>-76.740947</td><td>&quot;2191.0&quot;</td><td>null</td><td>null</td><td>null</td><td>null</td><td>null</td><td>&quot;2019-09-06T10:30&quot;</td><td>&quot;6&quot;</td><td>&quot;9&quot;</td><td>&quot;2019&quot;</td><td>1428195</td><td>null</td><td>&quot;HUMAN_OBSERVATION&quot;</td><td>&quot;iNaturalist&quot;</td><td>&quot;Observations&quot;</td><td>&quot;32505913&quot;</td><td>null</td><td>&quot;Amy Guala&quot;</td><td>&quot;2019-09-11T01:33:07&quot;</td><td>&quot;CC_BY_NC_4_0&quot;</td><td>&quot;Amy Guala&quot;</td><td>&quot;Amy Guala&quot;</td><td>null</td><td>null</td><td>&quot;2024-12-03T00:52:33.467Z&quot;</td><td>&quot;StillImage&quot;</td><td>&quot;COORDINATE_ROUNDED;CONTINENT_D…</td></tr><tr><td>&quot;2423028148&quot;</td><td>&quot;50c9509d-22c7-4a22-a47d-8c4842…</td><td>&quot;https://www.inaturalist.org/ob…</td><td>&quot;Animalia&quot;</td><td>&quot;Arthropoda&quot;</td><td>&quot;Insecta&quot;</td><td>&quot;Lepidoptera&quot;</td><td>&quot;Geometridae&quot;</td><td>&quot;Nematocampa&quot;</td><td>&quot;Nematocampa resistaria&quot;</td><td>null</td><td>&quot;SPECIES&quot;</td><td>&quot;Nematocampa resistaria (Herric…</td><td>&quot;Nematocampa resistaria&quot;</td><td>null</td><td>&quot;US&quot;</td><td>null</td><td>&quot;Vermont&quot;</td><td>&quot;PRESENT&quot;</td><td>null</td><td>&quot;28eb1a3f-1c15-4a95-931a-4af90e…</td><td>43.822608</td><td>-72.641412</td><td>&quot;5.0&quot;</td><td>null</td><td>null</td><td>null</td><td>null</td><td>null</td><td>&quot;2019-09-11T22:08:52&quot;</td><td>&quot;11&quot;</td><td>&quot;9&quot;</td><td>&quot;2019&quot;</td><td>1991012</td><td>&quot;1991012&quot;</td><td>&quot;HUMAN_OBSERVATION&quot;</td><td>&quot;iNaturalist&quot;</td><td>&quot;Observations&quot;</td><td>&quot;32566956&quot;</td><td>null</td><td>&quot;bugguytad&quot;</td><td>&quot;2019-09-12T02:25:38&quot;</td><td>&quot;CC_BY_NC_4_0&quot;</td><td>&quot;bugguytad&quot;</td><td>&quot;bugguytad&quot;</td><td>null</td><td>null</td><td>&quot;2024-12-03T01:38:46.617Z&quot;</td><td>&quot;StillImage;StillImage;StillIma…</td><td>&quot;COORDINATE_ROUNDED;CONTINENT_D…</td></tr><tr><td>&quot;2423041120&quot;</td><td>&quot;50c9509d-22c7-4a22-a47d-8c4842…</td><td>&quot;https://www.inaturalist.org/ob…</td><td>&quot;Animalia&quot;</td><td>&quot;Arthropoda&quot;</td><td>&quot;Insecta&quot;</td><td>&quot;Odonata&quot;</td><td>&quot;Coenagrionidae&quot;</td><td>&quot;Argia&quot;</td><td>&quot;Argia moesta&quot;</td><td>null</td><td>&quot;SPECIES&quot;</td><td>&quot;Argia moesta (Hagen, 1861)&quot;</td><td>&quot;Argia moesta&quot;</td><td>null</td><td>&quot;US&quot;</td><td>null</td><td>&quot;Texas&quot;</td><td>&quot;PRESENT&quot;</td><td>null</td><td>&quot;28eb1a3f-1c15-4a95-931a-4af90e…</td><td>30.99463</td><td>-103.662658</td><td>null</td><td>null</td><td>null</td><td>null</td><td>null</td><td>null</td><td>&quot;2019-09-08T09:01&quot;</td><td>&quot;8&quot;</td><td>&quot;9&quot;</td><td>&quot;2019&quot;</td><td>5051399</td><td>&quot;5051399&quot;</td><td>&quot;HUMAN_OBSERVATION&quot;</td><td>&quot;iNaturalist&quot;</td><td>&quot;Observations&quot;</td><td>&quot;32612673&quot;</td><td>null</td><td>&quot;Todd Fitzgerald&quot;</td><td>&quot;2019-09-12T22:11:30&quot;</td><td>&quot;CC_BY_NC_4_0&quot;</td><td>&quot;Todd Fitzgerald&quot;</td><td>&quot;Todd Fitzgerald&quot;</td><td>null</td><td>null</td><td>&quot;2024-12-03T01:38:10.816Z&quot;</td><td>&quot;StillImage&quot;</td><td>&quot;COORDINATE_ROUNDED;CONTINENT_D…</td></tr></tbody></table></div>"
      ],
      "text/plain": [
       "shape: (3, 50)\n",
       "┌───────────┬───────────┬───────────┬──────────┬───┬───────────┬───────────┬───────────┬───────────┐\n",
       "│ gbifID    ┆ datasetKe ┆ occurrenc ┆ kingdom  ┆ … ┆ establish ┆ lastInter ┆ mediaType ┆ issue     │\n",
       "│ ---       ┆ y         ┆ eID       ┆ ---      ┆   ┆ mentMeans ┆ preted    ┆ ---       ┆ ---       │\n",
       "│ str       ┆ ---       ┆ ---       ┆ enum     ┆   ┆ ---       ┆ ---       ┆ str       ┆ str       │\n",
       "│           ┆ str       ┆ str       ┆          ┆   ┆ str       ┆ str       ┆           ┆           │\n",
       "╞═══════════╪═══════════╪═══════════╪══════════╪═══╪═══════════╪═══════════╪═══════════╪═══════════╡\n",
       "│ 442422631 ┆ 50c9509d- ┆ https://w ┆ Animalia ┆ … ┆ null      ┆ 2024-12-0 ┆ StillImag ┆ COORDINAT │\n",
       "│ 7         ┆ 22c7-4a22 ┆ ww.inatur ┆          ┆   ┆           ┆ 3T00:52:3 ┆ e         ┆ E_ROUNDED │\n",
       "│           ┆ -a47d-8c4 ┆ alist.org ┆          ┆   ┆           ┆ 3.467Z    ┆           ┆ ;CONTINEN │\n",
       "│           ┆ 842…      ┆ /ob…      ┆          ┆   ┆           ┆           ┆           ┆ T_D…      │\n",
       "│ 242302814 ┆ 50c9509d- ┆ https://w ┆ Animalia ┆ … ┆ null      ┆ 2024-12-0 ┆ StillImag ┆ COORDINAT │\n",
       "│ 8         ┆ 22c7-4a22 ┆ ww.inatur ┆          ┆   ┆           ┆ 3T01:38:4 ┆ e;StillIm ┆ E_ROUNDED │\n",
       "│           ┆ -a47d-8c4 ┆ alist.org ┆          ┆   ┆           ┆ 6.617Z    ┆ age;Still ┆ ;CONTINEN │\n",
       "│           ┆ 842…      ┆ /ob…      ┆          ┆   ┆           ┆           ┆ Ima…      ┆ T_D…      │\n",
       "│ 242304112 ┆ 50c9509d- ┆ https://w ┆ Animalia ┆ … ┆ null      ┆ 2024-12-0 ┆ StillImag ┆ COORDINAT │\n",
       "│ 0         ┆ 22c7-4a22 ┆ ww.inatur ┆          ┆   ┆           ┆ 3T01:38:1 ┆ e         ┆ E_ROUNDED │\n",
       "│           ┆ -a47d-8c4 ┆ alist.org ┆          ┆   ┆           ┆ 0.816Z    ┆           ┆ ;CONTINEN │\n",
       "│           ┆ 842…      ┆ /ob…      ┆          ┆   ┆           ┆           ┆           ┆ T_D…      │\n",
       "└───────────┴───────────┴───────────┴──────────┴───┴───────────┴───────────┴───────────┴───────────┘"
      ]
     },
     "execution_count": 5,
     "metadata": {},
     "output_type": "execute_result"
    }
   ],
   "source": [
    "darwin_core_csv_lazy_frame.lf.limit(3).collect()"
   ]
  },
  {
   "cell_type": "markdown",
   "id": "d894f444",
   "metadata": {},
   "source": [
    "## `TaxonomyDataFrame`"
   ]
  },
  {
   "cell_type": "markdown",
   "id": "9aea10c8",
   "metadata": {},
   "source": [
    "### Build"
   ]
  },
  {
   "cell_type": "code",
   "execution_count": 6,
   "id": "dc245900",
   "metadata": {},
   "outputs": [],
   "source": [
    "from src.dataframes.taxonomy import TaxonomyDataFrame\n",
    "\n",
    "taxonomy_dataframe = TaxonomyDataFrame.build(darwin_core_csv_lazy_frame)"
   ]
  },
  {
   "cell_type": "markdown",
   "id": "4fd52a30",
   "metadata": {},
   "source": [
    "### Preview"
   ]
  },
  {
   "cell_type": "code",
   "execution_count": 7,
   "id": "da2a0349",
   "metadata": {},
   "outputs": [
    {
     "data": {
      "text/html": [
       "<div><style>\n",
       ".dataframe > thead > tr,\n",
       ".dataframe > tbody > tr {\n",
       "  text-align: right;\n",
       "  white-space: pre-wrap;\n",
       "}\n",
       "</style>\n",
       "<small>shape: (3, 7)</small><table border=\"1\" class=\"dataframe\"><thead><tr><th>kingdom</th><th>phylum</th><th>class</th><th>order</th><th>family</th><th>genus</th><th>species</th></tr><tr><td>enum</td><td>str</td><td>str</td><td>str</td><td>str</td><td>str</td><td>str</td></tr></thead><tbody><tr><td>&quot;Animalia&quot;</td><td>&quot;Arthropoda&quot;</td><td>&quot;Insecta&quot;</td><td>&quot;Lepidoptera&quot;</td><td>&quot;Erebidae&quot;</td><td>&quot;Zale&quot;</td><td>&quot;Zale exhausta&quot;</td></tr><tr><td>&quot;Animalia&quot;</td><td>&quot;Arthropoda&quot;</td><td>&quot;Insecta&quot;</td><td>&quot;Diptera&quot;</td><td>&quot;Syrphidae&quot;</td><td>&quot;Blera&quot;</td><td>&quot;Blera umbratilis&quot;</td></tr><tr><td>&quot;Fungi&quot;</td><td>&quot;Basidiomycota&quot;</td><td>&quot;Agaricomycetes&quot;</td><td>&quot;Agaricales&quot;</td><td>&quot;Hygrophoraceae&quot;</td><td>&quot;Arrhenia&quot;</td><td>&quot;Arrhenia bigelowii&quot;</td></tr></tbody></table></div>"
      ],
      "text/plain": [
       "shape: (3, 7)\n",
       "┌──────────┬───────────────┬───────────────┬─────────────┬───────────────┬──────────┬──────────────┐\n",
       "│ kingdom  ┆ phylum        ┆ class         ┆ order       ┆ family        ┆ genus    ┆ species      │\n",
       "│ ---      ┆ ---           ┆ ---           ┆ ---         ┆ ---           ┆ ---      ┆ ---          │\n",
       "│ enum     ┆ str           ┆ str           ┆ str         ┆ str           ┆ str      ┆ str          │\n",
       "╞══════════╪═══════════════╪═══════════════╪═════════════╪═══════════════╪══════════╪══════════════╡\n",
       "│ Animalia ┆ Arthropoda    ┆ Insecta       ┆ Lepidoptera ┆ Erebidae      ┆ Zale     ┆ Zale         │\n",
       "│          ┆               ┆               ┆             ┆               ┆          ┆ exhausta     │\n",
       "│ Animalia ┆ Arthropoda    ┆ Insecta       ┆ Diptera     ┆ Syrphidae     ┆ Blera    ┆ Blera        │\n",
       "│          ┆               ┆               ┆             ┆               ┆          ┆ umbratilis   │\n",
       "│ Fungi    ┆ Basidiomycota ┆ Agaricomycete ┆ Agaricales  ┆ Hygrophoracea ┆ Arrhenia ┆ Arrhenia     │\n",
       "│          ┆               ┆ s             ┆             ┆ e             ┆          ┆ bigelowii    │\n",
       "└──────────┴───────────────┴───────────────┴─────────────┴───────────────┴──────────┴──────────────┘"
      ]
     },
     "execution_count": 7,
     "metadata": {},
     "output_type": "execute_result"
    }
   ],
   "source": [
    "taxonomy_dataframe.df.limit(3)"
   ]
  },
  {
   "cell_type": "markdown",
   "id": "a0648044",
   "metadata": {},
   "source": [
    "## `GeohashSpeciesCountsDataFrame`"
   ]
  },
  {
   "cell_type": "markdown",
   "id": "c9342219",
   "metadata": {},
   "source": [
    "### Build"
   ]
  },
  {
   "cell_type": "code",
   "execution_count": 8,
   "id": "193e313e",
   "metadata": {},
   "outputs": [],
   "source": [
    "from src.dataframes.geohash_species_counts import GeohashSpeciesCountsDataFrame\n",
    "\n",
    "geohash_taxa_counts_dataframe = GeohashSpeciesCountsDataFrame.build(\n",
    "    darwin_core_csv_lazy_frame, geohash_precision\n",
    ")"
   ]
  },
  {
   "cell_type": "markdown",
   "id": "a657db45",
   "metadata": {},
   "source": [
    "### Preview"
   ]
  },
  {
   "cell_type": "code",
   "execution_count": 9,
   "id": "650b1cde",
   "metadata": {},
   "outputs": [
    {
     "data": {
      "text/html": [
       "<div><style>\n",
       ".dataframe > thead > tr,\n",
       ".dataframe > tbody > tr {\n",
       "  text-align: right;\n",
       "  white-space: pre-wrap;\n",
       "}\n",
       "</style>\n",
       "<small>shape: (3, 5)</small><table border=\"1\" class=\"dataframe\"><thead><tr><th>geohash</th><th>kingdom</th><th>rank</th><th>name</th><th>count</th></tr><tr><td>str</td><td>enum</td><td>enum</td><td>str</td><td>u32</td></tr></thead><tbody><tr><td>&quot;97zz&quot;</td><td>&quot;Animalia&quot;</td><td>&quot;species&quot;</td><td>&quot;Eschrichtius robustus&quot;</td><td>1</td></tr><tr><td>&quot;9eb4&quot;</td><td>&quot;Animalia&quot;</td><td>&quot;species&quot;</td><td>&quot;Papilio rutulus&quot;</td><td>1</td></tr><tr><td>&quot;9ebn&quot;</td><td>&quot;Animalia&quot;</td><td>&quot;species&quot;</td><td>&quot;Eschrichtius robustus&quot;</td><td>1</td></tr></tbody></table></div>"
      ],
      "text/plain": [
       "shape: (3, 5)\n",
       "┌─────────┬──────────┬─────────┬───────────────────────┬───────┐\n",
       "│ geohash ┆ kingdom  ┆ rank    ┆ name                  ┆ count │\n",
       "│ ---     ┆ ---      ┆ ---     ┆ ---                   ┆ ---   │\n",
       "│ str     ┆ enum     ┆ enum    ┆ str                   ┆ u32   │\n",
       "╞═════════╪══════════╪═════════╪═══════════════════════╪═══════╡\n",
       "│ 97zz    ┆ Animalia ┆ species ┆ Eschrichtius robustus ┆ 1     │\n",
       "│ 9eb4    ┆ Animalia ┆ species ┆ Papilio rutulus       ┆ 1     │\n",
       "│ 9ebn    ┆ Animalia ┆ species ┆ Eschrichtius robustus ┆ 1     │\n",
       "└─────────┴──────────┴─────────┴───────────────────────┴───────┘"
      ]
     },
     "execution_count": 9,
     "metadata": {},
     "output_type": "execute_result"
    }
   ],
   "source": [
    "geohash_taxa_counts_dataframe.df.limit(3)"
   ]
  },
  {
   "cell_type": "markdown",
   "id": "9078ff5a",
   "metadata": {},
   "source": [
    "## `GeohashSeries`\n",
    "\n",
    "### Build"
   ]
  },
  {
   "cell_type": "code",
   "execution_count": 10,
   "id": "0e9825cd",
   "metadata": {},
   "outputs": [],
   "source": [
    "from src.series.geohash import GeohashSeries\n",
    "\n",
    "geohash_series = GeohashSeries.build(geohash_taxa_counts_dataframe)"
   ]
  },
  {
   "cell_type": "markdown",
   "id": "daadc602",
   "metadata": {},
   "source": [
    "### Preview"
   ]
  },
  {
   "cell_type": "code",
   "execution_count": 11,
   "id": "0eaff006",
   "metadata": {},
   "outputs": [
    {
     "data": {
      "text/html": [
       "<div><style>\n",
       ".dataframe > thead > tr,\n",
       ".dataframe > tbody > tr {\n",
       "  text-align: right;\n",
       "  white-space: pre-wrap;\n",
       "}\n",
       "</style>\n",
       "<small>shape: (5,)</small><table border=\"1\" class=\"dataframe\"><thead><tr><th>geohash</th></tr><tr><td>str</td></tr></thead><tbody><tr><td>&quot;97zz&quot;</td></tr><tr><td>&quot;9eb4&quot;</td></tr><tr><td>&quot;9ebn&quot;</td></tr><tr><td>&quot;9ebt&quot;</td></tr><tr><td>&quot;9ebx&quot;</td></tr></tbody></table></div>"
      ],
      "text/plain": [
       "shape: (5,)\n",
       "Series: 'geohash' [str]\n",
       "[\n",
       "\t\"97zz\"\n",
       "\t\"9eb4\"\n",
       "\t\"9ebn\"\n",
       "\t\"9ebt\"\n",
       "\t\"9ebx\"\n",
       "]"
      ]
     },
     "execution_count": 11,
     "metadata": {},
     "output_type": "execute_result"
    }
   ],
   "source": [
    "geohash_series.series.limit(5)"
   ]
  },
  {
   "cell_type": "markdown",
   "id": "c702a476",
   "metadata": {},
   "source": [
    "# `ConnectivityMatrix`\n",
    "\n",
    "### Build"
   ]
  },
  {
   "cell_type": "code",
   "execution_count": 12,
   "id": "c5e80f91",
   "metadata": {},
   "outputs": [],
   "source": [
    "from src.matrices.connectivity import ConnectivityMatrix\n",
    "\n",
    "connectivity_matrix = ConnectivityMatrix.build(geohash_series)"
   ]
  },
  {
   "cell_type": "markdown",
   "id": "779a1ded",
   "metadata": {},
   "source": [
    "### Preview"
   ]
  },
  {
   "cell_type": "code",
   "execution_count": 13,
   "id": "a0a89bf6",
   "metadata": {},
   "outputs": [
    {
     "data": {
      "text/plain": [
       "array([[0, 0, 1, ..., 0, 0, 0],\n",
       "       [0, 0, 0, ..., 0, 0, 0],\n",
       "       [1, 0, 0, ..., 0, 0, 0],\n",
       "       ...,\n",
       "       [0, 0, 0, ..., 0, 0, 0],\n",
       "       [0, 0, 0, ..., 0, 0, 1],\n",
       "       [0, 0, 0, ..., 0, 1, 0]], shape=(20751, 20751))"
      ]
     },
     "execution_count": 13,
     "metadata": {},
     "output_type": "execute_result"
    }
   ],
   "source": [
    "connectivity_matrix._connectivity_matrix"
   ]
  },
  {
   "cell_type": "code",
   "execution_count": null,
   "id": "7d9bbcb9",
   "metadata": {},
   "outputs": [],
   "source": []
  },
  {
   "cell_type": "markdown",
   "id": "79cc061b",
   "metadata": {},
   "source": [
    "## `DistanceMatrix`\n",
    "\n",
    "### Build"
   ]
  },
  {
   "cell_type": "code",
   "execution_count": null,
   "id": "f7e3d885",
   "metadata": {},
   "outputs": [],
   "source": [
    "from src.matrices.distance import DistanceMatrix\n",
    "\n",
    "distance_matrix = DistanceMatrix.build(geohash_taxa_counts_dataframe)"
   ]
  },
  {
   "cell_type": "markdown",
   "id": "214d36ed",
   "metadata": {},
   "source": [
    "### Preview"
   ]
  },
  {
   "cell_type": "code",
   "execution_count": null,
   "id": "4f233d45",
   "metadata": {},
   "outputs": [],
   "source": [
    "distance_matrix.squareform()"
   ]
  },
  {
   "cell_type": "markdown",
   "id": "3ae9ea61",
   "metadata": {},
   "source": [
    "## `GeohashClusterDataFrame`\n",
    "\n",
    "### Build"
   ]
  },
  {
   "cell_type": "code",
   "execution_count": null,
   "id": "eaedbc3d",
   "metadata": {},
   "outputs": [],
   "source": [
    "from src.dataframes.geohash_cluster import GeohashClusterDataFrame\n",
    "\n",
    "geohash_cluster_dataframe = GeohashClusterDataFrame.build(\n",
    "    geohash_series,\n",
    "    distance_matrix,\n",
    "    connectivity_matrix,\n",
    "    num_clusters,\n",
    ")"
   ]
  },
  {
   "cell_type": "markdown",
   "id": "d6713b4a",
   "metadata": {},
   "source": [
    "### Preview"
   ]
  },
  {
   "cell_type": "code",
   "execution_count": null,
   "id": "04c9d615",
   "metadata": {},
   "outputs": [],
   "source": [
    "geohash_cluster_dataframe.df.limit(3)"
   ]
  },
  {
   "cell_type": "markdown",
   "id": "089e1634",
   "metadata": {},
   "source": [
    "## `ClusterColorDataFrame`\n",
    "\n",
    "### Build"
   ]
  },
  {
   "cell_type": "code",
   "execution_count": 16,
   "id": "98c37aad",
   "metadata": {},
   "outputs": [],
   "source": [
    "from src.dataframes.cluster_color import ClusterColorDataFrame\n",
    "\n",
    "cluster_colors_dataframe = ClusterColorDataFrame.build(geohash_cluster_dataframe)"
   ]
  },
  {
   "cell_type": "markdown",
   "id": "7874af43",
   "metadata": {},
   "source": [
    "### Preview"
   ]
  },
  {
   "cell_type": "code",
   "execution_count": null,
   "id": "c0bf9f80",
   "metadata": {},
   "outputs": [],
   "source": [
    "cluster_colors_dataframe.df.limit(3)"
   ]
  },
  {
   "cell_type": "markdown",
   "id": "c5126a20",
   "metadata": {},
   "source": [
    "## Silhouette score"
   ]
  },
  {
   "cell_type": "code",
   "execution_count": null,
   "id": "30ba0cf3",
   "metadata": {},
   "outputs": [],
   "source": [
    "# TMP\n",
    "\n",
    "from sklearn.metrics import silhouette_score, silhouette_samples\n",
    "import matplotlib.pyplot as plt\n",
    "\n",
    "silhouette_score(\n",
    "    X=distance_matrix.squareform(),\n",
    "    labels=geohash_cluster_dataframe.df[\"cluster\"],\n",
    "    metric=\"precomputed\",\n",
    ")\n",
    "\n",
    "samples = silhouette_samples(\n",
    "    X=distance_matrix.squareform(),\n",
    "    labels=geohash_cluster_dataframe.df[\"cluster\"],\n",
    "    metric=\"precomputed\",\n",
    ")\n",
    "\n",
    "import polars as pl\n",
    "import matplotlib.cm as cm\n",
    "import matplotlib.pyplot as plt\n",
    "import numpy as np\n",
    "\n",
    "new = geohash_cluster_dataframe.df.with_columns(\n",
    "    pl.Series(\n",
    "        name=\"sample\",\n",
    "        values=samples,\n",
    "    )\n",
    ")\n",
    "\n",
    "n_clusters = len(geohash_cluster_dataframe.df[\"cluster\"].unique())\n",
    "n_geohashes = len(distance_matrix.squareform())\n",
    "\n",
    "# Create a subplot with 1 row and 2 columns\n",
    "fig, ax1 = plt.subplots()\n",
    "fig.set_size_inches(18, 7)\n",
    "# The 1st subplot is the silhouette plot\n",
    "# The silhouette coefficient can range from -1, 1 but in this example all\n",
    "# lie within [-0.1, 1]\n",
    "# ax1.set_xlim([-0.1, 1])\n",
    "# The (n_clusters+1)*10 is for inserting blank space between silhouette\n",
    "# plots of individual clusters, to demarcate them clearly.\n",
    "ax1.set_ylim([0, n_geohashes + (n_clusters + 1) * 10])\n",
    "\n",
    "y_lower = 10\n",
    "for i, cluster in enumerate(geohash_cluster_dataframe.df[\"cluster\"].unique()):\n",
    "    ith_cluster_silhouette_values = (new.filter(pl.col(\"cluster\") == cluster).sort(\"sample\", descending=True))[\"sample\"]\n",
    "    print(ith_cluster_silhouette_values)\n",
    "\n",
    "    size_cluster_i = ith_cluster_silhouette_values.shape[0]\n",
    "    y_upper = y_lower + size_cluster_i\n",
    "\n",
    "    color =  cluster_colors_dataframe.get_color_for_cluster(cluster)\n",
    "    ax1.fill_betweenx(\n",
    "        np.arange(y_lower, y_upper),\n",
    "        0,\n",
    "        ith_cluster_silhouette_values,\n",
    "        facecolor=color,\n",
    "        edgecolor=color,\n",
    "    )\n",
    "\n",
    "    # Compute the new y_lower for next plot\n",
    "    y_lower = y_upper + 10  # 10 for the 0 samples\n"
   ]
  },
  {
   "cell_type": "markdown",
   "id": "a5c4faa1",
   "metadata": {},
   "source": [
    "## `ClusterTaxaStatisticsDataFrame`\n",
    "\n",
    "### Build"
   ]
  },
  {
   "cell_type": "code",
   "execution_count": 18,
   "id": "39c1a999",
   "metadata": {},
   "outputs": [],
   "source": [
    "from src.dataframes.cluster_taxa_statistics import ClusterTaxaStatisticsDataFrame\n",
    "\n",
    "cluster_taxa_statistics_dataframe = ClusterTaxaStatisticsDataFrame.build(\n",
    "    geohash_taxa_counts_dataframe,\n",
    "    geohash_cluster_dataframe,\n",
    "    taxonomy_dataframe,\n",
    ")"
   ]
  },
  {
   "cell_type": "markdown",
   "id": "abb7c9b6",
   "metadata": {},
   "source": [
    "### Preview"
   ]
  },
  {
   "cell_type": "code",
   "execution_count": null,
   "id": "87264ffa",
   "metadata": {},
   "outputs": [],
   "source": [
    "cluster_taxa_statistics_dataframe.df.limit(3)"
   ]
  },
  {
   "cell_type": "markdown",
   "id": "8ba074be",
   "metadata": {},
   "source": [
    "## `ClusterSignificantDifferencesDataFrame`\n",
    "\n",
    "### Build"
   ]
  },
  {
   "cell_type": "code",
   "execution_count": 20,
   "id": "51fd3375",
   "metadata": {},
   "outputs": [],
   "source": [
    "from src.dataframes.cluster_significant_differences import ClusterSignificantDifferencesDataFrame\n",
    "\n",
    "cluster_significant_differences_dataframe = ClusterSignificantDifferencesDataFrame.build(\n",
    "    cluster_taxa_statistics_dataframe,\n",
    ")"
   ]
  },
  {
   "cell_type": "markdown",
   "id": "f1ee5c86",
   "metadata": {},
   "source": [
    "### Preview"
   ]
  },
  {
   "cell_type": "code",
   "execution_count": null,
   "id": "d48c1e6b",
   "metadata": {},
   "outputs": [],
   "source": [
    "cluster_significant_differences_dataframe.df.limit(3)"
   ]
  },
  {
   "cell_type": "markdown",
   "id": "d244acaa",
   "metadata": {},
   "source": [
    "## Build and plot GeoJSON feature collection"
   ]
  },
  {
   "cell_type": "code",
   "execution_count": null,
   "id": "9fde6339",
   "metadata": {},
   "outputs": [],
   "source": [
    "from src.geojson import build_geojson_feature_collection, write_geojson\n",
    "from src.render import plot_clusters\n",
    "\n",
    "feature_collection = build_geojson_feature_collection(\n",
    "    geohash_cluster_dataframe,\n",
    "    cluster_colors_dataframe,\n",
    ")\n",
    "\n",
    "# print_results(darwin_core_aggregations, all_stats, cluster_dataframe)\n",
    "\n",
    "write_geojson(feature_collection, output_file)\n",
    "\n",
    "plot_clusters(feature_collection)"
   ]
  },
  {
   "cell_type": "markdown",
   "id": "a56060aa",
   "metadata": {},
   "source": [
    "# Build and display HTML output"
   ]
  },
  {
   "cell_type": "code",
   "execution_count": null,
   "id": "672180bd",
   "metadata": {},
   "outputs": [],
   "source": [
    "from src.html_output import build_html_output\n",
    "from IPython.display import display, HTML\n",
    "\n",
    "html = build_html_output(\n",
    "    cluster_colors_dataframe,\n",
    "    cluster_significant_differences_dataframe,\n",
    ")\n",
    "\n",
    "display(HTML(html))\n"
   ]
  },
  {
   "cell_type": "code",
   "execution_count": null,
   "id": "33f2c697",
   "metadata": {},
   "outputs": [],
   "source": [
    "from sklearn.manifold import TSNE\n",
    "\n",
    "tsne = TSNE(\n",
    "    n_components=2,\n",
    "    random_state=42,\n",
    "    metric=\"precomputed\",\n",
    "    init=\"random\",\n",
    "    perplexity=min(30, distance_matrix.squareform().shape[0] - 1), # HACK FOR SMALLER DATASETS\n",
    ")\n",
    "X_tsne = tsne.fit_transform(distance_matrix.squareform())\n",
    "tsne.kl_divergence_\n"
   ]
  },
  {
   "cell_type": "code",
   "execution_count": null,
   "id": "9168849f",
   "metadata": {},
   "outputs": [],
   "source": [
    "import seaborn as sns\n",
    "\n",
    "sns.scatterplot(\n",
    "    x=X_tsne[:, 0],\n",
    "    y=X_tsne[:, 1],\n",
    "    hue=geohash_cluster_dataframe.df[\"cluster\"],\n",
    "    palette=cluster_colors_dataframe.to_dict(),\n",
    "    alpha=1,\n",
    ")"
   ]
  },
  {
   "cell_type": "code",
   "execution_count": 26,
   "id": "54d78320",
   "metadata": {},
   "outputs": [],
   "source": [
    "import seaborn as sns\n",
    "import matplotlib.pyplot as plt\n",
    "import polars as pl\n",
    "from scipy.cluster.hierarchy import linkage\n",
    "\n",
    "from src.darwin_core import TaxonRank\n",
    "\n",
    "linkage_array = linkage(distance_matrix.condensed(), \"ward\")\n",
    "\n",
    "ordered_geohashes = geohash_taxa_counts_dataframe.ordered_geohashes()\n",
    "\n",
    "def min_max_normalize(series: pl.Series) -> pl.Series:\n",
    "    return (series - series.min()) / (series.max() - series.min())\n",
    "\n",
    "col_colors = []\n",
    "for geohash in ordered_geohashes:\n",
    "    cluster = geohash_cluster_dataframe.cluster_for_geohash(geohash)\n",
    "    col_colors.append(cluster_colors_dataframe.get_color_for_cluster(cluster))\n",
    "\n",
    "data = {}\n",
    "for species in cluster_significant_differences_dataframe.df[\"taxon\"].unique():\n",
    "    counts = []\n",
    "\n",
    "    for geohash in ordered_geohashes:\n",
    "        geohash_counts_species = geohash_taxa_counts_dataframe.df.filter(\n",
    "            pl.col(\"geohash\") == geohash, pl.col(\"name\") == species\n",
    "        ).get_column(\"count\").sum()\n",
    "        geohash_counts_all = geohash_taxa_counts_dataframe.df.filter(\n",
    "            pl.col(\"geohash\") == geohash\n",
    "        ).get_column(\"count\").sum()\n",
    "        geohash_average = geohash_counts_species / geohash_counts_all\n",
    "        all_average = (\n",
    "            cluster_taxa_statistics_dataframe.df.filter(\n",
    "                # pl.col(\"kingdom\") == kingdom, FIXME\n",
    "                pl.col(\"name\") == species,\n",
    "                pl.col(\"cluster\").is_null(),\n",
    "                pl.col(\"rank\") == TaxonRank.species,\n",
    "            )\n",
    "            .get_column(\"average\")\n",
    "            .item()\n",
    "        )\n",
    "        counts.append(geohash_average - all_average)\n",
    "    counts = pl.Series(\n",
    "        values=counts,\n",
    "        name=species,\n",
    "    )\n",
    "    # counts = counts / counts.max()\n",
    "    # counts = counts.pow(1 / 3)\n",
    "    data[species] = min_max_normalize(counts)\n"
   ]
  },
  {
   "cell_type": "code",
   "execution_count": null,
   "id": "92925ee1",
   "metadata": {},
   "outputs": [],
   "source": [
    "data"
   ]
  },
  {
   "cell_type": "code",
   "execution_count": null,
   "id": "1f706269",
   "metadata": {},
   "outputs": [],
   "source": [
    "dataframe = pl.DataFrame(data=data)\n",
    "sns.clustermap(\n",
    "    data=dataframe,\n",
    "    col_cluster=False,\n",
    "    row_cluster=True,\n",
    "    row_linkage=linkage_array,\n",
    "    row_colors=col_colors,\n",
    "    xticklabels=dataframe.columns,\n",
    "    yticklabels=False,\n",
    ")"
   ]
  }
 ],
 "metadata": {
  "kernelspec": {
   "display_name": ".venv",
   "language": "python",
   "name": "python3"
  },
  "language_info": {
   "codemirror_mode": {
    "name": "ipython",
    "version": 3
   },
   "file_extension": ".py",
   "mimetype": "text/x-python",
   "name": "python",
   "nbconvert_exporter": "python",
   "pygments_lexer": "ipython3",
   "version": "3.13.0"
  }
 },
 "nbformat": 4,
 "nbformat_minor": 5
}

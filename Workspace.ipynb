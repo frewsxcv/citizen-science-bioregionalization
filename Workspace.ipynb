{
 "cells": [
  {
   "cell_type": "markdown",
   "id": "f06de749",
   "metadata": {},
   "source": [
    "# Dynamic ecoregions"
   ]
  },
  {
   "cell_type": "markdown",
   "id": "dd126c3a",
   "metadata": {},
   "source": [
    "## Define inputs"
   ]
  },
  {
   "cell_type": "code",
   "execution_count": 1,
   "id": "99519ac0",
   "metadata": {},
   "outputs": [],
   "source": [
    "# Inputs\n",
    "input_file = \"data/data-continental-united-states.csv\"\n",
    "geocode_precision = 4\n",
    "log_file = \"run.log\"\n",
    "output_file = \"output.geojson\"\n",
    "num_clusters = 30"
   ]
  },
  {
   "cell_type": "markdown",
   "id": "7bbc4cef",
   "metadata": {},
   "source": [
    "## Set up logging"
   ]
  },
  {
   "cell_type": "code",
   "execution_count": 2,
   "id": "44ea301b",
   "metadata": {},
   "outputs": [],
   "source": [
    "import logging\n",
    "\n",
    "logging.basicConfig(filename=log_file, encoding=\"utf-8\", level=logging.INFO)"
   ]
  },
  {
   "cell_type": "markdown",
   "id": "27b9d760",
   "metadata": {},
   "source": [
    "## Data flow"
   ]
  },
  {
   "cell_type": "code",
   "execution_count": 3,
   "id": "551cabe9",
   "metadata": {},
   "outputs": [
    {
     "name": "stderr",
     "output_type": "stream",
     "text": [
      "/Users/coreyf/dev/frewsxcv/citizen-science-ecoregions-experiments/.venv/lib/python3.9/site-packages/urllib3/__init__.py:35: NotOpenSSLWarning: urllib3 v2 only supports OpenSSL 1.1.1+, currently the 'ssl' module is compiled with 'LibreSSL 2.8.3'. See: https://github.com/urllib3/urllib3/issues/3020\n",
      "  warnings.warn(\n",
      "/Users/coreyf/dev/frewsxcv/citizen-science-ecoregions-experiments/.venv/lib/python3.9/site-packages/tqdm/auto.py:21: TqdmWarning: IProgress not found. Please update jupyter and ipywidgets. See https://ipywidgets.readthedocs.io/en/stable/user_install.html\n",
      "  from .autonotebook import tqdm as notebook_tqdm\n"
     ]
    },
    {
     "data": {
      "text/html": [
       "<!DOCTYPE html>\n",
       "<!--[if lt IE 7]> <html class=\"no-js ie6 oldie\" lang=\"en-US\"> <![endif]-->\n",
       "<!--[if IE 7]>    <html class=\"no-js ie7 oldie\" lang=\"en-US\"> <![endif]-->\n",
       "<!--[if IE 8]>    <html class=\"no-js ie8 oldie\" lang=\"en-US\"> <![endif]-->\n",
       "<!--[if gt IE 8]><!--> <html class=\"no-js\" lang=\"en-US\"> <!--<![endif]-->\n",
       "<head>\n",
       "<meta http-equiv=\"refresh\" content=\"0\">\n",
       "\n",
       "<title>mermaid.ink | 524: A timeout occurred</title>\n",
       "<meta charset=\"UTF-8\" />\n",
       "<meta http-equiv=\"Content-Type\" content=\"text/html; charset=UTF-8\" />\n",
       "<meta http-equiv=\"X-UA-Compatible\" content=\"IE=Edge\" />\n",
       "<meta name=\"robots\" content=\"noindex, nofollow\" />\n",
       "<meta name=\"viewport\" content=\"width=device-width,initial-scale=1\" />\n",
       "<link rel=\"stylesheet\" id=\"cf_styles-css\" href=\"/cdn-cgi/styles/main.css\" />\n",
       "\n",
       "\n",
       "</head>\n",
       "<body>\n",
       "<div id=\"cf-wrapper\">\n",
       "    <div id=\"cf-error-details\" class=\"p-0\">\n",
       "        <header class=\"mx-auto pt-10 lg:pt-6 lg:px-8 w-240 lg:w-full mb-8\">\n",
       "            <h1 class=\"inline-block sm:block sm:mb-2 font-light text-60 lg:text-4xl text-black-dark leading-tight mr-2\">\n",
       "              <span class=\"inline-block\">A timeout occurred</span>\n",
       "              <span class=\"code-label\">Error code 524</span>\n",
       "            </h1>\n",
       "            <div>\n",
       "               Visit <a href=\"https://www.cloudflare.com/5xx-error-landing?utm_source=errorcode_524&utm_campaign=mermaid.ink\" target=\"_blank\" rel=\"noopener noreferrer\">cloudflare.com</a> for more information.\n",
       "            </div>\n",
       "            <div class=\"mt-3\">2025-03-08 01:31:23 UTC</div>\n",
       "        </header>\n",
       "        <div class=\"my-8 bg-gradient-gray\">\n",
       "            <div class=\"w-240 lg:w-full mx-auto\">\n",
       "                <div class=\"clearfix md:px-8\">\n",
       "                  \n",
       "<div id=\"cf-browser-status\" class=\" relative w-1/3 md:w-full py-15 md:p-0 md:py-8 md:text-left md:border-solid md:border-0 md:border-b md:border-gray-400 overflow-hidden float-left md:float-none text-center\">\n",
       "  <div class=\"relative mb-10 md:m-0\">\n",
       "    \n",
       "    <span class=\"cf-icon-browser block md:hidden h-20 bg-center bg-no-repeat\"></span>\n",
       "    <span class=\"cf-icon-ok w-12 h-12 absolute left-1/2 md:left-auto md:right-0 md:top-0 -ml-6 -bottom-4\"></span>\n",
       "    \n",
       "  </div>\n",
       "  <span class=\"md:block w-full truncate\">You</span>\n",
       "  <h3 class=\"md:inline-block mt-3 md:mt-0 text-2xl text-gray-600 font-light leading-1.3\">\n",
       "    \n",
       "    Browser\n",
       "    \n",
       "  </h3>\n",
       "  <span class=\"leading-1.3 text-2xl text-green-success\">Working</span>\n",
       "</div>\n",
       "\n",
       "<div id=\"cf-cloudflare-status\" class=\" relative w-1/3 md:w-full py-15 md:p-0 md:py-8 md:text-left md:border-solid md:border-0 md:border-b md:border-gray-400 overflow-hidden float-left md:float-none text-center\">\n",
       "  <div class=\"relative mb-10 md:m-0\">\n",
       "    <a href=\"https://www.cloudflare.com/5xx-error-landing?utm_source=errorcode_524&utm_campaign=mermaid.ink\" target=\"_blank\" rel=\"noopener noreferrer\">\n",
       "    <span class=\"cf-icon-cloud block md:hidden h-20 bg-center bg-no-repeat\"></span>\n",
       "    <span class=\"cf-icon-ok w-12 h-12 absolute left-1/2 md:left-auto md:right-0 md:top-0 -ml-6 -bottom-4\"></span>\n",
       "    </a>\n",
       "  </div>\n",
       "  <span class=\"md:block w-full truncate\">Newark</span>\n",
       "  <h3 class=\"md:inline-block mt-3 md:mt-0 text-2xl text-gray-600 font-light leading-1.3\">\n",
       "    <a href=\"https://www.cloudflare.com/5xx-error-landing?utm_source=errorcode_524&utm_campaign=mermaid.ink\" target=\"_blank\" rel=\"noopener noreferrer\">\n",
       "    Cloudflare\n",
       "    </a>\n",
       "  </h3>\n",
       "  <span class=\"leading-1.3 text-2xl text-green-success\">Working</span>\n",
       "</div>\n",
       "\n",
       "<div id=\"cf-host-status\" class=\"cf-error-source relative w-1/3 md:w-full py-15 md:p-0 md:py-8 md:text-left md:border-solid md:border-0 md:border-b md:border-gray-400 overflow-hidden float-left md:float-none text-center\">\n",
       "  <div class=\"relative mb-10 md:m-0\">\n",
       "    \n",
       "    <span class=\"cf-icon-server block md:hidden h-20 bg-center bg-no-repeat\"></span>\n",
       "    <span class=\"cf-icon-error w-12 h-12 absolute left-1/2 md:left-auto md:right-0 md:top-0 -ml-6 -bottom-4\"></span>\n",
       "    \n",
       "  </div>\n",
       "  <span class=\"md:block w-full truncate\">mermaid.ink</span>\n",
       "  <h3 class=\"md:inline-block mt-3 md:mt-0 text-2xl text-gray-600 font-light leading-1.3\">\n",
       "    \n",
       "    Host\n",
       "    \n",
       "  </h3>\n",
       "  <span class=\"leading-1.3 text-2xl text-red-error\">Error</span>\n",
       "</div>\n",
       "\n",
       "                </div>\n",
       "            </div>\n",
       "        </div>\n",
       "\n",
       "        <div class=\"w-240 lg:w-full mx-auto mb-8 lg:px-8\">\n",
       "            <div class=\"clearfix\">\n",
       "                <div class=\"w-1/2 md:w-full float-left pr-6 md:pb-10 md:pr-0 leading-relaxed\">\n",
       "                    <h2 class=\"text-3xl font-normal leading-1.3 mb-4\">What happened?</h2>\n",
       "                    <p>The origin web server timed out responding to this request.</p>\n",
       "                </div>\n",
       "                <div class=\"w-1/2 md:w-full float-left leading-relaxed\">\n",
       "                    <h2 class=\"text-3xl font-normal leading-1.3 mb-4\">What can I do?</h2>\n",
       "                          <h3 class=\"text-15 font-semibold mb-2\">If you're a visitor of this website:</h3>\n",
       "      <p class=\"mb-6\">Please try again in a few minutes.</p>\n",
       "\n",
       "      <h3 class=\"text-15 font-semibold mb-2\">If you're the owner of this website:</h3>\n",
       "      <p><span>The connection to the origin web server was made, but the origin web server timed out before responding. The likely cause is an overloaded background task, database or application, stressing the resources on your web server. To resolve, please work with your hosting provider or web development team to free up resources for your database or overloaded application.</span> <a rel=\"noopener noreferrer\" href=\"https://support.cloudflare.com/hc/en-us/articles/200171926-Error-524\">Additional troubleshooting information here.</a></p>\n",
       "                </div>\n",
       "            </div>\n",
       "        </div>\n",
       "\n",
       "        <div class=\"cf-error-footer cf-wrapper w-240 lg:w-full py-10 sm:py-4 sm:px-8 mx-auto text-center sm:text-left border-solid border-0 border-t border-gray-300\">\n",
       "  <p class=\"text-13\">\n",
       "    <span class=\"cf-footer-item sm:block sm:mb-1\">Cloudflare Ray ID: <strong class=\"font-semibold\">91ce902c0fba4285</strong></span>\n",
       "    <span class=\"cf-footer-separator sm:hidden\">&bull;</span>\n",
       "    <span id=\"cf-footer-item-ip\" class=\"cf-footer-item hidden sm:block sm:mb-1\">\n",
       "      Your IP:\n",
       "      <button type=\"button\" id=\"cf-footer-ip-reveal\" class=\"cf-footer-ip-reveal-btn\">Click to reveal</button>\n",
       "      <span class=\"hidden\" id=\"cf-footer-ip\">141.149.43.93</span>\n",
       "      <span class=\"cf-footer-separator sm:hidden\">&bull;</span>\n",
       "    </span>\n",
       "    <span class=\"cf-footer-item sm:block sm:mb-1\"><span>Performance &amp; security by</span> <a rel=\"noopener noreferrer\" href=\"https://www.cloudflare.com/5xx-error-landing?utm_source=errorcode_524&utm_campaign=mermaid.ink\" id=\"brand_link\" target=\"_blank\">Cloudflare</a></span>\n",
       "    \n",
       "  </p>\n",
       "  <script>(function(){function d(){var b=a.getElementById(\"cf-footer-item-ip\"),c=a.getElementById(\"cf-footer-ip-reveal\");b&&\"classList\"in b&&(b.classList.remove(\"hidden\"),c.addEventListener(\"click\",function(){c.classList.add(\"hidden\");a.getElementById(\"cf-footer-ip\").classList.remove(\"hidden\")}))}var a=document;document.addEventListener&&a.addEventListener(\"DOMContentLoaded\",d)})();</script>\n",
       "</div><!-- /.error-footer -->\n",
       "\n",
       "\n",
       "    </div>\n",
       "</div>\n",
       "</body>\n",
       "</html>\n"
      ],
      "text/plain": [
       "<mermaid.__main__.Mermaid at 0x106cd0490>"
      ]
     },
     "execution_count": 3,
     "metadata": {},
     "output_type": "execute_result"
    }
   ],
   "source": [
    "from src.mermaid import build_mermaid_graph\n",
    "\n",
    "build_mermaid_graph()"
   ]
  },
  {
   "cell_type": "markdown",
   "id": "116c8d33",
   "metadata": {},
   "source": [
    "## `DarwinCoreCsvLazyFrame`"
   ]
  },
  {
   "cell_type": "markdown",
   "id": "5978dfa6",
   "metadata": {},
   "source": [
    "### Build"
   ]
  },
  {
   "cell_type": "code",
   "execution_count": 4,
   "id": "ef114a5c",
   "metadata": {},
   "outputs": [],
   "source": [
    "from src.lazyframes.darwin_core_csv import DarwinCoreCsvLazyFrame\n",
    "\n",
    "darwin_core_csv_lazy_frame = DarwinCoreCsvLazyFrame.build(input_file)"
   ]
  },
  {
   "cell_type": "markdown",
   "id": "a8aecc3d",
   "metadata": {},
   "source": [
    "### Preview"
   ]
  },
  {
   "cell_type": "code",
   "execution_count": 5,
   "id": "301909c5",
   "metadata": {},
   "outputs": [
    {
     "data": {
      "text/html": [
       "<div><style>\n",
       ".dataframe > thead > tr,\n",
       ".dataframe > tbody > tr {\n",
       "  text-align: right;\n",
       "  white-space: pre-wrap;\n",
       "}\n",
       "</style>\n",
       "<small>shape: (3, 50)</small><table border=\"1\" class=\"dataframe\"><thead><tr><th>gbifID</th><th>datasetKey</th><th>occurrenceID</th><th>kingdom</th><th>phylum</th><th>class</th><th>order</th><th>family</th><th>genus</th><th>species</th><th>infraspecificEpithet</th><th>taxonRank</th><th>scientificName</th><th>verbatimScientificName</th><th>verbatimScientificNameAuthorship</th><th>countryCode</th><th>locality</th><th>stateProvince</th><th>occurrenceStatus</th><th>individualCount</th><th>publishingOrgKey</th><th>decimalLatitude</th><th>decimalLongitude</th><th>coordinateUncertaintyInMeters</th><th>coordinatePrecision</th><th>elevation</th><th>elevationAccuracy</th><th>depth</th><th>depthAccuracy</th><th>eventDate</th><th>day</th><th>month</th><th>year</th><th>taxonKey</th><th>speciesKey</th><th>basisOfRecord</th><th>institutionCode</th><th>collectionCode</th><th>catalogNumber</th><th>recordNumber</th><th>identifiedBy</th><th>dateIdentified</th><th>license</th><th>rightsHolder</th><th>recordedBy</th><th>typeStatus</th><th>establishmentMeans</th><th>lastInterpreted</th><th>mediaType</th><th>issue</th></tr><tr><td>str</td><td>str</td><td>str</td><td>enum</td><td>str</td><td>str</td><td>str</td><td>str</td><td>str</td><td>str</td><td>str</td><td>str</td><td>str</td><td>str</td><td>str</td><td>str</td><td>str</td><td>str</td><td>str</td><td>str</td><td>str</td><td>f64</td><td>f64</td><td>str</td><td>str</td><td>str</td><td>str</td><td>str</td><td>str</td><td>str</td><td>str</td><td>str</td><td>str</td><td>u64</td><td>str</td><td>str</td><td>str</td><td>str</td><td>str</td><td>str</td><td>str</td><td>str</td><td>str</td><td>str</td><td>str</td><td>str</td><td>str</td><td>str</td><td>str</td><td>str</td></tr></thead><tbody><tr><td>&quot;4424226317&quot;</td><td>&quot;50c9509d-22c7-4a22-a47d-8c4842…</td><td>&quot;https://www.inaturalist.org/ob…</td><td>&quot;Animalia&quot;</td><td>&quot;Arthropoda&quot;</td><td>&quot;Insecta&quot;</td><td>&quot;Odonata&quot;</td><td>&quot;Libellulidae&quot;</td><td>&quot;Sympetrum&quot;</td><td>null</td><td>null</td><td>&quot;GENUS&quot;</td><td>&quot;Sympetrum Newman, 1833&quot;</td><td>&quot;Sympetrum&quot;</td><td>null</td><td>&quot;US&quot;</td><td>null</td><td>&quot;New York&quot;</td><td>&quot;PRESENT&quot;</td><td>null</td><td>&quot;28eb1a3f-1c15-4a95-931a-4af90e…</td><td>42.96266</td><td>-76.740947</td><td>&quot;2191.0&quot;</td><td>null</td><td>null</td><td>null</td><td>null</td><td>null</td><td>&quot;2019-09-06T10:30&quot;</td><td>&quot;6&quot;</td><td>&quot;9&quot;</td><td>&quot;2019&quot;</td><td>1428195</td><td>null</td><td>&quot;HUMAN_OBSERVATION&quot;</td><td>&quot;iNaturalist&quot;</td><td>&quot;Observations&quot;</td><td>&quot;32505913&quot;</td><td>null</td><td>&quot;Amy Guala&quot;</td><td>&quot;2019-09-11T01:33:07&quot;</td><td>&quot;CC_BY_NC_4_0&quot;</td><td>&quot;Amy Guala&quot;</td><td>&quot;Amy Guala&quot;</td><td>null</td><td>null</td><td>&quot;2024-12-03T00:52:33.467Z&quot;</td><td>&quot;StillImage&quot;</td><td>&quot;COORDINATE_ROUNDED;CONTINENT_D…</td></tr><tr><td>&quot;2423028148&quot;</td><td>&quot;50c9509d-22c7-4a22-a47d-8c4842…</td><td>&quot;https://www.inaturalist.org/ob…</td><td>&quot;Animalia&quot;</td><td>&quot;Arthropoda&quot;</td><td>&quot;Insecta&quot;</td><td>&quot;Lepidoptera&quot;</td><td>&quot;Geometridae&quot;</td><td>&quot;Nematocampa&quot;</td><td>&quot;Nematocampa resistaria&quot;</td><td>null</td><td>&quot;SPECIES&quot;</td><td>&quot;Nematocampa resistaria (Herric…</td><td>&quot;Nematocampa resistaria&quot;</td><td>null</td><td>&quot;US&quot;</td><td>null</td><td>&quot;Vermont&quot;</td><td>&quot;PRESENT&quot;</td><td>null</td><td>&quot;28eb1a3f-1c15-4a95-931a-4af90e…</td><td>43.822608</td><td>-72.641412</td><td>&quot;5.0&quot;</td><td>null</td><td>null</td><td>null</td><td>null</td><td>null</td><td>&quot;2019-09-11T22:08:52&quot;</td><td>&quot;11&quot;</td><td>&quot;9&quot;</td><td>&quot;2019&quot;</td><td>1991012</td><td>&quot;1991012&quot;</td><td>&quot;HUMAN_OBSERVATION&quot;</td><td>&quot;iNaturalist&quot;</td><td>&quot;Observations&quot;</td><td>&quot;32566956&quot;</td><td>null</td><td>&quot;bugguytad&quot;</td><td>&quot;2019-09-12T02:25:38&quot;</td><td>&quot;CC_BY_NC_4_0&quot;</td><td>&quot;bugguytad&quot;</td><td>&quot;bugguytad&quot;</td><td>null</td><td>null</td><td>&quot;2024-12-03T01:38:46.617Z&quot;</td><td>&quot;StillImage;StillImage;StillIma…</td><td>&quot;COORDINATE_ROUNDED;CONTINENT_D…</td></tr><tr><td>&quot;2423041120&quot;</td><td>&quot;50c9509d-22c7-4a22-a47d-8c4842…</td><td>&quot;https://www.inaturalist.org/ob…</td><td>&quot;Animalia&quot;</td><td>&quot;Arthropoda&quot;</td><td>&quot;Insecta&quot;</td><td>&quot;Odonata&quot;</td><td>&quot;Coenagrionidae&quot;</td><td>&quot;Argia&quot;</td><td>&quot;Argia moesta&quot;</td><td>null</td><td>&quot;SPECIES&quot;</td><td>&quot;Argia moesta (Hagen, 1861)&quot;</td><td>&quot;Argia moesta&quot;</td><td>null</td><td>&quot;US&quot;</td><td>null</td><td>&quot;Texas&quot;</td><td>&quot;PRESENT&quot;</td><td>null</td><td>&quot;28eb1a3f-1c15-4a95-931a-4af90e…</td><td>30.99463</td><td>-103.662658</td><td>null</td><td>null</td><td>null</td><td>null</td><td>null</td><td>null</td><td>&quot;2019-09-08T09:01&quot;</td><td>&quot;8&quot;</td><td>&quot;9&quot;</td><td>&quot;2019&quot;</td><td>5051399</td><td>&quot;5051399&quot;</td><td>&quot;HUMAN_OBSERVATION&quot;</td><td>&quot;iNaturalist&quot;</td><td>&quot;Observations&quot;</td><td>&quot;32612673&quot;</td><td>null</td><td>&quot;Todd Fitzgerald&quot;</td><td>&quot;2019-09-12T22:11:30&quot;</td><td>&quot;CC_BY_NC_4_0&quot;</td><td>&quot;Todd Fitzgerald&quot;</td><td>&quot;Todd Fitzgerald&quot;</td><td>null</td><td>null</td><td>&quot;2024-12-03T01:38:10.816Z&quot;</td><td>&quot;StillImage&quot;</td><td>&quot;COORDINATE_ROUNDED;CONTINENT_D…</td></tr></tbody></table></div>"
      ],
      "text/plain": [
       "shape: (3, 50)\n",
       "┌───────────┬───────────┬───────────┬──────────┬───┬───────────┬───────────┬───────────┬───────────┐\n",
       "│ gbifID    ┆ datasetKe ┆ occurrenc ┆ kingdom  ┆ … ┆ establish ┆ lastInter ┆ mediaType ┆ issue     │\n",
       "│ ---       ┆ y         ┆ eID       ┆ ---      ┆   ┆ mentMeans ┆ preted    ┆ ---       ┆ ---       │\n",
       "│ str       ┆ ---       ┆ ---       ┆ enum     ┆   ┆ ---       ┆ ---       ┆ str       ┆ str       │\n",
       "│           ┆ str       ┆ str       ┆          ┆   ┆ str       ┆ str       ┆           ┆           │\n",
       "╞═══════════╪═══════════╪═══════════╪══════════╪═══╪═══════════╪═══════════╪═══════════╪═══════════╡\n",
       "│ 442422631 ┆ 50c9509d- ┆ https://w ┆ Animalia ┆ … ┆ null      ┆ 2024-12-0 ┆ StillImag ┆ COORDINAT │\n",
       "│ 7         ┆ 22c7-4a22 ┆ ww.inatur ┆          ┆   ┆           ┆ 3T00:52:3 ┆ e         ┆ E_ROUNDED │\n",
       "│           ┆ -a47d-8c4 ┆ alist.org ┆          ┆   ┆           ┆ 3.467Z    ┆           ┆ ;CONTINEN │\n",
       "│           ┆ 842…      ┆ /ob…      ┆          ┆   ┆           ┆           ┆           ┆ T_D…      │\n",
       "│ 242302814 ┆ 50c9509d- ┆ https://w ┆ Animalia ┆ … ┆ null      ┆ 2024-12-0 ┆ StillImag ┆ COORDINAT │\n",
       "│ 8         ┆ 22c7-4a22 ┆ ww.inatur ┆          ┆   ┆           ┆ 3T01:38:4 ┆ e;StillIm ┆ E_ROUNDED │\n",
       "│           ┆ -a47d-8c4 ┆ alist.org ┆          ┆   ┆           ┆ 6.617Z    ┆ age;Still ┆ ;CONTINEN │\n",
       "│           ┆ 842…      ┆ /ob…      ┆          ┆   ┆           ┆           ┆ Ima…      ┆ T_D…      │\n",
       "│ 242304112 ┆ 50c9509d- ┆ https://w ┆ Animalia ┆ … ┆ null      ┆ 2024-12-0 ┆ StillImag ┆ COORDINAT │\n",
       "│ 0         ┆ 22c7-4a22 ┆ ww.inatur ┆          ┆   ┆           ┆ 3T01:38:1 ┆ e         ┆ E_ROUNDED │\n",
       "│           ┆ -a47d-8c4 ┆ alist.org ┆          ┆   ┆           ┆ 0.816Z    ┆           ┆ ;CONTINEN │\n",
       "│           ┆ 842…      ┆ /ob…      ┆          ┆   ┆           ┆           ┆           ┆ T_D…      │\n",
       "└───────────┴───────────┴───────────┴──────────┴───┴───────────┴───────────┴───────────┴───────────┘"
      ]
     },
     "execution_count": 5,
     "metadata": {},
     "output_type": "execute_result"
    }
   ],
   "source": [
    "darwin_core_csv_lazy_frame.lf.limit(3).collect()"
   ]
  },
  {
   "cell_type": "markdown",
   "metadata": {},
   "source": [
    "## `GeohashDataFrame`"
   ]
  },
  {
   "cell_type": "markdown",
   "id": "941b9a5b",
   "metadata": {},
   "source": [
    "### Build"
   ]
  },
  {
   "cell_type": "code",
   "execution_count": 6,
   "metadata": {},
   "outputs": [],
   "source": [
    "from src.dataframes.geocode import GeocodeDataFrame\n",
    "\n",
    "geocode_dataframe = GeocodeDataFrame.build(\n",
    "    darwin_core_csv_lazy_frame,\n",
    "    geocode_precision,\n",
    ")"
   ]
  },
  {
   "cell_type": "markdown",
   "id": "be268bf3",
   "metadata": {},
   "source": [
    "### Shape"
   ]
  },
  {
   "cell_type": "code",
   "execution_count": null,
   "id": "73aa6b9f",
   "metadata": {},
   "outputs": [],
   "source": [
    "geocode_dataframe.df.shape"
   ]
  },
  {
   "cell_type": "markdown",
   "metadata": {},
   "source": [
    "### Preview"
   ]
  },
  {
   "cell_type": "code",
   "execution_count": null,
   "metadata": {},
   "outputs": [],
   "source": [
    "geocode_dataframe.df.limit(6)"
   ]
  },
  {
   "cell_type": "markdown",
   "id": "d894f444",
   "metadata": {},
   "source": [
    "## `TaxonomyDataFrame`"
   ]
  },
  {
   "cell_type": "markdown",
   "id": "9aea10c8",
   "metadata": {},
   "source": [
    "### Build"
   ]
  },
  {
   "cell_type": "code",
   "execution_count": 9,
   "id": "dc245900",
   "metadata": {},
   "outputs": [],
   "source": [
    "from src.dataframes.taxonomy import TaxonomyDataFrame\n",
    "\n",
    "taxonomy_dataframe = TaxonomyDataFrame.build(darwin_core_csv_lazy_frame)"
   ]
  },
  {
   "cell_type": "markdown",
   "id": "4fd52a30",
   "metadata": {},
   "source": [
    "### Preview"
   ]
  },
  {
   "cell_type": "code",
   "execution_count": null,
   "id": "da2a0349",
   "metadata": {},
   "outputs": [],
   "source": [
    "taxonomy_dataframe.df.limit(3)"
   ]
  },
  {
   "cell_type": "markdown",
   "id": "a0648044",
   "metadata": {},
   "source": [
    "## `GeohashSpeciesCountsDataFrame`"
   ]
  },
  {
   "cell_type": "markdown",
   "id": "c9342219",
   "metadata": {},
   "source": [
    "### Build"
   ]
  },
  {
   "cell_type": "code",
   "execution_count": 11,
   "id": "193e313e",
   "metadata": {},
   "outputs": [],
   "source": [
    "from src.dataframes.geocode_taxa_counts import GeocodeTaxaCountsDataFrame\n",
    "\n",
    "geocode_taxa_counts_dataframe = GeocodeTaxaCountsDataFrame.build(\n",
    "    darwin_core_csv_lazy_frame,\n",
    "    geocode_precision,\n",
    ")"
   ]
  },
  {
   "cell_type": "markdown",
   "id": "6ba90961",
   "metadata": {},
   "source": [
    "### Shape"
   ]
  },
  {
   "cell_type": "code",
   "execution_count": null,
   "id": "d7abce36",
   "metadata": {},
   "outputs": [],
   "source": [
    "geocode_taxa_counts_dataframe.df.shape"
   ]
  },
  {
   "cell_type": "markdown",
   "id": "a657db45",
   "metadata": {},
   "source": [
    "### Preview"
   ]
  },
  {
   "cell_type": "code",
   "execution_count": null,
   "id": "650b1cde",
   "metadata": {},
   "outputs": [],
   "source": [
    "geocode_taxa_counts_dataframe.df.limit(3)"
   ]
  },
  {
   "cell_type": "markdown",
   "id": "c702a476",
   "metadata": {},
   "source": [
    "## `ConnectivityMatrix`\n",
    "\n",
    "### Build"
   ]
  },
  {
   "cell_type": "code",
   "execution_count": 14,
   "id": "c5e80f91",
   "metadata": {},
   "outputs": [],
   "source": [
    "from src.matrices.connectivity import ConnectivityMatrix\n",
    "\n",
    "connectivity_matrix = ConnectivityMatrix.build(geocode_dataframe)"
   ]
  },
  {
   "cell_type": "markdown",
   "id": "779a1ded",
   "metadata": {},
   "source": [
    "### Preview"
   ]
  },
  {
   "cell_type": "code",
   "execution_count": null,
   "id": "a0a89bf6",
   "metadata": {},
   "outputs": [],
   "source": [
    "connectivity_matrix._connectivity_matrix"
   ]
  },
  {
   "cell_type": "markdown",
   "id": "79cc061b",
   "metadata": {},
   "source": [
    "## `DistanceMatrix`\n",
    "\n",
    "### Build"
   ]
  },
  {
   "cell_type": "code",
   "execution_count": null,
   "id": "f7e3d885",
   "metadata": {},
   "outputs": [],
   "source": [
    "from src.matrices.distance import DistanceMatrix\n",
    "\n",
    "distance_matrix = DistanceMatrix.build(\n",
    "    geocode_taxa_counts_dataframe,\n",
    "    geocode_dataframe,\n",
    ")"
   ]
  },
  {
   "cell_type": "markdown",
   "id": "116291c9",
   "metadata": {},
   "source": [
    "### Shape"
   ]
  },
  {
   "cell_type": "code",
   "execution_count": null,
   "id": "d15fef8c",
   "metadata": {},
   "outputs": [],
   "source": [
    "distance_matrix.squareform().shape"
   ]
  },
  {
   "cell_type": "markdown",
   "id": "214d36ed",
   "metadata": {},
   "source": [
    "### Preview"
   ]
  },
  {
   "cell_type": "code",
   "execution_count": null,
   "id": "4f233d45",
   "metadata": {},
   "outputs": [],
   "source": [
    "distance_matrix.squareform()"
   ]
  },
  {
   "cell_type": "markdown",
   "id": "3ae9ea61",
   "metadata": {},
   "source": [
    "## `GeohashClusterDataFrame`\n",
    "\n",
    "### Build"
   ]
  },
  {
   "cell_type": "code",
   "execution_count": 19,
   "id": "eaedbc3d",
   "metadata": {},
   "outputs": [],
   "source": [
    "from src.dataframes.geocode_cluster import GeocodeClusterDataFrame\n",
    "\n",
    "geocode_cluster_dataframe = GeocodeClusterDataFrame.build(\n",
    "    geocode_dataframe,\n",
    "    distance_matrix,\n",
    "    connectivity_matrix,\n",
    "    # num_clusters,\n",
    "    100,\n",
    ")"
   ]
  },
  {
   "cell_type": "markdown",
   "id": "d6713b4a",
   "metadata": {},
   "source": [
    "### Preview"
   ]
  },
  {
   "cell_type": "code",
   "execution_count": null,
   "id": "04c9d615",
   "metadata": {},
   "outputs": [],
   "source": [
    "geocode_cluster_dataframe.df.limit(3)"
   ]
  },
  {
   "cell_type": "code",
   "execution_count": 21,
   "id": "b2330990",
   "metadata": {},
   "outputs": [],
   "source": [
    "# # TMP\n",
    "\n",
    "# from src.dataframes.geocode_cluster import GeocodeClusterDataFrame\n",
    "# from sklearn.metrics import silhouette_score\n",
    "\n",
    "# results = []\n",
    "\n",
    "# for i in range(2, 200):\n",
    "#     geocode_cluster_dataframe = GeocodeClusterDataFrame.build(\n",
    "#         geocode_dataframe,\n",
    "#         distance_matrix,\n",
    "#         connectivity_matrix,\n",
    "#         num_clusters=i,\n",
    "#     )\n",
    "#     score = silhouette_score(\n",
    "#         X=distance_matrix.squareform(),\n",
    "#         labels=geocode_cluster_dataframe.df[\"cluster\"],\n",
    "#         metric=\"precomputed\",\n",
    "#     )\n",
    "#     print(f\"{i}: {score}\")\n",
    "#     results.append((i, score))\n",
    "\n",
    "# results\n"
   ]
  },
  {
   "cell_type": "markdown",
   "id": "089e1634",
   "metadata": {},
   "source": [
    "## `ClusterColorDataFrame`\n",
    "\n",
    "### Build"
   ]
  },
  {
   "cell_type": "code",
   "execution_count": 22,
   "id": "98c37aad",
   "metadata": {},
   "outputs": [],
   "source": [
    "from src.dataframes.cluster_color import ClusterColorDataFrame\n",
    "\n",
    "cluster_colors_dataframe = ClusterColorDataFrame.build(geocode_cluster_dataframe)"
   ]
  },
  {
   "cell_type": "markdown",
   "id": "7874af43",
   "metadata": {},
   "source": [
    "### Preview"
   ]
  },
  {
   "cell_type": "code",
   "execution_count": null,
   "id": "c0bf9f80",
   "metadata": {},
   "outputs": [],
   "source": [
    "cluster_colors_dataframe.df.limit(3)"
   ]
  },
  {
   "cell_type": "markdown",
   "id": "c5126a20",
   "metadata": {},
   "source": [
    "## Silhouette score"
   ]
  },
  {
   "cell_type": "code",
   "execution_count": null,
   "id": "35aafa8e",
   "metadata": {},
   "outputs": [],
   "source": [
    "\n",
    "from sklearn.metrics import silhouette_score\n",
    "\n",
    "silhouette_score(\n",
    "    X=distance_matrix.squareform(),\n",
    "    labels=geocode_cluster_dataframe.df[\"cluster\"],\n",
    "    metric=\"precomputed\",\n",
    ")\n"
   ]
  },
  {
   "cell_type": "code",
   "execution_count": null,
   "id": "30ba0cf3",
   "metadata": {},
   "outputs": [],
   "source": [
    "from sklearn.metrics import silhouette_samples\n",
    "import matplotlib.pyplot as plt\n",
    "import polars as pl\n",
    "import matplotlib.pyplot as plt\n",
    "import numpy as np\n",
    "\n",
    "samples = silhouette_samples(\n",
    "    X=distance_matrix.squareform(),\n",
    "    labels=geocode_cluster_dataframe.df[\"cluster\"],\n",
    "    metric=\"precomputed\",\n",
    ")\n",
    "\n",
    "new = geocode_cluster_dataframe.df.with_columns(\n",
    "    pl.Series(\n",
    "        name=\"sample\",\n",
    "        values=samples,\n",
    "    )\n",
    ")\n",
    "\n",
    "n_clusters = len(geocode_cluster_dataframe.df[\"cluster\"].unique())\n",
    "n_geocodes = len(distance_matrix.squareform())\n",
    "\n",
    "# Create a subplot with 1 row and 2 columns\n",
    "fig, ax1 = plt.subplots()\n",
    "fig.set_size_inches(18, 7)\n",
    "# The 1st subplot is the silhouette plot\n",
    "# The silhouette coefficient can range from -1, 1 but in this example all\n",
    "# lie within [-0.1, 1]\n",
    "# ax1.set_xlim([-0.1, 1])\n",
    "# The (n_clusters+1)*10 is for inserting blank space between silhouette\n",
    "# plots of individual clusters, to demarcate them clearly.\n",
    "ax1.set_ylim([0, n_geocodes + (n_clusters + 1) * 10])\n",
    "\n",
    "y_lower = 10\n",
    "for i, cluster in enumerate(geocode_cluster_dataframe.df[\"cluster\"].unique()):\n",
    "    ith_cluster_silhouette_values = (new.filter(pl.col(\"cluster\") == cluster).sort(\"sample\", descending=True))[\"sample\"]\n",
    "\n",
    "    size_cluster_i = ith_cluster_silhouette_values.shape[0]\n",
    "    y_upper = y_lower + size_cluster_i\n",
    "\n",
    "    color =  cluster_colors_dataframe.get_color_for_cluster(cluster)\n",
    "    ax1.fill_betweenx(\n",
    "        np.arange(y_lower, y_upper),\n",
    "        0,\n",
    "        ith_cluster_silhouette_values,\n",
    "        facecolor=color,\n",
    "        edgecolor=color,\n",
    "    )\n",
    "\n",
    "    # Compute the new y_lower for next plot\n",
    "    y_lower = y_upper + 10  # 10 for the 0 samples\n"
   ]
  },
  {
   "cell_type": "markdown",
   "id": "a5c4faa1",
   "metadata": {},
   "source": [
    "## `ClusterTaxaStatisticsDataFrame`\n",
    "\n",
    "### Build"
   ]
  },
  {
   "cell_type": "code",
   "execution_count": null,
   "id": "39c1a999",
   "metadata": {},
   "outputs": [],
   "source": [
    "from src.dataframes.cluster_taxa_statistics import ClusterTaxaStatisticsDataFrame\n",
    "\n",
    "cluster_taxa_statistics_dataframe = ClusterTaxaStatisticsDataFrame.build(\n",
    "    geocode_taxa_counts_dataframe,\n",
    "    geocode_cluster_dataframe,\n",
    "    taxonomy_dataframe,\n",
    ")"
   ]
  },
  {
   "cell_type": "markdown",
   "id": "abb7c9b6",
   "metadata": {},
   "source": [
    "### Preview"
   ]
  },
  {
   "cell_type": "code",
   "execution_count": null,
   "id": "87264ffa",
   "metadata": {},
   "outputs": [],
   "source": [
    "cluster_taxa_statistics_dataframe.df.limit(3)"
   ]
  },
  {
   "cell_type": "markdown",
   "id": "8ba074be",
   "metadata": {},
   "source": [
    "## `ClusterSignificantDifferencesDataFrame`\n",
    "\n",
    "### Build"
   ]
  },
  {
   "cell_type": "code",
   "execution_count": 34,
   "id": "51fd3375",
   "metadata": {},
   "outputs": [],
   "source": [
    "from src.dataframes.cluster_significant_differences import ClusterSignificantDifferencesDataFrame\n",
    "\n",
    "cluster_significant_differences_dataframe = ClusterSignificantDifferencesDataFrame.build(\n",
    "    cluster_taxa_statistics_dataframe,\n",
    ")"
   ]
  },
  {
   "cell_type": "markdown",
   "id": "f1ee5c86",
   "metadata": {},
   "source": [
    "### Preview"
   ]
  },
  {
   "cell_type": "code",
   "execution_count": null,
   "id": "d48c1e6b",
   "metadata": {},
   "outputs": [],
   "source": [
    "cluster_significant_differences_dataframe.df.limit(3)"
   ]
  },
  {
   "cell_type": "markdown",
   "id": "d244acaa",
   "metadata": {},
   "source": [
    "## Build and plot GeoJSON feature collection"
   ]
  },
  {
   "cell_type": "code",
   "execution_count": null,
   "id": "9fde6339",
   "metadata": {},
   "outputs": [],
   "source": [
    "from src.geojson import build_geojson_feature_collection, write_geojson\n",
    "from src.render import plot_clusters\n",
    "import matplotlib.pyplot as plt\n",
    "\n",
    "# Set the figure size\n",
    "plt.rcParams['figure.figsize'] = [12, 7]\n",
    "\n",
    "feature_collection = build_geojson_feature_collection(\n",
    "    geocode_cluster_dataframe,\n",
    "    cluster_colors_dataframe,\n",
    ")\n",
    "\n",
    "# print_results(darwin_core_aggregations, all_stats, cluster_dataframe)\n",
    "\n",
    "write_geojson(feature_collection, output_file)\n",
    "\n",
    "plot_clusters(feature_collection)"
   ]
  },
  {
   "cell_type": "markdown",
   "id": "a56060aa",
   "metadata": {},
   "source": [
    "## Build and display HTML output"
   ]
  },
  {
   "cell_type": "code",
   "execution_count": null,
   "id": "672180bd",
   "metadata": {},
   "outputs": [],
   "source": [
    "from src.html_output import build_html_output\n",
    "from IPython.display import display, HTML\n",
    "\n",
    "html = build_html_output(\n",
    "    cluster_colors_dataframe,\n",
    "    cluster_significant_differences_dataframe,\n",
    ")\n",
    "\n",
    "display(HTML(html))\n"
   ]
  },
  {
   "cell_type": "markdown",
   "id": "0696aa73",
   "metadata": {},
   "source": [
    "## TSNE 2d plot"
   ]
  },
  {
   "cell_type": "code",
   "execution_count": null,
   "id": "33f2c697",
   "metadata": {},
   "outputs": [],
   "source": [
    "from sklearn.manifold import TSNE\n",
    "\n",
    "tsne = TSNE(\n",
    "    n_components=2,\n",
    "    random_state=42,\n",
    "    metric=\"precomputed\",\n",
    "    init=\"random\",\n",
    "    perplexity=min(30, distance_matrix.squareform().shape[0] - 1), # HACK FOR SMALLER DATASETS\n",
    ")\n",
    "X_tsne = tsne.fit_transform(distance_matrix.squareform())\n",
    "tsne.kl_divergence_\n"
   ]
  },
  {
   "cell_type": "code",
   "execution_count": null,
   "id": "bb32aba9",
   "metadata": {},
   "outputs": [],
   "source": [
    "import umap\n",
    "\n",
    "umap = umap.UMAP(\n",
    "    n_components=2,\n",
    "    metric=\"precomputed\",\n",
    "    random_state=42,\n",
    "    n_neighbors=3000,\n",
    "    # min_dist=1,\n",
    "    # init=\"random\",\n",
    ")\n",
    "X_umap = umap.fit_transform(distance_matrix.squareform())\n"
   ]
  },
  {
   "cell_type": "code",
   "execution_count": null,
   "id": "9168849f",
   "metadata": {},
   "outputs": [],
   "source": [
    "import seaborn as sns\n",
    "\n",
    "sns.scatterplot(\n",
    "    x=X_umap[:, 0],\n",
    "    y=X_umap[:, 1],\n",
    "    hue=geocode_cluster_dataframe.df[\"cluster\"],\n",
    "    palette=cluster_colors_dataframe.to_dict(),\n",
    "    alpha=1,\n",
    ")"
   ]
  },
  {
   "cell_type": "markdown",
   "id": "59f7a0e2",
   "metadata": {},
   "source": [
    "## Clustermap visualization"
   ]
  },
  {
   "cell_type": "code",
   "execution_count": null,
   "id": "54d78320",
   "metadata": {},
   "outputs": [],
   "source": [
    "import seaborn as sns\n",
    "import polars as pl\n",
    "from scipy.cluster.hierarchy import linkage\n",
    "\n",
    "\n",
    "linkage_array = linkage(distance_matrix.condensed(), \"ward\")\n",
    "\n",
    "ordered_geocodes = geocode_dataframe.df[\"geocode\"].unique()\n",
    "\n",
    "def min_max_normalize(series: pl.Series) -> pl.Series:\n",
    "    return (series - series.min()) / (series.max() - series.min())\n",
    "\n",
    "col_colors = []\n",
    "for geocode in ordered_geocodes:\n",
    "    cluster = geocode_cluster_dataframe.cluster_for_geocode(geocode)\n",
    "    col_colors.append(cluster_colors_dataframe.get_color_for_cluster(cluster))\n",
    "\n",
    "data = {}\n",
    "for species, kingdom, taxonRank in cluster_significant_differences_dataframe.df.select(\"scientificName\", \"kingdom\", \"taxonRank\").unique().iter_rows():\n",
    "    counts = []\n",
    "\n",
    "    for geocode in ordered_geocodes:\n",
    "        geocode_counts_species = geocode_taxa_counts_dataframe.df.filter(\n",
    "            pl.col(\"geocode\") == geocode, pl.col(\"scientificName\") == species\n",
    "        ).get_column(\"count\").sum()\n",
    "        geocode_counts_all = geocode_taxa_counts_dataframe.df.filter(\n",
    "            pl.col(\"geocode\") == geocode\n",
    "        ).get_column(\"count\").sum()\n",
    "        geocode_average = geocode_counts_species / geocode_counts_all\n",
    "        all_average = (\n",
    "            cluster_taxa_statistics_dataframe.df.filter(\n",
    "                pl.col(\"kingdom\") == kingdom,\n",
    "                pl.col(\"scientificName\") == species,\n",
    "                pl.col(\"cluster\").is_null(),\n",
    "                pl.col(\"taxonRank\") == taxonRank,\n",
    "            )\n",
    "            .get_column(\"average\")\n",
    "            .item()\n",
    "        )\n",
    "        counts.append(geocode_average - all_average)\n",
    "    counts = pl.Series(\n",
    "        values=counts,\n",
    "        name=species,\n",
    "    )\n",
    "    # counts = counts / counts.max()\n",
    "    # counts = counts.pow(1 / 3)\n",
    "    data[species] = min_max_normalize(counts)\n"
   ]
  },
  {
   "cell_type": "code",
   "execution_count": null,
   "id": "1f706269",
   "metadata": {},
   "outputs": [],
   "source": [
    "dataframe = pl.DataFrame(data=data)\n",
    "sns.clustermap(\n",
    "    data=dataframe,\n",
    "    col_cluster=False,\n",
    "    row_cluster=True,\n",
    "    row_linkage=linkage_array,\n",
    "    row_colors=col_colors,\n",
    "    xticklabels=dataframe.columns,\n",
    "    yticklabels=False,\n",
    ")"
   ]
  },
  {
   "cell_type": "markdown",
   "id": "384bd882",
   "metadata": {},
   "source": []
  }
 ],
 "metadata": {
  "kernelspec": {
   "display_name": ".venv",
   "language": "python",
   "name": "python3"
  },
  "language_info": {
   "codemirror_mode": {
    "name": "ipython",
    "version": 3
   },
   "file_extension": ".py",
   "mimetype": "text/x-python",
   "name": "python",
   "nbconvert_exporter": "python",
   "pygments_lexer": "ipython3",
   "version": "3.9.6"
  }
 },
 "nbformat": 4,
 "nbformat_minor": 5
}

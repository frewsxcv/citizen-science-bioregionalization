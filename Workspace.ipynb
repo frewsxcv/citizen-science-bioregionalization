{
 "cells": [
  {
   "cell_type": "markdown",
   "id": "f06de749",
   "metadata": {},
   "source": [
    "# Dynamic ecoregions"
   ]
  },
  {
   "cell_type": "markdown",
   "id": "dd126c3a",
   "metadata": {},
   "source": [
    "## Define inputs"
   ]
  },
  {
   "cell_type": "code",
   "execution_count": 1,
   "id": "99519ac0",
   "metadata": {},
   "outputs": [],
   "source": [
    "# Inputs\n",
    "input_file = \"data/data-continental-united-states.csv\"\n",
    "geohash_precision = 4\n",
    "log_file = \"run.log\"\n",
    "output_file = \"output.geojson\"\n",
    "num_clusters = 12"
   ]
  },
  {
   "cell_type": "markdown",
   "id": "7bbc4cef",
   "metadata": {},
   "source": [
    "## Set up logging"
   ]
  },
  {
   "cell_type": "code",
   "execution_count": 2,
   "id": "44ea301b",
   "metadata": {},
   "outputs": [],
   "source": [
    "import logging\n",
    "\n",
    "logging.basicConfig(filename=log_file, encoding=\"utf-8\", level=logging.INFO)"
   ]
  },
  {
   "cell_type": "markdown",
   "id": "27b9d760",
   "metadata": {},
   "source": [
    "## Data flow"
   ]
  },
  {
   "cell_type": "code",
   "execution_count": 3,
   "id": "551cabe9",
   "metadata": {},
   "outputs": [
    {
     "data": {
      "text/html": [
       "<svg id=\"mermaid-svg\" width=\"100%\" xmlns=\"http://www.w3.org/2000/svg\" class=\"flowchart\" style=\"max-width: 944.3125px;\" viewBox=\"0 0 944.3125 694\" role=\"graphics-document document\" aria-roledescription=\"flowchart-v2\" xmlns:xlink=\"http://www.w3.org/1999/xlink\"><style xmlns=\"http://www.w3.org/1999/xhtml\">@import url(\"https://cdnjs.cloudflare.com/ajax/libs/font-awesome/6.7.1/css/all.min.css\");</style><style>#mermaid-svg{font-family:\"trebuchet ms\",verdana,arial,sans-serif;font-size:16px;fill:#333;}#mermaid-svg .error-icon{fill:#552222;}#mermaid-svg .error-text{fill:#552222;stroke:#552222;}#mermaid-svg .edge-thickness-normal{stroke-width:1px;}#mermaid-svg .edge-thickness-thick{stroke-width:3.5px;}#mermaid-svg .edge-pattern-solid{stroke-dasharray:0;}#mermaid-svg .edge-thickness-invisible{stroke-width:0;fill:none;}#mermaid-svg .edge-pattern-dashed{stroke-dasharray:3;}#mermaid-svg .edge-pattern-dotted{stroke-dasharray:2;}#mermaid-svg .marker{fill:#333333;stroke:#333333;}#mermaid-svg .marker.cross{stroke:#333333;}#mermaid-svg svg{font-family:\"trebuchet ms\",verdana,arial,sans-serif;font-size:16px;}#mermaid-svg p{margin:0;}#mermaid-svg .label{font-family:\"trebuchet ms\",verdana,arial,sans-serif;color:#333;}#mermaid-svg .cluster-label text{fill:#333;}#mermaid-svg .cluster-label span{color:#333;}#mermaid-svg .cluster-label span p{background-color:transparent;}#mermaid-svg .label text,#mermaid-svg span{fill:#333;color:#333;}#mermaid-svg .node rect,#mermaid-svg .node circle,#mermaid-svg .node ellipse,#mermaid-svg .node polygon,#mermaid-svg .node path{fill:#ECECFF;stroke:#9370DB;stroke-width:1px;}#mermaid-svg .rough-node .label text,#mermaid-svg .node .label text,#mermaid-svg .image-shape .label,#mermaid-svg .icon-shape .label{text-anchor:middle;}#mermaid-svg .node .katex path{fill:#000;stroke:#000;stroke-width:1px;}#mermaid-svg .rough-node .label,#mermaid-svg .node .label,#mermaid-svg .image-shape .label,#mermaid-svg .icon-shape .label{text-align:center;}#mermaid-svg .node.clickable{cursor:pointer;}#mermaid-svg .root .anchor path{fill:#333333!important;stroke-width:0;stroke:#333333;}#mermaid-svg .arrowheadPath{fill:#333333;}#mermaid-svg .edgePath .path{stroke:#333333;stroke-width:2.0px;}#mermaid-svg .flowchart-link{stroke:#333333;fill:none;}#mermaid-svg .edgeLabel{background-color:rgba(232,232,232, 0.8);text-align:center;}#mermaid-svg .edgeLabel p{background-color:rgba(232,232,232, 0.8);}#mermaid-svg .edgeLabel rect{opacity:0.5;background-color:rgba(232,232,232, 0.8);fill:rgba(232,232,232, 0.8);}#mermaid-svg .labelBkg{background-color:rgba(232, 232, 232, 0.5);}#mermaid-svg .cluster rect{fill:#ffffde;stroke:#aaaa33;stroke-width:1px;}#mermaid-svg .cluster text{fill:#333;}#mermaid-svg .cluster span{color:#333;}#mermaid-svg div.mermaidTooltip{position:absolute;text-align:center;max-width:200px;padding:2px;font-family:\"trebuchet ms\",verdana,arial,sans-serif;font-size:12px;background:hsl(80, 100%, 96.2745098039%);border:1px solid #aaaa33;border-radius:2px;pointer-events:none;z-index:100;}#mermaid-svg .flowchartTitleText{text-anchor:middle;font-size:18px;fill:#333;}#mermaid-svg rect.text{fill:none;stroke-width:0;}#mermaid-svg .icon-shape,#mermaid-svg .image-shape{background-color:rgba(232,232,232, 0.8);text-align:center;}#mermaid-svg .icon-shape p,#mermaid-svg .image-shape p{background-color:rgba(232,232,232, 0.8);padding:2px;}#mermaid-svg .icon-shape rect,#mermaid-svg .image-shape rect{opacity:0.5;background-color:rgba(232,232,232, 0.8);fill:rgba(232,232,232, 0.8);}#mermaid-svg :root{--mermaid-font-family:\"trebuchet ms\",verdana,arial,sans-serif;}</style><g><marker id=\"mermaid-svg_flowchart-v2-pointEnd\" class=\"marker flowchart-v2\" viewBox=\"0 0 10 10\" refX=\"5\" refY=\"5\" markerUnits=\"userSpaceOnUse\" markerWidth=\"8\" markerHeight=\"8\" orient=\"auto\"><path d=\"M 0 0 L 10 5 L 0 10 z\" class=\"arrowMarkerPath\" style=\"stroke-width: 1; stroke-dasharray: 1, 0;\"/></marker><marker id=\"mermaid-svg_flowchart-v2-pointStart\" class=\"marker flowchart-v2\" viewBox=\"0 0 10 10\" refX=\"4.5\" refY=\"5\" markerUnits=\"userSpaceOnUse\" markerWidth=\"8\" markerHeight=\"8\" orient=\"auto\"><path d=\"M 0 5 L 10 10 L 10 0 z\" class=\"arrowMarkerPath\" style=\"stroke-width: 1; stroke-dasharray: 1, 0;\"/></marker><marker id=\"mermaid-svg_flowchart-v2-circleEnd\" class=\"marker flowchart-v2\" viewBox=\"0 0 10 10\" refX=\"11\" refY=\"5\" markerUnits=\"userSpaceOnUse\" markerWidth=\"11\" markerHeight=\"11\" orient=\"auto\"><circle cx=\"5\" cy=\"5\" r=\"5\" class=\"arrowMarkerPath\" style=\"stroke-width: 1; stroke-dasharray: 1, 0;\"/></marker><marker id=\"mermaid-svg_flowchart-v2-circleStart\" class=\"marker flowchart-v2\" viewBox=\"0 0 10 10\" refX=\"-1\" refY=\"5\" markerUnits=\"userSpaceOnUse\" markerWidth=\"11\" markerHeight=\"11\" orient=\"auto\"><circle cx=\"5\" cy=\"5\" r=\"5\" class=\"arrowMarkerPath\" style=\"stroke-width: 1; stroke-dasharray: 1, 0;\"/></marker><marker id=\"mermaid-svg_flowchart-v2-crossEnd\" class=\"marker cross flowchart-v2\" viewBox=\"0 0 11 11\" refX=\"12\" refY=\"5.2\" markerUnits=\"userSpaceOnUse\" markerWidth=\"11\" markerHeight=\"11\" orient=\"auto\"><path d=\"M 1,1 l 9,9 M 10,1 l -9,9\" class=\"arrowMarkerPath\" style=\"stroke-width: 2; stroke-dasharray: 1, 0;\"/></marker><marker id=\"mermaid-svg_flowchart-v2-crossStart\" class=\"marker cross flowchart-v2\" viewBox=\"0 0 11 11\" refX=\"-1\" refY=\"5.2\" markerUnits=\"userSpaceOnUse\" markerWidth=\"11\" markerHeight=\"11\" orient=\"auto\"><path d=\"M 1,1 l 9,9 M 10,1 l -9,9\" class=\"arrowMarkerPath\" style=\"stroke-width: 2; stroke-dasharray: 1, 0;\"/></marker><g class=\"root\"><g class=\"clusters\"/><g class=\"edgePaths\"><path d=\"M287.056,270L277.605,274.167C268.155,278.333,249.253,286.667,239.802,294.333C230.352,302,230.352,309,230.352,312.5L230.352,316\" id=\"L_GeohashSpeciesCountsDataFrame_DistanceMatrix_0\" class=\" edge-thickness-normal edge-pattern-solid edge-thickness-normal edge-pattern-solid flowchart-link\" style=\"\" marker-end=\"url(#mermaid-svg_flowchart-v2-pointEnd)\"/><path d=\"M348.297,270L348.297,274.167C348.297,278.333,348.297,286.667,348.297,299.5C348.297,312.333,348.297,329.667,348.297,347C348.297,364.333,348.297,381.667,348.297,399C348.297,416.333,348.297,433.667,348.297,451C348.297,468.333,348.297,485.667,348.774,497.839C349.251,510.012,350.205,517.024,350.682,520.53L351.159,524.037\" id=\"L_GeohashSpeciesCountsDataFrame_ClusterTaxaStatisticsDataFrame_1\" class=\" edge-thickness-normal edge-pattern-solid edge-thickness-normal edge-pattern-solid flowchart-link\" style=\"\" marker-end=\"url(#mermaid-svg_flowchart-v2-pointEnd)\"/><path d=\"M634.872,478L618.633,482.167C602.394,486.333,569.916,494.667,539.729,502.817C509.542,510.967,481.647,518.934,467.699,522.918L453.752,526.901\" id=\"L_GeohashClusterDataFrame_ClusterTaxaStatisticsDataFrame_2\" class=\" edge-thickness-normal edge-pattern-solid edge-thickness-normal edge-pattern-solid flowchart-link\" style=\"\" marker-end=\"url(#mermaid-svg_flowchart-v2-pointEnd)\"/><path d=\"M112.406,478L112.406,482.167C112.406,486.333,112.406,494.667,131.223,502.86C150.039,511.054,187.672,519.109,206.488,523.136L225.305,527.163\" id=\"L_TaxonomyDataFrame_ClusterTaxaStatisticsDataFrame_3\" class=\" edge-thickness-normal edge-pattern-solid edge-thickness-normal edge-pattern-solid flowchart-link\" style=\"\" marker-end=\"url(#mermaid-svg_flowchart-v2-pointEnd)\"/><path d=\"M226.469,61.856L207.458,66.047C188.448,70.237,150.427,78.619,131.417,91.476C112.406,104.333,112.406,121.667,112.406,139C112.406,156.333,112.406,173.667,112.406,191C112.406,208.333,112.406,225.667,112.406,243C112.406,260.333,112.406,277.667,112.406,295C112.406,312.333,112.406,329.667,112.406,347C112.406,364.333,112.406,381.667,112.406,393.833C112.406,406,112.406,413,112.406,416.5L112.406,420\" id=\"L_DarwinCoreCsvLazyFrame_TaxonomyDataFrame_4\" class=\" edge-thickness-normal edge-pattern-solid edge-thickness-normal edge-pattern-solid flowchart-link\" style=\"\" marker-end=\"url(#mermaid-svg_flowchart-v2-pointEnd)\"/><path d=\"M355.371,582L355.371,586.167C355.371,590.333,355.371,598.667,355.371,606.333C355.371,614,355.371,621,355.371,624.5L355.371,628\" id=\"L_ClusterTaxaStatisticsDataFrame_ClusterSignificantDifferencesDataFrame_5\" class=\" edge-thickness-normal edge-pattern-solid edge-thickness-normal edge-pattern-solid flowchart-link\" style=\"\" marker-end=\"url(#mermaid-svg_flowchart-v2-pointEnd)\"/><path d=\"M749.707,166L742.518,170.167C735.33,174.333,720.954,182.667,713.766,195.5C706.578,208.333,706.578,225.667,706.578,243C706.578,260.333,706.578,277.667,706.578,295C706.578,312.333,706.578,329.667,706.578,347C706.578,364.333,706.578,381.667,708.903,393.94C711.228,406.213,715.878,413.425,718.203,417.032L720.528,420.638\" id=\"L_GeohashDataFrame_GeohashClusterDataFrame_6\" class=\" edge-thickness-normal edge-pattern-solid edge-thickness-normal edge-pattern-solid flowchart-link\" style=\"\" marker-end=\"url(#mermaid-svg_flowchart-v2-pointEnd)\"/><path d=\"M230.352,374L230.352,378.167C230.352,382.333,230.352,390.667,293.872,401.313C357.392,411.96,484.433,424.919,547.953,431.399L611.474,437.879\" id=\"L_DistanceMatrix_GeohashClusterDataFrame_7\" class=\" edge-thickness-normal edge-pattern-solid edge-thickness-normal edge-pattern-solid flowchart-link\" style=\"\" marker-end=\"url(#mermaid-svg_flowchart-v2-pointEnd)\"/><path d=\"M838.945,374L838.945,378.167C838.945,382.333,838.945,390.667,831.615,398.69C824.285,406.713,809.625,414.425,802.294,418.281L794.964,422.138\" id=\"L_ConnectivityMatrix_GeohashClusterDataFrame_8\" class=\" edge-thickness-normal edge-pattern-solid edge-thickness-normal edge-pattern-solid flowchart-link\" style=\"\" marker-end=\"url(#mermaid-svg_flowchart-v2-pointEnd)\"/><path d=\"M348.297,62L348.297,66.167C348.297,70.333,348.297,78.667,348.297,91.5C348.297,104.333,348.297,121.667,348.297,139C348.297,156.333,348.297,173.667,348.297,185.833C348.297,198,348.297,205,348.297,208.5L348.297,212\" id=\"L_DarwinCoreCsvLazyFrame_GeohashSpeciesCountsDataFrame_9\" class=\" edge-thickness-normal edge-pattern-solid edge-thickness-normal edge-pattern-solid flowchart-link\" style=\"\" marker-end=\"url(#mermaid-svg_flowchart-v2-pointEnd)\"/><path d=\"M784.071,166L782.186,170.167C780.301,174.333,776.532,182.667,729.563,192.356C682.594,202.046,592.427,213.092,547.343,218.615L502.259,224.138\" id=\"L_GeohashDataFrame_GeohashSpeciesCountsDataFrame_10\" class=\" edge-thickness-normal edge-pattern-solid edge-thickness-normal edge-pattern-solid flowchart-link\" style=\"\" marker-end=\"url(#mermaid-svg_flowchart-v2-pointEnd)\"/><path d=\"M750.486,478L752.089,482.167C753.691,486.333,756.896,494.667,758.499,502.333C760.102,510,760.102,517,760.102,520.5L760.102,524\" id=\"L_GeohashClusterDataFrame_ClusterColorDataFrame_11\" class=\" edge-thickness-normal edge-pattern-solid edge-thickness-normal edge-pattern-solid flowchart-link\" style=\"\" marker-end=\"url(#mermaid-svg_flowchart-v2-pointEnd)\"/><path d=\"M441.312,270L455.666,274.167C470.021,278.333,498.729,286.667,513.083,294.333C527.438,302,527.438,309,527.438,312.5L527.438,316\" id=\"L_GeohashSpeciesCountsDataFrame_TaxaGeographicMeanDataFrame_12\" class=\" edge-thickness-normal edge-pattern-solid edge-thickness-normal edge-pattern-solid flowchart-link\" style=\"\" marker-end=\"url(#mermaid-svg_flowchart-v2-pointEnd)\"/><path d=\"M818.436,166L821.854,170.167C825.272,174.333,832.109,182.667,835.527,195.5C838.945,208.333,838.945,225.667,838.945,243C838.945,260.333,838.945,277.667,838.945,289.833C838.945,302,838.945,309,838.945,312.5L838.945,316\" id=\"L_GeohashDataFrame_ConnectivityMatrix_13\" class=\" edge-thickness-normal edge-pattern-solid edge-thickness-normal edge-pattern-solid flowchart-link\" style=\"\" marker-end=\"url(#mermaid-svg_flowchart-v2-pointEnd)\"/><path d=\"M470.125,49.141L524.485,55.451C578.845,61.761,687.565,74.38,741.925,84.19C796.285,94,796.285,101,796.285,104.5L796.285,108\" id=\"L_DarwinCoreCsvLazyFrame_GeohashDataFrame_14\" class=\" edge-thickness-normal edge-pattern-solid edge-thickness-normal edge-pattern-solid flowchart-link\" style=\"\" marker-end=\"url(#mermaid-svg_flowchart-v2-pointEnd)\"/></g><g class=\"edgeLabels\"><g class=\"edgeLabel\"><g class=\"label\" transform=\"translate(0, 0)\"><foreignObject width=\"0\" height=\"0\"><div xmlns=\"http://www.w3.org/1999/xhtml\" class=\"labelBkg\" style=\"display: table-cell; white-space: nowrap; line-height: 1.5; max-width: 200px; text-align: center;\"><span class=\"edgeLabel \"></span></div></foreignObject></g></g><g class=\"edgeLabel\"><g class=\"label\" transform=\"translate(0, 0)\"><foreignObject width=\"0\" height=\"0\"><div xmlns=\"http://www.w3.org/1999/xhtml\" class=\"labelBkg\" style=\"display: table-cell; white-space: nowrap; line-height: 1.5; max-width: 200px; text-align: center;\"><span class=\"edgeLabel \"></span></div></foreignObject></g></g><g class=\"edgeLabel\"><g class=\"label\" transform=\"translate(0, 0)\"><foreignObject width=\"0\" height=\"0\"><div xmlns=\"http://www.w3.org/1999/xhtml\" class=\"labelBkg\" style=\"display: table-cell; white-space: nowrap; line-height: 1.5; max-width: 200px; text-align: center;\"><span class=\"edgeLabel \"></span></div></foreignObject></g></g><g class=\"edgeLabel\"><g class=\"label\" transform=\"translate(0, 0)\"><foreignObject width=\"0\" height=\"0\"><div xmlns=\"http://www.w3.org/1999/xhtml\" class=\"labelBkg\" style=\"display: table-cell; white-space: nowrap; line-height: 1.5; max-width: 200px; text-align: center;\"><span class=\"edgeLabel \"></span></div></foreignObject></g></g><g class=\"edgeLabel\"><g class=\"label\" transform=\"translate(0, 0)\"><foreignObject width=\"0\" height=\"0\"><div xmlns=\"http://www.w3.org/1999/xhtml\" class=\"labelBkg\" style=\"display: table-cell; white-space: nowrap; line-height: 1.5; max-width: 200px; text-align: center;\"><span class=\"edgeLabel \"></span></div></foreignObject></g></g><g class=\"edgeLabel\"><g class=\"label\" transform=\"translate(0, 0)\"><foreignObject width=\"0\" height=\"0\"><div xmlns=\"http://www.w3.org/1999/xhtml\" class=\"labelBkg\" style=\"display: table-cell; white-space: nowrap; line-height: 1.5; max-width: 200px; text-align: center;\"><span class=\"edgeLabel \"></span></div></foreignObject></g></g><g class=\"edgeLabel\"><g class=\"label\" transform=\"translate(0, 0)\"><foreignObject width=\"0\" height=\"0\"><div xmlns=\"http://www.w3.org/1999/xhtml\" class=\"labelBkg\" style=\"display: table-cell; white-space: nowrap; line-height: 1.5; max-width: 200px; text-align: center;\"><span class=\"edgeLabel \"></span></div></foreignObject></g></g><g class=\"edgeLabel\"><g class=\"label\" transform=\"translate(0, 0)\"><foreignObject width=\"0\" height=\"0\"><div xmlns=\"http://www.w3.org/1999/xhtml\" class=\"labelBkg\" style=\"display: table-cell; white-space: nowrap; line-height: 1.5; max-width: 200px; text-align: center;\"><span class=\"edgeLabel \"></span></div></foreignObject></g></g><g class=\"edgeLabel\"><g class=\"label\" transform=\"translate(0, 0)\"><foreignObject width=\"0\" height=\"0\"><div xmlns=\"http://www.w3.org/1999/xhtml\" class=\"labelBkg\" style=\"display: table-cell; white-space: nowrap; line-height: 1.5; max-width: 200px; text-align: center;\"><span class=\"edgeLabel \"></span></div></foreignObject></g></g><g class=\"edgeLabel\"><g class=\"label\" transform=\"translate(0, 0)\"><foreignObject width=\"0\" height=\"0\"><div xmlns=\"http://www.w3.org/1999/xhtml\" class=\"labelBkg\" style=\"display: table-cell; white-space: nowrap; line-height: 1.5; max-width: 200px; text-align: center;\"><span class=\"edgeLabel \"></span></div></foreignObject></g></g><g class=\"edgeLabel\"><g class=\"label\" transform=\"translate(0, 0)\"><foreignObject width=\"0\" height=\"0\"><div xmlns=\"http://www.w3.org/1999/xhtml\" class=\"labelBkg\" style=\"display: table-cell; white-space: nowrap; line-height: 1.5; max-width: 200px; text-align: center;\"><span class=\"edgeLabel \"></span></div></foreignObject></g></g><g class=\"edgeLabel\"><g class=\"label\" transform=\"translate(0, 0)\"><foreignObject width=\"0\" height=\"0\"><div xmlns=\"http://www.w3.org/1999/xhtml\" class=\"labelBkg\" style=\"display: table-cell; white-space: nowrap; line-height: 1.5; max-width: 200px; text-align: center;\"><span class=\"edgeLabel \"></span></div></foreignObject></g></g><g class=\"edgeLabel\"><g class=\"label\" transform=\"translate(0, 0)\"><foreignObject width=\"0\" height=\"0\"><div xmlns=\"http://www.w3.org/1999/xhtml\" class=\"labelBkg\" style=\"display: table-cell; white-space: nowrap; line-height: 1.5; max-width: 200px; text-align: center;\"><span class=\"edgeLabel \"></span></div></foreignObject></g></g><g class=\"edgeLabel\"><g class=\"label\" transform=\"translate(0, 0)\"><foreignObject width=\"0\" height=\"0\"><div xmlns=\"http://www.w3.org/1999/xhtml\" class=\"labelBkg\" style=\"display: table-cell; white-space: nowrap; line-height: 1.5; max-width: 200px; text-align: center;\"><span class=\"edgeLabel \"></span></div></foreignObject></g></g><g class=\"edgeLabel\"><g class=\"label\" transform=\"translate(0, 0)\"><foreignObject width=\"0\" height=\"0\"><div xmlns=\"http://www.w3.org/1999/xhtml\" class=\"labelBkg\" style=\"display: table-cell; white-space: nowrap; line-height: 1.5; max-width: 200px; text-align: center;\"><span class=\"edgeLabel \"></span></div></foreignObject></g></g></g><g class=\"nodes\"><g class=\"node default  \" id=\"flowchart-GeohashSpeciesCountsDataFrame-0\" transform=\"translate(348.296875, 243)\"><rect class=\"basic label-container\" style=\"\" x=\"-149.9921875\" y=\"-27\" width=\"299.984375\" height=\"54\"/><g class=\"label\" style=\"\" transform=\"translate(-119.9921875, -12)\"><rect/><foreignObject width=\"239.984375\" height=\"24\"><div xmlns=\"http://www.w3.org/1999/xhtml\" style=\"display: table; white-space: break-spaces; line-height: 1.5; max-width: 200px; text-align: center; width: 200px;\"><span class=\"nodeLabel \"><p>GeohashSpeciesCountsDataFrame</p></span></div></foreignObject></g></g><g class=\"node default  \" id=\"flowchart-DistanceMatrix-1\" transform=\"translate(230.3515625, 347)\"><rect class=\"basic label-container\" style=\"\" x=\"-82.9453125\" y=\"-27\" width=\"165.890625\" height=\"54\"/><g class=\"label\" style=\"\" transform=\"translate(-52.9453125, -12)\"><rect/><foreignObject width=\"105.890625\" height=\"24\"><div xmlns=\"http://www.w3.org/1999/xhtml\" style=\"display: table-cell; white-space: nowrap; line-height: 1.5; max-width: 200px; text-align: center;\"><span class=\"nodeLabel \"><p>DistanceMatrix</p></span></div></foreignObject></g></g><g class=\"node default  \" id=\"flowchart-ClusterTaxaStatisticsDataFrame-3\" transform=\"translate(355.37109375, 555)\"><rect class=\"basic label-container\" style=\"\" x=\"-143.03125\" y=\"-27\" width=\"286.0625\" height=\"54\"/><g class=\"label\" style=\"\" transform=\"translate(-113.03125, -12)\"><rect/><foreignObject width=\"226.0625\" height=\"24\"><div xmlns=\"http://www.w3.org/1999/xhtml\" style=\"display: table; white-space: break-spaces; line-height: 1.5; max-width: 200px; text-align: center; width: 200px;\"><span class=\"nodeLabel \"><p>ClusterTaxaStatisticsDataFrame</p></span></div></foreignObject></g></g><g class=\"node default  \" id=\"flowchart-GeohashClusterDataFrame-4\" transform=\"translate(740.1015625, 451)\"><rect class=\"basic label-container\" style=\"\" x=\"-124.6484375\" y=\"-27\" width=\"249.296875\" height=\"54\"/><g class=\"label\" style=\"\" transform=\"translate(-94.6484375, -12)\"><rect/><foreignObject width=\"189.296875\" height=\"24\"><div xmlns=\"http://www.w3.org/1999/xhtml\" style=\"display: table-cell; white-space: nowrap; line-height: 1.5; max-width: 200px; text-align: center;\"><span class=\"nodeLabel \"><p>GeohashClusterDataFrame</p></span></div></foreignObject></g></g><g class=\"node default  \" id=\"flowchart-TaxonomyDataFrame-6\" transform=\"translate(112.40625, 451)\"><rect class=\"basic label-container\" style=\"\" x=\"-104.40625\" y=\"-27\" width=\"208.8125\" height=\"54\"/><g class=\"label\" style=\"\" transform=\"translate(-74.40625, -12)\"><rect/><foreignObject width=\"148.8125\" height=\"24\"><div xmlns=\"http://www.w3.org/1999/xhtml\" style=\"display: table-cell; white-space: nowrap; line-height: 1.5; max-width: 200px; text-align: center;\"><span class=\"nodeLabel \"><p>TaxonomyDataFrame</p></span></div></foreignObject></g></g><g class=\"node default  \" id=\"flowchart-DarwinCoreCsvLazyFrame-8\" transform=\"translate(348.296875, 35)\"><rect class=\"basic label-container\" style=\"\" x=\"-121.828125\" y=\"-27\" width=\"243.65625\" height=\"54\"/><g class=\"label\" style=\"\" transform=\"translate(-91.828125, -12)\"><rect/><foreignObject width=\"183.65625\" height=\"24\"><div xmlns=\"http://www.w3.org/1999/xhtml\" style=\"display: table-cell; white-space: nowrap; line-height: 1.5; max-width: 200px; text-align: center;\"><span class=\"nodeLabel \"><p>DarwinCoreCsvLazyFrame</p></span></div></foreignObject></g></g><g class=\"node default  \" id=\"flowchart-ClusterSignificantDifferencesDataFrame-11\" transform=\"translate(355.37109375, 659)\"><rect class=\"basic label-container\" style=\"\" x=\"-173.015625\" y=\"-27\" width=\"346.03125\" height=\"54\"/><g class=\"label\" style=\"\" transform=\"translate(-143.015625, -12)\"><rect/><foreignObject width=\"286.03125\" height=\"24\"><div xmlns=\"http://www.w3.org/1999/xhtml\" style=\"display: table; white-space: break-spaces; line-height: 1.5; max-width: 200px; text-align: center; width: 200px;\"><span class=\"nodeLabel \"><p>ClusterSignificantDifferencesDataFrame</p></span></div></foreignObject></g></g><g class=\"node default  \" id=\"flowchart-GeohashDataFrame-12\" transform=\"translate(796.28515625, 139)\"><rect class=\"basic label-container\" style=\"\" x=\"-99.25\" y=\"-27\" width=\"198.5\" height=\"54\"/><g class=\"label\" style=\"\" transform=\"translate(-69.25, -12)\"><rect/><foreignObject width=\"138.5\" height=\"24\"><div xmlns=\"http://www.w3.org/1999/xhtml\" style=\"display: table-cell; white-space: nowrap; line-height: 1.5; max-width: 200px; text-align: center;\"><span class=\"nodeLabel \"><p>GeohashDataFrame</p></span></div></foreignObject></g></g><g class=\"node default  \" id=\"flowchart-ConnectivityMatrix-16\" transform=\"translate(838.9453125, 347)\"><rect class=\"basic label-container\" style=\"\" x=\"-97.3671875\" y=\"-27\" width=\"194.734375\" height=\"54\"/><g class=\"label\" style=\"\" transform=\"translate(-67.3671875, -12)\"><rect/><foreignObject width=\"134.734375\" height=\"24\"><div xmlns=\"http://www.w3.org/1999/xhtml\" style=\"display: table-cell; white-space: nowrap; line-height: 1.5; max-width: 200px; text-align: center;\"><span class=\"nodeLabel \"><p>ConnectivityMatrix</p></span></div></foreignObject></g></g><g class=\"node default  \" id=\"flowchart-ClusterColorDataFrame-23\" transform=\"translate(760.1015625, 555)\"><rect class=\"basic label-container\" style=\"\" x=\"-113.2421875\" y=\"-27\" width=\"226.484375\" height=\"54\"/><g class=\"label\" style=\"\" transform=\"translate(-83.2421875, -12)\"><rect/><foreignObject width=\"166.484375\" height=\"24\"><div xmlns=\"http://www.w3.org/1999/xhtml\" style=\"display: table-cell; white-space: nowrap; line-height: 1.5; max-width: 200px; text-align: center;\"><span class=\"nodeLabel \"><p>ClusterColorDataFrame</p></span></div></foreignObject></g></g><g class=\"node default  \" id=\"flowchart-TaxaGeographicMeanDataFrame-25\" transform=\"translate(527.4375, 347)\"><rect class=\"basic label-container\" style=\"\" x=\"-144.140625\" y=\"-27\" width=\"288.28125\" height=\"54\"/><g class=\"label\" style=\"\" transform=\"translate(-114.140625, -12)\"><rect/><foreignObject width=\"228.28125\" height=\"24\"><div xmlns=\"http://www.w3.org/1999/xhtml\" style=\"display: table; white-space: break-spaces; line-height: 1.5; max-width: 200px; text-align: center; width: 200px;\"><span class=\"nodeLabel \"><p>TaxaGeographicMeanDataFrame</p></span></div></foreignObject></g></g></g></g></g></svg>"
      ],
      "text/plain": [
       "<mermaid.__main__.Mermaid at 0x12618da90>"
      ]
     },
     "execution_count": 3,
     "metadata": {},
     "output_type": "execute_result"
    }
   ],
   "source": [
    "from src.mermaid import build_mermaid_graph\n",
    "\n",
    "build_mermaid_graph()"
   ]
  },
  {
   "cell_type": "markdown",
   "id": "116c8d33",
   "metadata": {},
   "source": [
    "## `DarwinCoreCsvLazyFrame`"
   ]
  },
  {
   "cell_type": "markdown",
   "id": "5978dfa6",
   "metadata": {},
   "source": [
    "### Build"
   ]
  },
  {
   "cell_type": "code",
   "execution_count": 4,
   "id": "ef114a5c",
   "metadata": {},
   "outputs": [],
   "source": [
    "from src.lazyframes.darwin_core_csv import DarwinCoreCsvLazyFrame\n",
    "\n",
    "darwin_core_csv_lazy_frame = DarwinCoreCsvLazyFrame.build(input_file)"
   ]
  },
  {
   "cell_type": "markdown",
   "id": "a8aecc3d",
   "metadata": {},
   "source": [
    "### Preview"
   ]
  },
  {
   "cell_type": "code",
   "execution_count": 5,
   "id": "301909c5",
   "metadata": {},
   "outputs": [
    {
     "data": {
      "text/html": [
       "<div><style>\n",
       ".dataframe > thead > tr,\n",
       ".dataframe > tbody > tr {\n",
       "  text-align: right;\n",
       "  white-space: pre-wrap;\n",
       "}\n",
       "</style>\n",
       "<small>shape: (3, 50)</small><table border=\"1\" class=\"dataframe\"><thead><tr><th>gbifID</th><th>datasetKey</th><th>occurrenceID</th><th>kingdom</th><th>phylum</th><th>class</th><th>order</th><th>family</th><th>genus</th><th>species</th><th>infraspecificEpithet</th><th>taxonRank</th><th>scientificName</th><th>verbatimScientificName</th><th>verbatimScientificNameAuthorship</th><th>countryCode</th><th>locality</th><th>stateProvince</th><th>occurrenceStatus</th><th>individualCount</th><th>publishingOrgKey</th><th>decimalLatitude</th><th>decimalLongitude</th><th>coordinateUncertaintyInMeters</th><th>coordinatePrecision</th><th>elevation</th><th>elevationAccuracy</th><th>depth</th><th>depthAccuracy</th><th>eventDate</th><th>day</th><th>month</th><th>year</th><th>taxonKey</th><th>speciesKey</th><th>basisOfRecord</th><th>institutionCode</th><th>collectionCode</th><th>catalogNumber</th><th>recordNumber</th><th>identifiedBy</th><th>dateIdentified</th><th>license</th><th>rightsHolder</th><th>recordedBy</th><th>typeStatus</th><th>establishmentMeans</th><th>lastInterpreted</th><th>mediaType</th><th>issue</th></tr><tr><td>str</td><td>str</td><td>str</td><td>enum</td><td>str</td><td>str</td><td>str</td><td>str</td><td>str</td><td>str</td><td>str</td><td>str</td><td>str</td><td>str</td><td>str</td><td>str</td><td>str</td><td>str</td><td>str</td><td>str</td><td>str</td><td>f64</td><td>f64</td><td>str</td><td>str</td><td>str</td><td>str</td><td>str</td><td>str</td><td>str</td><td>str</td><td>str</td><td>str</td><td>u64</td><td>str</td><td>str</td><td>str</td><td>str</td><td>str</td><td>str</td><td>str</td><td>str</td><td>str</td><td>str</td><td>str</td><td>str</td><td>str</td><td>str</td><td>str</td><td>str</td></tr></thead><tbody><tr><td>&quot;4424226317&quot;</td><td>&quot;50c9509d-22c7-4a22-a47d-8c4842…</td><td>&quot;https://www.inaturalist.org/ob…</td><td>&quot;Animalia&quot;</td><td>&quot;Arthropoda&quot;</td><td>&quot;Insecta&quot;</td><td>&quot;Odonata&quot;</td><td>&quot;Libellulidae&quot;</td><td>&quot;Sympetrum&quot;</td><td>null</td><td>null</td><td>&quot;GENUS&quot;</td><td>&quot;Sympetrum Newman, 1833&quot;</td><td>&quot;Sympetrum&quot;</td><td>null</td><td>&quot;US&quot;</td><td>null</td><td>&quot;New York&quot;</td><td>&quot;PRESENT&quot;</td><td>null</td><td>&quot;28eb1a3f-1c15-4a95-931a-4af90e…</td><td>42.96266</td><td>-76.740947</td><td>&quot;2191.0&quot;</td><td>null</td><td>null</td><td>null</td><td>null</td><td>null</td><td>&quot;2019-09-06T10:30&quot;</td><td>&quot;6&quot;</td><td>&quot;9&quot;</td><td>&quot;2019&quot;</td><td>1428195</td><td>null</td><td>&quot;HUMAN_OBSERVATION&quot;</td><td>&quot;iNaturalist&quot;</td><td>&quot;Observations&quot;</td><td>&quot;32505913&quot;</td><td>null</td><td>&quot;Amy Guala&quot;</td><td>&quot;2019-09-11T01:33:07&quot;</td><td>&quot;CC_BY_NC_4_0&quot;</td><td>&quot;Amy Guala&quot;</td><td>&quot;Amy Guala&quot;</td><td>null</td><td>null</td><td>&quot;2024-12-03T00:52:33.467Z&quot;</td><td>&quot;StillImage&quot;</td><td>&quot;COORDINATE_ROUNDED;CONTINENT_D…</td></tr><tr><td>&quot;2423028148&quot;</td><td>&quot;50c9509d-22c7-4a22-a47d-8c4842…</td><td>&quot;https://www.inaturalist.org/ob…</td><td>&quot;Animalia&quot;</td><td>&quot;Arthropoda&quot;</td><td>&quot;Insecta&quot;</td><td>&quot;Lepidoptera&quot;</td><td>&quot;Geometridae&quot;</td><td>&quot;Nematocampa&quot;</td><td>&quot;Nematocampa resistaria&quot;</td><td>null</td><td>&quot;SPECIES&quot;</td><td>&quot;Nematocampa resistaria (Herric…</td><td>&quot;Nematocampa resistaria&quot;</td><td>null</td><td>&quot;US&quot;</td><td>null</td><td>&quot;Vermont&quot;</td><td>&quot;PRESENT&quot;</td><td>null</td><td>&quot;28eb1a3f-1c15-4a95-931a-4af90e…</td><td>43.822608</td><td>-72.641412</td><td>&quot;5.0&quot;</td><td>null</td><td>null</td><td>null</td><td>null</td><td>null</td><td>&quot;2019-09-11T22:08:52&quot;</td><td>&quot;11&quot;</td><td>&quot;9&quot;</td><td>&quot;2019&quot;</td><td>1991012</td><td>&quot;1991012&quot;</td><td>&quot;HUMAN_OBSERVATION&quot;</td><td>&quot;iNaturalist&quot;</td><td>&quot;Observations&quot;</td><td>&quot;32566956&quot;</td><td>null</td><td>&quot;bugguytad&quot;</td><td>&quot;2019-09-12T02:25:38&quot;</td><td>&quot;CC_BY_NC_4_0&quot;</td><td>&quot;bugguytad&quot;</td><td>&quot;bugguytad&quot;</td><td>null</td><td>null</td><td>&quot;2024-12-03T01:38:46.617Z&quot;</td><td>&quot;StillImage;StillImage;StillIma…</td><td>&quot;COORDINATE_ROUNDED;CONTINENT_D…</td></tr><tr><td>&quot;2423041120&quot;</td><td>&quot;50c9509d-22c7-4a22-a47d-8c4842…</td><td>&quot;https://www.inaturalist.org/ob…</td><td>&quot;Animalia&quot;</td><td>&quot;Arthropoda&quot;</td><td>&quot;Insecta&quot;</td><td>&quot;Odonata&quot;</td><td>&quot;Coenagrionidae&quot;</td><td>&quot;Argia&quot;</td><td>&quot;Argia moesta&quot;</td><td>null</td><td>&quot;SPECIES&quot;</td><td>&quot;Argia moesta (Hagen, 1861)&quot;</td><td>&quot;Argia moesta&quot;</td><td>null</td><td>&quot;US&quot;</td><td>null</td><td>&quot;Texas&quot;</td><td>&quot;PRESENT&quot;</td><td>null</td><td>&quot;28eb1a3f-1c15-4a95-931a-4af90e…</td><td>30.99463</td><td>-103.662658</td><td>null</td><td>null</td><td>null</td><td>null</td><td>null</td><td>null</td><td>&quot;2019-09-08T09:01&quot;</td><td>&quot;8&quot;</td><td>&quot;9&quot;</td><td>&quot;2019&quot;</td><td>5051399</td><td>&quot;5051399&quot;</td><td>&quot;HUMAN_OBSERVATION&quot;</td><td>&quot;iNaturalist&quot;</td><td>&quot;Observations&quot;</td><td>&quot;32612673&quot;</td><td>null</td><td>&quot;Todd Fitzgerald&quot;</td><td>&quot;2019-09-12T22:11:30&quot;</td><td>&quot;CC_BY_NC_4_0&quot;</td><td>&quot;Todd Fitzgerald&quot;</td><td>&quot;Todd Fitzgerald&quot;</td><td>null</td><td>null</td><td>&quot;2024-12-03T01:38:10.816Z&quot;</td><td>&quot;StillImage&quot;</td><td>&quot;COORDINATE_ROUNDED;CONTINENT_D…</td></tr></tbody></table></div>"
      ],
      "text/plain": [
       "shape: (3, 50)\n",
       "┌───────────┬───────────┬───────────┬──────────┬───┬───────────┬───────────┬───────────┬───────────┐\n",
       "│ gbifID    ┆ datasetKe ┆ occurrenc ┆ kingdom  ┆ … ┆ establish ┆ lastInter ┆ mediaType ┆ issue     │\n",
       "│ ---       ┆ y         ┆ eID       ┆ ---      ┆   ┆ mentMeans ┆ preted    ┆ ---       ┆ ---       │\n",
       "│ str       ┆ ---       ┆ ---       ┆ enum     ┆   ┆ ---       ┆ ---       ┆ str       ┆ str       │\n",
       "│           ┆ str       ┆ str       ┆          ┆   ┆ str       ┆ str       ┆           ┆           │\n",
       "╞═══════════╪═══════════╪═══════════╪══════════╪═══╪═══════════╪═══════════╪═══════════╪═══════════╡\n",
       "│ 442422631 ┆ 50c9509d- ┆ https://w ┆ Animalia ┆ … ┆ null      ┆ 2024-12-0 ┆ StillImag ┆ COORDINAT │\n",
       "│ 7         ┆ 22c7-4a22 ┆ ww.inatur ┆          ┆   ┆           ┆ 3T00:52:3 ┆ e         ┆ E_ROUNDED │\n",
       "│           ┆ -a47d-8c4 ┆ alist.org ┆          ┆   ┆           ┆ 3.467Z    ┆           ┆ ;CONTINEN │\n",
       "│           ┆ 842…      ┆ /ob…      ┆          ┆   ┆           ┆           ┆           ┆ T_D…      │\n",
       "│ 242302814 ┆ 50c9509d- ┆ https://w ┆ Animalia ┆ … ┆ null      ┆ 2024-12-0 ┆ StillImag ┆ COORDINAT │\n",
       "│ 8         ┆ 22c7-4a22 ┆ ww.inatur ┆          ┆   ┆           ┆ 3T01:38:4 ┆ e;StillIm ┆ E_ROUNDED │\n",
       "│           ┆ -a47d-8c4 ┆ alist.org ┆          ┆   ┆           ┆ 6.617Z    ┆ age;Still ┆ ;CONTINEN │\n",
       "│           ┆ 842…      ┆ /ob…      ┆          ┆   ┆           ┆           ┆ Ima…      ┆ T_D…      │\n",
       "│ 242304112 ┆ 50c9509d- ┆ https://w ┆ Animalia ┆ … ┆ null      ┆ 2024-12-0 ┆ StillImag ┆ COORDINAT │\n",
       "│ 0         ┆ 22c7-4a22 ┆ ww.inatur ┆          ┆   ┆           ┆ 3T01:38:1 ┆ e         ┆ E_ROUNDED │\n",
       "│           ┆ -a47d-8c4 ┆ alist.org ┆          ┆   ┆           ┆ 0.816Z    ┆           ┆ ;CONTINEN │\n",
       "│           ┆ 842…      ┆ /ob…      ┆          ┆   ┆           ┆           ┆           ┆ T_D…      │\n",
       "└───────────┴───────────┴───────────┴──────────┴───┴───────────┴───────────┴───────────┴───────────┘"
      ]
     },
     "execution_count": 5,
     "metadata": {},
     "output_type": "execute_result"
    }
   ],
   "source": [
    "darwin_core_csv_lazy_frame.lf.limit(3).collect()"
   ]
  },
  {
   "cell_type": "markdown",
   "metadata": {},
   "source": [
    "## `GeohashDataFrame`"
   ]
  },
  {
   "cell_type": "markdown",
   "id": "941b9a5b",
   "metadata": {},
   "source": [
    "### Build"
   ]
  },
  {
   "cell_type": "code",
   "execution_count": 6,
   "metadata": {},
   "outputs": [
    {
     "name": "stdout",
     "output_type": "stream",
     "text": [
      "Before:  (20759, 2)\n",
      "After:  (20547, 2)\n"
     ]
    }
   ],
   "source": [
    "from src.dataframes.geohash import GeohashDataFrame\n",
    "\n",
    "geohash_dataframe = GeohashDataFrame.build(darwin_core_csv_lazy_frame, geohash_precision)"
   ]
  },
  {
   "cell_type": "markdown",
   "metadata": {},
   "source": [
    "### Preview"
   ]
  },
  {
   "cell_type": "code",
   "execution_count": 7,
   "metadata": {},
   "outputs": [
    {
     "data": {
      "text/html": [
       "<div><style>\n",
       ".dataframe > thead > tr,\n",
       ".dataframe > tbody > tr {\n",
       "  text-align: right;\n",
       "  white-space: pre-wrap;\n",
       "}\n",
       "</style>\n",
       "<small>shape: (6, 2)</small><table border=\"1\" class=\"dataframe\"><thead><tr><th>geohash</th><th>neighbors</th></tr><tr><td>str</td><td>list[str]</td></tr></thead><tbody><tr><td>&quot;97zz&quot;</td><td>[&quot;9ebn&quot;]</td></tr><tr><td>&quot;9ebn&quot;</td><td>[&quot;97zz&quot;]</td></tr><tr><td>&quot;9ec6&quot;</td><td>[&quot;9ecd&quot;, &quot;9ece&quot;]</td></tr><tr><td>&quot;9ecd&quot;</td><td>[&quot;9ece&quot;, &quot;9ecg&quot;, &quot;9ec6&quot;]</td></tr><tr><td>&quot;9ece&quot;</td><td>[&quot;9ecg&quot;, &quot;9ecu&quot;, … &quot;9ec6&quot;]</td></tr><tr><td>&quot;9ecg&quot;</td><td>[&quot;9ecu&quot;, &quot;9efh&quot;, … &quot;9ece&quot;]</td></tr></tbody></table></div>"
      ],
      "text/plain": [
       "shape: (6, 2)\n",
       "┌─────────┬────────────────────────────┐\n",
       "│ geohash ┆ neighbors                  │\n",
       "│ ---     ┆ ---                        │\n",
       "│ str     ┆ list[str]                  │\n",
       "╞═════════╪════════════════════════════╡\n",
       "│ 97zz    ┆ [\"9ebn\"]                   │\n",
       "│ 9ebn    ┆ [\"97zz\"]                   │\n",
       "│ 9ec6    ┆ [\"9ecd\", \"9ece\"]           │\n",
       "│ 9ecd    ┆ [\"9ece\", \"9ecg\", \"9ec6\"]   │\n",
       "│ 9ece    ┆ [\"9ecg\", \"9ecu\", … \"9ec6\"] │\n",
       "│ 9ecg    ┆ [\"9ecu\", \"9efh\", … \"9ece\"] │\n",
       "└─────────┴────────────────────────────┘"
      ]
     },
     "execution_count": 7,
     "metadata": {},
     "output_type": "execute_result"
    }
   ],
   "source": [
    "geohash_dataframe.df.limit(6)"
   ]
  },
  {
   "cell_type": "markdown",
   "id": "d894f444",
   "metadata": {},
   "source": [
    "## `TaxonomyDataFrame`"
   ]
  },
  {
   "cell_type": "markdown",
   "id": "9aea10c8",
   "metadata": {},
   "source": [
    "### Build"
   ]
  },
  {
   "cell_type": "code",
   "execution_count": 8,
   "id": "dc245900",
   "metadata": {},
   "outputs": [],
   "source": [
    "from src.dataframes.taxonomy import TaxonomyDataFrame\n",
    "\n",
    "taxonomy_dataframe = TaxonomyDataFrame.build(darwin_core_csv_lazy_frame)"
   ]
  },
  {
   "cell_type": "markdown",
   "id": "4fd52a30",
   "metadata": {},
   "source": [
    "### Preview"
   ]
  },
  {
   "cell_type": "code",
   "execution_count": 9,
   "id": "da2a0349",
   "metadata": {},
   "outputs": [
    {
     "data": {
      "text/html": [
       "<div><style>\n",
       ".dataframe > thead > tr,\n",
       ".dataframe > tbody > tr {\n",
       "  text-align: right;\n",
       "  white-space: pre-wrap;\n",
       "}\n",
       "</style>\n",
       "<small>shape: (3, 7)</small><table border=\"1\" class=\"dataframe\"><thead><tr><th>kingdom</th><th>phylum</th><th>class</th><th>order</th><th>family</th><th>genus</th><th>species</th></tr><tr><td>enum</td><td>str</td><td>str</td><td>str</td><td>str</td><td>str</td><td>str</td></tr></thead><tbody><tr><td>&quot;Animalia&quot;</td><td>&quot;Arthropoda&quot;</td><td>&quot;Insecta&quot;</td><td>&quot;Coleoptera&quot;</td><td>&quot;Apionidae&quot;</td><td>&quot;Aspidapion&quot;</td><td>&quot;Aspidapion radiolus&quot;</td></tr><tr><td>&quot;Animalia&quot;</td><td>&quot;Arthropoda&quot;</td><td>&quot;Insecta&quot;</td><td>&quot;Lepidoptera&quot;</td><td>&quot;Pyralidae&quot;</td><td>&quot;Moodna&quot;</td><td>&quot;Moodna ostrinella&quot;</td></tr><tr><td>&quot;Animalia&quot;</td><td>&quot;Porifera&quot;</td><td>&quot;Demospongiae&quot;</td><td>&quot;Verongiida&quot;</td><td>&quot;Aplysinidae&quot;</td><td>&quot;Aplysina&quot;</td><td>&quot;Aplysina fistularis&quot;</td></tr></tbody></table></div>"
      ],
      "text/plain": [
       "shape: (3, 7)\n",
       "┌──────────┬────────────┬──────────────┬─────────────┬─────────────┬────────────┬────────────┐\n",
       "│ kingdom  ┆ phylum     ┆ class        ┆ order       ┆ family      ┆ genus      ┆ species    │\n",
       "│ ---      ┆ ---        ┆ ---          ┆ ---         ┆ ---         ┆ ---        ┆ ---        │\n",
       "│ enum     ┆ str        ┆ str          ┆ str         ┆ str         ┆ str        ┆ str        │\n",
       "╞══════════╪════════════╪══════════════╪═════════════╪═════════════╪════════════╪════════════╡\n",
       "│ Animalia ┆ Arthropoda ┆ Insecta      ┆ Coleoptera  ┆ Apionidae   ┆ Aspidapion ┆ Aspidapion │\n",
       "│          ┆            ┆              ┆             ┆             ┆            ┆ radiolus   │\n",
       "│ Animalia ┆ Arthropoda ┆ Insecta      ┆ Lepidoptera ┆ Pyralidae   ┆ Moodna     ┆ Moodna     │\n",
       "│          ┆            ┆              ┆             ┆             ┆            ┆ ostrinella │\n",
       "│ Animalia ┆ Porifera   ┆ Demospongiae ┆ Verongiida  ┆ Aplysinidae ┆ Aplysina   ┆ Aplysina   │\n",
       "│          ┆            ┆              ┆             ┆             ┆            ┆ fistularis │\n",
       "└──────────┴────────────┴──────────────┴─────────────┴─────────────┴────────────┴────────────┘"
      ]
     },
     "execution_count": 9,
     "metadata": {},
     "output_type": "execute_result"
    }
   ],
   "source": [
    "taxonomy_dataframe.df.limit(3)"
   ]
  },
  {
   "cell_type": "markdown",
   "id": "a0648044",
   "metadata": {},
   "source": [
    "## `GeohashSpeciesCountsDataFrame`"
   ]
  },
  {
   "cell_type": "markdown",
   "id": "c9342219",
   "metadata": {},
   "source": [
    "### Build"
   ]
  },
  {
   "cell_type": "code",
   "execution_count": 10,
   "id": "193e313e",
   "metadata": {},
   "outputs": [],
   "source": [
    "from src.dataframes.geohash_species_counts import GeohashSpeciesCountsDataFrame\n",
    "\n",
    "geohash_taxa_counts_dataframe = GeohashSpeciesCountsDataFrame.build(\n",
    "    darwin_core_csv_lazy_frame,\n",
    "    geohash_dataframe,\n",
    "    geohash_precision,\n",
    ")"
   ]
  },
  {
   "cell_type": "markdown",
   "id": "6ba90961",
   "metadata": {},
   "source": [
    "### Shape"
   ]
  },
  {
   "cell_type": "code",
   "execution_count": 18,
   "id": "d7abce36",
   "metadata": {},
   "outputs": [
    {
     "data": {
      "text/plain": [
       "(7709233, 5)"
      ]
     },
     "execution_count": 18,
     "metadata": {},
     "output_type": "execute_result"
    }
   ],
   "source": [
    "geohash_taxa_counts_dataframe.df.shape"
   ]
  },
  {
   "cell_type": "markdown",
   "id": "a657db45",
   "metadata": {},
   "source": [
    "### Preview"
   ]
  },
  {
   "cell_type": "code",
   "execution_count": 11,
   "id": "650b1cde",
   "metadata": {},
   "outputs": [
    {
     "data": {
      "text/html": [
       "<div><style>\n",
       ".dataframe > thead > tr,\n",
       ".dataframe > tbody > tr {\n",
       "  text-align: right;\n",
       "  white-space: pre-wrap;\n",
       "}\n",
       "</style>\n",
       "<small>shape: (3, 5)</small><table border=\"1\" class=\"dataframe\"><thead><tr><th>geohash</th><th>kingdom</th><th>rank</th><th>name</th><th>count</th></tr><tr><td>str</td><td>enum</td><td>enum</td><td>str</td><td>u32</td></tr></thead><tbody><tr><td>&quot;97zz&quot;</td><td>&quot;Animalia&quot;</td><td>&quot;species&quot;</td><td>&quot;Eschrichtius robustus&quot;</td><td>1</td></tr><tr><td>&quot;9ebn&quot;</td><td>&quot;Animalia&quot;</td><td>&quot;species&quot;</td><td>&quot;Eschrichtius robustus&quot;</td><td>1</td></tr><tr><td>&quot;9ec6&quot;</td><td>&quot;Animalia&quot;</td><td>&quot;species&quot;</td><td>null</td><td>1</td></tr></tbody></table></div>"
      ],
      "text/plain": [
       "shape: (3, 5)\n",
       "┌─────────┬──────────┬─────────┬───────────────────────┬───────┐\n",
       "│ geohash ┆ kingdom  ┆ rank    ┆ name                  ┆ count │\n",
       "│ ---     ┆ ---      ┆ ---     ┆ ---                   ┆ ---   │\n",
       "│ str     ┆ enum     ┆ enum    ┆ str                   ┆ u32   │\n",
       "╞═════════╪══════════╪═════════╪═══════════════════════╪═══════╡\n",
       "│ 97zz    ┆ Animalia ┆ species ┆ Eschrichtius robustus ┆ 1     │\n",
       "│ 9ebn    ┆ Animalia ┆ species ┆ Eschrichtius robustus ┆ 1     │\n",
       "│ 9ec6    ┆ Animalia ┆ species ┆ null                  ┆ 1     │\n",
       "└─────────┴──────────┴─────────┴───────────────────────┴───────┘"
      ]
     },
     "execution_count": 11,
     "metadata": {},
     "output_type": "execute_result"
    }
   ],
   "source": [
    "geohash_taxa_counts_dataframe.df.limit(3)"
   ]
  },
  {
   "cell_type": "markdown",
   "id": "c702a476",
   "metadata": {},
   "source": [
    "# `ConnectivityMatrix`\n",
    "\n",
    "### Build"
   ]
  },
  {
   "cell_type": "code",
   "execution_count": 12,
   "id": "c5e80f91",
   "metadata": {},
   "outputs": [],
   "source": [
    "from src.matrices.connectivity import ConnectivityMatrix\n",
    "\n",
    "connectivity_matrix = ConnectivityMatrix.build(geohash_dataframe)"
   ]
  },
  {
   "cell_type": "code",
   "execution_count": 21,
   "id": "20d47477",
   "metadata": {},
   "outputs": [
    {
     "data": {
      "text/html": [
       "<div><style>\n",
       ".dataframe > thead > tr,\n",
       ".dataframe > tbody > tr {\n",
       "  text-align: right;\n",
       "  white-space: pre-wrap;\n",
       "}\n",
       "</style>\n",
       "<small>shape: (20_547,)</small><table border=\"1\" class=\"dataframe\"><thead><tr><th>geohash</th></tr><tr><td>str</td></tr></thead><tbody><tr><td>&quot;dptv&quot;</td></tr><tr><td>&quot;9udn&quot;</td></tr><tr><td>&quot;dr8z&quot;</td></tr><tr><td>&quot;d5c7&quot;</td></tr><tr><td>&quot;dj29&quot;</td></tr><tr><td>&hellip;</td></tr><tr><td>&quot;9zz5&quot;</td></tr><tr><td>&quot;c8sk&quot;</td></tr><tr><td>&quot;9zzr&quot;</td></tr><tr><td>&quot;f0k0&quot;</td></tr><tr><td>&quot;9tff&quot;</td></tr></tbody></table></div>"
      ],
      "text/plain": [
       "shape: (20_547,)\n",
       "Series: 'geohash' [str]\n",
       "[\n",
       "\t\"dptv\"\n",
       "\t\"9udn\"\n",
       "\t\"dr8z\"\n",
       "\t\"d5c7\"\n",
       "\t\"dj29\"\n",
       "\t…\n",
       "\t\"9zz5\"\n",
       "\t\"c8sk\"\n",
       "\t\"9zzr\"\n",
       "\t\"f0k0\"\n",
       "\t\"9tff\"\n",
       "]"
      ]
     },
     "execution_count": 21,
     "metadata": {},
     "output_type": "execute_result"
    }
   ],
   "source": [
    "#TMP\n",
    "\n",
    "connectivity_matrix._connectivity_matrix.shape\n",
    "\n",
    "geohash_dataframe.df[\"geohash\"].unique()\n",
    "\n",
    "# len(set(geohash_taxa_counts_dataframe.df[\"geohash\"].unique()))\n",
    "\n",
    "\n",
    "# import polars as pl\n",
    "\n",
    "# geohash_dataframe.df.filter(pl.col(\"geohash\").is_in(n))\n"
   ]
  },
  {
   "cell_type": "markdown",
   "id": "779a1ded",
   "metadata": {},
   "source": [
    "### Preview"
   ]
  },
  {
   "cell_type": "code",
   "execution_count": 14,
   "id": "a0a89bf6",
   "metadata": {},
   "outputs": [
    {
     "data": {
      "text/plain": [
       "array([[0, 1, 0, ..., 0, 0, 0],\n",
       "       [1, 0, 0, ..., 0, 0, 0],\n",
       "       [0, 0, 0, ..., 0, 0, 0],\n",
       "       ...,\n",
       "       [0, 0, 0, ..., 0, 0, 0],\n",
       "       [0, 0, 0, ..., 0, 0, 1],\n",
       "       [0, 0, 0, ..., 0, 1, 0]], shape=(20547, 20547))"
      ]
     },
     "execution_count": 14,
     "metadata": {},
     "output_type": "execute_result"
    }
   ],
   "source": [
    "connectivity_matrix._connectivity_matrix"
   ]
  },
  {
   "cell_type": "markdown",
   "id": "79cc061b",
   "metadata": {},
   "source": [
    "## `DistanceMatrix`\n",
    "\n",
    "### Build"
   ]
  },
  {
   "cell_type": "code",
   "execution_count": 15,
   "id": "f7e3d885",
   "metadata": {},
   "outputs": [],
   "source": [
    "from src.matrices.distance import DistanceMatrix\n",
    "\n",
    "distance_matrix = DistanceMatrix.build(geohash_taxa_counts_dataframe)"
   ]
  },
  {
   "cell_type": "markdown",
   "id": "214d36ed",
   "metadata": {},
   "source": [
    "### Preview"
   ]
  },
  {
   "cell_type": "code",
   "execution_count": 16,
   "id": "4f233d45",
   "metadata": {},
   "outputs": [
    {
     "data": {
      "text/plain": [
       "array([[0.        , 0.        , 0.0705359 , ..., 0.06098313, 0.14197394,\n",
       "        0.13851372],\n",
       "       [0.        , 0.        , 0.0705359 , ..., 0.06098313, 0.14197394,\n",
       "        0.13851372],\n",
       "       [0.0705359 , 0.0705359 , 0.        , ..., 0.03423142, 0.12815178,\n",
       "        0.12587236],\n",
       "       ...,\n",
       "       [0.06098313, 0.06098313, 0.03423142, ..., 0.        , 0.12217617,\n",
       "        0.12030488],\n",
       "       [0.14197394, 0.14197394, 0.12815178, ..., 0.12217617, 0.        ,\n",
       "        0.16932232],\n",
       "       [0.13851372, 0.13851372, 0.12587236, ..., 0.12030488, 0.16932232,\n",
       "        0.        ]], shape=(20539, 20539))"
      ]
     },
     "execution_count": 16,
     "metadata": {},
     "output_type": "execute_result"
    }
   ],
   "source": [
    "distance_matrix.squareform()"
   ]
  },
  {
   "cell_type": "markdown",
   "id": "3ae9ea61",
   "metadata": {},
   "source": [
    "## `GeohashClusterDataFrame`\n",
    "\n",
    "### Build"
   ]
  },
  {
   "cell_type": "code",
   "execution_count": 17,
   "id": "eaedbc3d",
   "metadata": {},
   "outputs": [
    {
     "ename": "ValueError",
     "evalue": "Wrong shape for connectivity matrix: (20547, 20547) when X is (20539, 20539)",
     "output_type": "error",
     "traceback": [
      "\u001b[0;31m---------------------------------------------------------------------------\u001b[0m",
      "\u001b[0;31mValueError\u001b[0m                                Traceback (most recent call last)",
      "Cell \u001b[0;32mIn[17], line 3\u001b[0m\n\u001b[1;32m      1\u001b[0m \u001b[38;5;28;01mfrom\u001b[39;00m\u001b[38;5;250m \u001b[39m\u001b[38;5;21;01msrc\u001b[39;00m\u001b[38;5;21;01m.\u001b[39;00m\u001b[38;5;21;01mdataframes\u001b[39;00m\u001b[38;5;21;01m.\u001b[39;00m\u001b[38;5;21;01mgeohash_cluster\u001b[39;00m\u001b[38;5;250m \u001b[39m\u001b[38;5;28;01mimport\u001b[39;00m GeohashClusterDataFrame\n\u001b[0;32m----> 3\u001b[0m geohash_cluster_dataframe \u001b[38;5;241m=\u001b[39m \u001b[43mGeohashClusterDataFrame\u001b[49m\u001b[38;5;241;43m.\u001b[39;49m\u001b[43mbuild\u001b[49m\u001b[43m(\u001b[49m\n\u001b[1;32m      4\u001b[0m \u001b[43m    \u001b[49m\u001b[43mgeohash_dataframe\u001b[49m\u001b[43m,\u001b[49m\n\u001b[1;32m      5\u001b[0m \u001b[43m    \u001b[49m\u001b[43mdistance_matrix\u001b[49m\u001b[43m,\u001b[49m\n\u001b[1;32m      6\u001b[0m \u001b[43m    \u001b[49m\u001b[43mconnectivity_matrix\u001b[49m\u001b[43m,\u001b[49m\n\u001b[1;32m      7\u001b[0m \u001b[43m    \u001b[49m\u001b[43mnum_clusters\u001b[49m\u001b[43m,\u001b[49m\n\u001b[1;32m      8\u001b[0m \u001b[43m)\u001b[49m\n",
      "File \u001b[0;32m~/dev/frewsxcv/citizen-science-ecoregions-experiments/src/dataframes/geohash_cluster.py:39\u001b[0m, in \u001b[0;36mGeohashClusterDataFrame.build\u001b[0;34m(cls, geohash_dataframe, distance_matrix, connectivity_matrix, num_clusters)\u001b[0m\n\u001b[1;32m     26\u001b[0m \u001b[38;5;129m@classmethod\u001b[39m\n\u001b[1;32m     27\u001b[0m \u001b[38;5;28;01mdef\u001b[39;00m\u001b[38;5;250m \u001b[39m\u001b[38;5;21mbuild\u001b[39m(\n\u001b[1;32m     28\u001b[0m     \u001b[38;5;28mcls\u001b[39m,\n\u001b[0;32m   (...)\u001b[0m\n\u001b[1;32m     32\u001b[0m     num_clusters: \u001b[38;5;28mint\u001b[39m,\n\u001b[1;32m     33\u001b[0m ) \u001b[38;5;241m-\u001b[39m\u001b[38;5;241m>\u001b[39m Self:\n\u001b[1;32m     34\u001b[0m     geohashes \u001b[38;5;241m=\u001b[39m geohash_dataframe\u001b[38;5;241m.\u001b[39mdf[\u001b[38;5;124m\"\u001b[39m\u001b[38;5;124mgeohash\u001b[39m\u001b[38;5;124m\"\u001b[39m]\n\u001b[1;32m     35\u001b[0m     clusters \u001b[38;5;241m=\u001b[39m \u001b[43mAgglomerativeClustering\u001b[49m\u001b[43m(\u001b[49m\n\u001b[1;32m     36\u001b[0m \u001b[43m        \u001b[49m\u001b[43mn_clusters\u001b[49m\u001b[38;5;241;43m=\u001b[39;49m\u001b[43mnum_clusters\u001b[49m\u001b[43m,\u001b[49m\n\u001b[1;32m     37\u001b[0m \u001b[43m        \u001b[49m\u001b[43mconnectivity\u001b[49m\u001b[38;5;241;43m=\u001b[39;49m\u001b[43mcsr_matrix\u001b[49m\u001b[43m(\u001b[49m\u001b[43mconnectivity_matrix\u001b[49m\u001b[38;5;241;43m.\u001b[39;49m\u001b[43m_connectivity_matrix\u001b[49m\u001b[43m)\u001b[49m\u001b[43m,\u001b[49m\n\u001b[1;32m     38\u001b[0m \u001b[43m        \u001b[49m\u001b[43mlinkage\u001b[49m\u001b[38;5;241;43m=\u001b[39;49m\u001b[38;5;124;43m\"\u001b[39;49m\u001b[38;5;124;43mward\u001b[39;49m\u001b[38;5;124;43m\"\u001b[39;49m\u001b[43m,\u001b[49m\n\u001b[0;32m---> 39\u001b[0m \u001b[43m    \u001b[49m\u001b[43m)\u001b[49m\u001b[38;5;241;43m.\u001b[39;49m\u001b[43mfit_predict\u001b[49m\u001b[43m(\u001b[49m\u001b[43mdistance_matrix\u001b[49m\u001b[38;5;241;43m.\u001b[39;49m\u001b[43msquareform\u001b[49m\u001b[43m(\u001b[49m\u001b[43m)\u001b[49m\u001b[43m)\u001b[49m\n\u001b[1;32m     40\u001b[0m     \u001b[38;5;28;01massert\u001b[39;00m \u001b[38;5;28mlen\u001b[39m(geohashes) \u001b[38;5;241m==\u001b[39m \u001b[38;5;28mlen\u001b[39m(clusters)\n\u001b[1;32m     41\u001b[0m     \u001b[38;5;28;01mreturn\u001b[39;00m \u001b[38;5;28mcls\u001b[39m(\n\u001b[1;32m     42\u001b[0m         df\u001b[38;5;241m=\u001b[39mpl\u001b[38;5;241m.\u001b[39mDataFrame(\n\u001b[1;32m     43\u001b[0m             data\u001b[38;5;241m=\u001b[39m{\n\u001b[0;32m   (...)\u001b[0m\n\u001b[1;32m     48\u001b[0m         )\n\u001b[1;32m     49\u001b[0m     )\n",
      "File \u001b[0;32m~/dev/frewsxcv/citizen-science-ecoregions-experiments/.venv/lib/python3.13/site-packages/sklearn/cluster/_agglomerative.py:1114\u001b[0m, in \u001b[0;36mAgglomerativeClustering.fit_predict\u001b[0;34m(self, X, y)\u001b[0m\n\u001b[1;32m   1093\u001b[0m \u001b[38;5;28;01mdef\u001b[39;00m\u001b[38;5;250m \u001b[39m\u001b[38;5;21mfit_predict\u001b[39m(\u001b[38;5;28mself\u001b[39m, X, y\u001b[38;5;241m=\u001b[39m\u001b[38;5;28;01mNone\u001b[39;00m):\n\u001b[1;32m   1094\u001b[0m \u001b[38;5;250m    \u001b[39m\u001b[38;5;124;03m\"\"\"Fit and return the result of each sample's clustering assignment.\u001b[39;00m\n\u001b[1;32m   1095\u001b[0m \n\u001b[1;32m   1096\u001b[0m \u001b[38;5;124;03m    In addition to fitting, this method also return the result of the\u001b[39;00m\n\u001b[0;32m   (...)\u001b[0m\n\u001b[1;32m   1112\u001b[0m \u001b[38;5;124;03m        Cluster labels.\u001b[39;00m\n\u001b[1;32m   1113\u001b[0m \u001b[38;5;124;03m    \"\"\"\u001b[39;00m\n\u001b[0;32m-> 1114\u001b[0m     \u001b[38;5;28;01mreturn\u001b[39;00m \u001b[38;5;28;43msuper\u001b[39;49m\u001b[43m(\u001b[49m\u001b[43m)\u001b[49m\u001b[38;5;241;43m.\u001b[39;49m\u001b[43mfit_predict\u001b[49m\u001b[43m(\u001b[49m\u001b[43mX\u001b[49m\u001b[43m,\u001b[49m\u001b[43m \u001b[49m\u001b[43my\u001b[49m\u001b[43m)\u001b[49m\n",
      "File \u001b[0;32m~/dev/frewsxcv/citizen-science-ecoregions-experiments/.venv/lib/python3.13/site-packages/sklearn/base.py:719\u001b[0m, in \u001b[0;36mClusterMixin.fit_predict\u001b[0;34m(self, X, y, **kwargs)\u001b[0m\n\u001b[1;32m    696\u001b[0m \u001b[38;5;250m\u001b[39m\u001b[38;5;124;03m\"\"\"\u001b[39;00m\n\u001b[1;32m    697\u001b[0m \u001b[38;5;124;03mPerform clustering on `X` and returns cluster labels.\u001b[39;00m\n\u001b[1;32m    698\u001b[0m \n\u001b[0;32m   (...)\u001b[0m\n\u001b[1;32m    715\u001b[0m \u001b[38;5;124;03m    Cluster labels.\u001b[39;00m\n\u001b[1;32m    716\u001b[0m \u001b[38;5;124;03m\"\"\"\u001b[39;00m\n\u001b[1;32m    717\u001b[0m \u001b[38;5;66;03m# non-optimized default implementation; override when a better\u001b[39;00m\n\u001b[1;32m    718\u001b[0m \u001b[38;5;66;03m# method is possible for a given clustering algorithm\u001b[39;00m\n\u001b[0;32m--> 719\u001b[0m \u001b[38;5;28;43mself\u001b[39;49m\u001b[38;5;241;43m.\u001b[39;49m\u001b[43mfit\u001b[49m\u001b[43m(\u001b[49m\u001b[43mX\u001b[49m\u001b[43m,\u001b[49m\u001b[43m \u001b[49m\u001b[38;5;241;43m*\u001b[39;49m\u001b[38;5;241;43m*\u001b[39;49m\u001b[43mkwargs\u001b[49m\u001b[43m)\u001b[49m\n\u001b[1;32m    720\u001b[0m \u001b[38;5;28;01mreturn\u001b[39;00m \u001b[38;5;28mself\u001b[39m\u001b[38;5;241m.\u001b[39mlabels_\n",
      "File \u001b[0;32m~/dev/frewsxcv/citizen-science-ecoregions-experiments/.venv/lib/python3.13/site-packages/sklearn/base.py:1389\u001b[0m, in \u001b[0;36m_fit_context.<locals>.decorator.<locals>.wrapper\u001b[0;34m(estimator, *args, **kwargs)\u001b[0m\n\u001b[1;32m   1382\u001b[0m     estimator\u001b[38;5;241m.\u001b[39m_validate_params()\n\u001b[1;32m   1384\u001b[0m \u001b[38;5;28;01mwith\u001b[39;00m config_context(\n\u001b[1;32m   1385\u001b[0m     skip_parameter_validation\u001b[38;5;241m=\u001b[39m(\n\u001b[1;32m   1386\u001b[0m         prefer_skip_nested_validation \u001b[38;5;129;01mor\u001b[39;00m global_skip_validation\n\u001b[1;32m   1387\u001b[0m     )\n\u001b[1;32m   1388\u001b[0m ):\n\u001b[0;32m-> 1389\u001b[0m     \u001b[38;5;28;01mreturn\u001b[39;00m \u001b[43mfit_method\u001b[49m\u001b[43m(\u001b[49m\u001b[43mestimator\u001b[49m\u001b[43m,\u001b[49m\u001b[43m \u001b[49m\u001b[38;5;241;43m*\u001b[39;49m\u001b[43margs\u001b[49m\u001b[43m,\u001b[49m\u001b[43m \u001b[49m\u001b[38;5;241;43m*\u001b[39;49m\u001b[38;5;241;43m*\u001b[39;49m\u001b[43mkwargs\u001b[49m\u001b[43m)\u001b[49m\n",
      "File \u001b[0;32m~/dev/frewsxcv/citizen-science-ecoregions-experiments/.venv/lib/python3.13/site-packages/sklearn/cluster/_agglomerative.py:989\u001b[0m, in \u001b[0;36mAgglomerativeClustering.fit\u001b[0;34m(self, X, y)\u001b[0m\n\u001b[1;32m    971\u001b[0m \u001b[38;5;250m\u001b[39m\u001b[38;5;124;03m\"\"\"Fit the hierarchical clustering from features, or distance matrix.\u001b[39;00m\n\u001b[1;32m    972\u001b[0m \n\u001b[1;32m    973\u001b[0m \u001b[38;5;124;03mParameters\u001b[39;00m\n\u001b[0;32m   (...)\u001b[0m\n\u001b[1;32m    986\u001b[0m \u001b[38;5;124;03m    Returns the fitted instance.\u001b[39;00m\n\u001b[1;32m    987\u001b[0m \u001b[38;5;124;03m\"\"\"\u001b[39;00m\n\u001b[1;32m    988\u001b[0m X \u001b[38;5;241m=\u001b[39m validate_data(\u001b[38;5;28mself\u001b[39m, X, ensure_min_samples\u001b[38;5;241m=\u001b[39m\u001b[38;5;241m2\u001b[39m)\n\u001b[0;32m--> 989\u001b[0m \u001b[38;5;28;01mreturn\u001b[39;00m \u001b[38;5;28;43mself\u001b[39;49m\u001b[38;5;241;43m.\u001b[39;49m\u001b[43m_fit\u001b[49m\u001b[43m(\u001b[49m\u001b[43mX\u001b[49m\u001b[43m)\u001b[49m\n",
      "File \u001b[0;32m~/dev/frewsxcv/citizen-science-ecoregions-experiments/.venv/lib/python3.13/site-packages/sklearn/cluster/_agglomerative.py:1061\u001b[0m, in \u001b[0;36mAgglomerativeClustering._fit\u001b[0;34m(self, X)\u001b[0m\n\u001b[1;32m   1057\u001b[0m distance_threshold \u001b[38;5;241m=\u001b[39m \u001b[38;5;28mself\u001b[39m\u001b[38;5;241m.\u001b[39mdistance_threshold\n\u001b[1;32m   1059\u001b[0m return_distance \u001b[38;5;241m=\u001b[39m (distance_threshold \u001b[38;5;129;01mis\u001b[39;00m \u001b[38;5;129;01mnot\u001b[39;00m \u001b[38;5;28;01mNone\u001b[39;00m) \u001b[38;5;129;01mor\u001b[39;00m \u001b[38;5;28mself\u001b[39m\u001b[38;5;241m.\u001b[39mcompute_distances\n\u001b[0;32m-> 1061\u001b[0m out \u001b[38;5;241m=\u001b[39m \u001b[43mmemory\u001b[49m\u001b[38;5;241;43m.\u001b[39;49m\u001b[43mcache\u001b[49m\u001b[43m(\u001b[49m\u001b[43mtree_builder\u001b[49m\u001b[43m)\u001b[49m\u001b[43m(\u001b[49m\n\u001b[1;32m   1062\u001b[0m \u001b[43m    \u001b[49m\u001b[43mX\u001b[49m\u001b[43m,\u001b[49m\n\u001b[1;32m   1063\u001b[0m \u001b[43m    \u001b[49m\u001b[43mconnectivity\u001b[49m\u001b[38;5;241;43m=\u001b[39;49m\u001b[43mconnectivity\u001b[49m\u001b[43m,\u001b[49m\n\u001b[1;32m   1064\u001b[0m \u001b[43m    \u001b[49m\u001b[43mn_clusters\u001b[49m\u001b[38;5;241;43m=\u001b[39;49m\u001b[43mn_clusters\u001b[49m\u001b[43m,\u001b[49m\n\u001b[1;32m   1065\u001b[0m \u001b[43m    \u001b[49m\u001b[43mreturn_distance\u001b[49m\u001b[38;5;241;43m=\u001b[39;49m\u001b[43mreturn_distance\u001b[49m\u001b[43m,\u001b[49m\n\u001b[1;32m   1066\u001b[0m \u001b[43m    \u001b[49m\u001b[38;5;241;43m*\u001b[39;49m\u001b[38;5;241;43m*\u001b[39;49m\u001b[43mkwargs\u001b[49m\u001b[43m,\u001b[49m\n\u001b[1;32m   1067\u001b[0m \u001b[43m\u001b[49m\u001b[43m)\u001b[49m\n\u001b[1;32m   1068\u001b[0m (\u001b[38;5;28mself\u001b[39m\u001b[38;5;241m.\u001b[39mchildren_, \u001b[38;5;28mself\u001b[39m\u001b[38;5;241m.\u001b[39mn_connected_components_, \u001b[38;5;28mself\u001b[39m\u001b[38;5;241m.\u001b[39mn_leaves_, parents) \u001b[38;5;241m=\u001b[39m out[\n\u001b[1;32m   1069\u001b[0m     :\u001b[38;5;241m4\u001b[39m\n\u001b[1;32m   1070\u001b[0m ]\n\u001b[1;32m   1072\u001b[0m \u001b[38;5;28;01mif\u001b[39;00m return_distance:\n",
      "File \u001b[0;32m~/dev/frewsxcv/citizen-science-ecoregions-experiments/.venv/lib/python3.13/site-packages/joblib/memory.py:312\u001b[0m, in \u001b[0;36mNotMemorizedFunc.__call__\u001b[0;34m(self, *args, **kwargs)\u001b[0m\n\u001b[1;32m    311\u001b[0m \u001b[38;5;28;01mdef\u001b[39;00m\u001b[38;5;250m \u001b[39m\u001b[38;5;21m__call__\u001b[39m(\u001b[38;5;28mself\u001b[39m, \u001b[38;5;241m*\u001b[39margs, \u001b[38;5;241m*\u001b[39m\u001b[38;5;241m*\u001b[39mkwargs):\n\u001b[0;32m--> 312\u001b[0m     \u001b[38;5;28;01mreturn\u001b[39;00m \u001b[38;5;28;43mself\u001b[39;49m\u001b[38;5;241;43m.\u001b[39;49m\u001b[43mfunc\u001b[49m\u001b[43m(\u001b[49m\u001b[38;5;241;43m*\u001b[39;49m\u001b[43margs\u001b[49m\u001b[43m,\u001b[49m\u001b[43m \u001b[49m\u001b[38;5;241;43m*\u001b[39;49m\u001b[38;5;241;43m*\u001b[39;49m\u001b[43mkwargs\u001b[49m\u001b[43m)\u001b[49m\n",
      "File \u001b[0;32m~/dev/frewsxcv/citizen-science-ecoregions-experiments/.venv/lib/python3.13/site-packages/sklearn/utils/_param_validation.py:189\u001b[0m, in \u001b[0;36mvalidate_params.<locals>.decorator.<locals>.wrapper\u001b[0;34m(*args, **kwargs)\u001b[0m\n\u001b[1;32m    187\u001b[0m global_skip_validation \u001b[38;5;241m=\u001b[39m get_config()[\u001b[38;5;124m\"\u001b[39m\u001b[38;5;124mskip_parameter_validation\u001b[39m\u001b[38;5;124m\"\u001b[39m]\n\u001b[1;32m    188\u001b[0m \u001b[38;5;28;01mif\u001b[39;00m global_skip_validation:\n\u001b[0;32m--> 189\u001b[0m     \u001b[38;5;28;01mreturn\u001b[39;00m \u001b[43mfunc\u001b[49m\u001b[43m(\u001b[49m\u001b[38;5;241;43m*\u001b[39;49m\u001b[43margs\u001b[49m\u001b[43m,\u001b[49m\u001b[43m \u001b[49m\u001b[38;5;241;43m*\u001b[39;49m\u001b[38;5;241;43m*\u001b[39;49m\u001b[43mkwargs\u001b[49m\u001b[43m)\u001b[49m\n\u001b[1;32m    191\u001b[0m func_sig \u001b[38;5;241m=\u001b[39m signature(func)\n\u001b[1;32m    193\u001b[0m \u001b[38;5;66;03m# Map *args/**kwargs to the function signature\u001b[39;00m\n",
      "File \u001b[0;32m~/dev/frewsxcv/citizen-science-ecoregions-experiments/.venv/lib/python3.13/site-packages/sklearn/cluster/_agglomerative.py:325\u001b[0m, in \u001b[0;36mward_tree\u001b[0;34m(X, connectivity, n_clusters, return_distance)\u001b[0m\n\u001b[1;32m    322\u001b[0m     \u001b[38;5;28;01melse\u001b[39;00m:\n\u001b[1;32m    323\u001b[0m         \u001b[38;5;28;01mreturn\u001b[39;00m children_, \u001b[38;5;241m1\u001b[39m, n_samples, \u001b[38;5;28;01mNone\u001b[39;00m\n\u001b[0;32m--> 325\u001b[0m connectivity, n_connected_components \u001b[38;5;241m=\u001b[39m \u001b[43m_fix_connectivity\u001b[49m\u001b[43m(\u001b[49m\n\u001b[1;32m    326\u001b[0m \u001b[43m    \u001b[49m\u001b[43mX\u001b[49m\u001b[43m,\u001b[49m\u001b[43m \u001b[49m\u001b[43mconnectivity\u001b[49m\u001b[43m,\u001b[49m\u001b[43m \u001b[49m\u001b[43maffinity\u001b[49m\u001b[38;5;241;43m=\u001b[39;49m\u001b[38;5;124;43m\"\u001b[39;49m\u001b[38;5;124;43meuclidean\u001b[39;49m\u001b[38;5;124;43m\"\u001b[39;49m\n\u001b[1;32m    327\u001b[0m \u001b[43m\u001b[49m\u001b[43m)\u001b[49m\n\u001b[1;32m    328\u001b[0m \u001b[38;5;28;01mif\u001b[39;00m n_clusters \u001b[38;5;129;01mis\u001b[39;00m \u001b[38;5;28;01mNone\u001b[39;00m:\n\u001b[1;32m    329\u001b[0m     n_nodes \u001b[38;5;241m=\u001b[39m \u001b[38;5;241m2\u001b[39m \u001b[38;5;241m*\u001b[39m n_samples \u001b[38;5;241m-\u001b[39m \u001b[38;5;241m1\u001b[39m\n",
      "File \u001b[0;32m~/dev/frewsxcv/citizen-science-ecoregions-experiments/.venv/lib/python3.13/site-packages/sklearn/cluster/_agglomerative.py:87\u001b[0m, in \u001b[0;36m_fix_connectivity\u001b[0;34m(X, connectivity, affinity)\u001b[0m\n\u001b[1;32m     85\u001b[0m n_samples \u001b[38;5;241m=\u001b[39m X\u001b[38;5;241m.\u001b[39mshape[\u001b[38;5;241m0\u001b[39m]\n\u001b[1;32m     86\u001b[0m \u001b[38;5;28;01mif\u001b[39;00m connectivity\u001b[38;5;241m.\u001b[39mshape[\u001b[38;5;241m0\u001b[39m] \u001b[38;5;241m!=\u001b[39m n_samples \u001b[38;5;129;01mor\u001b[39;00m connectivity\u001b[38;5;241m.\u001b[39mshape[\u001b[38;5;241m1\u001b[39m] \u001b[38;5;241m!=\u001b[39m n_samples:\n\u001b[0;32m---> 87\u001b[0m     \u001b[38;5;28;01mraise\u001b[39;00m \u001b[38;5;167;01mValueError\u001b[39;00m(\n\u001b[1;32m     88\u001b[0m         \u001b[38;5;124m\"\u001b[39m\u001b[38;5;124mWrong shape for connectivity matrix: \u001b[39m\u001b[38;5;132;01m%s\u001b[39;00m\u001b[38;5;124m when X is \u001b[39m\u001b[38;5;132;01m%s\u001b[39;00m\u001b[38;5;124m\"\u001b[39m\n\u001b[1;32m     89\u001b[0m         \u001b[38;5;241m%\u001b[39m (connectivity\u001b[38;5;241m.\u001b[39mshape, X\u001b[38;5;241m.\u001b[39mshape)\n\u001b[1;32m     90\u001b[0m     )\n\u001b[1;32m     92\u001b[0m \u001b[38;5;66;03m# Make the connectivity matrix symmetric:\u001b[39;00m\n\u001b[1;32m     93\u001b[0m connectivity \u001b[38;5;241m=\u001b[39m connectivity \u001b[38;5;241m+\u001b[39m connectivity\u001b[38;5;241m.\u001b[39mT\n",
      "\u001b[0;31mValueError\u001b[0m: Wrong shape for connectivity matrix: (20547, 20547) when X is (20539, 20539)"
     ]
    }
   ],
   "source": [
    "from src.dataframes.geohash_cluster import GeohashClusterDataFrame\n",
    "\n",
    "geohash_cluster_dataframe = GeohashClusterDataFrame.build(\n",
    "    geohash_dataframe,\n",
    "    distance_matrix,\n",
    "    connectivity_matrix,\n",
    "    num_clusters,\n",
    ")"
   ]
  },
  {
   "cell_type": "markdown",
   "id": "d6713b4a",
   "metadata": {},
   "source": [
    "### Preview"
   ]
  },
  {
   "cell_type": "code",
   "execution_count": null,
   "id": "04c9d615",
   "metadata": {},
   "outputs": [],
   "source": [
    "geohash_cluster_dataframe.df.limit(3)"
   ]
  },
  {
   "cell_type": "markdown",
   "id": "089e1634",
   "metadata": {},
   "source": [
    "## `ClusterColorDataFrame`\n",
    "\n",
    "### Build"
   ]
  },
  {
   "cell_type": "code",
   "execution_count": 18,
   "id": "98c37aad",
   "metadata": {},
   "outputs": [],
   "source": [
    "from src.dataframes.cluster_color import ClusterColorDataFrame\n",
    "\n",
    "cluster_colors_dataframe = ClusterColorDataFrame.build(geohash_cluster_dataframe)"
   ]
  },
  {
   "cell_type": "markdown",
   "id": "7874af43",
   "metadata": {},
   "source": [
    "### Preview"
   ]
  },
  {
   "cell_type": "code",
   "execution_count": null,
   "id": "c0bf9f80",
   "metadata": {},
   "outputs": [],
   "source": [
    "cluster_colors_dataframe.df.limit(3)"
   ]
  },
  {
   "cell_type": "markdown",
   "id": "c5126a20",
   "metadata": {},
   "source": [
    "## Silhouette score"
   ]
  },
  {
   "cell_type": "code",
   "execution_count": null,
   "id": "30ba0cf3",
   "metadata": {},
   "outputs": [],
   "source": [
    "# TMP\n",
    "\n",
    "from sklearn.metrics import silhouette_score, silhouette_samples\n",
    "import matplotlib.pyplot as plt\n",
    "\n",
    "silhouette_score(\n",
    "    X=distance_matrix.squareform(),\n",
    "    labels=geohash_cluster_dataframe.df[\"cluster\"],\n",
    "    metric=\"precomputed\",\n",
    ")\n",
    "\n",
    "samples = silhouette_samples(\n",
    "    X=distance_matrix.squareform(),\n",
    "    labels=geohash_cluster_dataframe.df[\"cluster\"],\n",
    "    metric=\"precomputed\",\n",
    ")\n",
    "\n",
    "import polars as pl\n",
    "import matplotlib.cm as cm\n",
    "import matplotlib.pyplot as plt\n",
    "import numpy as np\n",
    "\n",
    "new = geohash_cluster_dataframe.df.with_columns(\n",
    "    pl.Series(\n",
    "        name=\"sample\",\n",
    "        values=samples,\n",
    "    )\n",
    ")\n",
    "\n",
    "n_clusters = len(geohash_cluster_dataframe.df[\"cluster\"].unique())\n",
    "n_geohashes = len(distance_matrix.squareform())\n",
    "\n",
    "# Create a subplot with 1 row and 2 columns\n",
    "fig, ax1 = plt.subplots()\n",
    "fig.set_size_inches(18, 7)\n",
    "# The 1st subplot is the silhouette plot\n",
    "# The silhouette coefficient can range from -1, 1 but in this example all\n",
    "# lie within [-0.1, 1]\n",
    "# ax1.set_xlim([-0.1, 1])\n",
    "# The (n_clusters+1)*10 is for inserting blank space between silhouette\n",
    "# plots of individual clusters, to demarcate them clearly.\n",
    "ax1.set_ylim([0, n_geohashes + (n_clusters + 1) * 10])\n",
    "\n",
    "y_lower = 10\n",
    "for i, cluster in enumerate(geohash_cluster_dataframe.df[\"cluster\"].unique()):\n",
    "    ith_cluster_silhouette_values = (new.filter(pl.col(\"cluster\") == cluster).sort(\"sample\", descending=True))[\"sample\"]\n",
    "    print(ith_cluster_silhouette_values)\n",
    "\n",
    "    size_cluster_i = ith_cluster_silhouette_values.shape[0]\n",
    "    y_upper = y_lower + size_cluster_i\n",
    "\n",
    "    color =  cluster_colors_dataframe.get_color_for_cluster(cluster)\n",
    "    ax1.fill_betweenx(\n",
    "        np.arange(y_lower, y_upper),\n",
    "        0,\n",
    "        ith_cluster_silhouette_values,\n",
    "        facecolor=color,\n",
    "        edgecolor=color,\n",
    "    )\n",
    "\n",
    "    # Compute the new y_lower for next plot\n",
    "    y_lower = y_upper + 10  # 10 for the 0 samples\n"
   ]
  },
  {
   "cell_type": "markdown",
   "id": "a5c4faa1",
   "metadata": {},
   "source": [
    "## `ClusterTaxaStatisticsDataFrame`\n",
    "\n",
    "### Build"
   ]
  },
  {
   "cell_type": "code",
   "execution_count": 21,
   "id": "39c1a999",
   "metadata": {},
   "outputs": [],
   "source": [
    "from src.dataframes.cluster_taxa_statistics import ClusterTaxaStatisticsDataFrame\n",
    "\n",
    "cluster_taxa_statistics_dataframe = ClusterTaxaStatisticsDataFrame.build(\n",
    "    geohash_taxa_counts_dataframe,\n",
    "    geohash_cluster_dataframe,\n",
    "    taxonomy_dataframe,\n",
    ")"
   ]
  },
  {
   "cell_type": "markdown",
   "id": "abb7c9b6",
   "metadata": {},
   "source": [
    "### Preview"
   ]
  },
  {
   "cell_type": "code",
   "execution_count": null,
   "id": "87264ffa",
   "metadata": {},
   "outputs": [],
   "source": [
    "cluster_taxa_statistics_dataframe.df.limit(3)"
   ]
  },
  {
   "cell_type": "markdown",
   "id": "8ba074be",
   "metadata": {},
   "source": [
    "## `ClusterSignificantDifferencesDataFrame`\n",
    "\n",
    "### Build"
   ]
  },
  {
   "cell_type": "code",
   "execution_count": 23,
   "id": "51fd3375",
   "metadata": {},
   "outputs": [],
   "source": [
    "from src.dataframes.cluster_significant_differences import ClusterSignificantDifferencesDataFrame\n",
    "\n",
    "cluster_significant_differences_dataframe = ClusterSignificantDifferencesDataFrame.build(\n",
    "    cluster_taxa_statistics_dataframe,\n",
    ")"
   ]
  },
  {
   "cell_type": "markdown",
   "id": "f1ee5c86",
   "metadata": {},
   "source": [
    "### Preview"
   ]
  },
  {
   "cell_type": "code",
   "execution_count": null,
   "id": "d48c1e6b",
   "metadata": {},
   "outputs": [],
   "source": [
    "cluster_significant_differences_dataframe.df.limit(3)"
   ]
  },
  {
   "cell_type": "markdown",
   "id": "d244acaa",
   "metadata": {},
   "source": [
    "## Build and plot GeoJSON feature collection"
   ]
  },
  {
   "cell_type": "code",
   "execution_count": null,
   "id": "9fde6339",
   "metadata": {},
   "outputs": [],
   "source": [
    "from src.geojson import build_geojson_feature_collection, write_geojson\n",
    "from src.render import plot_clusters\n",
    "\n",
    "feature_collection = build_geojson_feature_collection(\n",
    "    geohash_cluster_dataframe,\n",
    "    cluster_colors_dataframe,\n",
    ")\n",
    "\n",
    "# print_results(darwin_core_aggregations, all_stats, cluster_dataframe)\n",
    "\n",
    "write_geojson(feature_collection, output_file)\n",
    "\n",
    "plot_clusters(feature_collection)"
   ]
  },
  {
   "cell_type": "markdown",
   "id": "a56060aa",
   "metadata": {},
   "source": [
    "# Build and display HTML output"
   ]
  },
  {
   "cell_type": "code",
   "execution_count": null,
   "id": "672180bd",
   "metadata": {},
   "outputs": [],
   "source": [
    "from src.html_output import build_html_output\n",
    "from IPython.display import display, HTML\n",
    "\n",
    "html = build_html_output(\n",
    "    cluster_colors_dataframe,\n",
    "    cluster_significant_differences_dataframe,\n",
    ")\n",
    "\n",
    "display(HTML(html))\n"
   ]
  },
  {
   "cell_type": "code",
   "execution_count": null,
   "id": "33f2c697",
   "metadata": {},
   "outputs": [],
   "source": [
    "from sklearn.manifold import TSNE\n",
    "\n",
    "tsne = TSNE(\n",
    "    n_components=2,\n",
    "    random_state=42,\n",
    "    metric=\"precomputed\",\n",
    "    init=\"random\",\n",
    "    perplexity=min(30, distance_matrix.squareform().shape[0] - 1), # HACK FOR SMALLER DATASETS\n",
    ")\n",
    "X_tsne = tsne.fit_transform(distance_matrix.squareform())\n",
    "tsne.kl_divergence_\n"
   ]
  },
  {
   "cell_type": "code",
   "execution_count": null,
   "id": "9168849f",
   "metadata": {},
   "outputs": [],
   "source": [
    "import seaborn as sns\n",
    "\n",
    "sns.scatterplot(\n",
    "    x=X_tsne[:, 0],\n",
    "    y=X_tsne[:, 1],\n",
    "    hue=geohash_cluster_dataframe.df[\"cluster\"],\n",
    "    palette=cluster_colors_dataframe.to_dict(),\n",
    "    alpha=1,\n",
    ")"
   ]
  },
  {
   "cell_type": "code",
   "execution_count": null,
   "id": "54d78320",
   "metadata": {},
   "outputs": [],
   "source": [
    "import seaborn as sns\n",
    "import matplotlib.pyplot as plt\n",
    "import polars as pl\n",
    "from scipy.cluster.hierarchy import linkage\n",
    "\n",
    "from src.darwin_core import TaxonRank\n",
    "\n",
    "linkage_array = linkage(distance_matrix.condensed(), \"ward\")\n",
    "\n",
    "ordered_geohashes = geohash_dataframe.df[\"geohash\"].unique()\n",
    "\n",
    "def min_max_normalize(series: pl.Series) -> pl.Series:\n",
    "    return (series - series.min()) / (series.max() - series.min())\n",
    "\n",
    "col_colors = []\n",
    "for geohash in ordered_geohashes:\n",
    "    cluster = geohash_cluster_dataframe.cluster_for_geohash(geohash)\n",
    "    col_colors.append(cluster_colors_dataframe.get_color_for_cluster(cluster))\n",
    "\n",
    "data = {}\n",
    "for species in cluster_significant_differences_dataframe.df[\"taxon\"].unique():\n",
    "    counts = []\n",
    "\n",
    "    for geohash in ordered_geohashes:\n",
    "        geohash_counts_species = geohash_taxa_counts_dataframe.df.filter(\n",
    "            pl.col(\"geohash\") == geohash, pl.col(\"name\") == species\n",
    "        ).get_column(\"count\").sum()\n",
    "        geohash_counts_all = geohash_taxa_counts_dataframe.df.filter(\n",
    "            pl.col(\"geohash\") == geohash\n",
    "        ).get_column(\"count\").sum()\n",
    "        geohash_average = geohash_counts_species / geohash_counts_all\n",
    "        all_average = (\n",
    "            cluster_taxa_statistics_dataframe.df.filter(\n",
    "                # pl.col(\"kingdom\") == kingdom, FIXME\n",
    "                pl.col(\"name\") == species,\n",
    "                pl.col(\"cluster\").is_null(),\n",
    "                pl.col(\"rank\") == TaxonRank.species,\n",
    "            )\n",
    "            .get_column(\"average\")\n",
    "            .item()\n",
    "        )\n",
    "        counts.append(geohash_average - all_average)\n",
    "    counts = pl.Series(\n",
    "        values=counts,\n",
    "        name=species,\n",
    "    )\n",
    "    # counts = counts / counts.max()\n",
    "    # counts = counts.pow(1 / 3)\n",
    "    data[species] = min_max_normalize(counts)\n"
   ]
  },
  {
   "cell_type": "code",
   "execution_count": null,
   "id": "92925ee1",
   "metadata": {},
   "outputs": [],
   "source": [
    "data"
   ]
  },
  {
   "cell_type": "code",
   "execution_count": null,
   "id": "1f706269",
   "metadata": {},
   "outputs": [],
   "source": [
    "dataframe = pl.DataFrame(data=data)\n",
    "sns.clustermap(\n",
    "    data=dataframe,\n",
    "    col_cluster=False,\n",
    "    row_cluster=True,\n",
    "    row_linkage=linkage_array,\n",
    "    row_colors=col_colors,\n",
    "    xticklabels=dataframe.columns,\n",
    "    yticklabels=False,\n",
    ")"
   ]
  }
 ],
 "metadata": {
  "kernelspec": {
   "display_name": ".venv",
   "language": "python",
   "name": "python3"
  },
  "language_info": {
   "codemirror_mode": {
    "name": "ipython",
    "version": 3
   },
   "file_extension": ".py",
   "mimetype": "text/x-python",
   "name": "python",
   "nbconvert_exporter": "python",
   "pygments_lexer": "ipython3",
   "version": "3.13.0"
  }
 },
 "nbformat": 4,
 "nbformat_minor": 5
}

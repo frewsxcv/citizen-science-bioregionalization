{
"cells": [
{
"cell_type": "code",
"execution_count": 1,
"metadata": {},
"outputs": [],
"source": [
"import numpy as np\n",
"from src.darwin_core_aggregations import DarwinCoreAggregations\n",
"from src.geojson import build_geojson_feature_collection\n",
"from run import parse_arguments\n",
"import numpy as np\n",
"from contexttimer import Timer\n",
"from scipy.cluster.hierarchy import linkage, fcluster, dendrogram\n",
"from scipy.spatial.distance import pdist\n",
"from src.cli import parse_arguments\n",
"from src.cluster_color_builder import ClusterColorBuilder\n",
"from src.cluster_stats import Stats\n",
"from src.darwin_core_aggregations import DarwinCoreAggregations\n",
"from src.render import plot_clusters\n",
"from src.cluster import ClusterId\n",
"import matplotlib.pyplot as plt\n",
"from src.geojson import build_geojson_feature_collection\n",
"import os\n",
"import logging\n",
"from sklearn.preprocessing import StandardScaler\n",
"from run import cluster, build_X"
]
},
{
"cell_type": "code",
"execution_count": 2,
"id": "5bd4a825",
"metadata": {},
"outputs": [],
"source": [
"# params\n",
"input_file = \"data-continental-united-states.csv\"\n",
"geohash_precision = 3\n",
"show_dendrogram = True\n",
"log_file = \"log.txt\"\n",
"output_file = \"output.geojson\""
]
},
{
"cell_type": "code",
"execution_count": 3,
"id": "44ea301b",
"metadata": {},
"outputs": [],
"source": [
"# set up logging\n",
"logging.basicConfig(filename=log_file, encoding=\"utf-8\", level=logging.INFO)"
]
},
{
"cell_type": "code",
"execution_count": 4,
"id": "193e313e",
"metadata": {},
"outputs": [],
"source": [
"darwin_core_aggregations = DarwinCoreAggregations.build(\n",
"    input_file, geohash_precision\n",
")"
]
},
{
"cell_type": "code",
"execution_count": null,
"id": "c6bdfbbd",
"metadata": {},
"outputs": [],
"source": [
"darwin_core_aggregations.unfiltered_taxon_counts"
]
},
{
"cell_type": "code",
"execution_count": null,
"id": "16f54a9c",
"metadata": {},
"outputs": [],
"source": [
"darwin_core_aggregations.taxon_counts"
]
},
{
"cell_type": "code",
"execution_count": null,
"id": "a46acb76",
"metadata": {},
"outputs": [],
"source": [
"X = build_X(darwin_core_aggregations)\n",
"X.shape"
]
},
{
"cell_type": "code",
"execution_count": null,
"id": "eaedbc3d",
"metadata": {},
"outputs": [],
"source": [
"\n",
"num_clusters = 15\n",
"\n",
"cluster_dataframe = cluster(\n",
"    darwin_core_aggregations,\n",
"    num_clusters,\n",
"    show_dendrogram,\n",
")"
]
},
{
"cell_type": "code",
"execution_count": null,
"id": "9fde6339",
"metadata": {},
"outputs": [],
"source": [
"\n",
"\n",
"# Find the top averages of taxon\n",
"all_stats = Stats.build(darwin_core_aggregations)\n",
"\n",
"feature_collection = build_geojson_feature_collection(\n",
"    (\n",
"        cluster,\n",
"        geohashes,\n",
"        cluster_dataframe.determine_color_for_cluster(\n",
"            cluster, darwin_core_aggregations\n",
"        ),\n",
"    )\n",
"    for cluster, geohashes in cluster_dataframe.iter_clusters_and_geohashes()\n",
")\n",
"\n",
"# print_results(darwin_core_aggregations, all_stats, cluster_dataframe)\n",
"\n",
"plot_clusters(feature_collection, num_clusters=num_clusters)\n",
"\n",
"# write_geojson(feature_collection, args.output_file)"
]
},
{
"cell_type": "code",
"execution_count": null,
"id": "618d244e",
"metadata": {},
"outputs": [],
"source": [
"from run import print_cluster_stats\n",
"cluster_id = 1\n",
"geohashes = cluster_dataframe.geohashes_for_cluster(cluster_id)\n",
"print_cluster_stats(cluster_id, geohashes, darwin_core_aggregations, all_stats)\n"
]
},
{
"cell_type": "code",
"execution_count": null,
"id": "b12c5d90",
"metadata": {},
"outputs": [],
"source": [
"\n",
"stats_for_clusters = {\n",
"    cluster: Stats.build(\n",
"        darwin_core_aggregations,\n",
"        geohash_filter=geohashes,\n",
"    )\n",
"    for cluster, geohashes in cluster_dataframe.iter_clusters_and_geohashes()\n",
"}\n",
"stats_for_clusters\n"
]
},
{
"cell_type": "code",
"execution_count": null,
"id": "4b63a8e4",
"metadata": {},
"outputs": [],
"source": [
"[\n",
"    {\n",
"        \"cluster\": cluster,\n",
"        \"waterfowl\": stats.waterfowl_count(),\n",
"        \"aves\": stats.aves_count(),\n",
"        \"ratio\": stats.waterfowl_count() / stats.aves_count(),\n",
"    }\n",
"    for cluster, stats in stats_for_clusters.items()\n",
"]\n",
"\n"
]
}
],
"metadata": {
"kernelspec": {
"display_name": ".venv",
"language": "python",
"name": "python3"
},
"language_info": {
"codemirror_mode": {
"name": "ipython",
"version": 3
},
"file_extension": ".py",
"mimetype": "text/x-python",
"name": "python",
"nbconvert_exporter": "python",
"pygments_lexer": "ipython3",
"version": "3.13.1"
}
},
"nbformat": 4,
"nbformat_minor": 5
}